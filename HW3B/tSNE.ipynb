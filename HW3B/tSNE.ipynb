{
 "cells": [
  {
   "cell_type": "markdown",
   "metadata": {},
   "source": [
    "## Question 1: tSNE Dim Reduction\n",
    "\n",
    "Run library/package on MNIST and 20NG to obtain a 2-dim or 3-dim representation.\n",
    "\n",
    "Visualize data by plotting datapoints with a color per label. \n",
    "\n",
    "Try different values for perplexity: (5, 20, 100)"
   ]
  },
  {
   "cell_type": "code",
   "execution_count": null,
   "metadata": {},
   "outputs": [],
   "source": []
  }
 ],
 "metadata": {
  "language_info": {
   "name": "python"
  }
 },
 "nbformat": 4,
 "nbformat_minor": 2
}
