{
 "cells": [
  {
   "cell_type": "markdown",
   "metadata": {},
   "source": [
    "# PROBLEM 2: Extractive Summarization\n",
    "\n",
    "## Implement the KL-Sum summarization method for each dataset. \n",
    "Follow the ideas in this paper ; you are allowed to use libraries for text cleaning, segmentation into sentences, etc. In this problem PS stands for \"growing\" summary distribution, while PD stands for fixed document distribution. Run it twice :\n",
    "\n",
    "A) PS and PD are over words, proportional to counts of words\n",
    "\n",
    "B) PD and PS distributions over topics, instead of distributions over words. LDA will give you the PD topic distribution at training; for PS you can call LDA[summary] (without retraining, treat summary as \"new_doc\")\n",
    "\n",
    "For DUC dataset evaluate against human gold summaries with ROUGE. ROUGE Perl package. Use the \"Abstract\" part of the files ins folder \"Summaries\" as the gold summaries."
   ]
  },
  {
   "cell_type": "code",
   "execution_count": null,
   "metadata": {},
   "outputs": [],
   "source": []
  }
 ],
 "metadata": {
  "language_info": {
   "name": "python"
  }
 },
 "nbformat": 4,
 "nbformat_minor": 2
}
