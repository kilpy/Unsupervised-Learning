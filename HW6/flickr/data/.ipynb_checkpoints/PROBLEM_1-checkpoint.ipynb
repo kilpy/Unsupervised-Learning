{
 "cells": [
  {
   "cell_type": "markdown",
   "metadata": {},
   "source": [
    "# PROBLEM 1: Clustering noisy images"
   ]
  },
  {
   "cell_type": "markdown",
   "metadata": {},
   "source": [
    "DATATSET MNIST_5000_valid. Each row is an image: first column is the label (digit), then the other 784 columns are pixel normalized values. \n",
    "\n",
    "Part A. Task: run a clustering algorithm with K=20 clusters. You will have to decide the clustering algorithm, distance function, etc.\n",
    "\n",
    "These images have noise in them, so clustering with certain distances might not work very well. But we think the noise is random so certian re-represnetations (or dimensionality reduction) might help reduce the noise. To achieve better clustering you need to work on the features first. Our solution uses T=30 dimensions, but the T is up to you. \n",
    "\n",
    "Labels are not to be used during the algorithm/clustering/feature extraction, but only for evaluation: evaluate using purity both ways: purity(labels,clusters) and purity(clusters, labels). For full credit you need the F_avg (harmonic mean 2ab/(a+b) ) of these two metrics >= 0.30. For reference: Purity(IDs1, IDs2) calculates the average over IDs1, how dominant is the majority ID2 within the ID1 observations/datapoints. The purity code can be downloaded online or self implemented. \n",
    "\n",
    "Part B. Same task, but you can reveal and use for trianing up to 500 image labels in the validation set. You can use any algorithm to improve the two purity scores. You dont have to use all 500 labels at once (for example one might reveal 100 labels, run an algorithm, reveal another 100 labels, run again, etc.) \n"
   ]
  },
  {
   "cell_type": "code",
   "execution_count": 1,
   "metadata": {},
   "outputs": [],
   "source": [
    "import pandas as pd\n",
    "import numpy as np\n",
    "import sklearn\n",
    "import matplotlib.pyplot as plt"
   ]
  },
  {
   "cell_type": "code",
   "execution_count": 2,
   "metadata": {},
   "outputs": [],
   "source": [
    "columns = ['label'] + list(np.arange(784))"
   ]
  },
  {
   "cell_type": "code",
   "execution_count": 3,
   "metadata": {},
   "outputs": [],
   "source": [
    "mnist_noisy = pd.read_csv(\"mnist_noisy_SAMPLE5000_K20_F31.txt\", sep=\" \", names=columns)"
   ]
  },
  {
   "cell_type": "code",
   "execution_count": 4,
   "metadata": {},
   "outputs": [
    {
     "data": {
      "text/html": [
       "<div>\n",
       "<style scoped>\n",
       "    .dataframe tbody tr th:only-of-type {\n",
       "        vertical-align: middle;\n",
       "    }\n",
       "\n",
       "    .dataframe tbody tr th {\n",
       "        vertical-align: top;\n",
       "    }\n",
       "\n",
       "    .dataframe thead th {\n",
       "        text-align: right;\n",
       "    }\n",
       "</style>\n",
       "<table border=\"1\" class=\"dataframe\">\n",
       "  <thead>\n",
       "    <tr style=\"text-align: right;\">\n",
       "      <th></th>\n",
       "      <th>label</th>\n",
       "      <th>0</th>\n",
       "      <th>1</th>\n",
       "      <th>2</th>\n",
       "      <th>3</th>\n",
       "      <th>4</th>\n",
       "      <th>5</th>\n",
       "      <th>6</th>\n",
       "      <th>7</th>\n",
       "      <th>8</th>\n",
       "      <th>...</th>\n",
       "      <th>774</th>\n",
       "      <th>775</th>\n",
       "      <th>776</th>\n",
       "      <th>777</th>\n",
       "      <th>778</th>\n",
       "      <th>779</th>\n",
       "      <th>780</th>\n",
       "      <th>781</th>\n",
       "      <th>782</th>\n",
       "      <th>783</th>\n",
       "    </tr>\n",
       "  </thead>\n",
       "  <tbody>\n",
       "    <tr>\n",
       "      <th>0</th>\n",
       "      <td>0</td>\n",
       "      <td>-0.2929</td>\n",
       "      <td>-0.3657</td>\n",
       "      <td>-0.5738</td>\n",
       "      <td>-0.03239</td>\n",
       "      <td>-0.2287</td>\n",
       "      <td>-0.09235</td>\n",
       "      <td>-0.7219</td>\n",
       "      <td>-1.3240</td>\n",
       "      <td>-0.6161</td>\n",
       "      <td>...</td>\n",
       "      <td>-0.3883</td>\n",
       "      <td>-0.6597</td>\n",
       "      <td>-0.4389</td>\n",
       "      <td>-0.6145</td>\n",
       "      <td>-0.66050</td>\n",
       "      <td>-0.59270</td>\n",
       "      <td>-0.2563</td>\n",
       "      <td>-0.72960</td>\n",
       "      <td>-0.888200</td>\n",
       "      <td>-0.6017</td>\n",
       "    </tr>\n",
       "    <tr>\n",
       "      <th>1</th>\n",
       "      <td>5</td>\n",
       "      <td>-0.2957</td>\n",
       "      <td>-0.2871</td>\n",
       "      <td>-0.5661</td>\n",
       "      <td>0.46730</td>\n",
       "      <td>0.3843</td>\n",
       "      <td>0.05621</td>\n",
       "      <td>-0.3463</td>\n",
       "      <td>-0.1244</td>\n",
       "      <td>-0.2856</td>\n",
       "      <td>...</td>\n",
       "      <td>0.2749</td>\n",
       "      <td>0.1526</td>\n",
       "      <td>0.2271</td>\n",
       "      <td>-0.1557</td>\n",
       "      <td>-0.03909</td>\n",
       "      <td>-0.19910</td>\n",
       "      <td>0.2375</td>\n",
       "      <td>-0.05321</td>\n",
       "      <td>0.174700</td>\n",
       "      <td>0.5406</td>\n",
       "    </tr>\n",
       "    <tr>\n",
       "      <th>2</th>\n",
       "      <td>2</td>\n",
       "      <td>-0.1495</td>\n",
       "      <td>-0.5098</td>\n",
       "      <td>-0.3062</td>\n",
       "      <td>0.18730</td>\n",
       "      <td>-0.2472</td>\n",
       "      <td>0.32090</td>\n",
       "      <td>-0.3101</td>\n",
       "      <td>0.1965</td>\n",
       "      <td>0.0518</td>\n",
       "      <td>...</td>\n",
       "      <td>0.1618</td>\n",
       "      <td>0.3812</td>\n",
       "      <td>0.7690</td>\n",
       "      <td>0.9749</td>\n",
       "      <td>-0.05636</td>\n",
       "      <td>0.21340</td>\n",
       "      <td>-0.6421</td>\n",
       "      <td>0.17020</td>\n",
       "      <td>-0.000155</td>\n",
       "      <td>-0.3574</td>\n",
       "    </tr>\n",
       "    <tr>\n",
       "      <th>3</th>\n",
       "      <td>5</td>\n",
       "      <td>-0.0263</td>\n",
       "      <td>0.2638</td>\n",
       "      <td>-0.2504</td>\n",
       "      <td>0.21840</td>\n",
       "      <td>-0.4834</td>\n",
       "      <td>0.55890</td>\n",
       "      <td>-0.4226</td>\n",
       "      <td>-0.7209</td>\n",
       "      <td>0.4192</td>\n",
       "      <td>...</td>\n",
       "      <td>0.1865</td>\n",
       "      <td>0.2529</td>\n",
       "      <td>0.4751</td>\n",
       "      <td>-0.2209</td>\n",
       "      <td>-0.12080</td>\n",
       "      <td>-0.08350</td>\n",
       "      <td>0.7767</td>\n",
       "      <td>-0.01516</td>\n",
       "      <td>0.333000</td>\n",
       "      <td>-0.4019</td>\n",
       "    </tr>\n",
       "    <tr>\n",
       "      <th>4</th>\n",
       "      <td>8</td>\n",
       "      <td>-0.3419</td>\n",
       "      <td>-0.1545</td>\n",
       "      <td>-0.4251</td>\n",
       "      <td>-0.01721</td>\n",
       "      <td>-0.4931</td>\n",
       "      <td>-0.29010</td>\n",
       "      <td>-1.1760</td>\n",
       "      <td>0.1278</td>\n",
       "      <td>-0.5373</td>\n",
       "      <td>...</td>\n",
       "      <td>-0.4131</td>\n",
       "      <td>-0.4977</td>\n",
       "      <td>-0.4599</td>\n",
       "      <td>-0.4486</td>\n",
       "      <td>-0.59940</td>\n",
       "      <td>-0.03936</td>\n",
       "      <td>0.1319</td>\n",
       "      <td>0.20720</td>\n",
       "      <td>-0.786000</td>\n",
       "      <td>-0.5236</td>\n",
       "    </tr>\n",
       "  </tbody>\n",
       "</table>\n",
       "<p>5 rows × 785 columns</p>\n",
       "</div>"
      ],
      "text/plain": [
       "   label       0       1       2        3       4        5       6       7  \\\n",
       "0      0 -0.2929 -0.3657 -0.5738 -0.03239 -0.2287 -0.09235 -0.7219 -1.3240   \n",
       "1      5 -0.2957 -0.2871 -0.5661  0.46730  0.3843  0.05621 -0.3463 -0.1244   \n",
       "2      2 -0.1495 -0.5098 -0.3062  0.18730 -0.2472  0.32090 -0.3101  0.1965   \n",
       "3      5 -0.0263  0.2638 -0.2504  0.21840 -0.4834  0.55890 -0.4226 -0.7209   \n",
       "4      8 -0.3419 -0.1545 -0.4251 -0.01721 -0.4931 -0.29010 -1.1760  0.1278   \n",
       "\n",
       "        8   ...       774     775     776     777      778      779     780  \\\n",
       "0 -0.6161   ...   -0.3883 -0.6597 -0.4389 -0.6145 -0.66050 -0.59270 -0.2563   \n",
       "1 -0.2856   ...    0.2749  0.1526  0.2271 -0.1557 -0.03909 -0.19910  0.2375   \n",
       "2  0.0518   ...    0.1618  0.3812  0.7690  0.9749 -0.05636  0.21340 -0.6421   \n",
       "3  0.4192   ...    0.1865  0.2529  0.4751 -0.2209 -0.12080 -0.08350  0.7767   \n",
       "4 -0.5373   ...   -0.4131 -0.4977 -0.4599 -0.4486 -0.59940 -0.03936  0.1319   \n",
       "\n",
       "       781       782     783  \n",
       "0 -0.72960 -0.888200 -0.6017  \n",
       "1 -0.05321  0.174700  0.5406  \n",
       "2  0.17020 -0.000155 -0.3574  \n",
       "3 -0.01516  0.333000 -0.4019  \n",
       "4  0.20720 -0.786000 -0.5236  \n",
       "\n",
       "[5 rows x 785 columns]"
      ]
     },
     "execution_count": 4,
     "metadata": {},
     "output_type": "execute_result"
    }
   ],
   "source": [
    "mnist_noisy.head()"
   ]
  },
  {
   "cell_type": "code",
   "execution_count": 5,
   "metadata": {},
   "outputs": [
    {
     "data": {
      "text/plain": [
       "(5000, 785)"
      ]
     },
     "execution_count": 5,
     "metadata": {},
     "output_type": "execute_result"
    }
   ],
   "source": [
    "mnist_noisy.shape"
   ]
  },
  {
   "cell_type": "code",
   "execution_count": 6,
   "metadata": {},
   "outputs": [
    {
     "data": {
      "text/plain": [
       "784"
      ]
     },
     "execution_count": 6,
     "metadata": {},
     "output_type": "execute_result"
    }
   ],
   "source": [
    "len(mnist_noisy.iloc[0].values[1:])"
   ]
  },
  {
   "cell_type": "code",
   "execution_count": 7,
   "metadata": {},
   "outputs": [
    {
     "data": {
      "image/png": "[encoded data removed]",
      "text/plain": [
       "<Figure size 432x288 with 1 Axes>"
      ]
     },
     "metadata": {},
     "output_type": "display_data"
    }
   ],
   "source": [
    "first_image = mnist_noisy.iloc[0].values[1:]\n",
    "pixels = first_image.reshape((28, 28))\n",
    "plt.imshow(pixels, cmap='gray')\n",
    "plt.title(mnist_noisy.iloc[0].values[0])\n",
    "plt.show()"
   ]
  },
  {
   "cell_type": "code",
   "execution_count": 8,
   "metadata": {},
   "outputs": [],
   "source": [
    "features = columns[1:]"
   ]
  },
  {
   "cell_type": "code",
   "execution_count": 9,
   "metadata": {},
   "outputs": [],
   "source": [
    "X = mnist_noisy[features]"
   ]
  },
  {
   "cell_type": "code",
   "execution_count": 10,
   "metadata": {},
   "outputs": [],
   "source": [
    "y = mnist_noisy[['label']]"
   ]
  },
  {
   "cell_type": "code",
   "execution_count": 11,
   "metadata": {},
   "outputs": [
    {
     "data": {
      "text/plain": [
       "KMeans(algorithm='auto', copy_x=True, init='random', max_iter=300,\n",
       "    n_clusters=20, n_init=10, n_jobs=1, precompute_distances='auto',\n",
       "    random_state=None, tol=0.0001, verbose=0)"
      ]
     },
     "execution_count": 11,
     "metadata": {},
     "output_type": "execute_result"
    }
   ],
   "source": [
    "from sklearn.cluster import KMeans\n",
    "\n",
    "simple_kmeans = KMeans(n_clusters=20, init='random')\n",
    "simple_kmeans.fit(X)"
   ]
  },
  {
   "cell_type": "code",
   "execution_count": 12,
   "metadata": {},
   "outputs": [
    {
     "data": {
      "text/plain": [
       "20"
      ]
     },
     "execution_count": 12,
     "metadata": {},
     "output_type": "execute_result"
    }
   ],
   "source": [
    "len(simple_kmeans.cluster_centers_)"
   ]
  },
  {
   "cell_type": "code",
   "execution_count": 13,
   "metadata": {},
   "outputs": [],
   "source": [
    "from collections import defaultdict\n",
    "\n",
    "def evaluate_metrics(n, actual, predicted):\n",
    "    cluster = {}\n",
    "    cluster_totals = {}\n",
    "    for i in range(n):\n",
    "        cluster[i]  = defaultdict(int)\n",
    "        for j in range(len(actual)):\n",
    "            if predicted[j] == i:\n",
    "                cluster[i][actual[j]] += 1\n",
    "            \n",
    "    purity_num = 0\n",
    "    purity_num2 = 0\n",
    "\n",
    "    for i in range(n):\n",
    "        values = cluster[i].values() \n",
    "        majority = max(values) if values else 0\n",
    "        #print(majority)\n",
    "        purity_num = purity_num + majority\n",
    "        purity_num2 = purity_num2 + (majority / sum(values))\n",
    "\n",
    "\n",
    "    purity = purity_num / len(actual)\n",
    "    purity2 = purity_num2 / n\n",
    "    \n",
    "    f_avg = (2 * purity * purity2) / (purity + purity2)\n",
    "    \n",
    "    return purity, purity2, f_avg, cluster"
   ]
  },
  {
   "cell_type": "code",
   "execution_count": 14,
   "metadata": {},
   "outputs": [],
   "source": [
    "labels = y.values"
   ]
  },
  {
   "cell_type": "code",
   "execution_count": 15,
   "metadata": {
    "scrolled": true
   },
   "outputs": [],
   "source": [
    "actual = [x[0] for x in labels]"
   ]
  },
  {
   "cell_type": "code",
   "execution_count": 16,
   "metadata": {},
   "outputs": [],
   "source": [
    "predicted = list(simple_kmeans.labels_)"
   ]
  },
  {
   "cell_type": "code",
   "execution_count": 17,
   "metadata": {},
   "outputs": [
    {
     "data": {
      "text/plain": [
       "5000"
      ]
     },
     "execution_count": 17,
     "metadata": {},
     "output_type": "execute_result"
    }
   ],
   "source": [
    "len(actual)"
   ]
  },
  {
   "cell_type": "code",
   "execution_count": 18,
   "metadata": {},
   "outputs": [
    {
     "data": {
      "text/plain": [
       "5000"
      ]
     },
     "execution_count": 18,
     "metadata": {},
     "output_type": "execute_result"
    }
   ],
   "source": [
    "len(predicted)"
   ]
  },
  {
   "cell_type": "code",
   "execution_count": 19,
   "metadata": {},
   "outputs": [],
   "source": [
    "purity, purity2, f_avg, cluster = evaluate_metrics(20, actual, predicted)"
   ]
  },
  {
   "cell_type": "code",
   "execution_count": 22,
   "metadata": {},
   "outputs": [
    {
     "data": {
      "text/plain": [
       "0.2575753788401923"
      ]
     },
     "execution_count": 22,
     "metadata": {},
     "output_type": "execute_result"
    }
   ],
   "source": [
    "f_avg"
   ]
  },
  {
   "cell_type": "markdown",
   "metadata": {},
   "source": [
    "Trying GMM"
   ]
  },
  {
   "cell_type": "code",
   "execution_count": 31,
   "metadata": {},
   "outputs": [],
   "source": [
    "from sklearn.mixture import GaussianMixture\n",
    "gmm = GaussianMixture(n_components=20, init_params='kmeans').fit(X)"
   ]
  },
  {
   "cell_type": "code",
   "execution_count": 32,
   "metadata": {},
   "outputs": [
    {
     "data": {
      "text/plain": [
       "True"
      ]
     },
     "execution_count": 32,
     "metadata": {},
     "output_type": "execute_result"
    }
   ],
   "source": [
    "gmm.converged_"
   ]
  },
  {
   "cell_type": "code",
   "execution_count": 33,
   "metadata": {},
   "outputs": [],
   "source": [
    "predicted = gmm.predict(X)"
   ]
  },
  {
   "cell_type": "code",
   "execution_count": 34,
   "metadata": {},
   "outputs": [
    {
     "data": {
      "text/plain": [
       "array([ 0, 10, 15, ...,  5,  9, 13])"
      ]
     },
     "execution_count": 34,
     "metadata": {},
     "output_type": "execute_result"
    }
   ],
   "source": [
    "predicted"
   ]
  },
  {
   "cell_type": "code",
   "execution_count": 35,
   "metadata": {},
   "outputs": [],
   "source": [
    "labels = y.values"
   ]
  },
  {
   "cell_type": "code",
   "execution_count": 36,
   "metadata": {
    "scrolled": true
   },
   "outputs": [],
   "source": [
    "actual = [x[0] for x in labels]"
   ]
  },
  {
   "cell_type": "code",
   "execution_count": 37,
   "metadata": {},
   "outputs": [],
   "source": [
    "purity, purity2, f_avg, cluster = evaluate_metrics(20, actual, predicted)"
   ]
  },
  {
   "cell_type": "code",
   "execution_count": 38,
   "metadata": {},
   "outputs": [
    {
     "data": {
      "text/plain": [
       "0.204"
      ]
     },
     "execution_count": 38,
     "metadata": {},
     "output_type": "execute_result"
    }
   ],
   "source": [
    "purity"
   ]
  },
  {
   "cell_type": "code",
   "execution_count": 39,
   "metadata": {},
   "outputs": [
    {
     "data": {
      "text/plain": [
       "0.23845634924413703"
      ]
     },
     "execution_count": 39,
     "metadata": {},
     "output_type": "execute_result"
    }
   ],
   "source": [
    "purity2"
   ]
  },
  {
   "cell_type": "markdown",
   "metadata": {},
   "source": [
    "DBSCAN"
   ]
  },
  {
   "cell_type": "code",
   "execution_count": 42,
   "metadata": {},
   "outputs": [
    {
     "name": "stdout",
     "output_type": "stream",
     "text": [
      "number of clusters in pca-DBSCAN:  1\n"
     ]
    }
   ],
   "source": [
    "from sklearn.cluster import DBSCAN\n",
    "\n",
    "db = DBSCAN(eps=7, min_samples=5)\n",
    "\n",
    "db = db.fit(X)\n",
    "\n",
    "labels_db = db.labels_\n",
    "\n",
    "clusters_db = db.fit_predict(y)\n",
    "\n",
    "n_clusters_ = len(set(clusters_db)) - (1 if -1 in clusters_db else 0)\n",
    "print (\"number of clusters in pca-DBSCAN: \", n_clusters_)"
   ]
  },
  {
   "cell_type": "markdown",
   "metadata": {},
   "source": [
    "PCA then Kmeans with init = kmeans++ and algorithm = elkan"
   ]
  },
  {
   "cell_type": "code",
   "execution_count": 23,
   "metadata": {},
   "outputs": [],
   "source": [
    "from sklearn.decomposition import PCA"
   ]
  },
  {
   "cell_type": "code",
   "execution_count": 24,
   "metadata": {},
   "outputs": [],
   "source": [
    "from sklearn.pipeline import Pipeline"
   ]
  },
  {
   "cell_type": "code",
   "execution_count": 25,
   "metadata": {},
   "outputs": [],
   "source": [
    "D = 30\n",
    "pca = PCA(n_components= D)\n",
    "pca.fit(X)\n",
    "X_pca = pca.transform(X)"
   ]
  },
  {
   "cell_type": "code",
   "execution_count": 26,
   "metadata": {},
   "outputs": [
    {
     "data": {
      "text/plain": [
       "(5000, 30)"
      ]
     },
     "execution_count": 26,
     "metadata": {},
     "output_type": "execute_result"
    }
   ],
   "source": [
    "X_pca.shape"
   ]
  },
  {
   "cell_type": "code",
   "execution_count": 27,
   "metadata": {},
   "outputs": [
    {
     "data": {
      "text/plain": [
       "KMeans(algorithm='elkan', copy_x=True, init='k-means++', max_iter=300,\n",
       "    n_clusters=20, n_init=10, n_jobs=1, precompute_distances='auto',\n",
       "    random_state=None, tol=0.0001, verbose=0)"
      ]
     },
     "execution_count": 27,
     "metadata": {},
     "output_type": "execute_result"
    }
   ],
   "source": [
    "kmeans_after_pca = KMeans(n_clusters=20, init=\"k-means++\", algorithm=\"elkan\")\n",
    "kmeans_after_pca.fit(X_pca)"
   ]
  },
  {
   "cell_type": "code",
   "execution_count": 28,
   "metadata": {
    "scrolled": true
   },
   "outputs": [],
   "source": [
    "predicted = list(kmeans_after_pca.labels_)"
   ]
  },
  {
   "cell_type": "code",
   "execution_count": 29,
   "metadata": {},
   "outputs": [],
   "source": [
    "purity, purity2, f_avg, cluster = evaluate_metrics(20, actual, predicted)"
   ]
  },
  {
   "cell_type": "code",
   "execution_count": 30,
   "metadata": {},
   "outputs": [
    {
     "data": {
      "text/plain": [
       "0.3560763843324893"
      ]
     },
     "execution_count": 30,
     "metadata": {},
     "output_type": "execute_result"
    }
   ],
   "source": [
    "f_avg"
   ]
  },
  {
   "cell_type": "markdown",
   "metadata": {},
   "source": [
    "## Part B"
   ]
  },
  {
   "cell_type": "code",
   "execution_count": 43,
   "metadata": {},
   "outputs": [],
   "source": [
    "from sklearn.decomposition import PCA"
   ]
  },
  {
   "cell_type": "code",
   "execution_count": 44,
   "metadata": {},
   "outputs": [],
   "source": [
    "from sklearn.pipeline import Pipeline"
   ]
  },
  {
   "cell_type": "code",
   "execution_count": 47,
   "metadata": {},
   "outputs": [],
   "source": [
    "D = 30\n",
    "pca = PCA(n_components= D)\n",
    "pca.fit(X)\n",
    "X_pca = pca.transform(X)\n",
    "y_pca = pca.transform(X)"
   ]
  },
  {
   "cell_type": "code",
   "execution_count": 48,
   "metadata": {},
   "outputs": [
    {
     "data": {
      "text/plain": [
       "(5000, 30)"
      ]
     },
     "execution_count": 48,
     "metadata": {},
     "output_type": "execute_result"
    }
   ],
   "source": [
    "X_pca.shape"
   ]
  },
  {
   "cell_type": "code",
   "execution_count": 49,
   "metadata": {},
   "outputs": [
    {
     "data": {
      "text/plain": [
       "KMeans(algorithm='elkan', copy_x=True, init='k-means++', max_iter=300,\n",
       "    n_clusters=20, n_init=10, n_jobs=1, precompute_distances='auto',\n",
       "    random_state=None, tol=0.0001, verbose=0)"
      ]
     },
     "execution_count": 49,
     "metadata": {},
     "output_type": "execute_result"
    }
   ],
   "source": [
    "kmeans_after_pca = KMeans(n_clusters=20, init=\"k-means++\", algorithm=\"elkan\")\n",
    "kmeans_after_pca.fit(X_pca, y_pca)"
   ]
  },
  {
   "cell_type": "markdown",
   "metadata": {},
   "source": [
    "<hr>"
   ]
  }
 ],
 "metadata": {
  "kernelspec": {
   "display_name": "Python 3",
   "language": "python",
   "name": "python3"
  },
  "language_info": {
   "codemirror_mode": {
    "name": "ipython",
    "version": 3
   },
   "file_extension": ".py",
   "mimetype": "text/x-python",
   "name": "python",
   "nbconvert_exporter": "python",
   "pygments_lexer": "ipython3",
   "version": "3.5.2"
  }
 },
 "nbformat": 4,
 "nbformat_minor": 2
}
