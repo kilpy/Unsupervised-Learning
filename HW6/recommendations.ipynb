{
 "cells": [
  {
   "cell_type": "markdown",
   "id": "2e2bcd3d",
   "metadata": {},
   "source": [
    "## Implement a movie recommendation system and run it on the movie lens dataset \n",
    "\n",
    "(train vs test)\n",
    "\n",
    "Measure performance on test set using RMSE (Root mean squared deviation)\n",
    "\n"
   ]
  },
  {
   "cell_type": "code",
   "execution_count": null,
   "id": "af703b02",
   "metadata": {},
   "outputs": [],
   "source": [
    "# First, required to compute a user-user similarity based on ratings and movies in common. "
   ]
  },
  {
   "cell_type": "code",
   "execution_count": null,
   "id": "ec647293",
   "metadata": {},
   "outputs": [],
   "source": [
    "# Second, make rating predictions on the test set following the KNN idea: a prediction (user, movie) is the weighted average of other users' rating for the movie, weighted by user-similarity to the given user."
   ]
  }
 ],
 "metadata": {
  "language_info": {
   "name": "python"
  }
 },
 "nbformat": 4,
 "nbformat_minor": 5
}
