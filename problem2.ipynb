{
 "cells": [
  {
   "cell_type": "markdown",
   "metadata": {},
   "source": [
    "PROBLEM 2 : Kosarak Association Rules\n",
    "Your task is to take a dataset of nearly one million clicks on a news site16 and use the Weka Explorer to identify interesting association rules. \n",
    "Ordinarily this would be a point-and-click task; \n",
    "however, the input data format is a list of transactions (each line in the file includes a list of anonymized news item id’s), \n",
    "whereas Weka requires a tabular format. \n",
    "Specifically, each distinct news item id should be represented via a column/attribute, \n",
    "and each row/instance should be a sequence of binary values, indicating whether or not the user visited the corresponding news item.\n",
    "\n",
    "A. Write a Python program which takes as its argument5 the path to a text file of data (assumed to be in the itemset format above) and produces as output to the console a sparse ARFF file.\n",
    "# numbers need to be sorted\n",
    "B. Use your program to convert the kosarak.dat file to a sparse kosarak.arff. About how long did it take to run?\n",
    "C. Load the resulting file into Weka (as described above; you should have 41,270 attributes and 990, 002 instances). About how long did it take to load this file?\n",
    "\n",
    "D. Use Weka’s FP-Growth implementation to find rules that have support count of at least 49, 500 and confidence of at least 99% – record your rules (there should be 2).\n",
    "E. Run the algorithm at least 5 times. Then look to the log and record how much time each took. How does the average time compare to the time necessary to convert the dataset and then load into Weka?\n"
   ]
  },
  {
   "cell_type": "code",
   "execution_count": 1,
   "metadata": {},
   "outputs": [
    {
     "name": "stdout",
     "output_type": "stream",
     "text": [
      "Requirement already satisfied: liac-arff in c:\\users\\koola\\appdata\\local\\programs\\python\\python312\\lib\\site-packages (2.5.0)\n",
      "Note: you may need to restart the kernel to use updated packages.\n"
     ]
    },
    {
     "name": "stderr",
     "output_type": "stream",
     "text": [
      "\n",
      "[notice] A new release of pip is available: 24.2 -> 24.3.1\n",
      "[notice] To update, run: python.exe -m pip install --upgrade pip\n"
     ]
    },
    {
     "name": "stdout",
     "output_type": "stream",
     "text": [
      "Note: you may need to restart the kernel to use updated packages.\n"
     ]
    },
    {
     "name": "stderr",
     "output_type": "stream",
     "text": [
      "ERROR: Could not find a version that satisfies the requirement os (from versions: none)\n",
      "\n",
      "[notice] A new release of pip is available: 24.2 -> 24.3.1\n",
      "[notice] To update, run: python.exe -m pip install --upgrade pip\n",
      "ERROR: No matching distribution found for os\n"
     ]
    }
   ],
   "source": [
    "#A\n",
    "%pip install liac-arff\n",
    "import arff\n",
    "%pip install os\n",
    "import os"
   ]
  },
  {
   "cell_type": "code",
   "execution_count": null,
   "metadata": {},
   "outputs": [],
   "source": [
    "data_file = \"kosarak.dat\"\n",
    "data_file_path = os.path.join(os.getcwd(), data_file)\n",
    "data = []\n",
    "unique_items = set()\n",
    "with open(data_file_path, 'r') as file:\n",
    "    for line in file:\n",
    "        items = line.split()\n",
    "        items = [int(item) for item in items]\n",
    "        items.sort()\n",
    "        data.append(items)\n",
    "        \n",
    "        #check each item and ensure it is unique, if not add it to the unique_items set\n",
    "        for item in items:\n",
    "            if item not in unique_items:\n",
    "                unique_items.add(item)\n",
    "\n",
    "\n",
    "\n",
    "# Generate attributes based on unique items\n",
    "attributes = [(item, 'NUMERIC') for item in sorted(unique_items)]\n",
    "\n",
    "# arff.dump('kosarak.arff', data, relation='kosarak', names=attributes)\n",
    "\n",
    "with open('kosarak.arff', 'w') as f:\n",
    "    f.write('@relation kosarak\\n')\n",
    "    for item in sorted(unique_items):\n",
    "        f.write(f'@attribute {item} {{0, 1}}\\n')\n",
    "    f.write('@data\\n')\n",
    "    f.write(data)\n",
    "#output: Sparse ARFF file"
   ]
  },
  {
   "cell_type": "markdown",
   "metadata": {},
   "source": []
  },
  {
   "cell_type": "code",
   "execution_count": null,
   "metadata": {},
   "outputs": [],
   "source": []
  }
 ],
 "metadata": {
  "kernelspec": {
   "display_name": "Python 3",
   "language": "python",
   "name": "python3"
  },
  "language_info": {
   "codemirror_mode": {
    "name": "ipython",
    "version": 3
   },
   "file_extension": ".py",
   "mimetype": "text/x-python",
   "name": "python",
   "nbconvert_exporter": "python",
   "pygments_lexer": "ipython3",
   "version": "3.12.7"
  }
 },
 "nbformat": 4,
 "nbformat_minor": 2
}
