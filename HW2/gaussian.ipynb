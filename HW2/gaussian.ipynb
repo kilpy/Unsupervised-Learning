{
 "cells": [
  {
   "cell_type": "code",
   "execution_count": 1,
   "metadata": {},
   "outputs": [],
   "source": [
    "# Implement the main EM algorithm for the mixture of Gaussians model\n",
    "    # Input: data file, number of clusters, number of iterations\n",
    "    # Output: the final parameters of the model"
   ]
  },
  {
   "cell_type": "code",
   "execution_count": 2,
   "metadata": {},
   "outputs": [],
   "source": [
    "# Expectation-Maximization algorithm\n",
    "import numpy as np\n",
    "import matplotlib.pyplot as plt\n",
    "import sys\n",
    "import math"
   ]
  },
  {
   "cell_type": "code",
   "execution_count": 3,
   "metadata": {},
   "outputs": [
    {
     "name": "stdout",
     "output_type": "stream",
     "text": [
      "Usage: python3 em.py <data_file> <num_clusters> <num_iterations>\n"
     ]
    },
    {
     "ename": "SystemExit",
     "evalue": "1",
     "output_type": "error",
     "traceback": [
      "An exception has occurred, use %tb to see the full traceback.\n",
      "\u001b[1;31mSystemExit\u001b[0m\u001b[1;31m:\u001b[0m 1\n"
     ]
    },
    {
     "name": "stderr",
     "output_type": "stream",
     "text": [
      "C:\\Users\\koola\\AppData\\Local\\Packages\\PythonSoftwareFoundation.Python.3.12_qbz5n2kfra8p0\\LocalCache\\local-packages\\Python312\\site-packages\\IPython\\core\\interactiveshell.py:3585: UserWarning: To exit: use 'exit', 'quit', or Ctrl-D.\n",
      "  warn(\"To exit: use 'exit', 'quit', or Ctrl-D.\", stacklevel=1)\n"
     ]
    }
   ],
   "source": [
    "def main():\n",
    "    # Read the input arguments\n",
    "    if len(sys.argv) != 4:\n",
    "        print(\"Usage: python3 em.py <data_file> <num_clusters> <num_iterations>\")\n",
    "        sys.exit(1)\n",
    "\n",
    "    data_file = sys.argv[1]\n",
    "    num_clusters = int(sys.argv[2])\n",
    "    num_iterations = int(sys.argv[3])\n",
    "\n",
    "    # Load the data\n",
    "    data = np.loadtxt(data_file)\n",
    "    num_data_points, num_features = data.shape\n",
    "\n",
    "    # Initialize the parameters\n",
    "    weights = np.ones(num_clusters) / num_clusters\n",
    "    means = np.random.rand(num_clusters, num_features)\n",
    "    covariances = np.array([np.eye(num_features)] * num_clusters)\n",
    "\n",
    "    # Run the EM algorithm\n",
    "    for iteration in range(num_iterations):\n",
    "        # E-step: calculate the responsibilities\n",
    "        responsibilities = np.zeros((num_data_points, num_clusters))\n",
    "        for k in range(num_clusters):\n",
    "            responsibilities[:, k] = weights[k] * multivariate_gaussian(data, means[k], covariances[k])\n",
    "        responsibilities /= responsibilities.sum(axis=1, keepdims=True)\n",
    "\n",
    "        # M-step: update the parameters\n",
    "        Nk = responsibilities.sum(axis=0)\n",
    "        weights = Nk / num_data_points\n",
    "        means = (responsibilities.T @ data) / Nk[:, np.newaxis]\n",
    "        for k in range(num_clusters):\n",
    "            diff = data - means[k]\n",
    "            covariances[k] = (responsibilities[:, k][:, np.newaxis] * diff).T @ diff / Nk[k]\n",
    "\n",
    "    # Print the final parameters\n",
    "    print(\"Final weights:\", weights)\n",
    "    print(\"Final means:\", means)\n",
    "    print(\"Final covariances:\", covariances)\n",
    "\n",
    "def multivariate_gaussian(x, mean, covariance):\n",
    "    d = x.shape[1]\n",
    "    diff = x - mean\n",
    "    exponent = -0.5 * np.sum(diff @ np.linalg.inv(covariance) * diff, axis=1)\n",
    "    return (1 / ((2 * np.pi) ** (d / 2) * np.linalg.det(covariance) ** 0.5)) * np.exp(exponent)\n",
    "if __name__ == \"__main__\":\n",
    "    main()\n",
    "\n"
   ]
  },
  {
   "cell_type": "code",
   "execution_count": null,
   "metadata": {},
   "outputs": [],
   "source": [
    "\n"
   ]
  },
  {
   "cell_type": "markdown",
   "metadata": {},
   "source": [
    "### A) The gaussian 2-dim data on file  2gaussian.txt  has been generated  using a mixture  of  two Gaussians, each  2-dim, with the parameters below. Run the EM algorithm with random initial values to recover the parameters.\n",
    "mean_1 [3,3]); cov_1 = [[1,0],[0,3]]; n1=2000 points\n",
    "\n",
    "mean_2 =[7,4]; cov_2 = [[1,0.5],[0.5,1]]; ; n2=4000 points"
   ]
  },
  {
   "cell_type": "code",
   "execution_count": null,
   "metadata": {},
   "outputs": [],
   "source": []
  },
  {
   "cell_type": "markdown",
   "metadata": {},
   "source": [
    "### B) Same problem for 2-dim data on file 3gaussian.txt , generated using a mixture of three Gaussians. Verify your  findings against the true parameters used generate the data below.\n",
    "mean_1 = [3,3] ; cov_1 = [[1,0],[0,3]]; n1=2000\n",
    "\n",
    "mean_2 = [7,4] ; cov_2 = [[1,0.5],[0.5,1]] ; n2=3000\n",
    "\n",
    "mean_3 = [5,7] ; cov_3 = [[1,0.2],[0.2,1]]    ); n3=5000\n"
   ]
  },
  {
   "cell_type": "markdown",
   "metadata": {},
   "source": []
  }
 ],
 "metadata": {
  "kernelspec": {
   "display_name": "Python 3",
   "language": "python",
   "name": "python3"
  },
  "language_info": {
   "codemirror_mode": {
    "name": "ipython",
    "version": 3
   },
   "file_extension": ".py",
   "mimetype": "text/x-python",
   "name": "python",
   "nbconvert_exporter": "python",
   "pygments_lexer": "ipython3",
   "version": "3.12.8"
  }
 },
 "nbformat": 4,
 "nbformat_minor": 2
}
