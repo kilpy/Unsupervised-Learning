{
 "cells": [
  {
   "cell_type": "code",
   "execution_count": 2,
   "metadata": {},
   "outputs": [],
   "source": [
    "# within coin_flips.txt contains data of the outcomes \n",
    "\n",
    "import pandas as pd\n",
    "import numpy as np\n",
    "import matplotlib.pyplot as plt\n",
    "import scipy.stats as stats"
   ]
  },
  {
   "cell_type": "code",
   "execution_count": 3,
   "metadata": {},
   "outputs": [],
   "source": [
    "df = pd.read_csv('coin_flips.txt', header=None)\n"
   ]
  },
  {
   "cell_type": "code",
   "execution_count": 4,
   "metadata": {},
   "outputs": [
    {
     "data": {
      "text/plain": [
       "0.01478576660156255"
      ]
     },
     "execution_count": 4,
     "metadata": {},
     "output_type": "execute_result"
    }
   ],
   "source": [
    "# Three coins A,B,C with head-prob p_A, p_B, p_C can be chosen for each of N sessions.\n",
    "# Once a coin is chosen for the session, that coin is flipped D times.\n",
    "# For D=20 and N=50, and fixed non-uniform selection coin probabilities pi_A, pi_B, pi_C, which sum to 1, we have this outcome\n",
    "# each row corresponds to a session with 20 binary 1=head 0=tail.\n",
    "\n",
    "\n",
    "# Compute the probabilities to select each coin to session (3 mixture \"pi\" probabilities), and also the bias probabilities (3 param \"p\" probabilities).\n",
    "\n",
    "# HINT: for each session, since the D flips are independent of each other, what matters is the number of heads out of the batch size D. If chance of head is p_ for each flip, then probability of observing x heads is binomial(x|p_, D). Here is a technical brief note .\n",
    "# In English: binomial(X|p_,D) = probability to get x heads out of D coin flips, if coin has head-bias p_.\n",
    "\n",
    "stats.binom.pmf(5, 20, 0.5) # probability of getting 5 heads out of 20 flips, if coin has head-bias 0.5"
   ]
  },
  {
   "cell_type": "code",
   "execution_count": 9,
   "metadata": {},
   "outputs": [
    {
     "data": {
      "text/plain": [
       "0     0 1 0 0 1 0 1 0 1 0 0 0 1 1 1 0 1 1 0 1\n",
       "1     1 0 0 1 1 1 1 1 1 1 1 1 0 0 1 1 1 1 0 1\n",
       "2     1 1 0 1 1 1 0 0 1 1 0 0 0 1 0 1 1 0 1 0\n",
       "3     1 0 0 0 0 0 0 0 0 1 0 0 0 1 0 0 0 0 0 0\n",
       "4     0 0 1 0 0 1 0 0 0 1 0 0 0 0 0 0 0 0 0 0\n",
       "5     0 0 1 1 0 0 1 0 1 0 1 1 0 1 0 1 1 1 1 1\n",
       "6     1 1 1 1 1 1 1 1 0 1 1 1 1 1 1 1 1 1 1 1\n",
       "7     1 1 1 0 1 1 0 1 1 1 1 1 1 0 1 1 0 1 0 0\n",
       "8     0 1 0 0 0 1 0 1 0 0 0 0 0 0 0 0 0 0 1 1\n",
       "9     1 1 1 1 1 1 1 1 1 1 0 1 1 1 1 1 1 1 1 1\n",
       "10    1 1 1 1 0 1 1 1 1 1 0 1 1 1 1 1 1 1 1 1\n",
       "11    1 1 1 1 0 1 1 1 0 1 1 1 1 0 1 0 1 1 0 0\n",
       "12    0 0 0 0 0 0 0 0 0 0 1 0 0 0 0 0 0 0 0 1\n",
       "13    0 1 0 1 1 1 0 1 1 1 1 1 0 1 1 1 1 0 1 1\n",
       "14    0 0 0 0 0 0 1 1 0 1 0 0 0 1 0 0 0 0 0 1\n",
       "15    1 1 1 0 1 1 1 1 1 1 1 1 1 1 1 1 1 1 1 1\n",
       "16    1 1 1 1 1 1 1 1 1 1 1 0 1 1 1 1 1 1 1 1\n",
       "17    1 1 0 0 0 1 0 1 0 0 1 1 0 0 0 0 0 1 1 1\n",
       "18    0 1 1 1 1 1 0 0 0 0 0 1 1 0 1 1 0 1 0 1\n",
       "19    1 0 0 1 1 1 1 1 1 1 1 0 1 1 1 0 0 1 1 0\n",
       "20    1 0 1 0 0 1 0 1 0 1 0 1 0 0 0 1 0 0 0 0\n",
       "21    1 1 1 1 0 1 0 0 0 1 0 0 1 1 1 0 1 1 1 1\n",
       "22    1 1 0 0 1 0 0 1 0 1 1 0 0 1 1 1 1 1 0 1\n",
       "23    0 0 1 1 1 1 1 1 1 1 1 1 1 1 1 1 1 1 1 1\n",
       "24    1 1 0 1 0 0 1 1 0 0 1 1 1 1 0 1 1 1 0 1\n",
       "25    1 1 0 0 1 1 0 1 1 0 1 1 0 1 0 0 0 1 1 1\n",
       "26    1 1 0 1 1 1 0 1 1 0 0 0 1 1 1 1 0 1 1 1\n",
       "27    0 1 0 1 1 1 0 1 0 1 1 0 1 0 1 1 1 0 0 0\n",
       "28    0 1 0 1 0 0 0 0 0 0 0 0 1 0 0 1 0 0 0 0\n",
       "29    1 1 1 1 0 1 1 1 1 1 0 1 0 0 1 0 0 0 0 1\n",
       "30    0 0 0 0 0 0 0 0 0 0 0 0 1 0 0 0 0 0 1 1\n",
       "31    1 1 0 1 0 0 1 1 1 1 0 1 1 0 1 1 1 0 1 1\n",
       "32    1 0 1 1 1 1 1 1 0 1 1 1 0 0 1 0 1 1 1 0\n",
       "33    1 1 0 0 1 0 0 1 1 0 1 1 0 0 1 0 0 0 0 0\n",
       "34    0 0 1 0 0 0 1 0 0 0 0 0 1 1 0 1 1 0 0 1\n",
       "35    1 0 1 1 0 0 0 1 0 1 1 0 0 0 0 0 0 0 0 0\n",
       "36    1 1 1 1 1 1 1 1 1 1 1 0 1 1 1 1 1 1 1 1\n",
       "37    0 1 1 0 1 0 0 1 0 1 1 1 1 0 0 0 0 1 0 1\n",
       "38    1 0 1 1 1 1 1 1 1 1 1 1 1 1 1 1 1 0 1 1\n",
       "39    0 0 1 0 0 1 0 1 0 0 1 1 1 0 1 1 1 1 1 1\n",
       "40    1 0 1 0 0 0 0 0 0 0 0 0 0 0 0 0 0 1 0 0\n",
       "41    1 1 1 1 0 0 1 0 1 1 0 0 0 1 1 1 0 1 1 1\n",
       "42    0 0 1 0 0 0 1 1 0 1 0 0 0 0 1 0 0 1 1 1\n",
       "43    1 1 1 1 1 1 1 1 1 1 1 1 1 1 0 1 1 1 1 1\n",
       "44    0 0 1 0 1 0 1 0 0 0 0 0 0 1 0 1 0 0 0 0\n",
       "45    0 0 0 1 0 0 0 0 0 1 0 0 0 0 1 1 1 0 0 0\n",
       "46    0 0 0 1 0 0 0 0 0 0 0 0 1 1 0 0 0 0 0 0\n",
       "47    1 0 1 1 1 1 1 0 0 1 1 0 1 0 1 1 1 1 0 1\n",
       "48    0 1 1 0 0 0 0 1 0 1 0 0 1 1 0 1 0 0 0 1\n",
       "49    1 1 1 0 0 0 0 1 1 1 1 0 0 1 0 0 1 1 1 0\n",
       "Name: 0, dtype: object"
      ]
     },
     "execution_count": 9,
     "metadata": {},
     "output_type": "execute_result"
    }
   ],
   "source": [
    "df[0]"
   ]
  },
  {
   "cell_type": "code",
   "execution_count": null,
   "metadata": {},
   "outputs": [],
   "source": [
    "# find heads bias p for each session:\n",
    "p_A = np.mean(df[0])"
   ]
  },
  {
   "cell_type": "code",
   "execution_count": null,
   "metadata": {},
   "outputs": [],
   "source": []
  }
 ],
 "metadata": {
  "kernelspec": {
   "display_name": "Python 3",
   "language": "python",
   "name": "python3"
  },
  "language_info": {
   "codemirror_mode": {
    "name": "ipython",
    "version": 3
   },
   "file_extension": ".py",
   "mimetype": "text/x-python",
   "name": "python",
   "nbconvert_exporter": "python",
   "pygments_lexer": "ipython3",
   "version": "3.12.7"
  }
 },
 "nbformat": 4,
 "nbformat_minor": 2
}
