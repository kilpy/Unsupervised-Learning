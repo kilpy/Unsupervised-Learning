{
 "cells": [
  {
   "cell_type": "code",
   "execution_count": 74,
   "metadata": {},
   "outputs": [],
   "source": [
    "# within coin_flips.txt contains data of the outcomes \n",
    "\n",
    "import pandas as pd\n",
    "import numpy as np\n",
    "import matplotlib.pyplot as plt\n",
    "import scipy.stats as stats\n",
    "from tqdm import tqdm"
   ]
  },
  {
   "cell_type": "code",
   "execution_count": 51,
   "metadata": {},
   "outputs": [],
   "source": [
    "df = pd.read_csv('coin_flips.txt', header=None)\n",
    "df = df[0].str.split(' ', expand=True).astype(int)"
   ]
  },
  {
   "cell_type": "code",
   "execution_count": 63,
   "metadata": {},
   "outputs": [],
   "source": [
    "# add a new column to the dataframe with the number of heads\n",
    "df['heads'] = df.sum(axis=1)\n"
   ]
  },
  {
   "cell_type": "code",
   "execution_count": null,
   "metadata": {},
   "outputs": [],
   "source": [
    "# probability of picking each coin (sum to 1)\n",
    "coin_a, coin_b, coin_c = np.random.rand(3)\n",
    "coin_a, coin_b, coin_c = coin_a / (coin_a + coin_b + coin_c), coin_b / (coin_a + coin_b + coin_c), coin_c / (coin_a + coin_b + coin_c)\n",
    "\n",
    "bias_a, bias_b, bias_c = np.random.rand(3)\n",
    "\n",
    "# 2. binomial probability, n = 20, k = counts of heads\n",
    "# binomial mixture \n",
    "# randomly set memberships of each coin per row\n",
    "# instead of means and covariances, randomly initialize \n",
    "\n",
    "# m step: new mixture components: coin bias and coin probability to pick coin\n",
    "# perform M steps arbritarily setting coins memberships\n",
    "def kmeans_sci(data, k, similarity, max_iter=10):\n",
    "    # Initialize cluster centers\n",
    "    centers = data[np.random.choice(data.shape[0], k)]\n",
    "\n",
    "    for i in tqdm(range(max_iter)):\n",
    "        # Assign each data point to the nearest cluster center - E-step\n",
    "        clusters = [[] for _ in range(k)]\n",
    "        for x in data:\n",
    "            cluster = min(range(k), key=lambda c: similarity(x, centers[c]))\n",
    "            clusters[cluster].append(x)\n",
    "\n",
    "        # Update cluster centers - M-step\n",
    "        new_centers = [np.mean(cluster, axis=0) for cluster in clusters]\n",
    "\n",
    "        # Check for convergence\n",
    "        if np.array_equal(centers, new_centers):\n",
    "            break\n",
    "        centers = new_centers\n",
    "        \n",
    "    return centers, clusters\n",
    "\n",
    "\n"
   ]
  },
  {
   "cell_type": "code",
   "execution_count": 70,
   "metadata": {},
   "outputs": [],
   "source": [
    "# Three coins A,B,C with head-prob p_A, p_B, p_C can be chosen for each of N sessions.\n",
    "# Once a coin is chosen for the session, that coin is flipped D times.\n",
    "# For D=20 and N=50, and fixed non-uniform selection coin probabilities pi_A, pi_B, pi_C, which sum to 1, we have this outcome\n",
    "# each row corresponds to a session with 20 binary 1=head 0=tail.\n",
    "\n",
    "\n",
    "# Compute the probabilities to select each coin to session (3 mixture \"pi\" probabilities), and also the bias probabilities (3 param \"p\" probabilities).\n",
    "\n",
    "# HINT: for each session, since the D flips are independent of each other, what matters is the number of heads out of the batch size D. If chance of head is p_ for each flip, then probability of observing x heads is binomial(x|p_, D). Here is a technical brief note .\n",
    "# In English: binomial(X|p_,D) = probability to get x heads out of D coin flips, if coin has head-bias p_."
   ]
  },
  {
   "cell_type": "code",
   "execution_count": 54,
   "metadata": {},
   "outputs": [],
   "source": [
    "# each row: d = 20 flips per coin (each row signifies a coin), n = 50 sessions (50 rows, 50 different coins flipped 20 times each)\n",
    "# for each coin, we want to find the probability that it is coin A, B, or C\n",
    "# we also want to find the probability that the coin is biased towards heads or tails\n",
    "# we can use the binomial distribution to find the probability of getting x heads out of 20 flips\n",
    "# we can use the multinomial distribution to find the probability of getting x heads out of 20 flips for each coin\n",
    "\n",
    "# e step: compute with current parameters theta = pi_k, q_k\n",
    "\n",
    "# m step: update pi_k, q_k\n"
   ]
  },
  {
   "cell_type": "code",
   "execution_count": 55,
   "metadata": {},
   "outputs": [],
   "source": [
    "# binomial distribution:\n",
    "# prob = stats.binom.pmf(10, 20, p_A)\n"
   ]
  },
  {
   "cell_type": "code",
   "execution_count": 56,
   "metadata": {},
   "outputs": [],
   "source": [
    "# 2. binomial probability, n = 20, k = counts of heads\n",
    "# binomial mixture \n",
    "# randomly set memberships of each coin per row\n",
    "# instead of means and covariances, randomly initialize \n",
    "\n",
    "\n",
    "# m step: new mixture components: coin bias and coin probability to pick coin."
   ]
  },
  {
   "cell_type": "code",
   "execution_count": null,
   "metadata": {},
   "outputs": [],
   "source": []
  },
  {
   "cell_type": "code",
   "execution_count": null,
   "metadata": {},
   "outputs": [],
   "source": []
  }
 ],
 "metadata": {
  "kernelspec": {
   "display_name": "Python 3",
   "language": "python",
   "name": "python3"
  },
  "language_info": {
   "codemirror_mode": {
    "name": "ipython",
    "version": 3
   },
   "file_extension": ".py",
   "mimetype": "text/x-python",
   "name": "python",
   "nbconvert_exporter": "python",
   "pygments_lexer": "ipython3",
   "version": "3.12.9"
  }
 },
 "nbformat": 4,
 "nbformat_minor": 2
}
