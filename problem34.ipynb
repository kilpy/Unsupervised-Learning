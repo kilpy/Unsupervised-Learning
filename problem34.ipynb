{
 "cells": [
  {
   "cell_type": "markdown",
   "metadata": {},
   "source": [
    "Your first task is parsing. As this is the first assignment and as the parsers are very different for the two datasets (images vs. text), you may use any library/package to aid in the parsing here, however you are encouraged to write your own."
   ]
  },
  {
   "cell_type": "code",
   "execution_count": 10,
   "metadata": {},
   "outputs": [
    {
     "name": "stdout",
     "output_type": "stream",
     "text": [
      "Defaulting to user installation because normal site-packages is not writeable\n",
      "Requirement already satisfied: scikit-learn in c:\\users\\koola\\appdata\\local\\packages\\pythonsoftwarefoundation.python.3.12_qbz5n2kfra8p0\\localcache\\local-packages\\python312\\site-packages (1.6.1)\n",
      "Requirement already satisfied: numpy>=1.19.5 in c:\\users\\koola\\appdata\\local\\packages\\pythonsoftwarefoundation.python.3.12_qbz5n2kfra8p0\\localcache\\local-packages\\python312\\site-packages (from scikit-learn) (2.1.3)\n",
      "Requirement already satisfied: scipy>=1.6.0 in c:\\users\\koola\\appdata\\local\\packages\\pythonsoftwarefoundation.python.3.12_qbz5n2kfra8p0\\localcache\\local-packages\\python312\\site-packages (from scikit-learn) (1.15.1)\n",
      "Requirement already satisfied: joblib>=1.2.0 in c:\\users\\koola\\appdata\\local\\packages\\pythonsoftwarefoundation.python.3.12_qbz5n2kfra8p0\\localcache\\local-packages\\python312\\site-packages (from scikit-learn) (1.4.2)\n",
      "Requirement already satisfied: threadpoolctl>=3.1.0 in c:\\users\\koola\\appdata\\local\\packages\\pythonsoftwarefoundation.python.3.12_qbz5n2kfra8p0\\localcache\\local-packages\\python312\\site-packages (from scikit-learn) (3.5.0)\n",
      "Note: you may need to restart the kernel to use updated packages.\n",
      "Defaulting to user installation because normal site-packages is not writeableNote: you may need to restart the kernel to use updated packages.\n",
      "\n",
      "Requirement already satisfied: torch in c:\\users\\koola\\appdata\\local\\packages\\pythonsoftwarefoundation.python.3.12_qbz5n2kfra8p0\\localcache\\local-packages\\python312\\site-packages (2.5.1)\n",
      "Requirement already satisfied: filelock in c:\\users\\koola\\appdata\\local\\packages\\pythonsoftwarefoundation.python.3.12_qbz5n2kfra8p0\\localcache\\local-packages\\python312\\site-packages (from torch) (3.16.1)\n",
      "Requirement already satisfied: typing-extensions>=4.8.0 in c:\\users\\koola\\appdata\\local\\packages\\pythonsoftwarefoundation.python.3.12_qbz5n2kfra8p0\\localcache\\local-packages\\python312\\site-packages (from torch) (4.12.2)\n",
      "Requirement already satisfied: networkx in c:\\users\\koola\\appdata\\local\\packages\\pythonsoftwarefoundation.python.3.12_qbz5n2kfra8p0\\localcache\\local-packages\\python312\\site-packages (from torch) (3.4.2)\n",
      "Requirement already satisfied: jinja2 in c:\\users\\koola\\appdata\\local\\packages\\pythonsoftwarefoundation.python.3.12_qbz5n2kfra8p0\\localcache\\local-packages\\python312\\site-packages (from torch) (3.1.5)\n",
      "Requirement already satisfied: fsspec in c:\\users\\koola\\appdata\\local\\packages\\pythonsoftwarefoundation.python.3.12_qbz5n2kfra8p0\\localcache\\local-packages\\python312\\site-packages (from torch) (2024.12.0)\n",
      "Requirement already satisfied: setuptools in c:\\users\\koola\\appdata\\local\\packages\\pythonsoftwarefoundation.python.3.12_qbz5n2kfra8p0\\localcache\\local-packages\\python312\\site-packages (from torch) (75.8.0)\n",
      "Requirement already satisfied: sympy==1.13.1 in c:\\users\\koola\\appdata\\local\\packages\\pythonsoftwarefoundation.python.3.12_qbz5n2kfra8p0\\localcache\\local-packages\\python312\\site-packages (from torch) (1.13.1)\n",
      "Requirement already satisfied: mpmath<1.4,>=1.1.0 in c:\\users\\koola\\appdata\\local\\packages\\pythonsoftwarefoundation.python.3.12_qbz5n2kfra8p0\\localcache\\local-packages\\python312\\site-packages (from sympy==1.13.1->torch) (1.3.0)\n",
      "Requirement already satisfied: MarkupSafe>=2.0 in c:\\users\\koola\\appdata\\local\\packages\\pythonsoftwarefoundation.python.3.12_qbz5n2kfra8p0\\localcache\\local-packages\\python312\\site-packages (from jinja2->torch) (3.0.2)\n",
      "Defaulting to user installation because normal site-packages is not writeable\n",
      "Requirement already satisfied: torchvision in c:\\users\\koola\\appdata\\local\\packages\\pythonsoftwarefoundation.python.3.12_qbz5n2kfra8p0\\localcache\\local-packages\\python312\\site-packages (0.20.1)\n",
      "Requirement already satisfied: numpy in c:\\users\\koola\\appdata\\local\\packages\\pythonsoftwarefoundation.python.3.12_qbz5n2kfra8p0\\localcache\\local-packages\\python312\\site-packages (from torchvision) (2.1.3)\n",
      "Requirement already satisfied: torch==2.5.1 in c:\\users\\koola\\appdata\\local\\packages\\pythonsoftwarefoundation.python.3.12_qbz5n2kfra8p0\\localcache\\local-packages\\python312\\site-packages (from torchvision) (2.5.1)\n",
      "Requirement already satisfied: pillow!=8.3.*,>=5.3.0 in c:\\users\\koola\\appdata\\local\\packages\\pythonsoftwarefoundation.python.3.12_qbz5n2kfra8p0\\localcache\\local-packages\\python312\\site-packages (from torchvision) (11.0.0)\n",
      "Requirement already satisfied: filelock in c:\\users\\koola\\appdata\\local\\packages\\pythonsoftwarefoundation.python.3.12_qbz5n2kfra8p0\\localcache\\local-packages\\python312\\site-packages (from torch==2.5.1->torchvision) (3.16.1)\n",
      "Requirement already satisfied: typing-extensions>=4.8.0 in c:\\users\\koola\\appdata\\local\\packages\\pythonsoftwarefoundation.python.3.12_qbz5n2kfra8p0\\localcache\\local-packages\\python312\\site-packages (from torch==2.5.1->torchvision) (4.12.2)\n",
      "Requirement already satisfied: networkx in c:\\users\\koola\\appdata\\local\\packages\\pythonsoftwarefoundation.python.3.12_qbz5n2kfra8p0\\localcache\\local-packages\\python312\\site-packages (from torch==2.5.1->torchvision) (3.4.2)\n",
      "Requirement already satisfied: jinja2 in c:\\users\\koola\\appdata\\local\\packages\\pythonsoftwarefoundation.python.3.12_qbz5n2kfra8p0\\localcache\\local-packages\\python312\\site-packages (from torch==2.5.1->torchvision) (3.1.5)\n",
      "Requirement already satisfied: fsspec in c:\\users\\koola\\appdata\\local\\packages\\pythonsoftwarefoundation.python.3.12_qbz5n2kfra8p0\\localcache\\local-packages\\python312\\site-packages (from torch==2.5.1->torchvision) (2024.12.0)\n",
      "Requirement already satisfied: setuptools in c:\\users\\koola\\appdata\\local\\packages\\pythonsoftwarefoundation.python.3.12_qbz5n2kfra8p0\\localcache\\local-packages\\python312\\site-packages (from torch==2.5.1->torchvision) (75.8.0)\n",
      "Requirement already satisfied: sympy==1.13.1 in c:\\users\\koola\\appdata\\local\\packages\\pythonsoftwarefoundation.python.3.12_qbz5n2kfra8p0\\localcache\\local-packages\\python312\\site-packages (from torch==2.5.1->torchvision) (1.13.1)\n",
      "Requirement already satisfied: mpmath<1.4,>=1.1.0 in c:\\users\\koola\\appdata\\local\\packages\\pythonsoftwarefoundation.python.3.12_qbz5n2kfra8p0\\localcache\\local-packages\\python312\\site-packages (from sympy==1.13.1->torch==2.5.1->torchvision) (1.3.0)\n",
      "Requirement already satisfied: MarkupSafe>=2.0 in c:\\users\\koola\\appdata\\local\\packages\\pythonsoftwarefoundation.python.3.12_qbz5n2kfra8p0\\localcache\\local-packages\\python312\\site-packages (from jinja2->torch==2.5.1->torchvision) (3.0.2)\n",
      "Note: you may need to restart the kernel to use updated packages.\n"
     ]
    }
   ],
   "source": [
    "#FIRST: PARSING\n",
    "%pip install scikit-learn\n",
    "%pip install torch\n",
    "%pip install torchvision\n",
    "import sklearn\n",
    "import pandas as pd\n",
    "import numpy as np\n",
    "import torch\n",
    "import torchvision\n",
    "import torchvision.transforms as transforms\n",
    "import matplotlib.pyplot as plt\n",
    "from sklearn.datasets import fetch_20newsgroups\n",
    "from sklearn.feature_extraction.text import TfidfVectorizer\n",
    "from tqdm import tqdm"
   ]
  },
  {
   "cell_type": "code",
   "execution_count": 293,
   "metadata": {},
   "outputs": [
    {
     "name": "stdout",
     "output_type": "stream",
     "text": [
      "(60000, 28, 28) (60000,)\n",
      "(10000, 28, 28) (10000,)\n"
     ]
    }
   ],
   "source": [
    "# Parse the MNIST dataset\n",
    "mnist_train = torchvision.datasets.MNIST(root='data', train=True, download=True, transform=torchvision.transforms.ToTensor())\n",
    "mnist_test = torchvision.datasets.MNIST(root='data', train=False, download=True, transform=torchvision.transforms.ToTensor())\n",
    "# print(mnist_train)\n",
    "# print(mnist_test)\n",
    "\n",
    "# convert to numpy, tensor to numpy\n",
    "train_images = mnist_train.data.numpy().astype(np.float64)\n",
    "train_labels = mnist_train.targets.numpy()\n",
    "print(train_images.shape, train_labels.shape)\n",
    "\n",
    "test_images = mnist_test.data.numpy().astype(np.float64) \n",
    "test_labels = mnist_test.targets.numpy()\n",
    "print(test_images.shape, test_labels.shape)"
   ]
  },
  {
   "cell_type": "code",
   "execution_count": 264,
   "metadata": {},
   "outputs": [
    {
     "name": "stdout",
     "output_type": "stream",
     "text": [
      "[[  0.   0.   0.   0.   0.   0.   0.   0.   0.   0.   0.   0.   0.   0.\n",
      "    0.   0.   0.   0.   0.   0.   0.   0.   0.   0.   0.   0.   0.   0.]\n",
      " [  0.   0.   0.   0.   0.   0.   0.   0.   0.   0.   0.   0.   0.   0.\n",
      "    0.   0.   0.   0.   0.   0.   0.   0.   0.   0.   0.   0.   0.   0.]\n",
      " [  0.   0.   0.   0.   0.   0.   0.   0.   0.   0.   0.   0.   0.   0.\n",
      "    0.   0.   0.   0.   0.   0.   0.   0.   0.   0.   0.   0.   0.   0.]\n",
      " [  0.   0.   0.   0.   0.   0.   0.   0.   0.   0.   0.   0.   0.   0.\n",
      "    0.   0.   0.   0.   0.   0.   0.   0.   0.   0.   0.   0.   0.   0.]\n",
      " [  0.   0.   0.   0.   0.   0.   0.   0.   0.   0.   0.   0.   0.   0.\n",
      "    0.   0.   0.   0.   0.   0.   0.   0.   0.   0.   0.   0.   0.   0.]\n",
      " [  0.   0.   0.   0.   0.   0.   0.   0.   0.   0.   0.   0.   3.  18.\n",
      "   18.  18. 126. 136. 175.  26. 166. 255. 247. 127.   0.   0.   0.   0.]\n",
      " [  0.   0.   0.   0.   0.   0.   0.   0.  30.  36.  94. 154. 170. 253.\n",
      "  253. 253. 253. 253. 225. 172. 253. 242. 195.  64.   0.   0.   0.   0.]\n",
      " [  0.   0.   0.   0.   0.   0.   0.  49. 238. 253. 253. 253. 253. 253.\n",
      "  253. 253. 253. 251.  93.  82.  82.  56.  39.   0.   0.   0.   0.   0.]\n",
      " [  0.   0.   0.   0.   0.   0.   0.  18. 219. 253. 253. 253. 253. 253.\n",
      "  198. 182. 247. 241.   0.   0.   0.   0.   0.   0.   0.   0.   0.   0.]\n",
      " [  0.   0.   0.   0.   0.   0.   0.   0.  80. 156. 107. 253. 253. 205.\n",
      "   11.   0.  43. 154.   0.   0.   0.   0.   0.   0.   0.   0.   0.   0.]\n",
      " [  0.   0.   0.   0.   0.   0.   0.   0.   0.  14.   1. 154. 253.  90.\n",
      "    0.   0.   0.   0.   0.   0.   0.   0.   0.   0.   0.   0.   0.   0.]\n",
      " [  0.   0.   0.   0.   0.   0.   0.   0.   0.   0.   0. 139. 253. 190.\n",
      "    2.   0.   0.   0.   0.   0.   0.   0.   0.   0.   0.   0.   0.   0.]\n",
      " [  0.   0.   0.   0.   0.   0.   0.   0.   0.   0.   0.  11. 190. 253.\n",
      "   70.   0.   0.   0.   0.   0.   0.   0.   0.   0.   0.   0.   0.   0.]\n",
      " [  0.   0.   0.   0.   0.   0.   0.   0.   0.   0.   0.   0.  35. 241.\n",
      "  225. 160. 108.   1.   0.   0.   0.   0.   0.   0.   0.   0.   0.   0.]\n",
      " [  0.   0.   0.   0.   0.   0.   0.   0.   0.   0.   0.   0.   0.  81.\n",
      "  240. 253. 253. 119.  25.   0.   0.   0.   0.   0.   0.   0.   0.   0.]\n",
      " [  0.   0.   0.   0.   0.   0.   0.   0.   0.   0.   0.   0.   0.   0.\n",
      "   45. 186. 253. 253. 150.  27.   0.   0.   0.   0.   0.   0.   0.   0.]\n",
      " [  0.   0.   0.   0.   0.   0.   0.   0.   0.   0.   0.   0.   0.   0.\n",
      "    0.  16.  93. 252. 253. 187.   0.   0.   0.   0.   0.   0.   0.   0.]\n",
      " [  0.   0.   0.   0.   0.   0.   0.   0.   0.   0.   0.   0.   0.   0.\n",
      "    0.   0.   0. 249. 253. 249.  64.   0.   0.   0.   0.   0.   0.   0.]\n",
      " [  0.   0.   0.   0.   0.   0.   0.   0.   0.   0.   0.   0.   0.   0.\n",
      "   46. 130. 183. 253. 253. 207.   2.   0.   0.   0.   0.   0.   0.   0.]\n",
      " [  0.   0.   0.   0.   0.   0.   0.   0.   0.   0.   0.   0.  39. 148.\n",
      "  229. 253. 253. 253. 250. 182.   0.   0.   0.   0.   0.   0.   0.   0.]\n",
      " [  0.   0.   0.   0.   0.   0.   0.   0.   0.   0.  24. 114. 221. 253.\n",
      "  253. 253. 253. 201.  78.   0.   0.   0.   0.   0.   0.   0.   0.   0.]\n",
      " [  0.   0.   0.   0.   0.   0.   0.   0.  23.  66. 213. 253. 253. 253.\n",
      "  253. 198.  81.   2.   0.   0.   0.   0.   0.   0.   0.   0.   0.   0.]\n",
      " [  0.   0.   0.   0.   0.   0.  18. 171. 219. 253. 253. 253. 253. 195.\n",
      "   80.   9.   0.   0.   0.   0.   0.   0.   0.   0.   0.   0.   0.   0.]\n",
      " [  0.   0.   0.   0.  55. 172. 226. 253. 253. 253. 253. 244. 133.  11.\n",
      "    0.   0.   0.   0.   0.   0.   0.   0.   0.   0.   0.   0.   0.   0.]\n",
      " [  0.   0.   0.   0. 136. 253. 253. 253. 212. 135. 132.  16.   0.   0.\n",
      "    0.   0.   0.   0.   0.   0.   0.   0.   0.   0.   0.   0.   0.   0.]\n",
      " [  0.   0.   0.   0.   0.   0.   0.   0.   0.   0.   0.   0.   0.   0.\n",
      "    0.   0.   0.   0.   0.   0.   0.   0.   0.   0.   0.   0.   0.   0.]\n",
      " [  0.   0.   0.   0.   0.   0.   0.   0.   0.   0.   0.   0.   0.   0.\n",
      "    0.   0.   0.   0.   0.   0.   0.   0.   0.   0.   0.   0.   0.   0.]\n",
      " [  0.   0.   0.   0.   0.   0.   0.   0.   0.   0.   0.   0.   0.   0.\n",
      "    0.   0.   0.   0.   0.   0.   0.   0.   0.   0.   0.   0.   0.   0.]]\n",
      "<class 'numpy.ndarray'>\n"
     ]
    },
    {
     "data": {
      "text/plain": [
       "Text(0.5, 1.0, 'Label: 5')"
      ]
     },
     "execution_count": 264,
     "metadata": {},
     "output_type": "execute_result"
    },
    {
     "data": {
      "image/png": "[encoded data removed]",
      "text/plain": [
       "<Figure size 640x480 with 1 Axes>"
      ]
     },
     "metadata": {},
     "output_type": "display_data"
    }
   ],
   "source": [
    "# VISUALIZATION:\n",
    "print(train_images[0])\n",
    "print(type(train_images[0]))\n",
    "plt.imshow(train_images[0], cmap='gray')\n",
    "plt.title(f\"Label: {train_labels[0]}\")"
   ]
  },
  {
   "cell_type": "code",
   "execution_count": 265,
   "metadata": {},
   "outputs": [
    {
     "name": "stdout",
     "output_type": "stream",
     "text": [
      "Defaulting to user installation because normal site-packages is not writeable\n",
      "Requirement already satisfied: tqdm in c:\\users\\koola\\appdata\\local\\packages\\pythonsoftwarefoundation.python.3.12_qbz5n2kfra8p0\\localcache\\local-packages\\python312\\site-packages (4.67.1)\n",
      "Requirement already satisfied: colorama in c:\\users\\koola\\appdata\\local\\packages\\pythonsoftwarefoundation.python.3.12_qbz5n2kfra8p0\\localcache\\local-packages\\python312\\site-packages (from tqdm) (0.4.6)\n",
      "Note: you may need to restart the kernel to use updated packages.\n"
     ]
    }
   ],
   "source": [
    "%pip install tqdm\n",
    "from tqdm import tqdm"
   ]
  },
  {
   "cell_type": "code",
   "execution_count": 266,
   "metadata": {},
   "outputs": [],
   "source": [
    "# SECOND TASK: normalization\n",
    "\n",
    "# 1. Shift and scale normalization:\n",
    "    # Subtract the minimum, then divide by new maximum\n",
    "    # This will shift the minimum to 0 and the maximum to 1\n",
    "# 3. Term-Frequency (TF) weighting:\n",
    "    # Map each term in a document with its frequency (text only), up to me to determine appropriate normalization\n",
    "\n",
    "# MNIST Dataset: \n",
    "    # Make sure any value transformation retains the 0 values\n",
    "    # <0, 255> -> <0, 1> essentially black and white\n",
    "\n",
    "# 1. Shift and scale normalization:\n",
    "    # Subtract the minimum, then divide by new maximum\n",
    "    # This will shift the minimum to 0 and the maximum to 1\n",
    "shift_scale_train_images = train_images / 255.0\n",
    "\n"
   ]
  },
  {
   "cell_type": "code",
   "execution_count": 267,
   "metadata": {},
   "outputs": [
    {
     "name": "stdout",
     "output_type": "stream",
     "text": [
      "[[0.         0.         0.         0.         0.         0.\n",
      "  0.         0.         0.         0.         0.         0.\n",
      "  0.         0.         0.         0.         0.         0.\n",
      "  0.         0.         0.         0.         0.         0.\n",
      "  0.         0.         0.         0.        ]\n",
      " [0.         0.         0.         0.         0.         0.\n",
      "  0.         0.         0.         0.         0.         0.\n",
      "  0.         0.         0.         0.         0.         0.\n",
      "  0.         0.         0.         0.         0.         0.\n",
      "  0.         0.         0.         0.        ]\n",
      " [0.         0.         0.         0.         0.         0.\n",
      "  0.         0.         0.         0.         0.         0.\n",
      "  0.         0.         0.         0.         0.         0.\n",
      "  0.         0.         0.         0.         0.         0.\n",
      "  0.         0.         0.         0.        ]\n",
      " [0.         0.         0.         0.         0.         0.\n",
      "  0.         0.         0.         0.         0.         0.\n",
      "  0.         0.         0.         0.         0.         0.\n",
      "  0.         0.         0.         0.         0.         0.\n",
      "  0.         0.         0.         0.        ]\n",
      " [0.         0.         0.         0.         0.         0.\n",
      "  0.         0.         0.         0.         0.         0.\n",
      "  0.         0.         0.         0.         0.         0.\n",
      "  0.         0.         0.         0.         0.         0.\n",
      "  0.         0.         0.         0.        ]\n",
      " [0.         0.         0.         0.         0.         0.\n",
      "  0.         0.         0.         0.         0.         0.\n",
      "  0.01176471 0.07058824 0.07058824 0.07058824 0.49411765 0.53333333\n",
      "  0.68627451 0.10196078 0.65098039 1.         0.96862745 0.49803922\n",
      "  0.         0.         0.         0.        ]\n",
      " [0.         0.         0.         0.         0.         0.\n",
      "  0.         0.         0.11764706 0.14117647 0.36862745 0.60392157\n",
      "  0.66666667 0.99215686 0.99215686 0.99215686 0.99215686 0.99215686\n",
      "  0.88235294 0.6745098  0.99215686 0.94901961 0.76470588 0.25098039\n",
      "  0.         0.         0.         0.        ]\n",
      " [0.         0.         0.         0.         0.         0.\n",
      "  0.         0.19215686 0.93333333 0.99215686 0.99215686 0.99215686\n",
      "  0.99215686 0.99215686 0.99215686 0.99215686 0.99215686 0.98431373\n",
      "  0.36470588 0.32156863 0.32156863 0.21960784 0.15294118 0.\n",
      "  0.         0.         0.         0.        ]\n",
      " [0.         0.         0.         0.         0.         0.\n",
      "  0.         0.07058824 0.85882353 0.99215686 0.99215686 0.99215686\n",
      "  0.99215686 0.99215686 0.77647059 0.71372549 0.96862745 0.94509804\n",
      "  0.         0.         0.         0.         0.         0.\n",
      "  0.         0.         0.         0.        ]\n",
      " [0.         0.         0.         0.         0.         0.\n",
      "  0.         0.         0.31372549 0.61176471 0.41960784 0.99215686\n",
      "  0.99215686 0.80392157 0.04313725 0.         0.16862745 0.60392157\n",
      "  0.         0.         0.         0.         0.         0.\n",
      "  0.         0.         0.         0.        ]\n",
      " [0.         0.         0.         0.         0.         0.\n",
      "  0.         0.         0.         0.05490196 0.00392157 0.60392157\n",
      "  0.99215686 0.35294118 0.         0.         0.         0.\n",
      "  0.         0.         0.         0.         0.         0.\n",
      "  0.         0.         0.         0.        ]\n",
      " [0.         0.         0.         0.         0.         0.\n",
      "  0.         0.         0.         0.         0.         0.54509804\n",
      "  0.99215686 0.74509804 0.00784314 0.         0.         0.\n",
      "  0.         0.         0.         0.         0.         0.\n",
      "  0.         0.         0.         0.        ]\n",
      " [0.         0.         0.         0.         0.         0.\n",
      "  0.         0.         0.         0.         0.         0.04313725\n",
      "  0.74509804 0.99215686 0.2745098  0.         0.         0.\n",
      "  0.         0.         0.         0.         0.         0.\n",
      "  0.         0.         0.         0.        ]\n",
      " [0.         0.         0.         0.         0.         0.\n",
      "  0.         0.         0.         0.         0.         0.\n",
      "  0.1372549  0.94509804 0.88235294 0.62745098 0.42352941 0.00392157\n",
      "  0.         0.         0.         0.         0.         0.\n",
      "  0.         0.         0.         0.        ]\n",
      " [0.         0.         0.         0.         0.         0.\n",
      "  0.         0.         0.         0.         0.         0.\n",
      "  0.         0.31764706 0.94117647 0.99215686 0.99215686 0.46666667\n",
      "  0.09803922 0.         0.         0.         0.         0.\n",
      "  0.         0.         0.         0.        ]\n",
      " [0.         0.         0.         0.         0.         0.\n",
      "  0.         0.         0.         0.         0.         0.\n",
      "  0.         0.         0.17647059 0.72941176 0.99215686 0.99215686\n",
      "  0.58823529 0.10588235 0.         0.         0.         0.\n",
      "  0.         0.         0.         0.        ]\n",
      " [0.         0.         0.         0.         0.         0.\n",
      "  0.         0.         0.         0.         0.         0.\n",
      "  0.         0.         0.         0.0627451  0.36470588 0.98823529\n",
      "  0.99215686 0.73333333 0.         0.         0.         0.\n",
      "  0.         0.         0.         0.        ]\n",
      " [0.         0.         0.         0.         0.         0.\n",
      "  0.         0.         0.         0.         0.         0.\n",
      "  0.         0.         0.         0.         0.         0.97647059\n",
      "  0.99215686 0.97647059 0.25098039 0.         0.         0.\n",
      "  0.         0.         0.         0.        ]\n",
      " [0.         0.         0.         0.         0.         0.\n",
      "  0.         0.         0.         0.         0.         0.\n",
      "  0.         0.         0.18039216 0.50980392 0.71764706 0.99215686\n",
      "  0.99215686 0.81176471 0.00784314 0.         0.         0.\n",
      "  0.         0.         0.         0.        ]\n",
      " [0.         0.         0.         0.         0.         0.\n",
      "  0.         0.         0.         0.         0.         0.\n",
      "  0.15294118 0.58039216 0.89803922 0.99215686 0.99215686 0.99215686\n",
      "  0.98039216 0.71372549 0.         0.         0.         0.\n",
      "  0.         0.         0.         0.        ]\n",
      " [0.         0.         0.         0.         0.         0.\n",
      "  0.         0.         0.         0.         0.09411765 0.44705882\n",
      "  0.86666667 0.99215686 0.99215686 0.99215686 0.99215686 0.78823529\n",
      "  0.30588235 0.         0.         0.         0.         0.\n",
      "  0.         0.         0.         0.        ]\n",
      " [0.         0.         0.         0.         0.         0.\n",
      "  0.         0.         0.09019608 0.25882353 0.83529412 0.99215686\n",
      "  0.99215686 0.99215686 0.99215686 0.77647059 0.31764706 0.00784314\n",
      "  0.         0.         0.         0.         0.         0.\n",
      "  0.         0.         0.         0.        ]\n",
      " [0.         0.         0.         0.         0.         0.\n",
      "  0.07058824 0.67058824 0.85882353 0.99215686 0.99215686 0.99215686\n",
      "  0.99215686 0.76470588 0.31372549 0.03529412 0.         0.\n",
      "  0.         0.         0.         0.         0.         0.\n",
      "  0.         0.         0.         0.        ]\n",
      " [0.         0.         0.         0.         0.21568627 0.6745098\n",
      "  0.88627451 0.99215686 0.99215686 0.99215686 0.99215686 0.95686275\n",
      "  0.52156863 0.04313725 0.         0.         0.         0.\n",
      "  0.         0.         0.         0.         0.         0.\n",
      "  0.         0.         0.         0.        ]\n",
      " [0.         0.         0.         0.         0.53333333 0.99215686\n",
      "  0.99215686 0.99215686 0.83137255 0.52941176 0.51764706 0.0627451\n",
      "  0.         0.         0.         0.         0.         0.\n",
      "  0.         0.         0.         0.         0.         0.\n",
      "  0.         0.         0.         0.        ]\n",
      " [0.         0.         0.         0.         0.         0.\n",
      "  0.         0.         0.         0.         0.         0.\n",
      "  0.         0.         0.         0.         0.         0.\n",
      "  0.         0.         0.         0.         0.         0.\n",
      "  0.         0.         0.         0.        ]\n",
      " [0.         0.         0.         0.         0.         0.\n",
      "  0.         0.         0.         0.         0.         0.\n",
      "  0.         0.         0.         0.         0.         0.\n",
      "  0.         0.         0.         0.         0.         0.\n",
      "  0.         0.         0.         0.        ]\n",
      " [0.         0.         0.         0.         0.         0.\n",
      "  0.         0.         0.         0.         0.         0.\n",
      "  0.         0.         0.         0.         0.         0.\n",
      "  0.         0.         0.         0.         0.         0.\n",
      "  0.         0.         0.         0.        ]]\n",
      "<class 'numpy.ndarray'>\n"
     ]
    },
    {
     "data": {
      "text/plain": [
       "Text(0.5, 1.0, 'Label: 5')"
      ]
     },
     "execution_count": 267,
     "metadata": {},
     "output_type": "execute_result"
    },
    {
     "data": {
      "image/png": "[encoded data removed]",
      "text/plain": [
       "<Figure size 640x480 with 1 Axes>"
      ]
     },
     "metadata": {},
     "output_type": "display_data"
    }
   ],
   "source": [
    "# Visualize the first image after normalization:\n",
    "print(shift_scale_train_images[0])\n",
    "print(type(shift_scale_train_images[0]))\n",
    "plt.imshow(shift_scale_train_images[0], cmap='gray')\n",
    "plt.title(f\"Label: {train_labels[0]}\")"
   ]
  },
  {
   "cell_type": "code",
   "execution_count": 268,
   "metadata": {},
   "outputs": [
    {
     "name": "stdout",
     "output_type": "stream",
     "text": [
      "(28, 28)\n",
      "(28, 28)\n"
     ]
    },
    {
     "name": "stderr",
     "output_type": "stream",
     "text": [
      "C:\\Users\\koola\\AppData\\Local\\Temp\\ipykernel_37204\\2710829338.py:7: RuntimeWarning: invalid value encountered in divide\n",
      "  zero_mean_unit_variance_train_images = (train_images - mean) / std\n",
      "C:\\Users\\koola\\AppData\\Local\\Temp\\ipykernel_37204\\2710829338.py:11: RuntimeWarning: divide by zero encountered in divide\n",
      "  zero_mean_unit_variance_test_images = (test_images - mean) / std\n",
      "C:\\Users\\koola\\AppData\\Local\\Temp\\ipykernel_37204\\2710829338.py:11: RuntimeWarning: invalid value encountered in divide\n",
      "  zero_mean_unit_variance_test_images = (test_images - mean) / std\n"
     ]
    }
   ],
   "source": [
    "# 2. Zero mean, unit variance\n",
    "    # Subtract the mean, divide by the appropriate value to get variance = 1\n",
    "mean = np.mean(train_images, axis=0)\n",
    "print(mean.shape)\n",
    "std = np.std(train_images, axis=0)\n",
    "print(std.shape)\n",
    "zero_mean_unit_variance_train_images = (train_images - mean) / std\n",
    "# replace nan with 0\n",
    "zero_mean_unit_variance_train_images = np.nan_to_num(zero_mean_unit_variance_train_images)\n",
    "\n",
    "zero_mean_unit_variance_test_images = (test_images - mean) / std\n",
    "# replace nan with 0\n",
    "zero_mean_unit_variance_test_images = np.nan_to_num(zero_mean_unit_variance_test_images)\n"
   ]
  },
  {
   "cell_type": "code",
   "execution_count": 269,
   "metadata": {},
   "outputs": [
    {
     "name": "stdout",
     "output_type": "stream",
     "text": [
      "[[ 0.00000000e+00  0.00000000e+00  0.00000000e+00  0.00000000e+00\n",
      "   0.00000000e+00  0.00000000e+00  0.00000000e+00  0.00000000e+00\n",
      "   0.00000000e+00  0.00000000e+00  0.00000000e+00  0.00000000e+00\n",
      "  -4.41807799e-03 -5.75481961e-03 -4.08251693e-03 -4.08251693e-03\n",
      "   0.00000000e+00  0.00000000e+00  0.00000000e+00  0.00000000e+00\n",
      "   0.00000000e+00  0.00000000e+00  0.00000000e+00  0.00000000e+00\n",
      "   0.00000000e+00  0.00000000e+00  0.00000000e+00  0.00000000e+00]\n",
      " [ 0.00000000e+00  0.00000000e+00  0.00000000e+00  0.00000000e+00\n",
      "  -4.08251693e-03 -4.70968827e-03 -8.79934640e-03 -1.15905591e-02\n",
      "  -1.47589798e-02 -1.92848546e-02 -2.46717975e-02 -2.90710271e-02\n",
      "  -3.05926583e-02 -3.11640127e-02 -3.19628719e-02 -3.02025355e-02\n",
      "  -3.13102175e-02 -2.83833960e-02 -2.31191906e-02 -1.91666260e-02\n",
      "  -1.67723008e-02 -1.09963601e-02 -8.32486080e-03 -4.38069356e-03\n",
      "   0.00000000e+00  0.00000000e+00  0.00000000e+00  0.00000000e+00]\n",
      " [ 0.00000000e+00  0.00000000e+00 -4.08251693e-03 -5.39534598e-03\n",
      "  -8.52241235e-03 -1.19850363e-02 -1.76534777e-02 -2.77108989e-02\n",
      "  -3.70200943e-02 -5.21512802e-02 -6.70362007e-02 -8.30170484e-02\n",
      "  -9.93792978e-02 -1.15184128e-01 -1.29133256e-01 -1.38394677e-01\n",
      "  -1.38883631e-01 -1.31843438e-01 -1.20429522e-01 -1.01890795e-01\n",
      "  -7.86049044e-02 -5.69956130e-02 -3.96576839e-02 -2.37283861e-02\n",
      "  -1.40883463e-02 -7.83084068e-03  0.00000000e+00  0.00000000e+00]\n",
      " [ 0.00000000e+00  0.00000000e+00 -5.36837753e-03 -8.87060589e-03\n",
      "  -1.40708170e-02 -2.21468098e-02 -3.51801368e-02 -5.50236802e-02\n",
      "  -7.90961321e-02 -1.07649012e-01 -1.37169936e-01 -1.67105761e-01\n",
      "  -1.96008755e-01 -2.24491114e-01 -2.48655991e-01 -2.62117971e-01\n",
      "  -2.62596902e-01 -2.47855903e-01 -2.21947003e-01 -1.87211405e-01\n",
      "  -1.47640132e-01 -1.08164364e-01 -7.68121117e-02 -4.70752996e-02\n",
      "  -3.02019676e-02 -1.52412436e-02 -5.28371965e-03  0.00000000e+00]\n",
      " [ 0.00000000e+00 -4.08251693e-03 -7.76342302e-03 -1.48932548e-02\n",
      "  -2.39627505e-02 -5.03408980e-02 -7.87674703e-02 -1.16181540e-01\n",
      "  -1.61247562e-01 -2.11961635e-01 -2.66898731e-01 -3.25678010e-01\n",
      "  -3.90241548e-01 -4.52076376e-01 -4.99397984e-01 -5.23428324e-01\n",
      "  -5.17618894e-01 -4.80902419e-01 -4.23079694e-01 -3.56740395e-01\n",
      "  -2.83683648e-01 -2.16836661e-01 -1.58524380e-01 -1.08784581e-01\n",
      "  -7.09225309e-02 -3.89534819e-02 -1.42523852e-02 -5.77049806e-03]\n",
      " [ 0.00000000e+00  0.00000000e+00 -1.19017406e-02 -2.20501560e-02\n",
      "  -5.18380750e-02 -9.06597035e-02 -1.39667106e-01 -1.97082121e-01\n",
      "  -2.64384728e-01 -3.40730442e-01 -4.22535749e-01 -5.15408649e-01\n",
      "  -6.16035327e-01 -7.15983297e-01 -7.94120466e-01 -8.35049253e-01\n",
      "  -8.24185811e-01 -7.62839284e-01 -6.66559498e-01 -5.56250398e-01\n",
      "  -4.47645654e-01 -3.47624614e-01 -2.60840907e-01 -1.90306053e-01\n",
      "  -1.31080130e-01 -7.48460374e-02 -3.19301291e-02 -8.20891834e-03]\n",
      " [ 0.00000000e+00 -5.57015293e-03 -1.56619271e-02 -3.63656606e-02\n",
      "  -7.90243079e-02 -1.33289086e-01 -1.99154411e-01 -2.75429691e-01\n",
      "  -3.63335946e-01 -4.63080533e-01 -5.74845189e-01 -6.98803873e-01\n",
      "  -8.28773684e-01 -9.56892048e-01 -1.05647264e+00 -1.10471831e+00\n",
      "  -1.08350761e+00 -9.98951646e-01 -8.74747624e-01 -7.24559735e-01\n",
      "  -5.80605898e-01 -4.52158764e-01 -3.39323431e-01 -2.48930373e-01\n",
      "  -1.72939702e-01 -1.04104240e-01 -4.83176220e-02 -1.47080183e-02]\n",
      " [-4.08251693e-03 -1.32310093e-02 -2.62438209e-02 -5.91585908e-02\n",
      "  -1.13004853e-01 -1.78441525e-01  1.48470321e+00  2.54055725e+00\n",
      "   1.55211691e+00  1.05237708e+00 -1.35278622e-01 -5.40655412e-01\n",
      "  -1.01480290e+00 -1.13216857e+00 -1.20218834e+00 -1.22953750e+00\n",
      "  -1.20969770e+00 -1.14460983e+00 -1.02312554e+00 -8.62953584e-01\n",
      "  -6.90480239e-01 -5.32901320e-01 -3.97547440e-01 -2.87681279e-01\n",
      "  -1.97007025e-01 -1.21228940e-01 -5.68086109e-02 -1.53906680e-02]\n",
      " [-5.02549298e-03 -1.73205192e-02 -4.30805391e-02 -8.52488969e-02\n",
      "  -1.39458369e-01 -2.10883308e-01  3.66021897e+00  3.08794129e+00\n",
      "   2.35126326e+00  1.85772748e+00  1.52662157e+00  1.20024029e+00\n",
      "   7.07095900e-01  6.69905155e-01  6.74199715e-01  6.82838347e-01\n",
      "   6.79548018e-01  6.83266646e-01  7.33850535e-01  8.83748122e-01\n",
      "   8.86076660e-01 -9.68918327e-03 -4.23671002e-01 -2.98196207e-01\n",
      "  -1.97686135e-01 -1.20683815e-01 -5.39356285e-02 -1.35055434e-02]\n",
      " [-5.90571261e-03 -2.11096679e-02 -5.29890369e-02 -9.30784924e-02\n",
      "  -1.50398734e-01 -2.26191023e-01  7.86858657e-01  1.01862017e+00\n",
      "   1.84767628e-01  3.43563714e-01  5.81529340e-01  1.04442114e+00\n",
      "   1.28632734e+00  1.09389480e+00  1.42192123e+00  1.42174682e+00\n",
      "   1.36895746e+00  1.25852201e+00  1.06106433e+00  1.40802551e+00\n",
      "   1.69213169e+00  9.40073289e-01 -4.20171899e-01 -2.90174595e-01\n",
      "  -1.81482351e-01 -1.04939775e-01 -4.72131729e-02 -1.41308656e-02]\n",
      " [-5.77280519e-03 -2.26322771e-02 -5.28031747e-02 -9.22058067e-02\n",
      "  -1.47451700e-01 -2.27284588e-01 -3.32428316e-01 -4.62696158e-01\n",
      "  -6.19033521e-01 -7.84282685e-01 -9.08209879e-01 -7.77902766e-01\n",
      "  -2.58321490e-01 -6.62539280e-01 -1.20659558e-01 -1.66606344e-01\n",
      "  -2.50153033e-01 -4.13949487e-01 -7.72024485e-01  1.29929104e+00\n",
      "   1.77798922e+00  6.41562003e-01 -3.96771027e-01 -2.71222642e-01\n",
      "  -1.59324464e-01 -8.12584087e-02 -3.69508670e-02 -1.18733992e-02]\n",
      " [-7.05517396e-03 -2.07711768e-02 -4.72035624e-02 -8.20038362e-02\n",
      "  -1.37457285e-01 -2.25181955e-01 -3.38492381e-01 -4.82934997e-01\n",
      "  -6.48288219e-01 -8.09805311e-01 -8.96460461e-01 -8.71785593e-01\n",
      "  -7.84976096e-01 -7.32541737e-01 -7.40950559e-01 -8.02210470e-01\n",
      "  -9.01262815e-01 -9.77722928e-01 -2.03857058e-01  1.51926879e+00\n",
      "   1.45507275e+00 -2.87853256e-01 -3.69573309e-01 -2.58464407e-01\n",
      "  -1.49695715e-01 -6.11113564e-02 -2.80115688e-02 -9.12509965e-03]\n",
      " [-5.30435130e-03 -1.62383999e-02 -3.63786148e-02 -6.85820105e-02\n",
      "  -1.27368499e-01 -2.26143360e-01 -3.52202906e-01 -5.07583513e-01\n",
      "  -6.79449640e-01 -8.28251048e-01 -8.88830036e-01 -8.41900911e-01\n",
      "  -7.66534528e-01 -7.70204755e-01 -8.20343720e-01 -9.17683490e-01\n",
      "  -1.02909594e+00 -8.60269810e-01  1.12879611e+00  1.60252100e+00\n",
      "   2.56994838e-01 -4.70072884e-01 -3.55124414e-01 -2.55407545e-01\n",
      "  -1.53824513e-01 -5.24542821e-02 -2.15058651e-02 -9.92198161e-03]\n",
      " [-4.08251693e-03 -1.09343854e-02 -2.55447979e-02 -5.70730810e-02\n",
      "  -1.24662020e-01 -2.38498173e-01 -3.73258897e-01 -5.33136068e-01\n",
      "  -7.02094140e-01 -8.37450050e-01 -8.80074249e-01 -8.41014273e-01\n",
      "  -8.16790959e-01 -8.91924037e-01 -9.78550563e-01 -1.11080343e+00\n",
      "  -1.18062996e+00  2.14042356e-02  1.30094213e+00  1.49811515e+00\n",
      "  -1.20834289e-01 -4.60910238e-01 -3.55500546e-01 -2.63549180e-01\n",
      "  -1.64503687e-01 -5.95130325e-02 -2.33686679e-02 -7.40432376e-03]\n",
      " [-4.08251693e-03 -7.98834543e-03 -1.82964530e-02 -5.13394345e-02\n",
      "  -1.29346397e-01 -2.57521393e-01 -3.95011330e-01 -5.50421723e-01\n",
      "  -7.07323088e-01 -8.26049817e-01 -8.67853151e-01 -8.60743722e-01\n",
      "  -9.04035680e-01 -1.03470353e+00 -1.14543618e+00 -1.27420789e+00\n",
      "  -7.11044900e-01  1.07595927e+00  1.32350660e+00 -1.68362004e-01\n",
      "  -5.97027040e-01 -4.72019989e-01 -3.68370412e-01 -2.73325316e-01\n",
      "  -1.73386634e-01 -6.89427199e-02 -2.46446573e-02 -6.98490193e-03]\n",
      " [-4.77028006e-03 -4.18942802e-03 -1.86482564e-02 -5.32721237e-02\n",
      "  -1.40420517e-01 -2.77180624e-01 -4.12209008e-01 -5.54003398e-01\n",
      "  -6.92005443e-01 -7.92583140e-01 -8.41940836e-01 -8.69766983e-01\n",
      "  -9.58664347e-01 -1.09410266e+00 -1.20489455e+00 -1.27242541e+00\n",
      "   1.07358590e-02  1.17715868e+00  7.79831068e-01 -7.04478701e-01\n",
      "  -6.09787183e-01 -4.86753939e-01 -3.80896777e-01 -2.78298890e-01\n",
      "  -1.75491552e-01 -7.70261425e-02 -2.96263040e-02 -9.11024024e-03]\n",
      " [-4.08251693e-03 -6.70727737e-03 -2.16014323e-02 -6.07076923e-02\n",
      "  -1.57022412e-01 -2.97163168e-01 -4.22306798e-01 -5.45726707e-01\n",
      "  -6.59100289e-01 -7.41250552e-01 -7.88379565e-01 -8.33967293e-01\n",
      "  -9.19413398e-01 -1.02595562e+00 -1.12277551e+00 -1.06418865e+00\n",
      "   7.48518639e-01  1.22971306e+00 -3.44410164e-01 -7.43583544e-01\n",
      "  -6.15621643e-01 -4.93079765e-01 -3.79874281e-01 -2.73517649e-01\n",
      "  -1.73539121e-01 -8.40501482e-02 -3.41624422e-02 -8.93964748e-03]\n",
      " [ 0.00000000e+00 -8.93208845e-03 -2.53977634e-02 -7.39001757e-02\n",
      "  -1.77860047e-01 -3.13383430e-01 -4.29013061e-01 -5.35088936e-01\n",
      "  -6.20781988e-01 -6.82689238e-01 -7.23470137e-01 -7.65558979e-01\n",
      "  -8.25070425e-01 -9.19390235e-01 -1.00626013e+00  9.45079946e-02\n",
      "   1.27638904e+00  7.05281905e-01 -8.55465686e-01 -7.40321068e-01\n",
      "  -6.13265794e-01 -4.85156292e-01 -3.68041978e-01 -2.60781824e-01\n",
      "  -1.68333757e-01 -8.85426370e-02 -3.59362339e-02 -1.07108129e-02]\n",
      " [-5.90596678e-03 -6.35211414e-03 -3.33202141e-02 -9.13048630e-02\n",
      "  -1.99108031e-01 -3.27967412e-01 -4.38995427e-01 -5.34454088e-01\n",
      "  -6.05947897e-01 -6.59405094e-01 -6.97848366e-01 -7.30422894e-01\n",
      "  -7.81125667e-01 -8.71688552e-01 -2.83848852e-01  1.25096168e+00\n",
      "   1.16747862e+00 -4.35722097e-01 -8.58724638e-01 -7.32311394e-01\n",
      "  -5.94910595e-01 -4.63429150e-01 -3.48771144e-01 -2.45884747e-01\n",
      "  -1.58200936e-01 -8.54379627e-02 -3.15579616e-02 -9.76041412e-03]\n",
      " [-4.08251693e-03 -1.12816627e-02 -3.97571016e-02 -1.03852335e-01\n",
      "  -2.11980971e-01 -3.37477889e-01 -4.51701933e-01 -5.52131610e-01\n",
      "  -6.31886475e-01 -6.93224391e-01 -7.38384900e-01 -7.70730767e-01\n",
      "  -8.28769523e-01 -7.47033129e-01  9.73898241e-01  1.22645943e+00\n",
      "   4.52752822e-01 -9.67055213e-01 -8.46502284e-01 -7.01222754e-01\n",
      "  -5.55385654e-01 -4.27074606e-01 -3.16810480e-01 -2.20685803e-01\n",
      "  -1.41057264e-01 -7.81710423e-02 -2.91825785e-02 -8.02578597e-03]\n",
      " [ 0.00000000e+00 -1.03421049e-02 -4.32736220e-02 -1.09167014e-01\n",
      "  -2.09032573e-01 -3.30224641e-01 -4.54875266e-01 -5.69196807e-01\n",
      "  -6.72943600e-01 -7.60601226e-01 -8.28757495e-01 -8.86508190e-01\n",
      "  -9.32862065e-01  7.67533918e-01  1.15764115e+00  8.40210608e-01\n",
      "  -7.48096691e-01 -9.39332903e-01 -7.87347565e-01 -6.26990956e-01\n",
      "  -4.88062775e-01 -3.68951144e-01 -2.69292226e-01 -1.87212623e-01\n",
      "  -1.21627434e-01 -6.64938197e-02 -2.60330031e-02 -5.77331594e-03]\n",
      " [-4.08251693e-03 -1.00095035e-02 -4.04987315e-02 -9.99847079e-02\n",
      "  -1.88201724e-01 -2.99631312e-01 -4.27248469e-01 -5.55251360e-01\n",
      "  -6.81777397e-01 -8.01587516e-01 -9.08656846e-01 -1.00894524e+00\n",
      "  -7.61537060e-01  1.12021789e+00  1.10456727e+00 -4.31384544e-01\n",
      "  -9.94707958e-01 -8.32232744e-01 -6.67125990e-01 -5.22694492e-01\n",
      "  -3.99065428e-01 -2.96700643e-01 -2.12626224e-01 -1.48693958e-01\n",
      "  -9.68957284e-02 -5.09310889e-02 -2.02144293e-02 -4.08251693e-03]\n",
      " [-4.08251693e-03 -6.00490574e-03 -3.37063471e-02 -7.89724505e-02\n",
      "  -1.47741377e-01 -2.43250250e-01 -3.60346298e-01 -4.86443172e-01\n",
      "  -6.22409982e-01 -7.56704176e-01 -8.88736513e-01 -7.27483138e-01\n",
      "   9.02409853e-01  1.14771889e+00 -5.00249294e-02 -9.54087559e-01\n",
      "  -8.17668173e-01 -6.64655910e-01 -5.23595080e-01 -4.02142028e-01\n",
      "  -3.03069160e-01 -2.21680844e-01 -1.59365935e-01 -1.10060699e-01\n",
      "  -7.00397650e-02 -3.71356228e-02 -1.22014099e-02 -4.08251693e-03]\n",
      " [ 0.00000000e+00  0.00000000e+00 -2.27387266e-02 -5.19053972e-02\n",
      "  -9.99880242e-02 -1.68431623e-01 -2.60310720e-01 -3.69837081e-01\n",
      "  -4.90097995e-01 -6.15370679e-01 -7.38977994e-01  3.75336695e-01\n",
      "   1.39579771e+00  1.40495380e+00 -3.57731647e-01 -7.34655534e-01\n",
      "  -6.12575711e-01 -4.92071188e-01 -3.79928167e-01 -2.88817393e-01\n",
      "  -2.13440937e-01 -1.53667782e-01 -1.09126008e-01 -7.40987562e-02\n",
      "  -4.33171851e-02 -1.93437920e-02 -1.04024820e-02  0.00000000e+00]\n",
      " [ 0.00000000e+00  0.00000000e+00 -1.03527008e-02 -2.87501024e-02\n",
      "  -5.75683736e-02 -9.53105368e-02 -1.53609762e-01 -2.23424526e-01\n",
      "  -3.03577770e-01 -3.88479973e-01  2.82544299e-01  2.20934087e+00\n",
      "   2.22163597e+00  2.24217587e+00  7.61368482e-02 -4.68057397e-01\n",
      "  -3.95805045e-01 -3.24789446e-01 -2.55705032e-01 -1.94611712e-01\n",
      "  -1.44574205e-01 -1.01773543e-01 -7.14252227e-02 -4.77777569e-02\n",
      "  -2.57524359e-02 -1.13794237e-02 -4.75287492e-03  0.00000000e+00]\n",
      " [ 0.00000000e+00  0.00000000e+00 -6.66430111e-03 -1.09642132e-02\n",
      "  -2.76044516e-02 -5.15536012e-02 -8.67718458e-02 -1.28392033e-01\n",
      "  -1.75775898e-01 -2.23054438e-01  2.05960524e+00  4.18469648e+00\n",
      "   4.00776020e+00  3.45476039e+00  4.42645443e-01 -2.63231291e-01\n",
      "  -2.33723589e-01 -2.01027824e-01 -1.63691052e-01 -1.27665996e-01\n",
      "  -9.39651393e-02 -6.56832591e-02 -4.59265310e-02 -2.87188097e-02\n",
      "  -1.56930365e-02 -5.67530616e-03 -4.08251693e-03  0.00000000e+00]\n",
      " [ 0.00000000e+00  0.00000000e+00  0.00000000e+00 -4.08251693e-03\n",
      "  -1.51213939e-02 -3.13695545e-02 -5.33302349e-02 -7.92282669e-02\n",
      "  -1.08376650e-01 -1.33979068e-01  3.77202155e+00  7.26219633e+00\n",
      "   5.68313620e+00  3.38639446e-01 -1.69876491e-01 -1.53157314e-01\n",
      "  -1.35433124e-01 -1.16480299e-01 -9.39512541e-02 -7.25768871e-02\n",
      "  -5.23643597e-02 -3.63829995e-02 -2.15030637e-02 -1.30192791e-02\n",
      "  -4.49421517e-03 -4.08251693e-03  0.00000000e+00  0.00000000e+00]\n",
      " [ 0.00000000e+00  0.00000000e+00  0.00000000e+00  0.00000000e+00\n",
      "  -5.79016363e-03 -9.05384592e-03 -1.60054430e-02 -2.21197601e-02\n",
      "  -2.68459958e-02 -3.18450632e-02 -4.37484087e-02 -4.72829474e-02\n",
      "  -5.31388046e-02 -5.66228194e-02 -6.03383556e-02 -5.62950014e-02\n",
      "  -5.13665378e-02 -4.26322798e-02 -3.31710271e-02 -2.24628830e-02\n",
      "  -1.60690870e-02 -1.14322028e-02 -9.00729450e-03 -5.77039393e-03\n",
      "   0.00000000e+00  0.00000000e+00  0.00000000e+00  0.00000000e+00]]\n",
      "7\n"
     ]
    },
    {
     "data": {
      "image/png": "[encoded data removed]",
      "text/plain": [
       "<Figure size 640x480 with 1 Axes>"
      ]
     },
     "metadata": {},
     "output_type": "display_data"
    }
   ],
   "source": [
    "plt.imshow(zero_mean_unit_variance_test_images[0], cmap='gray')\n",
    "print(zero_mean_unit_variance_test_images[0])\n",
    "print(test_labels[0])"
   ]
  },
  {
   "cell_type": "code",
   "execution_count": 270,
   "metadata": {},
   "outputs": [
    {
     "data": {
      "text/plain": [
       "<matplotlib.image.AxesImage at 0x1335625e1b0>"
      ]
     },
     "execution_count": 270,
     "metadata": {},
     "output_type": "execute_result"
    },
    {
     "data": {
      "image/png": "[encoded data removed]",
      "text/plain": [
       "<Figure size 640x480 with 1 Axes>"
      ]
     },
     "metadata": {},
     "output_type": "display_data"
    }
   ],
   "source": [
    "plt.imshow(test_images[0], cmap='gray')"
   ]
  },
  {
   "cell_type": "code",
   "execution_count": 271,
   "metadata": {},
   "outputs": [
    {
     "name": "stdout",
     "output_type": "stream",
     "text": [
      "[  0.   0.   0.   0.   0.   0.   0.   0.  30.  36.  94. 154. 170. 253.\n",
      " 253. 253. 253. 253. 225. 172. 253. 242. 195.  64.   0.   0.   0.   0.]\n",
      "103.57142857142857\n"
     ]
    }
   ],
   "source": [
    "# Zero mean from class notes:\n",
    "\n",
    "# mew = np.sum(train_images, axis=0) / train_images.shape[0]\n",
    "print(train_images[0][6])\n",
    "print(np.mean(train_images[0][6]))"
   ]
  },
  {
   "cell_type": "code",
   "execution_count": 272,
   "metadata": {},
   "outputs": [
    {
     "name": "stdout",
     "output_type": "stream",
     "text": [
      "[[0.00000000e+00 0.00000000e+00 0.00000000e+00 0.00000000e+00\n",
      "  0.00000000e+00 0.00000000e+00 0.00000000e+00 0.00000000e+00\n",
      "  0.00000000e+00 0.00000000e+00 0.00000000e+00 0.00000000e+00\n",
      "  2.10000000e-03 7.83333333e-03 3.60000000e-03 1.50000000e-04\n",
      "  0.00000000e+00 0.00000000e+00 0.00000000e+00 0.00000000e+00\n",
      "  0.00000000e+00 0.00000000e+00 0.00000000e+00 0.00000000e+00\n",
      "  0.00000000e+00 0.00000000e+00 0.00000000e+00 0.00000000e+00]\n",
      " [0.00000000e+00 0.00000000e+00 0.00000000e+00 0.00000000e+00\n",
      "  2.66666667e-04 9.16666667e-04 9.28333333e-03 2.42833333e-02\n",
      "  4.37166667e-02 6.41000000e-02 1.20133333e-01 1.60733333e-01\n",
      "  1.74183333e-01 1.77433333e-01 1.89316667e-01 1.74150000e-01\n",
      "  1.86933333e-01 1.53650000e-01 1.00116667e-01 7.12333333e-02\n",
      "  5.38166667e-02 2.13666667e-02 1.00833333e-02 3.53333333e-03\n",
      "  0.00000000e+00 0.00000000e+00 0.00000000e+00 0.00000000e+00]\n",
      " [0.00000000e+00 0.00000000e+00 1.06666667e-03 7.00000000e-04\n",
      "  6.95000000e-03 5.48333333e-03 4.71000000e-02 1.38400000e-01\n",
      "  2.64183333e-01 5.06616667e-01 8.66800000e-01 1.29008333e+00\n",
      "  1.87035000e+00 2.52995000e+00 3.20161667e+00 3.62555000e+00\n",
      "  3.72198333e+00 3.39255000e+00 2.80293333e+00 2.04438333e+00\n",
      "  1.20211667e+00 6.33450000e-01 2.96166667e-01 9.39833333e-02\n",
      "  3.52166667e-02 8.63333333e-03 0.00000000e+00 0.00000000e+00]\n",
      " [0.00000000e+00 0.00000000e+00 3.23333333e-03 5.85000000e-03\n",
      "  1.20166667e-02 6.97666667e-02 2.12083333e-01 5.46100000e-01\n",
      "  1.15441667e+00 2.21590000e+00 3.63963333e+00 5.43800000e+00\n",
      "  7.40705000e+00 9.69673333e+00 1.18830833e+01 1.32373667e+01\n",
      "  1.31246167e+01 1.18135167e+01 9.54366667e+00 6.86305000e+00\n",
      "  4.19365000e+00 2.27463333e+00 1.06103333e+00 4.13066667e-01\n",
      "  1.62083333e-01 2.77666667e-02 2.80000000e-03 0.00000000e+00]\n",
      " [0.00000000e+00 6.33333333e-04 5.21666667e-03 1.43500000e-02\n",
      "  8.08833333e-02 4.10216667e-01 1.04323333e+00 2.41928333e+00\n",
      "  4.77575000e+00 8.39441667e+00 1.33102667e+01 1.94773000e+01\n",
      "  2.70366833e+01 3.52121667e+01 4.18408000e+01 4.52526000e+01\n",
      "  4.43388333e+01 3.91414500e+01 3.13282167e+01 2.29239333e+01\n",
      "  1.48310167e+01 8.66140000e+00 4.54796667e+00 2.13701667e+00\n",
      "  8.62900000e-01 2.07750000e-01 2.96500000e-02 2.03333333e-03]\n",
      " [0.00000000e+00 0.00000000e+00 1.03166667e-02 6.33500000e-02\n",
      "  3.95466667e-01 1.46340000e+00 3.58778333e+00 7.22781667e+00\n",
      "  1.30171167e+01 2.12179167e+01 3.15004000e+01 4.42063667e+01\n",
      "  5.89038500e+01 7.38041500e+01 8.51027333e+01 9.05997833e+01\n",
      "  8.89239333e+01 8.01812500e+01 6.59428167e+01 4.97938333e+01\n",
      "  3.43498333e+01 2.15100000e+01 1.23903167e+01 6.63911667e+00\n",
      "  2.99271667e+00 8.43666667e-01 1.41633333e-01 4.70000000e-03]\n",
      " [0.00000000e+00 1.83333333e-04 2.75000000e-02 2.21433333e-01\n",
      "  1.11951667e+00 3.28990000e+00 7.43646667e+00 1.42544333e+01\n",
      "  2.41377500e+01 3.72885167e+01 5.31154000e+01 7.09128167e+01\n",
      "  8.92784667e+01 1.06232967e+02 1.18506117e+02 1.24098150e+02\n",
      "  1.21711333e+02 1.12033333e+02 9.61081167e+01 7.51653667e+01\n",
      "  5.40371167e+01 3.53124833e+01 2.09919000e+01 1.14424333e+01\n",
      "  5.38776667e+00 1.85558333e+00 3.72700000e-01 3.03000000e-02]\n",
      " [7.83333333e-04 1.97333333e-02 1.07666667e-01 5.95650000e-01\n",
      "  2.31240000e+00 5.92876667e+00 1.24360500e+01 2.24518000e+01\n",
      "  3.62947833e+01 5.38984167e+01 7.37647167e+01 9.41030833e+01\n",
      "  1.11579483e+02 1.24999917e+02 1.32759117e+02 1.35398700e+02\n",
      "  1.33338650e+02 1.26677533e+02 1.13546667e+02 9.37442667e+01\n",
      "  6.97779333e+01 4.68328833e+01 2.81439167e+01 1.52010500e+01\n",
      "  7.03366667e+00 2.58303333e+00 5.13100000e-01 3.18833333e-02]\n",
      " [4.06666667e-03 5.08166667e-02 3.29366667e-01 1.31735000e+00\n",
      "  3.74813333e+00 8.48346667e+00 1.68181833e+01 2.95974000e+01\n",
      "  4.69301500e+01 6.81070000e+01 9.02913833e+01 1.08475717e+02\n",
      "  1.19435417e+02 1.23393850e+02 1.23038050e+02 1.22340650e+02\n",
      "  1.22730050e+02 1.22144100e+02 1.16260933e+02 1.00610600e+02\n",
      "  7.73180333e+01 5.28976000e+01 3.18106167e+01 1.63576667e+01\n",
      "  7.18566667e+00 2.60661667e+00 4.81583333e-01 2.71833333e-02]\n",
      " [4.86666667e-03 7.94666667e-02 5.12016667e-01 1.71938333e+00\n",
      "  4.44581667e+00 9.80663333e+00 1.95264833e+01 3.45048167e+01\n",
      "  5.47009000e+01 7.81380333e+01 9.90387000e+01 1.10600467e+02\n",
      "  1.10787550e+02 1.04553617e+02 9.90472000e+01 9.93883833e+01\n",
      "  1.04333217e+02 1.10882067e+02 1.11078267e+02 9.91469167e+01\n",
      "  7.70405500e+01 5.27057667e+01 3.14484167e+01 1.53927167e+01\n",
      "  5.96113333e+00 1.89796667e+00 3.51833333e-01 2.82166667e-02]\n",
      " [6.66666667e-03 9.85666667e-02 5.23033333e-01 1.67458333e+00\n",
      "  4.28908333e+00 9.87643333e+00 2.05393167e+01 3.71890333e+01\n",
      "  5.97151167e+01 8.33987333e+01 1.00225900e+02 1.03168817e+02\n",
      "  9.38921333e+01 8.29528167e+01 7.94228333e+01 8.45250167e+01\n",
      "  9.38685833e+01 1.04427533e+02 1.06281183e+02 9.42218667e+01\n",
      "  7.18490667e+01 4.83172500e+01 2.84781833e+01 1.34981667e+01\n",
      "  4.60050000e+00 1.15010000e+00 2.21833333e-01 1.87333333e-02]\n",
      " [5.93333333e-03 7.64000000e-02 4.20883333e-01 1.28036667e+00\n",
      "  3.64608333e+00 9.55390000e+00 2.11332333e+01 3.98545167e+01\n",
      "  6.40892167e+01 8.72096667e+01 9.87805833e+01 9.48668500e+01\n",
      "  8.16835333e+01 7.33427667e+01 7.61450667e+01 8.54255500e+01\n",
      "  9.72928000e+01 1.07482583e+02 1.05509433e+02 8.90295000e+01\n",
      "  6.49443500e+01 4.24968833e+01 2.53411000e+01 1.25802167e+01\n",
      "  3.98988333e+00 6.04533333e-01 1.24500000e-01 8.16666667e-03]\n",
      " [3.80000000e-03 4.36833333e-02 2.42033333e-01 8.78816667e-01\n",
      "  3.06883333e+00 9.60745000e+00 2.27779833e+01 4.35750333e+01\n",
      "  6.89713333e+01 9.02567000e+01 9.78938167e+01 9.10827333e+01\n",
      "  7.97067500e+01 7.93691167e+01 8.93387000e+01 1.01714517e+02\n",
      "  1.13037867e+02 1.17581100e+02 1.07426717e+02 8.45188833e+01\n",
      "  5.85871667e+01 3.82634500e+01 2.37392333e+01 1.27121000e+01\n",
      "  4.29471667e+00 4.43250000e-01 7.97833333e-02 1.01666667e-02]\n",
      " [5.33333333e-04 1.82500000e-02 1.22616667e-01 6.07333333e-01\n",
      "  2.91783333e+00 1.06341667e+01 2.55538000e+01 4.75837167e+01\n",
      "  7.26322333e+01 9.16736500e+01 9.68884167e+01 9.10977333e+01\n",
      "  8.68673000e+01 9.69665500e+01 1.11371833e+02 1.23972067e+02\n",
      "  1.29806550e+02 1.26599550e+02 1.08880333e+02 8.11576333e+01\n",
      "  5.52258667e+01 3.72046000e+01 2.39728000e+01 1.36437500e+01\n",
      "  5.10268333e+00 5.84700000e-01 8.29833333e-02 1.08666667e-02]\n",
      " [1.88333333e-03 8.25000000e-03 5.41666667e-02 4.66183333e-01\n",
      "  3.06558333e+00 1.23512667e+01 2.85280667e+01 5.05083833e+01\n",
      "  7.37506167e+01 9.03691833e+01 9.50769833e+01 9.32885333e+01\n",
      "  9.78289500e+01 1.15421317e+02 1.30267250e+02 1.39553600e+02\n",
      "  1.37100633e+02 1.28085750e+02 1.06994517e+02 7.95539500e+01\n",
      "  5.60965667e+01 3.89430667e+01 2.55374667e+01 1.46162500e+01\n",
      "  5.72158333e+00 8.20300000e-01 9.24500000e-02 2.21666667e-03]\n",
      " [7.33333333e-04 3.86666667e-03 4.51000000e-02 5.05583333e-01\n",
      "  3.56056667e+00 1.44081500e+01 3.09883167e+01 5.12096333e+01\n",
      "  7.14404333e+01 8.57322167e+01 9.13810333e+01 9.42424333e+01\n",
      "  1.05047117e+02 1.23204200e+02 1.35689433e+02 1.39110050e+02\n",
      "  1.31804500e+02 1.21436567e+02 1.01340300e+02 7.83792667e+01\n",
      "  5.82829000e+01 4.12509333e+01 2.69801167e+01 1.48906000e+01\n",
      "  5.82828333e+00 1.07956667e+00 1.48216667e-01 1.08333333e-02]\n",
      " [6.66666667e-04 3.96666667e-03 7.43333333e-02 6.22966667e-01\n",
      "  4.46996667e+00 1.65289667e+01 3.25549167e+01 4.99447333e+01\n",
      "  6.63117167e+01 7.78862667e+01 8.37070500e+01 8.94484167e+01\n",
      "  1.01136017e+02 1.15857400e+02 1.26473417e+02 1.27426650e+02\n",
      "  1.21056817e+02 1.11218100e+02 9.53723333e+01 7.73547833e+01\n",
      "  5.96073333e+01 4.20403333e+01 2.67287667e+01 1.42431167e+01\n",
      "  5.61555000e+00 1.28710000e+00 1.91500000e-01 1.23000000e-02]\n",
      " [0.00000000e+00 7.28333333e-03 1.12200000e-01 9.53350000e-01\n",
      "  5.95223333e+00 1.85244000e+01 3.34512000e+01 4.81763500e+01\n",
      "  6.04605333e+01 6.92180333e+01 7.46814167e+01 8.07367000e+01\n",
      "  8.95865500e+01 1.01950417e+02 1.12616500e+02 1.15436917e+02\n",
      "  1.12244833e+02 1.04524150e+02 9.26265833e+01 7.72614833e+01\n",
      "  5.93285167e+01 4.08083000e+01 2.49427500e+01 1.28348000e+01\n",
      "  5.15665000e+00 1.41666667e+00 2.10033333e-01 8.88333333e-03]\n",
      " [1.90000000e-03 5.31666667e-03 1.80500000e-01 1.52015000e+00\n",
      "  7.62145000e+00 2.04178667e+01 3.49108333e+01 4.81825667e+01\n",
      "  5.82768500e+01 6.59944667e+01 7.17466333e+01 7.65832833e+01\n",
      "  8.31222000e+01 9.51299333e+01 1.06557200e+02 1.12201383e+02\n",
      "  1.11347933e+02 1.05018283e+02 9.36185833e+01 7.66274333e+01\n",
      "  5.67010833e+01 3.77625667e+01 2.25467167e+01 1.13823333e+01\n",
      "  4.57905000e+00 1.29855000e+00 1.53933333e-01 1.21833333e-02]\n",
      " [2.50000000e-04 1.21833333e-02 2.86316667e-01 2.04381667e+00\n",
      "  8.72351667e+00 2.17344667e+01 3.68331667e+01 5.09790667e+01\n",
      "  6.23501500e+01 7.12715167e+01 7.78803000e+01 8.26346667e+01\n",
      "  8.99674333e+01 1.01406317e+02 1.12445483e+02 1.17803450e+02\n",
      "  1.15924617e+02 1.07432500e+02 9.22773833e+01 7.18833000e+01\n",
      "  5.08002500e+01 3.26939667e+01 1.87729667e+01 9.15635000e+00\n",
      "  3.64005000e+00 1.06850000e+00 1.46700000e-01 6.83333333e-03]\n",
      " [0.00000000e+00 1.52666667e-02 3.32000000e-01 2.25566667e+00\n",
      "  8.51305000e+00 2.06940833e+01 3.70852167e+01 5.37940333e+01\n",
      "  6.88695000e+01 8.11596000e+01 9.04059167e+01 9.78863000e+01\n",
      "  1.06734567e+02 1.17339517e+02 1.24952417e+02 1.25555750e+02\n",
      "  1.18216250e+02 1.03805833e+02 8.38763833e+01 6.12356500e+01\n",
      "  4.09525000e+01 2.49440333e+01 1.36286167e+01 6.53750000e+00\n",
      "  2.71388333e+00 7.49166667e-01 1.11683333e-01 1.68333333e-03]\n",
      " [5.33333333e-04 1.27000000e-02 2.84233333e-01 1.83920000e+00\n",
      "  6.63258333e+00 1.69004833e+01 3.28094667e+01 5.15708833e+01\n",
      "  7.04237333e+01 8.72520000e+01 1.00985133e+02 1.12455750e+02\n",
      "  1.22594000e+02 1.30372300e+02 1.31844900e+02 1.24868033e+02\n",
      "  1.10025800e+02 8.94660000e+01 6.65912667e+01 4.55973833e+01\n",
      "  2.85566667e+01 1.62958167e+01 8.51148333e+00 4.10908333e+00\n",
      "  1.70298333e+00 4.43816667e-01 5.90500000e-02 6.50000000e-04]\n",
      " [5.16666667e-04 9.83333333e-04 1.87083333e-01 1.08796667e+00\n",
      "  3.94443333e+00 1.08453667e+01 2.33906333e+01 4.06385333e+01\n",
      "  6.09691833e+01 8.10054000e+01 9.91114333e+01 1.13100500e+02\n",
      "  1.22524317e+02 1.25302250e+02 1.20613567e+02 1.07185867e+02\n",
      "  8.77064167e+01 6.59730500e+01 4.53337167e+01 2.87308167e+01\n",
      "  1.69034500e+01 9.16145000e+00 4.70896667e+00 2.22501667e+00\n",
      "  8.35133333e-01 1.89116667e-01 1.78333333e-02 1.20000000e-03]\n",
      " [0.00000000e+00 0.00000000e+00 6.41666667e-02 4.18766667e-01\n",
      "  1.73270000e+00 5.01473333e+00 1.20309167e+01 2.39401333e+01\n",
      "  4.02565833e+01 5.88924833e+01 7.72688667e+01 9.20322000e+01\n",
      "  9.97043833e+01 9.91646667e+01 9.05921000e+01 7.55835000e+01\n",
      "  5.75861333e+01 4.01938000e+01 2.54972333e+01 1.52398333e+01\n",
      "  8.52368333e+00 4.41923333e+00 2.20506667e+00 9.81650000e-01\n",
      "  3.10366667e-01 5.79666667e-02 9.61666667e-03 0.00000000e+00]\n",
      " [0.00000000e+00 0.00000000e+00 1.58500000e-02 1.22200000e-01\n",
      "  5.43633333e-01 1.60085000e+00 4.20331667e+00 9.14358333e+00\n",
      "  1.68276167e+01 2.70768167e+01 3.81033833e+01 4.70437833e+01\n",
      "  5.16087500e+01 5.09622500e+01 4.54375833e+01 3.67445333e+01\n",
      "  2.74417833e+01 1.91085833e+01 1.21141500e+01 7.21490000e+00\n",
      "  3.95933333e+00 1.99318333e+00 9.51233333e-01 3.99633333e-01\n",
      "  1.01816667e-01 2.21833333e-02 1.93333333e-03 0.00000000e+00]\n",
      " [0.00000000e+00 0.00000000e+00 1.56666667e-03 1.77833333e-02\n",
      "  1.27783333e-01 4.74500000e-01 1.40550000e+00 3.18078333e+00\n",
      "  6.14340000e+00 9.82870000e+00 1.38693333e+01 1.67183333e+01\n",
      "  1.81000167e+01 1.77754000e+01 1.58076667e+01 1.31235500e+01\n",
      "  1.04980500e+01 7.79116667e+00 5.22193333e+00 3.16213333e+00\n",
      "  1.69133333e+00 8.25383333e-01 3.70583333e-01 1.39816667e-01\n",
      "  3.12666667e-02 3.56666667e-03 1.73333333e-03 0.00000000e+00]\n",
      " [0.00000000e+00 0.00000000e+00 0.00000000e+00 6.33333333e-04\n",
      "  3.54500000e-02 1.63083333e-01 5.38283333e-01 1.19935000e+00\n",
      "  2.31608333e+00 3.51143333e+00 4.85021667e+00 5.98023333e+00\n",
      "  6.44481667e+00 6.25923333e+00 5.57051667e+00 4.45076667e+00\n",
      "  3.53493333e+00 2.59181667e+00 1.70116667e+00 1.00860000e+00\n",
      "  5.40283333e-01 2.38400000e-01 7.52666667e-02 1.61666667e-02\n",
      "  5.16666667e-04 9.83333333e-04 0.00000000e+00 0.00000000e+00]\n",
      " [0.00000000e+00 0.00000000e+00 0.00000000e+00 0.00000000e+00\n",
      "  2.53333333e-03 1.55833333e-02 4.16333333e-02 8.92000000e-02\n",
      "  1.28216667e-01 1.96733333e-01 3.36016667e-01 4.29966667e-01\n",
      "  5.25983333e-01 5.90683333e-01 6.88033333e-01 5.92066667e-01\n",
      "  4.82733333e-01 3.43516667e-01 2.00433333e-01 8.88666667e-02\n",
      "  4.56333333e-02 1.92833333e-02 1.51166667e-02 2.00000000e-03\n",
      "  0.00000000e+00 0.00000000e+00 0.00000000e+00 0.00000000e+00]]\n"
     ]
    }
   ],
   "source": [
    "print(mean) # Mean = pixel value for that specific spot across all images"
   ]
  },
  {
   "cell_type": "code",
   "execution_count": 273,
   "metadata": {},
   "outputs": [
    {
     "name": "stdout",
     "output_type": "stream",
     "text": [
      "[[ 0.00000000e+00  0.00000000e+00  0.00000000e+00  0.00000000e+00\n",
      "   0.00000000e+00  0.00000000e+00  0.00000000e+00  0.00000000e+00\n",
      "   0.00000000e+00  0.00000000e+00  0.00000000e+00  0.00000000e+00\n",
      "  -4.41807799e-03 -5.75481961e-03 -4.08251693e-03 -4.08251693e-03\n",
      "   0.00000000e+00  0.00000000e+00  0.00000000e+00  0.00000000e+00\n",
      "   0.00000000e+00  0.00000000e+00  0.00000000e+00  0.00000000e+00\n",
      "   0.00000000e+00  0.00000000e+00  0.00000000e+00  0.00000000e+00]\n",
      " [ 0.00000000e+00  0.00000000e+00  0.00000000e+00  0.00000000e+00\n",
      "  -4.08251693e-03 -4.70968827e-03 -8.79934640e-03 -1.15905591e-02\n",
      "  -1.47589798e-02 -1.92848546e-02 -2.46717975e-02 -2.90710271e-02\n",
      "  -3.05926583e-02 -3.11640127e-02 -3.19628719e-02 -3.02025355e-02\n",
      "  -3.13102175e-02 -2.83833960e-02 -2.31191906e-02 -1.91666260e-02\n",
      "  -1.67723008e-02 -1.09963601e-02 -8.32486080e-03 -4.38069356e-03\n",
      "   0.00000000e+00  0.00000000e+00  0.00000000e+00  0.00000000e+00]\n",
      " [ 0.00000000e+00  0.00000000e+00 -4.08251693e-03 -5.39534598e-03\n",
      "  -8.52241235e-03 -1.19850363e-02 -1.76534777e-02 -2.77108989e-02\n",
      "  -3.70200943e-02 -5.21512802e-02 -6.70362007e-02 -8.30170484e-02\n",
      "  -9.93792978e-02 -1.15184128e-01 -1.29133256e-01 -1.38394677e-01\n",
      "  -1.38883631e-01 -1.31843438e-01 -1.20429522e-01 -1.01890795e-01\n",
      "  -7.86049044e-02 -5.69956130e-02 -3.96576839e-02 -2.37283861e-02\n",
      "  -1.40883463e-02 -7.83084068e-03  0.00000000e+00  0.00000000e+00]\n",
      " [ 0.00000000e+00  0.00000000e+00 -5.36837753e-03 -8.87060589e-03\n",
      "  -1.40708170e-02 -2.21468098e-02 -3.51801368e-02 -5.50236802e-02\n",
      "  -7.90961321e-02 -1.07649012e-01 -1.37169936e-01 -1.67105761e-01\n",
      "  -1.96008755e-01 -2.24491114e-01 -2.48655991e-01 -2.62117971e-01\n",
      "  -2.62596902e-01 -2.47855903e-01 -2.21947003e-01 -1.87211405e-01\n",
      "  -1.47640132e-01 -1.08164364e-01 -7.68121117e-02 -4.70752996e-02\n",
      "  -3.02019676e-02 -1.52412436e-02 -5.28371965e-03  0.00000000e+00]\n",
      " [ 0.00000000e+00 -4.08251693e-03 -7.76342302e-03 -1.48932548e-02\n",
      "  -2.39627505e-02 -5.03408980e-02 -7.87674703e-02 -1.16181540e-01\n",
      "  -1.61247562e-01 -2.11961635e-01 -2.66898731e-01 -3.25678010e-01\n",
      "  -3.90241548e-01 -4.52076376e-01 -4.99397984e-01 -5.23428324e-01\n",
      "  -5.17618894e-01 -4.80902419e-01 -4.23079694e-01 -3.56740395e-01\n",
      "  -2.83683648e-01 -2.16836661e-01 -1.58524380e-01 -1.08784581e-01\n",
      "  -7.09225309e-02 -3.89534819e-02 -1.42523852e-02 -5.77049806e-03]\n",
      " [ 0.00000000e+00  0.00000000e+00 -1.19017406e-02 -2.20501560e-02\n",
      "  -5.18380750e-02 -9.06597035e-02 -1.39667106e-01 -1.97082121e-01\n",
      "  -2.64384728e-01 -3.40730442e-01 -4.22535749e-01 -5.15408649e-01\n",
      "  -5.84660366e-01 -5.41363044e-01 -6.26156785e-01 -6.69145031e-01\n",
      "   3.43637162e-01  5.31056017e-01  1.10236573e+00 -2.65802578e-01\n",
      "   1.71565971e+00  3.77344822e+00  4.93900230e+00  3.45006811e+00\n",
      "  -1.31080130e-01 -7.48460374e-02 -3.19301291e-02 -8.20891834e-03]\n",
      " [ 0.00000000e+00 -5.57015293e-03 -1.56619271e-02 -3.63656606e-02\n",
      "  -7.90243079e-02 -1.33289086e-01 -1.99154411e-01 -2.75429691e-01\n",
      "   8.82421166e-02 -1.60018965e-02  4.42476487e-01  8.18775057e-01\n",
      "   7.49339511e-01  1.32200212e+00  1.19900231e+00  1.14748071e+00\n",
      "   1.16876765e+00  1.25693737e+00  1.17313576e+00  9.33441548e-01\n",
      "   2.13777179e+00  2.64653072e+00  2.81275280e+00  1.14339095e+00\n",
      "  -1.72939702e-01 -1.04104240e-01 -4.83176220e-02 -1.47080183e-02]\n",
      " [-4.08251693e-03 -1.32310093e-02 -2.62438209e-02 -5.91585908e-02\n",
      "  -1.13004853e-01 -1.78441525e-01 -2.58004810e-01  4.14936751e-01\n",
      "   2.55139991e+00  2.15784271e+00  1.76151117e+00  1.47855282e+00\n",
      "   1.28620376e+00  1.15934214e+00  1.08883060e+00  1.06792169e+00\n",
      "   1.08561216e+00  1.12333034e+00 -1.85138147e-01 -1.08110686e-01\n",
      "   1.20942182e-01  1.04310652e-01  1.53347815e-01 -2.87681279e-01\n",
      "  -1.97007025e-01 -1.21228940e-01 -5.68086109e-02 -1.53906680e-02]\n",
      " [-5.02549298e-03 -1.73205192e-02 -4.30805391e-02 -8.52488969e-02\n",
      "  -1.39458369e-01 -2.10883308e-01 -3.00017977e-01 -1.59588571e-01\n",
      "   1.95384078e+00  1.84773395e+00  1.51729633e+00  1.30892138e+00\n",
      "   1.20210616e+00  1.16376234e+00  6.74199715e-01  5.38435658e-01\n",
      "   1.12192712e+00  1.07058610e+00 -1.04378667e+00 -9.12978504e-01\n",
      "  -7.39191314e-01 -5.71005505e-01 -4.23671002e-01 -2.98196207e-01\n",
      "  -1.97686135e-01 -1.20683815e-01 -5.39356285e-02 -1.35055434e-02]\n",
      " [-5.90571261e-03 -2.11096679e-02 -5.29890369e-02 -9.30784924e-02\n",
      "  -1.50398734e-01 -2.26191023e-01 -3.23645340e-01 -4.42131217e-01\n",
      "   2.70213751e-01  7.45930827e-01  7.23832933e-02  1.27771203e+00\n",
      "   1.27734539e+00  9.12254680e-01 -8.07963349e-01 -9.13935971e-01\n",
      "  -5.60996653e-01  3.90063789e-01 -9.99486551e-01 -9.01508612e-01\n",
      "  -7.36681516e-01 -5.67589421e-01 -4.20171899e-01 -2.90174595e-01\n",
      "  -1.81482351e-01 -1.04939775e-01 -4.72131729e-02 -1.41308656e-02]\n",
      " [-5.77280519e-03 -2.26322771e-02 -5.28031747e-02 -9.22058067e-02\n",
      "  -1.47451700e-01 -2.27284588e-01 -3.32428316e-01 -4.62696158e-01\n",
      "  -6.19033521e-01 -6.52626518e-01 -8.99148251e-01  4.58886633e-01\n",
      "   1.47356894e+00  6.77134887e-02 -7.71412102e-01 -8.03560093e-01\n",
      "  -8.73939297e-01 -9.51575414e-01 -9.62131065e-01 -8.63473259e-01\n",
      "  -7.01324246e-01 -5.37396564e-01 -3.96771027e-01 -2.71222642e-01\n",
      "  -1.59324464e-01 -8.12584087e-02 -3.69508670e-02 -1.18733992e-02]\n",
      " [-7.05517396e-03 -2.07711768e-02 -4.72035624e-02 -8.20038362e-02\n",
      "  -1.37457285e-01 -2.25181955e-01 -3.38492381e-01 -4.82934997e-01\n",
      "  -6.48288219e-01 -8.09805311e-01 -8.96460461e-01  4.05564687e-01\n",
      "   1.64634567e+00  1.16516320e+00 -7.21489008e-01 -8.02210470e-01\n",
      "  -9.01262815e-01 -9.77722928e-01 -9.55547943e-01 -8.24902899e-01\n",
      "  -6.55987835e-01 -4.99364187e-01 -3.69573309e-01 -2.58464407e-01\n",
      "  -1.49695715e-01 -6.11113564e-02 -2.80115688e-02 -9.12509965e-03]\n",
      " [-5.30435130e-03 -1.62383999e-02 -3.63786148e-02 -6.85820105e-02\n",
      "  -1.27368499e-01 -2.26143360e-01 -3.52202906e-01 -5.07583513e-01\n",
      "  -6.79449640e-01 -8.28251048e-01 -8.88830036e-01 -7.40225109e-01\n",
      "   1.06068287e+00  1.68492907e+00 -1.77575688e-01 -9.17683490e-01\n",
      "  -1.02909594e+00 -1.05827900e+00 -9.65674043e-01 -7.94476763e-01\n",
      "  -6.16749363e-01 -4.70072884e-01 -3.55124414e-01 -2.55407545e-01\n",
      "  -1.53824513e-01 -5.24542821e-02 -2.15058651e-02 -9.92198161e-03]\n",
      " [-4.08251693e-03 -1.09343854e-02 -2.55447979e-02 -5.70730810e-02\n",
      "  -1.24662020e-01 -2.38498173e-01 -3.73258897e-01 -5.33136068e-01\n",
      "  -7.02094140e-01 -8.37450050e-01 -8.80074249e-01 -8.41014273e-01\n",
      "  -4.87694929e-01  1.32485786e+00  9.98375471e-01  3.22814268e-01\n",
      "  -1.98337189e-01 -1.11994100e+00 -9.76070413e-01 -7.75195395e-01\n",
      "  -5.94446605e-01 -4.60910238e-01 -3.55500546e-01 -2.63549180e-01\n",
      "  -1.64503687e-01 -5.95130325e-02 -2.33686679e-02 -7.40432376e-03]\n",
      " [-4.08251693e-03 -7.98834543e-03 -1.82964530e-02 -5.13394345e-02\n",
      "  -1.29346397e-01 -2.57521393e-01 -3.95011330e-01 -5.50421723e-01\n",
      "  -7.07323088e-01 -8.26049817e-01 -8.67853151e-01 -8.60743722e-01\n",
      "  -9.04035680e-01 -3.08572618e-01  9.64876914e-01  1.03583353e+00\n",
      "   1.05517267e+00 -8.08498334e-02 -7.38205686e-01 -7.63011316e-01\n",
      "  -5.97027040e-01 -4.72019989e-01 -3.68370412e-01 -2.73325316e-01\n",
      "  -1.73386634e-01 -6.89427199e-02 -2.46446573e-02 -6.98490193e-03]\n",
      " [-4.77028006e-03 -4.18942802e-03 -1.86482564e-02 -5.32721237e-02\n",
      "  -1.40420517e-01 -2.77180624e-01 -4.12209008e-01 -5.54003398e-01\n",
      "  -6.92005443e-01 -7.92583140e-01 -8.41940836e-01 -8.69766983e-01\n",
      "  -9.58664347e-01 -1.09410266e+00 -8.05303712e-01  4.28897581e-01\n",
      "   1.08836286e+00  1.16827871e+00  4.42989478e-01 -4.93267386e-01\n",
      "  -6.09787183e-01 -4.86753939e-01 -3.80896777e-01 -2.78298890e-01\n",
      "  -1.75491552e-01 -7.70261425e-02 -2.96263040e-02 -9.11024024e-03]\n",
      " [-4.08251693e-03 -6.70727737e-03 -2.16014323e-02 -6.07076923e-02\n",
      "  -1.57022412e-01 -2.97163168e-01 -4.22306798e-01 -5.45726707e-01\n",
      "  -6.59100289e-01 -7.41250552e-01 -7.88379565e-01 -8.33967293e-01\n",
      "  -9.19413398e-01 -1.02595562e+00 -1.12277551e+00 -1.00128625e+00\n",
      "  -2.50181723e-01  1.26567434e+00  1.45264065e+00  1.05397980e+00\n",
      "  -6.15621643e-01 -4.93079765e-01 -3.79874281e-01 -2.73517649e-01\n",
      "  -1.73539121e-01 -8.40501482e-02 -3.41624422e-02 -8.93964748e-03]\n",
      " [ 0.00000000e+00 -8.93208845e-03 -2.53977634e-02 -7.39001757e-02\n",
      "  -1.77860047e-01 -3.13383430e-01 -4.29013061e-01 -5.35088936e-01\n",
      "  -6.20781988e-01 -6.82689238e-01 -7.23470137e-01 -7.65558979e-01\n",
      "  -8.25070425e-01 -9.19390235e-01 -1.00626013e+00 -1.03281505e+00\n",
      "  -1.01067269e+00  1.31519954e+00  1.48115098e+00  1.64560188e+00\n",
      "   4.82880931e-02 -4.85156292e-01 -3.68041978e-01 -2.60781824e-01\n",
      "  -1.68333757e-01 -8.85426370e-02 -3.59362339e-02 -1.07108129e-02]\n",
      " [-5.90596678e-03 -6.35211414e-03 -3.33202141e-02 -9.13048630e-02\n",
      "  -1.99108031e-01 -3.27967412e-01 -4.38995427e-01 -5.34454088e-01\n",
      "  -6.05947897e-01 -6.59405094e-01 -6.97848366e-01 -7.30422894e-01\n",
      "  -7.81125667e-01 -8.71688552e-01 -5.44696352e-01  1.60415053e-01\n",
      "   6.50220851e-01  1.34279902e+00  1.46193998e+00  1.24594172e+00\n",
      "  -5.73926496e-01 -4.63429150e-01 -3.48771144e-01 -2.45884747e-01\n",
      "  -1.58200936e-01 -8.54379627e-02 -3.15579616e-02 -9.76041412e-03]\n",
      " [-4.08251693e-03 -1.12816627e-02 -3.97571016e-02 -1.03852335e-01\n",
      "  -2.11980971e-01 -3.37477889e-01 -4.51701933e-01 -5.52131610e-01\n",
      "  -6.31886475e-01 -6.93224391e-01 -7.38384900e-01 -7.70730767e-01\n",
      "  -4.69506063e-01  4.22382973e-01  1.04567034e+00  1.21745436e+00\n",
      "   1.23935680e+00  1.31032797e+00  1.44686109e+00  1.07419019e+00\n",
      "  -5.55385654e-01 -4.27074606e-01 -3.16810480e-01 -2.20685803e-01\n",
      "  -1.41057264e-01 -7.81710423e-02 -2.91825785e-02 -8.02578597e-03]\n",
      " [ 0.00000000e+00 -1.03421049e-02 -4.32736220e-02 -1.09167014e-01\n",
      "  -2.09032573e-01 -3.30224641e-01 -4.54875266e-01 -5.69196807e-01\n",
      "  -6.72943600e-01 -7.60601226e-01 -6.08747781e-01  1.45933875e-01\n",
      "   1.02756383e+00  1.21554325e+00  1.14867049e+00  1.14592402e+00\n",
      "   1.21167774e+00  8.79504318e-01 -5.51616072e-02 -6.26990956e-01\n",
      "  -4.88062775e-01 -3.68951144e-01 -2.69292226e-01 -1.87212623e-01\n",
      "  -1.21627434e-01 -6.64938197e-02 -2.60330031e-02 -5.77331594e-03]\n",
      " [-4.08251693e-03 -1.00095035e-02 -4.04987315e-02 -9.99847079e-02\n",
      "  -1.88201724e-01 -2.99631312e-01 -4.27248469e-01 -5.55251360e-01\n",
      "  -4.59112688e-01 -1.95242950e-01  1.00790158e+00  1.26095332e+00\n",
      "   1.17394853e+00  1.11115667e+00  1.09552493e+00  6.59061964e-01\n",
      "  -2.62412945e-01 -8.13628297e-01 -6.67125990e-01 -5.22694492e-01\n",
      "  -3.99065428e-01 -2.96700643e-01 -2.12626224e-01 -1.48693958e-01\n",
      "  -9.68957284e-02 -5.09310889e-02 -2.02144293e-02 -4.08251693e-03]\n",
      " [-4.08251693e-03 -6.00490574e-03 -3.37063471e-02 -7.89724505e-02\n",
      "  -1.47741377e-01 -2.43250250e-01 -8.30458387e-02  1.56042653e+00\n",
      "   1.61327333e+00  1.60667106e+00  1.37992544e+00  1.23963346e+00\n",
      "   1.16030302e+00  6.21560395e-01 -3.61925123e-01 -8.82206990e-01\n",
      "  -8.17668173e-01 -6.64655910e-01 -5.23595080e-01 -4.02142028e-01\n",
      "  -3.03069160e-01 -2.21680844e-01 -1.59365935e-01 -1.10060699e-01\n",
      "  -7.00397650e-02 -3.71356228e-02 -1.22014099e-02 -4.08251693e-03]\n",
      " [ 0.00000000e+00  0.00000000e+00 -2.27387266e-02 -5.19053972e-02\n",
      "   3.07386858e+00  5.60859323e+00  4.62960950e+00  3.53861155e+00\n",
      "   2.59001419e+00  2.02823973e+00  1.68064378e+00  1.39229082e+00\n",
      "   3.01200685e-01 -7.99993648e-01 -8.39748579e-01 -7.34655534e-01\n",
      "  -6.12575711e-01 -4.92071188e-01 -3.79928167e-01 -2.88817393e-01\n",
      "  -2.13440937e-01 -1.53667782e-01 -1.09126008e-01 -7.40987562e-02\n",
      "  -4.33171851e-02 -1.93437920e-02 -1.04024820e-02  0.00000000e+00]\n",
      " [ 0.00000000e+00  0.00000000e+00 -1.03527008e-02 -2.87501024e-02\n",
      "   1.43442321e+01  1.49676659e+01  9.09224842e+00  5.95866001e+00\n",
      "   3.52099754e+00  1.54840932e+00  1.15868445e+00 -3.51803603e-01\n",
      "  -5.66505989e-01 -5.62783656e-01 -5.27164696e-01 -4.68057397e-01\n",
      "  -3.95805045e-01 -3.24789446e-01 -2.55705032e-01 -1.94611712e-01\n",
      "  -1.44574205e-01 -1.01773543e-01 -7.14252227e-02 -4.77777569e-02\n",
      "  -2.57524359e-02 -1.13794237e-02 -4.75287492e-03  0.00000000e+00]\n",
      " [ 0.00000000e+00  0.00000000e+00 -6.66430111e-03 -1.09642132e-02\n",
      "  -2.76044516e-02 -5.15536012e-02 -8.67718458e-02 -1.28392033e-01\n",
      "  -1.75775898e-01 -2.23054438e-01 -2.66640286e-01 -2.94844315e-01\n",
      "  -3.07505433e-01 -3.05180122e-01 -2.89231779e-01 -2.63231291e-01\n",
      "  -2.33723589e-01 -2.01027824e-01 -1.63691052e-01 -1.27665996e-01\n",
      "  -9.39651393e-02 -6.56832591e-02 -4.59265310e-02 -2.87188097e-02\n",
      "  -1.56930365e-02 -5.67530616e-03 -4.08251693e-03  0.00000000e+00]\n",
      " [ 0.00000000e+00  0.00000000e+00  0.00000000e+00 -4.08251693e-03\n",
      "  -1.51213939e-02 -3.13695545e-02 -5.33302349e-02 -7.92282669e-02\n",
      "  -1.08376650e-01 -1.33979068e-01 -1.57513181e-01 -1.75105513e-01\n",
      "  -1.82626897e-01 -1.80535341e-01 -1.69876491e-01 -1.53157314e-01\n",
      "  -1.35433124e-01 -1.16480299e-01 -9.39512541e-02 -7.25768871e-02\n",
      "  -5.23643597e-02 -3.63829995e-02 -2.15030637e-02 -1.30192791e-02\n",
      "  -4.49421517e-03 -4.08251693e-03  0.00000000e+00  0.00000000e+00]\n",
      " [ 0.00000000e+00  0.00000000e+00  0.00000000e+00  0.00000000e+00\n",
      "  -5.79016363e-03 -9.05384592e-03 -1.60054430e-02 -2.21197601e-02\n",
      "  -2.68459958e-02 -3.18450632e-02 -4.37484087e-02 -4.72829474e-02\n",
      "  -5.31388046e-02 -5.66228194e-02 -6.03383556e-02 -5.62950014e-02\n",
      "  -5.13665378e-02 -4.26322798e-02 -3.31710271e-02 -2.24628830e-02\n",
      "  -1.60690870e-02 -1.14322028e-02 -9.00729450e-03 -5.77039393e-03\n",
      "   0.00000000e+00  0.00000000e+00  0.00000000e+00  0.00000000e+00]]\n",
      "1.2186348411151602\n",
      "0.05123535685270231\n"
     ]
    },
    {
     "data": {
      "image/png": "[encoded data removed]",
      "text/plain": [
       "<Figure size 640x480 with 1 Axes>"
      ]
     },
     "metadata": {},
     "output_type": "display_data"
    }
   ],
   "source": [
    "# Visualize:\n",
    "print(zero_mean_unit_variance_train_images[0])\n",
    "print(np.var(zero_mean_unit_variance_train_images[0])) # Should be close to 1\n",
    "plt.imshow(zero_mean_unit_variance_train_images[0], cmap='gray')\n",
    "plt.title(f\"Label: {train_labels[0]}\")\n",
    "print(np.mean(zero_mean_unit_variance_train_images[0])) # Should be close to 0\n"
   ]
  },
  {
   "cell_type": "code",
   "execution_count": 274,
   "metadata": {},
   "outputs": [],
   "source": [
    "# Pairwise similarities metrics:\n",
    "\n",
    "# 1. Euclidean distance(required, library)\n",
    "    # a. required(your own, use batches)\n",
    "\n",
    "# 2. Edit distance(required for text) OR cosine similarity(required for vectors)\n",
    "\n",
    "\n"
   ]
  },
  {
   "cell_type": "code",
   "execution_count": 275,
   "metadata": {},
   "outputs": [
    {
     "name": "stdout",
     "output_type": "stream",
     "text": [
      "2867.4593283950862\n",
      "<class 'numpy.float64'>\n",
      "5\n",
      "5\n",
      "\n",
      "\n",
      "5\n",
      "0\n",
      "4\n",
      "1\n",
      "9\n",
      "2\n",
      "1\n",
      "3\n",
      "1\n",
      "4\n",
      "3\n",
      "5\n"
     ]
    }
   ],
   "source": [
    "# 1. Euclidean distance (library)\n",
    "\n",
    "euclidean_distance = np.linalg.norm(train_images[0] - train_images[11])\n",
    "#check:\n",
    "    # zero_mean_unit_variance_train_images[0] - zero_mean_unit_variance_train_images[1])\n",
    "    # shift_scale_train_images[0] - shift_scale_train_images[1])\n",
    "\n",
    "print(euclidean_distance)\n",
    "print(type(euclidean_distance))\n",
    "\n",
    "print(train_labels[0]) # 5\n",
    "print(train_labels[11]) # 5\n",
    "\n",
    "print(\"\\n\")\n",
    "\n",
    "for i in range(12):\n",
    "    print(train_labels[i]) # 5, 0, 4, 1, 9, 2, 1, 3, 1, 4, ...\n",
    "# The distance between 5 and 0 is: 2387.111\n",
    "\n",
    "\n",
    "distances = []\n",
    "for i in range(len(shift_scale_train_images)):\n",
    "    distances.append(np.linalg.norm(shift_scale_train_images[0] - shift_scale_train_images[i]))\n",
    "\n",
    "### THROW INTO FUNCTION :library "
   ]
  },
  {
   "cell_type": "code",
   "execution_count": 276,
   "metadata": {},
   "outputs": [
    {
     "name": "stdout",
     "output_type": "stream",
     "text": [
      "8.391501715310692\n"
     ]
    }
   ],
   "source": [
    "# try with normalized:\n",
    "SS_euclidean_distance = np.linalg.norm(shift_scale_train_images[0] - shift_scale_train_images[10])\n",
    "print(SS_euclidean_distance)"
   ]
  },
  {
   "cell_type": "code",
   "execution_count": 277,
   "metadata": {},
   "outputs": [
    {
     "name": "stdout",
     "output_type": "stream",
     "text": [
      "41.07952550854942\n"
     ]
    }
   ],
   "source": [
    "ZM_euclidean_distance = np.linalg.norm(zero_mean_unit_variance_train_images[0] - zero_mean_unit_variance_train_images[11])\n",
    "print(ZM_euclidean_distance)"
   ]
  },
  {
   "cell_type": "code",
   "execution_count": 278,
   "metadata": {},
   "outputs": [],
   "source": [
    "# I will be using the shift and scale normalization for the rest of the tasks: \n",
    "\n",
    "distances = []\n",
    "for i in range(len(shift_scale_train_images)):\n",
    "    distances.append(np.linalg.norm(shift_scale_train_images[0] - shift_scale_train_images[i]))"
   ]
  },
  {
   "cell_type": "code",
   "execution_count": 279,
   "metadata": {},
   "outputs": [
    {
     "name": "stdout",
     "output_type": "stream",
     "text": [
      "[np.float64(0.0), np.float64(9.361222132577327), np.float64(10.875094558710726), np.float64(10.018901014936581), np.float64(10.480263577046502), np.float64(10.126636833057416), np.float64(9.50428139627975), np.float64(8.509666575199573), np.float64(9.3143710818562), np.float64(10.07571719003181)]\n"
     ]
    }
   ],
   "source": [
    "print(distances[:10]) # first 10 distances"
   ]
  },
  {
   "cell_type": "code",
   "execution_count": 280,
   "metadata": {},
   "outputs": [
    {
     "name": "stdout",
     "output_type": "stream",
     "text": [
      "Label: 5, Distance: 0.0\n",
      "Label: 5, Distance: 6.123421106197849\n",
      "Label: 5, Distance: 6.241574097341995\n",
      "Label: 5, Distance: 6.253800382437516\n",
      "Label: 3, Distance: 6.261605603114141\n",
      "Label: 5, Distance: 6.2919488047527965\n",
      "Label: 5, Distance: 6.293676607845121\n",
      "Label: 5, Distance: 6.29689878083294\n",
      "Label: 5, Distance: 6.31252698404212\n",
      "Label: 5, Distance: 6.3282538970573015\n",
      "Label: 5, Distance: 6.468091021389275\n",
      "Label: 5, Distance: 6.486331412605749\n",
      "Label: 5, Distance: 6.49174911813767\n",
      "Label: 5, Distance: 6.530390317063363\n",
      "Label: 5, Distance: 6.547765525107026\n",
      "Label: 5, Distance: 6.59808320936299\n",
      "Label: 5, Distance: 6.603753898481597\n",
      "Label: 3, Distance: 6.6060135943987435\n",
      "Label: 3, Distance: 6.626704912177665\n",
      "Label: 5, Distance: 6.634280041175857\n",
      "5\n"
     ]
    }
   ],
   "source": [
    "# zip together labels and distances\n",
    "predictions = list(zip(train_labels, distances))\n",
    "\n",
    "# create a function to get the top k predictions\n",
    "def get_top_k_predictions(k, predictions):\n",
    "    return sorted(predictions, key=lambda x: x[1])[:k]\n",
    "\n",
    "def print_pred(predictions):\n",
    "    for label, distance in predictions:\n",
    "        print(f\"Label: {label}, Distance: {distance}\")\n",
    "\n",
    "print_pred(get_top_k_predictions(20, predictions)) # top 5 predictions\n",
    "\n",
    "# Create a final prediction that is the most common label among the top k predictions\n",
    "def final_prediction(k, predictions):\n",
    "    top_k = get_top_k_predictions(k, predictions)\n",
    "    labels = [label for label, distance in top_k]\n",
    "    return max(set(labels), key=labels.count)\n",
    "\n",
    "print(final_prediction(20, predictions)) # final prediction for k=5\n",
    "\n",
    "## PLACE INTO KNN CLASS "
   ]
  },
  {
   "cell_type": "code",
   "execution_count": 281,
   "metadata": {},
   "outputs": [
    {
     "name": "stdout",
     "output_type": "stream",
     "text": [
      "Label: 7, Distance: 3.2905816689618343\n",
      "Label: 7, Distance: 3.528688379026739\n",
      "Label: 7, Distance: 3.531803111442239\n",
      "Label: 7, Distance: 3.684206762579271\n",
      "Label: 7, Distance: 3.829224516771798\n",
      "Label: 7, Distance: 3.8320548492357127\n",
      "Label: 7, Distance: 3.9267808498994765\n",
      "Label: 7, Distance: 3.9353893713375947\n",
      "Label: 7, Distance: 3.9355320033222188\n",
      "Label: 7, Distance: 3.9360204298629275\n",
      "Label: 7, Distance: 3.9576380437129686\n",
      "Label: 7, Distance: 3.9939669997675997\n",
      "Label: 7, Distance: 4.004530306512681\n",
      "Label: 7, Distance: 4.048069489247086\n",
      "Label: 7, Distance: 4.082535642254781\n",
      "Label: 7, Distance: 4.130312919565933\n",
      "Label: 7, Distance: 4.136717742287247\n",
      "Label: 7, Distance: 4.146311062237927\n",
      "Label: 7, Distance: 4.16655178619023\n",
      "Label: 7, Distance: 4.212783314222933\n",
      "Predicted:  7\n",
      "Actual:  7\n"
     ]
    }
   ],
   "source": [
    "# Now lets test it on random images from the test set\n",
    "\n",
    "# Get a random image from the test set\n",
    "random_index = np.random.randint(0, len(test_images))\n",
    "random_image = test_images[random_index]\n",
    "\n",
    "# Normalize the random image\n",
    "normalized_random_image = random_image / 255.0\n",
    "\n",
    "# Calculate distances from the random image to all training images\n",
    "test_distances = []\n",
    "for i in range(len(shift_scale_train_images)):\n",
    "    test_distances.append(np.linalg.norm(normalized_random_image - shift_scale_train_images[i]))\n",
    "\n",
    "print_pred(get_top_k_predictions(20, list(zip(train_labels, test_distances))))\n",
    "# Final prediction for the random image\n",
    "print(\"Predicted: \", final_prediction(20, list(zip(train_labels, test_distances))))\n",
    "print(\"Actual: \", test_labels[random_index]) # actual label of the random image\n",
    "\n",
    "# RANDOMLY GUESS, INDICATE ACCURACY\n"
   ]
  },
  {
   "cell_type": "code",
   "execution_count": 282,
   "metadata": {},
   "outputs": [],
   "source": [
    "#implement a knn classifier for the MNIST dataset\n",
    "class KNNClassifier:\n",
    "    def __init__(self, k):\n",
    "        self.k = k\n",
    "        self.train_images = None\n",
    "        self.train_labels = None\n",
    "\n",
    "    def fit(self, train_images, train_labels, norm):\n",
    "        self.train_labels = train_labels\n",
    "        if norm == \"Shift and Scale\":\n",
    "            self.train_images = train_images / 255.0\n",
    "            self.train_images = np.nan_to_num(self.train_images)\n",
    "        elif norm == \"Zero Mean Unit Variance\":\n",
    "            # self.train_images = (train_images - np.mean(train_images, axis=0)) / np.std(train_images, axis=0)\n",
    "            # self.train_images = np.nan_to_num(self.train_images)\n",
    "            self.train_images = zero_mean_unit_variance_train_images\n",
    "        else:\n",
    "            self.train_images = train_images\n",
    "    \n",
    "    def euclidean_distance_library(self, test_image, train_image):\n",
    "        return np.linalg.norm(test_image - train_image)\n",
    "\n",
    "    def euclidean_distance_own(self, test_image, train_image):\n",
    "        return np.sqrt(np.sum((test_image - train_image) ** 2))\n",
    "\n",
    "    def predict(self, test_image):\n",
    "        \n",
    "        # get the distances (entire training set for each test image)\n",
    "        distances = [self.euclidean_distance_library(test_image, train_image) for train_image in self.train_images] # FASTER\n",
    "        # distances = [self.euclidean_distance_own(test_image, train_image) for train_image in self.train_images] \n",
    "\n",
    "        # get the k smallest differencees and their indices\n",
    "        top_k_indices = np.argsort(distances)[:self.k]\n",
    "        top_k_labels = self.train_labels[top_k_indices]\n",
    "        most_common = np.bincount(top_k_labels).argmax()\n",
    "\n",
    "        return most_common\n",
    "\n",
    "    \n"
   ]
  },
  {
   "cell_type": "markdown",
   "metadata": {},
   "source": [
    "# SHIFT AND SCALE"
   ]
  },
  {
   "cell_type": "code",
   "execution_count": 283,
   "metadata": {},
   "outputs": [
    {
     "name": "stderr",
     "output_type": "stream",
     "text": [
      "100%|██████████| 10000/10000 [29:08<00:00,  5.72it/s]\n"
     ]
    }
   ],
   "source": [
    "# Test the KNN classifier\n",
    "    # Normalization: Shift and Scale\n",
    "    # k = 12\n",
    "    # Euclidean distance: own implementation (CHANGE IN KNN CLASS)\n",
    "\n",
    "knn = KNNClassifier(k = 12)\n",
    "knn.fit(train_images, train_labels, norm=\"Shift and Scale\")\n",
    "\n",
    "# lets shrink the test size\n",
    "# test_images_reduced = test_images[:100]\n",
    "\n",
    "# remember to normalize test set as well\n",
    "# test_images_reduced = test_images_reduced / 255.0\n",
    "\n",
    "test_images = test_images / 255.0\n",
    "# test_labels_reduced = test_labels[:100]\n",
    "# print(test_images[0])\n",
    "correct = 0\n",
    "accuracy = 0.0\n",
    "accuracies = []\n",
    "\n",
    "for i in tqdm(range(len(test_images))):\n",
    "    prediction = knn.predict(test_images[i])\n",
    "    # print(f\"Predicted: {prediction}, Actual: {test_labels[i]}\")\n",
    "    # prediction = knn.predict_library(test_images[i])\n",
    "    # acc = accuracy_score(test_labels[i], prediction)\n",
    "    # accuracies.append(accuracy)\\\\\n",
    "    # print(f\"Predicted: {prediction}, Actual: {test_labels[i]}, Accuracy: {acc}\")\n",
    "\n",
    "    if prediction == test_labels[i]:\n",
    "        correct += 1\n",
    "    accuracy = correct / (float(i) + 1)\n",
    "\n",
    "\n"
   ]
  },
  {
   "cell_type": "code",
   "execution_count": 284,
   "metadata": {},
   "outputs": [
    {
     "name": "stdout",
     "output_type": "stream",
     "text": [
      "Accuracy: 96.61%\n",
      "Correct: 9661/10000\n",
      "Incorrect: 339/10000\n"
     ]
    }
   ],
   "source": [
    "#Shift and Scale\n",
    "print(f\"Accuracy: {accuracy * 100:.2f}%\")\n",
    "print(f\"Correct: {correct}/{len(test_images)}\")\n",
    "print(f\"Incorrect: {len(test_images) - correct}/{len(test_images)}\")"
   ]
  },
  {
   "cell_type": "markdown",
   "metadata": {},
   "source": [
    "# ZERO MEAN UNIT VARIANCE"
   ]
  },
  {
   "cell_type": "code",
   "execution_count": 294,
   "metadata": {},
   "outputs": [
    {
     "name": "stderr",
     "output_type": "stream",
     "text": [
      "C:\\Users\\koola\\AppData\\Local\\Temp\\ipykernel_37204\\4229096346.py:12: RuntimeWarning: divide by zero encountered in divide\n",
      "  zero_mean_unit_variance_test_images = (test_images - np.mean(train_images, axis=0)) / np.std(train_images, axis=0)\n",
      "C:\\Users\\koola\\AppData\\Local\\Temp\\ipykernel_37204\\4229096346.py:12: RuntimeWarning: invalid value encountered in divide\n",
      "  zero_mean_unit_variance_test_images = (test_images - np.mean(train_images, axis=0)) / np.std(train_images, axis=0)\n",
      "  1%|          | 1/150 [00:00<00:31,  4.72it/s]"
     ]
    },
    {
     "name": "stdout",
     "output_type": "stream",
     "text": [
      "Predicted: 7, Actual: 7\n",
      "Predicted: 2, Actual: 2\n"
     ]
    },
    {
     "name": "stderr",
     "output_type": "stream",
     "text": [
      "  2%|▏         | 3/150 [00:00<00:31,  4.61it/s]"
     ]
    },
    {
     "name": "stdout",
     "output_type": "stream",
     "text": [
      "Predicted: 1, Actual: 1\n",
      "Predicted: 0, Actual: 0\n"
     ]
    },
    {
     "name": "stderr",
     "output_type": "stream",
     "text": [
      "  3%|▎         | 5/150 [00:01<00:30,  4.78it/s]"
     ]
    },
    {
     "name": "stdout",
     "output_type": "stream",
     "text": [
      "Predicted: 4, Actual: 4\n",
      "Predicted: 1, Actual: 1\n"
     ]
    },
    {
     "name": "stderr",
     "output_type": "stream",
     "text": [
      "  5%|▌         | 8/150 [00:01<00:26,  5.30it/s]"
     ]
    },
    {
     "name": "stdout",
     "output_type": "stream",
     "text": [
      "Predicted: 4, Actual: 4\n",
      "Predicted: 9, Actual: 9\n"
     ]
    },
    {
     "name": "stderr",
     "output_type": "stream",
     "text": [
      "  6%|▌         | 9/150 [00:01<00:26,  5.38it/s]"
     ]
    },
    {
     "name": "stdout",
     "output_type": "stream",
     "text": [
      "Predicted: 4, Actual: 5\n",
      "Predicted: 9, Actual: 9\n"
     ]
    },
    {
     "name": "stderr",
     "output_type": "stream",
     "text": [
      "  8%|▊         | 12/150 [00:02<00:24,  5.52it/s]"
     ]
    },
    {
     "name": "stdout",
     "output_type": "stream",
     "text": [
      "Predicted: 0, Actual: 0\n",
      "Predicted: 6, Actual: 6\n"
     ]
    },
    {
     "name": "stderr",
     "output_type": "stream",
     "text": [
      "  9%|▉         | 14/150 [00:02<00:24,  5.53it/s]"
     ]
    },
    {
     "name": "stdout",
     "output_type": "stream",
     "text": [
      "Predicted: 9, Actual: 9\n",
      "Predicted: 0, Actual: 0\n"
     ]
    },
    {
     "name": "stderr",
     "output_type": "stream",
     "text": [
      " 11%|█         | 16/150 [00:03<00:24,  5.57it/s]"
     ]
    },
    {
     "name": "stdout",
     "output_type": "stream",
     "text": [
      "Predicted: 1, Actual: 1\n",
      "Predicted: 5, Actual: 5\n"
     ]
    },
    {
     "name": "stderr",
     "output_type": "stream",
     "text": [
      " 12%|█▏        | 18/150 [00:03<00:23,  5.61it/s]"
     ]
    },
    {
     "name": "stdout",
     "output_type": "stream",
     "text": [
      "Predicted: 9, Actual: 9\n",
      "Predicted: 7, Actual: 7\n"
     ]
    },
    {
     "name": "stderr",
     "output_type": "stream",
     "text": [
      " 13%|█▎        | 19/150 [00:03<00:23,  5.61it/s]"
     ]
    },
    {
     "name": "stdout",
     "output_type": "stream",
     "text": [
      "Predicted: 5, Actual: 3\n",
      "Predicted: 4, Actual: 4\n"
     ]
    },
    {
     "name": "stderr",
     "output_type": "stream",
     "text": [
      " 15%|█▍        | 22/150 [00:04<00:22,  5.58it/s]"
     ]
    },
    {
     "name": "stdout",
     "output_type": "stream",
     "text": [
      "Predicted: 9, Actual: 9\n",
      "Predicted: 6, Actual: 6\n"
     ]
    },
    {
     "name": "stderr",
     "output_type": "stream",
     "text": [
      " 15%|█▌        | 23/150 [00:04<00:22,  5.53it/s]"
     ]
    },
    {
     "name": "stdout",
     "output_type": "stream",
     "text": [
      "Predicted: 6, Actual: 6\n",
      "Predicted: 5, Actual: 5\n"
     ]
    },
    {
     "name": "stderr",
     "output_type": "stream",
     "text": [
      " 17%|█▋        | 25/150 [00:04<00:24,  5.14it/s]"
     ]
    },
    {
     "name": "stdout",
     "output_type": "stream",
     "text": [
      "Predicted: 4, Actual: 4\n"
     ]
    },
    {
     "name": "stderr",
     "output_type": "stream",
     "text": [
      " 17%|█▋        | 26/150 [00:04<00:25,  4.92it/s]"
     ]
    },
    {
     "name": "stdout",
     "output_type": "stream",
     "text": [
      "Predicted: 0, Actual: 0\n"
     ]
    },
    {
     "name": "stderr",
     "output_type": "stream",
     "text": [
      " 18%|█▊        | 27/150 [00:05<00:25,  4.86it/s]"
     ]
    },
    {
     "name": "stdout",
     "output_type": "stream",
     "text": [
      "Predicted: 7, Actual: 7\n",
      "Predicted: 4, Actual: 4\n"
     ]
    },
    {
     "name": "stderr",
     "output_type": "stream",
     "text": [
      " 19%|█▉        | 29/150 [00:05<00:25,  4.81it/s]"
     ]
    },
    {
     "name": "stdout",
     "output_type": "stream",
     "text": [
      "Predicted: 0, Actual: 0\n",
      "Predicted: 1, Actual: 1\n"
     ]
    },
    {
     "name": "stderr",
     "output_type": "stream",
     "text": [
      " 21%|██▏       | 32/150 [00:06<00:22,  5.19it/s]"
     ]
    },
    {
     "name": "stdout",
     "output_type": "stream",
     "text": [
      "Predicted: 3, Actual: 3\n",
      "Predicted: 1, Actual: 1\n"
     ]
    },
    {
     "name": "stderr",
     "output_type": "stream",
     "text": [
      " 22%|██▏       | 33/150 [00:06<00:22,  5.15it/s]"
     ]
    },
    {
     "name": "stdout",
     "output_type": "stream",
     "text": [
      "Predicted: 3, Actual: 3\n",
      "Predicted: 0, Actual: 4\n"
     ]
    },
    {
     "name": "stderr",
     "output_type": "stream",
     "text": [
      " 24%|██▍       | 36/150 [00:06<00:21,  5.28it/s]"
     ]
    },
    {
     "name": "stdout",
     "output_type": "stream",
     "text": [
      "Predicted: 7, Actual: 7\n",
      "Predicted: 2, Actual: 2\n"
     ]
    },
    {
     "name": "stderr",
     "output_type": "stream",
     "text": [
      " 25%|██▍       | 37/150 [00:07<00:21,  5.34it/s]"
     ]
    },
    {
     "name": "stdout",
     "output_type": "stream",
     "text": [
      "Predicted: 7, Actual: 7\n",
      "Predicted: 1, Actual: 1\n"
     ]
    },
    {
     "name": "stderr",
     "output_type": "stream",
     "text": [
      " 27%|██▋       | 40/150 [00:07<00:20,  5.37it/s]"
     ]
    },
    {
     "name": "stdout",
     "output_type": "stream",
     "text": [
      "Predicted: 3, Actual: 2\n",
      "Predicted: 1, Actual: 1\n"
     ]
    },
    {
     "name": "stderr",
     "output_type": "stream",
     "text": [
      " 28%|██▊       | 42/150 [00:07<00:19,  5.48it/s]"
     ]
    },
    {
     "name": "stdout",
     "output_type": "stream",
     "text": [
      "Predicted: 1, Actual: 1\n",
      "Predicted: 7, Actual: 7\n"
     ]
    },
    {
     "name": "stderr",
     "output_type": "stream",
     "text": [
      " 29%|██▉       | 44/150 [00:08<00:18,  5.59it/s]"
     ]
    },
    {
     "name": "stdout",
     "output_type": "stream",
     "text": [
      "Predicted: 4, Actual: 4\n",
      "Predicted: 1, Actual: 2\n"
     ]
    },
    {
     "name": "stderr",
     "output_type": "stream",
     "text": [
      " 30%|███       | 45/150 [00:08<00:18,  5.57it/s]"
     ]
    },
    {
     "name": "stdout",
     "output_type": "stream",
     "text": [
      "Predicted: 3, Actual: 3\n"
     ]
    },
    {
     "name": "stderr",
     "output_type": "stream",
     "text": [
      " 31%|███▏      | 47/150 [00:08<00:19,  5.16it/s]"
     ]
    },
    {
     "name": "stdout",
     "output_type": "stream",
     "text": [
      "Predicted: 5, Actual: 5\n",
      "Predicted: 1, Actual: 1\n"
     ]
    },
    {
     "name": "stderr",
     "output_type": "stream",
     "text": [
      " 32%|███▏      | 48/150 [00:09<00:19,  5.32it/s]"
     ]
    },
    {
     "name": "stdout",
     "output_type": "stream",
     "text": [
      "Predicted: 2, Actual: 2\n",
      "Predicted: 4, Actual: 4\n"
     ]
    },
    {
     "name": "stderr",
     "output_type": "stream",
     "text": [
      " 34%|███▍      | 51/150 [00:09<00:18,  5.48it/s]"
     ]
    },
    {
     "name": "stdout",
     "output_type": "stream",
     "text": [
      "Predicted: 4, Actual: 4\n",
      "Predicted: 6, Actual: 6\n"
     ]
    },
    {
     "name": "stderr",
     "output_type": "stream",
     "text": [
      " 35%|███▌      | 53/150 [00:10<00:17,  5.58it/s]"
     ]
    },
    {
     "name": "stdout",
     "output_type": "stream",
     "text": [
      "Predicted: 3, Actual: 3\n",
      "Predicted: 5, Actual: 5\n"
     ]
    },
    {
     "name": "stderr",
     "output_type": "stream",
     "text": [
      " 37%|███▋      | 55/150 [00:10<00:16,  5.61it/s]"
     ]
    },
    {
     "name": "stdout",
     "output_type": "stream",
     "text": [
      "Predicted: 5, Actual: 5\n",
      "Predicted: 6, Actual: 6\n"
     ]
    },
    {
     "name": "stderr",
     "output_type": "stream",
     "text": [
      " 38%|███▊      | 57/150 [00:10<00:16,  5.62it/s]"
     ]
    },
    {
     "name": "stdout",
     "output_type": "stream",
     "text": [
      "Predicted: 0, Actual: 0\n",
      "Predicted: 4, Actual: 4\n"
     ]
    },
    {
     "name": "stderr",
     "output_type": "stream",
     "text": [
      " 39%|███▉      | 59/150 [00:11<00:16,  5.66it/s]"
     ]
    },
    {
     "name": "stdout",
     "output_type": "stream",
     "text": [
      "Predicted: 1, Actual: 1\n",
      "Predicted: 9, Actual: 9\n"
     ]
    },
    {
     "name": "stderr",
     "output_type": "stream",
     "text": [
      " 41%|████      | 61/150 [00:11<00:15,  5.61it/s]"
     ]
    },
    {
     "name": "stdout",
     "output_type": "stream",
     "text": [
      "Predicted: 1, Actual: 5\n",
      "Predicted: 7, Actual: 7\n"
     ]
    },
    {
     "name": "stderr",
     "output_type": "stream",
     "text": [
      " 42%|████▏     | 63/150 [00:11<00:15,  5.61it/s]"
     ]
    },
    {
     "name": "stdout",
     "output_type": "stream",
     "text": [
      "Predicted: 2, Actual: 8\n",
      "Predicted: 9, Actual: 9\n"
     ]
    },
    {
     "name": "stderr",
     "output_type": "stream",
     "text": [
      " 43%|████▎     | 65/150 [00:12<00:14,  5.67it/s]"
     ]
    },
    {
     "name": "stdout",
     "output_type": "stream",
     "text": [
      "Predicted: 3, Actual: 3\n",
      "Predicted: 7, Actual: 7\n"
     ]
    },
    {
     "name": "stderr",
     "output_type": "stream",
     "text": [
      " 45%|████▍     | 67/150 [00:12<00:14,  5.66it/s]"
     ]
    },
    {
     "name": "stdout",
     "output_type": "stream",
     "text": [
      "Predicted: 4, Actual: 4\n",
      "Predicted: 6, Actual: 6\n"
     ]
    },
    {
     "name": "stderr",
     "output_type": "stream",
     "text": [
      " 46%|████▌     | 69/150 [00:12<00:14,  5.65it/s]"
     ]
    },
    {
     "name": "stdout",
     "output_type": "stream",
     "text": [
      "Predicted: 4, Actual: 4\n",
      "Predicted: 3, Actual: 3\n"
     ]
    },
    {
     "name": "stderr",
     "output_type": "stream",
     "text": [
      " 47%|████▋     | 71/150 [00:13<00:13,  5.66it/s]"
     ]
    },
    {
     "name": "stdout",
     "output_type": "stream",
     "text": [
      "Predicted: 0, Actual: 0\n",
      "Predicted: 7, Actual: 7\n"
     ]
    },
    {
     "name": "stderr",
     "output_type": "stream",
     "text": [
      " 49%|████▊     | 73/150 [00:13<00:13,  5.64it/s]"
     ]
    },
    {
     "name": "stdout",
     "output_type": "stream",
     "text": [
      "Predicted: 0, Actual: 0\n",
      "Predicted: 2, Actual: 2\n"
     ]
    },
    {
     "name": "stderr",
     "output_type": "stream",
     "text": [
      " 50%|█████     | 75/150 [00:13<00:13,  5.65it/s]"
     ]
    },
    {
     "name": "stdout",
     "output_type": "stream",
     "text": [
      "Predicted: 7, Actual: 9\n",
      "Predicted: 1, Actual: 1\n"
     ]
    },
    {
     "name": "stderr",
     "output_type": "stream",
     "text": [
      " 51%|█████▏    | 77/150 [00:14<00:13,  5.59it/s]"
     ]
    },
    {
     "name": "stdout",
     "output_type": "stream",
     "text": [
      "Predicted: 7, Actual: 7\n",
      "Predicted: 3, Actual: 3\n"
     ]
    },
    {
     "name": "stderr",
     "output_type": "stream",
     "text": [
      " 52%|█████▏    | 78/150 [00:14<00:12,  5.63it/s]"
     ]
    },
    {
     "name": "stdout",
     "output_type": "stream",
     "text": [
      "Predicted: 2, Actual: 2\n",
      "Predicted: 9, Actual: 9\n"
     ]
    },
    {
     "name": "stderr",
     "output_type": "stream",
     "text": [
      " 53%|█████▎    | 80/150 [00:14<00:12,  5.59it/s]"
     ]
    },
    {
     "name": "stdout",
     "output_type": "stream",
     "text": [
      "Predicted: 7, Actual: 7\n",
      "Predicted: 9, Actual: 7\n"
     ]
    },
    {
     "name": "stderr",
     "output_type": "stream",
     "text": [
      " 55%|█████▌    | 83/150 [00:15<00:12,  5.56it/s]"
     ]
    },
    {
     "name": "stdout",
     "output_type": "stream",
     "text": [
      "Predicted: 6, Actual: 6\n",
      "Predicted: 2, Actual: 2\n"
     ]
    },
    {
     "name": "stderr",
     "output_type": "stream",
     "text": [
      " 56%|█████▌    | 84/150 [00:15<00:12,  5.49it/s]"
     ]
    },
    {
     "name": "stdout",
     "output_type": "stream",
     "text": [
      "Predicted: 7, Actual: 7\n",
      "Predicted: 8, Actual: 8\n"
     ]
    },
    {
     "name": "stderr",
     "output_type": "stream",
     "text": [
      " 57%|█████▋    | 86/150 [00:15<00:11,  5.46it/s]"
     ]
    },
    {
     "name": "stdout",
     "output_type": "stream",
     "text": [
      "Predicted: 4, Actual: 4\n",
      "Predicted: 7, Actual: 7\n"
     ]
    },
    {
     "name": "stderr",
     "output_type": "stream",
     "text": [
      " 59%|█████▊    | 88/150 [00:16<00:11,  5.43it/s]"
     ]
    },
    {
     "name": "stdout",
     "output_type": "stream",
     "text": [
      "Predicted: 3, Actual: 3\n",
      "Predicted: 6, Actual: 6\n"
     ]
    },
    {
     "name": "stderr",
     "output_type": "stream",
     "text": [
      " 61%|██████    | 91/150 [00:16<00:11,  5.27it/s]"
     ]
    },
    {
     "name": "stdout",
     "output_type": "stream",
     "text": [
      "Predicted: 1, Actual: 1\n",
      "Predicted: 3, Actual: 3\n"
     ]
    },
    {
     "name": "stderr",
     "output_type": "stream",
     "text": [
      " 61%|██████▏   | 92/150 [00:17<00:10,  5.31it/s]"
     ]
    },
    {
     "name": "stdout",
     "output_type": "stream",
     "text": [
      "Predicted: 6, Actual: 6\n",
      "Predicted: 9, Actual: 9\n"
     ]
    },
    {
     "name": "stderr",
     "output_type": "stream",
     "text": [
      " 63%|██████▎   | 94/150 [00:17<00:10,  5.40it/s]"
     ]
    },
    {
     "name": "stdout",
     "output_type": "stream",
     "text": [
      "Predicted: 3, Actual: 3\n",
      "Predicted: 1, Actual: 1\n"
     ]
    },
    {
     "name": "stderr",
     "output_type": "stream",
     "text": [
      " 64%|██████▍   | 96/150 [00:17<00:10,  5.21it/s]"
     ]
    },
    {
     "name": "stdout",
     "output_type": "stream",
     "text": [
      "Predicted: 4, Actual: 4\n"
     ]
    },
    {
     "name": "stderr",
     "output_type": "stream",
     "text": [
      " 65%|██████▍   | 97/150 [00:18<00:12,  4.12it/s]"
     ]
    },
    {
     "name": "stdout",
     "output_type": "stream",
     "text": [
      "Predicted: 1, Actual: 1\n",
      "Predicted: 2, Actual: 7\n"
     ]
    },
    {
     "name": "stderr",
     "output_type": "stream",
     "text": [
      " 67%|██████▋   | 100/150 [00:18<00:10,  4.92it/s]"
     ]
    },
    {
     "name": "stdout",
     "output_type": "stream",
     "text": [
      "Predicted: 6, Actual: 6\n",
      "Predicted: 9, Actual: 9\n"
     ]
    },
    {
     "name": "stderr",
     "output_type": "stream",
     "text": [
      " 67%|██████▋   | 101/150 [00:18<00:09,  5.10it/s]"
     ]
    },
    {
     "name": "stdout",
     "output_type": "stream",
     "text": [
      "Predicted: 6, Actual: 6\n",
      "Predicted: 0, Actual: 0\n"
     ]
    },
    {
     "name": "stderr",
     "output_type": "stream",
     "text": [
      " 69%|██████▊   | 103/150 [00:19<00:09,  5.11it/s]"
     ]
    },
    {
     "name": "stdout",
     "output_type": "stream",
     "text": [
      "Predicted: 5, Actual: 5\n",
      "Predicted: 4, Actual: 4\n"
     ]
    },
    {
     "name": "stderr",
     "output_type": "stream",
     "text": [
      " 71%|███████   | 106/150 [00:19<00:08,  5.16it/s]"
     ]
    },
    {
     "name": "stdout",
     "output_type": "stream",
     "text": [
      "Predicted: 9, Actual: 9\n",
      "Predicted: 9, Actual: 9\n"
     ]
    },
    {
     "name": "stderr",
     "output_type": "stream",
     "text": [
      " 71%|███████▏  | 107/150 [00:20<00:08,  5.06it/s]"
     ]
    },
    {
     "name": "stdout",
     "output_type": "stream",
     "text": [
      "Predicted: 2, Actual: 2\n"
     ]
    },
    {
     "name": "stderr",
     "output_type": "stream",
     "text": [
      " 72%|███████▏  | 108/150 [00:20<00:08,  4.87it/s]"
     ]
    },
    {
     "name": "stdout",
     "output_type": "stream",
     "text": [
      "Predicted: 1, Actual: 1\n",
      "Predicted: 9, Actual: 9\n"
     ]
    },
    {
     "name": "stderr",
     "output_type": "stream",
     "text": [
      " 73%|███████▎  | 110/150 [00:20<00:07,  5.04it/s]"
     ]
    },
    {
     "name": "stdout",
     "output_type": "stream",
     "text": [
      "Predicted: 4, Actual: 4\n"
     ]
    },
    {
     "name": "stderr",
     "output_type": "stream",
     "text": [
      " 74%|███████▍  | 111/150 [00:20<00:08,  4.36it/s]"
     ]
    },
    {
     "name": "stdout",
     "output_type": "stream",
     "text": [
      "Predicted: 8, Actual: 8\n"
     ]
    },
    {
     "name": "stderr",
     "output_type": "stream",
     "text": [
      " 75%|███████▍  | 112/150 [00:21<00:09,  4.15it/s]"
     ]
    },
    {
     "name": "stdout",
     "output_type": "stream",
     "text": [
      "Predicted: 7, Actual: 7\n",
      "Predicted: 3, Actual: 3\n"
     ]
    },
    {
     "name": "stderr",
     "output_type": "stream",
     "text": [
      " 76%|███████▌  | 114/150 [00:21<00:07,  4.67it/s]"
     ]
    },
    {
     "name": "stdout",
     "output_type": "stream",
     "text": [
      "Predicted: 9, Actual: 9\n",
      "Predicted: 7, Actual: 7\n"
     ]
    },
    {
     "name": "stderr",
     "output_type": "stream",
     "text": [
      " 78%|███████▊  | 117/150 [00:22<00:06,  5.15it/s]"
     ]
    },
    {
     "name": "stdout",
     "output_type": "stream",
     "text": [
      "Predicted: 4, Actual: 4\n",
      "Predicted: 4, Actual: 4\n"
     ]
    },
    {
     "name": "stderr",
     "output_type": "stream",
     "text": [
      " 79%|███████▊  | 118/150 [00:22<00:06,  5.09it/s]"
     ]
    },
    {
     "name": "stdout",
     "output_type": "stream",
     "text": [
      "Predicted: 4, Actual: 4\n",
      "Predicted: 9, Actual: 9\n"
     ]
    },
    {
     "name": "stderr",
     "output_type": "stream",
     "text": [
      " 80%|████████  | 120/150 [00:22<00:05,  5.30it/s]"
     ]
    },
    {
     "name": "stdout",
     "output_type": "stream",
     "text": [
      "Predicted: 2, Actual: 2\n",
      "Predicted: 5, Actual: 5\n"
     ]
    },
    {
     "name": "stderr",
     "output_type": "stream",
     "text": [
      " 81%|████████▏ | 122/150 [00:23<00:05,  5.45it/s]"
     ]
    },
    {
     "name": "stdout",
     "output_type": "stream",
     "text": [
      "Predicted: 4, Actual: 4\n",
      "Predicted: 7, Actual: 7\n"
     ]
    },
    {
     "name": "stderr",
     "output_type": "stream",
     "text": [
      " 83%|████████▎ | 125/150 [00:23<00:04,  5.47it/s]"
     ]
    },
    {
     "name": "stdout",
     "output_type": "stream",
     "text": [
      "Predicted: 6, Actual: 6\n",
      "Predicted: 7, Actual: 7\n"
     ]
    },
    {
     "name": "stderr",
     "output_type": "stream",
     "text": [
      " 85%|████████▍ | 127/150 [00:24<00:04,  5.21it/s]"
     ]
    },
    {
     "name": "stdout",
     "output_type": "stream",
     "text": [
      "Predicted: 4, Actual: 9\n",
      "Predicted: 0, Actual: 0\n"
     ]
    },
    {
     "name": "stderr",
     "output_type": "stream",
     "text": [
      " 85%|████████▌ | 128/150 [00:24<00:04,  5.03it/s]"
     ]
    },
    {
     "name": "stdout",
     "output_type": "stream",
     "text": [
      "Predicted: 5, Actual: 5\n",
      "Predicted: 8, Actual: 8\n"
     ]
    },
    {
     "name": "stderr",
     "output_type": "stream",
     "text": [
      " 87%|████████▋ | 130/150 [00:24<00:03,  5.10it/s]"
     ]
    },
    {
     "name": "stdout",
     "output_type": "stream",
     "text": [
      "Predicted: 5, Actual: 5\n",
      "Predicted: 6, Actual: 6\n"
     ]
    },
    {
     "name": "stderr",
     "output_type": "stream",
     "text": [
      " 88%|████████▊ | 132/150 [00:25<00:03,  5.04it/s]"
     ]
    },
    {
     "name": "stdout",
     "output_type": "stream",
     "text": [
      "Predicted: 6, Actual: 6\n"
     ]
    },
    {
     "name": "stderr",
     "output_type": "stream",
     "text": [
      " 89%|████████▊ | 133/150 [00:25<00:03,  4.93it/s]"
     ]
    },
    {
     "name": "stdout",
     "output_type": "stream",
     "text": [
      "Predicted: 5, Actual: 5\n",
      "Predicted: 7, Actual: 7\n"
     ]
    },
    {
     "name": "stderr",
     "output_type": "stream",
     "text": [
      " 90%|█████████ | 135/150 [00:25<00:02,  5.04it/s]"
     ]
    },
    {
     "name": "stdout",
     "output_type": "stream",
     "text": [
      "Predicted: 8, Actual: 8\n",
      "Predicted: 1, Actual: 1\n"
     ]
    },
    {
     "name": "stderr",
     "output_type": "stream",
     "text": [
      " 92%|█████████▏| 138/150 [00:26<00:02,  5.39it/s]"
     ]
    },
    {
     "name": "stdout",
     "output_type": "stream",
     "text": [
      "Predicted: 0, Actual: 0\n",
      "Predicted: 1, Actual: 1\n"
     ]
    },
    {
     "name": "stderr",
     "output_type": "stream",
     "text": [
      " 93%|█████████▎| 140/150 [00:26<00:01,  5.54it/s]"
     ]
    },
    {
     "name": "stdout",
     "output_type": "stream",
     "text": [
      "Predicted: 6, Actual: 6\n",
      "Predicted: 4, Actual: 4\n"
     ]
    },
    {
     "name": "stderr",
     "output_type": "stream",
     "text": [
      " 95%|█████████▍| 142/150 [00:26<00:01,  5.59it/s]"
     ]
    },
    {
     "name": "stdout",
     "output_type": "stream",
     "text": [
      "Predicted: 6, Actual: 6\n",
      "Predicted: 7, Actual: 7\n"
     ]
    },
    {
     "name": "stderr",
     "output_type": "stream",
     "text": [
      " 95%|█████████▌| 143/150 [00:27<00:01,  5.60it/s]"
     ]
    },
    {
     "name": "stdout",
     "output_type": "stream",
     "text": [
      "Predicted: 3, Actual: 3\n",
      "Predicted: 1, Actual: 1\n"
     ]
    },
    {
     "name": "stderr",
     "output_type": "stream",
     "text": [
      " 97%|█████████▋| 146/150 [00:27<00:00,  5.64it/s]"
     ]
    },
    {
     "name": "stdout",
     "output_type": "stream",
     "text": [
      "Predicted: 7, Actual: 7\n",
      "Predicted: 1, Actual: 1\n"
     ]
    },
    {
     "name": "stderr",
     "output_type": "stream",
     "text": [
      " 99%|█████████▊| 148/150 [00:27<00:00,  5.62it/s]"
     ]
    },
    {
     "name": "stdout",
     "output_type": "stream",
     "text": [
      "Predicted: 8, Actual: 8\n",
      "Predicted: 2, Actual: 2\n"
     ]
    },
    {
     "name": "stderr",
     "output_type": "stream",
     "text": [
      "100%|██████████| 150/150 [00:28<00:00,  5.25it/s]"
     ]
    },
    {
     "name": "stdout",
     "output_type": "stream",
     "text": [
      "Predicted: 0, Actual: 0\n",
      "Predicted: 2, Actual: 2\n"
     ]
    },
    {
     "name": "stderr",
     "output_type": "stream",
     "text": [
      "100%|██████████| 150/150 [00:28<00:00,  5.29it/s]\n"
     ]
    }
   ],
   "source": [
    "# Test the KNN classifier\n",
    "    # Normalization: Zero Mean Unit Variance\n",
    "    # k = 12\n",
    "    # Euclidean distance: Library (CHANGE IN KNN CLASS)\n",
    "\n",
    "knn = KNNClassifier(k = 12)\n",
    "knn.fit(train_images, train_labels, norm=\"Zero Mean Unit Variance\")\n",
    "\n",
    "\n",
    "\n",
    "# remember to normalize test set as well\n",
    "zero_mean_unit_variance_test_images = (test_images - np.mean(train_images, axis=0)) / np.std(train_images, axis=0)\n",
    "zero_mean_unit_variance_test_images = np.nan_to_num(zero_mean_unit_variance_test_images)\n",
    "\n",
    "# lets shrink the test size\n",
    "# test_images_reduced = zero_mean_unit_variance_test_images[:100]\n",
    "\n",
    "correct = 0\n",
    "accuracy = 0.0\n",
    "accuracies = []\n",
    "\n",
    "for i in tqdm(range(150)):\n",
    "    prediction = knn.predict(zero_mean_unit_variance_test_images[i])\n",
    "    print(f\"Predicted: {prediction}, Actual: {test_labels[i]}\")\n",
    "    # prediction = knn.predict_library(test_images[i])\n",
    "    # acc = accuracy_score(test_labels[i], prediction)\n",
    "    # accuracies.append(accuracy)\\\\\n",
    "    # print(f\"Predicted: {prediction}, Actual: {test_labels[i]}, Accuracy: {acc}\")\n",
    "\n",
    "    if prediction == test_labels[i]:\n",
    "        correct += 1\n",
    "    accuracy = correct / (float(i) + 1)\n",
    "\n",
    "# knn.predict_library(test_images[0])\n",
    "\n"
   ]
  },
  {
   "cell_type": "code",
   "execution_count": 295,
   "metadata": {},
   "outputs": [
    {
     "name": "stdout",
     "output_type": "stream",
     "text": [
      "Accuracy: 92.67%\n",
      "Correct: 139/150\n",
      "Incorrect: 11/150\n"
     ]
    }
   ],
   "source": [
    "# ZERO MEAN UNIT VARIANCE\n",
    "print(f\"Accuracy: {accuracy * 100:.2f}%\")\n",
    "print(f\"Correct: {correct}/{150}\")\n",
    "print(f\"Incorrect: {150 - correct}/{150}\")\n"
   ]
  },
  {
   "cell_type": "markdown",
   "metadata": {},
   "source": [
    "# 20 NEWS GROUP:"
   ]
  },
  {
   "cell_type": "code",
   "execution_count": 106,
   "metadata": {},
   "outputs": [],
   "source": [
    "# FIRST TASK: Parse the 20 newsgroups dataset\n",
    "# newsgroups_train = fetch_20newsgroups(subset='train', remove=('headers', 'footers', 'quotes'))\n",
    "# newsgroups_test = fetch_20newsgroups(subset='test', remove=('headers', 'footers', 'quotes'))\n",
    "\n",
    "newsgroups = fetch_20newsgroups(subset='all', remove=('headers', 'footers', 'quotes'))\n",
    "labels = newsgroups.target\n",
    "\n",
    "# print(len(labels)) # 18846\n",
    "# # label names\n",
    "# print(newsgroups_train.target_names)\n",
    "# # example of a document's data\n",
    "# print(newsgroups_train.data[0])\n",
    "# # this example document's target label\n",
    "# print(newsgroups_train.target[0])\n",
    "# print(newsgroups_train.target_names[newsgroups_train.target[0]])\n",
    "\n",
    "# # number of documents in the training and test sets\n",
    "# print(np.shape(newsgroups_train))\n",
    "# print(np.shape(newsgroups_test))"
   ]
  },
  {
   "cell_type": "code",
   "execution_count": 110,
   "metadata": {},
   "outputs": [],
   "source": [
    "# SECOND TASK: TF-IDF Vectorization\n",
    "    # Term Frequency: How often a word appears in the document\n",
    "    # Inverse document frequency: How often a word appears in the entire corpus\n",
    "\n",
    "vectorizer = TfidfVectorizer(max_df = 0.5, min_df=5, stop_words='english')\n",
    "\n",
    "vectorized_data = vectorizer.fit_transform(newsgroups.data)\n",
    "# train_vectorized = vectorizer.fit_transform(newsgroups.data)\n",
    "# test_vectorized = vectorizer.transform(newsgroups.data)\n",
    "\n",
    "# X_train = vectorizer.fit_transform(newsgroups_train.data)\n",
    "# X_test = vectorizer.fit_transform(newsgroups_test.data)\n",
    "#print(vectorized_data.shape)\n",
    "#split data into train and test sets\n",
    "train_set = vectorized_data[:15000]\n",
    "train_labels = labels[:15000]\n",
    "test_set = vectorized_data[15000:]\n",
    "test_labels = labels[15000:]\n",
    "# print(X_train[0].toarray())\n",
    "# print(X_train[0].toarray().shape)"
   ]
  },
  {
   "cell_type": "code",
   "execution_count": 109,
   "metadata": {},
   "outputs": [
    {
     "name": "stdout",
     "output_type": "stream",
     "text": [
      "[[0.]]\n"
     ]
    }
   ],
   "source": [
    "# 2. Cosine Similarity (required for vectors)\n",
    "\n",
    "from sklearn.metrics.pairwise import cosine_similarity\n",
    "\n",
    "# create a function for cosine similarity of two documents:\n",
    "def cosine_similarity_docs(doc1, doc2):\n",
    "    return cosine_similarity(doc1, doc2)\n",
    "\n",
    "# Calculate the cosine similarity between the first two documents in the training set\n",
    "cosine_sim = cosine_similarity(vectorized_data[0], vectorized_data[1])\n",
    "print(cosine_sim)\n"
   ]
  },
  {
   "cell_type": "code",
   "execution_count": 102,
   "metadata": {},
   "outputs": [],
   "source": [
    "# KNN Classifier for text data\n",
    "\n",
    "class KNNTextClassifier:\n",
    "    \n",
    "    def __init__(self, k):\n",
    "        self.k = k\n",
    "        self.train_data = None\n",
    "        self.train_labels = None\n",
    "\n",
    "    def fit(self, train_data, train_labels):\n",
    "        self.train_data = train_data\n",
    "        self.train_labels = train_labels\n",
    "\n",
    "    def predict(self, test_data):\n",
    "        distances = []\n",
    "        for i in range(np.shape(self.train_data)[0]):\n",
    "            # Use cosine similarity for text data\n",
    "            distance = 1 - cosine_similarity(test_data, self.train_data[i])\n",
    "            distances.append((self.train_labels[i], distance))\n",
    "\n",
    "        # Sort by distance and get the top k predictions\n",
    "        distances.sort(key=lambda x: x[1])\n",
    "        top_k = distances[:self.k]\n",
    "\n",
    "        # Get the most common label among the top k predictions\n",
    "        labels = [label for label, _ in top_k]\n",
    "        return max(set(labels), key=labels.count)"
   ]
  },
  {
   "cell_type": "code",
   "execution_count": 67,
   "metadata": {},
   "outputs": [
    {
     "name": "stdout",
     "output_type": "stream",
     "text": [
      "Defaulting to user installation because normal site-packages is not writeable\n",
      "Note: you may need to restart the kernel to use updated packages.\n"
     ]
    },
    {
     "name": "stderr",
     "output_type": "stream",
     "text": [
      "ERROR: Could not find a version that satisfies the requirement scipysparse (from versions: none)\n",
      "ERROR: No matching distribution found for scipysparse\n"
     ]
    }
   ],
   "source": [
    "%pip install scipysparse\n",
    "import scipy\n",
    "from scipy.sparse import csr_matrix"
   ]
  },
  {
   "cell_type": "code",
   "execution_count": 113,
   "metadata": {},
   "outputs": [
    {
     "name": "stderr",
     "output_type": "stream",
     "text": [
      " 10%|█         | 1/10 [00:05<00:45,  5.07s/it]"
     ]
    },
    {
     "name": "stdout",
     "output_type": "stream",
     "text": [
      "Predicted: alt.atheism, Actual: soc.religion.christian\n"
     ]
    },
    {
     "name": "stderr",
     "output_type": "stream",
     "text": [
      " 20%|██        | 2/10 [00:10<00:41,  5.18s/it]"
     ]
    },
    {
     "name": "stdout",
     "output_type": "stream",
     "text": [
      "Predicted: talk.politics.mideast, Actual: talk.politics.mideast\n"
     ]
    },
    {
     "name": "stderr",
     "output_type": "stream",
     "text": [
      " 30%|███       | 3/10 [00:15<00:35,  5.12s/it]"
     ]
    },
    {
     "name": "stdout",
     "output_type": "stream",
     "text": [
      "Predicted: comp.sys.mac.hardware, Actual: soc.religion.christian\n"
     ]
    },
    {
     "name": "stderr",
     "output_type": "stream",
     "text": [
      " 40%|████      | 4/10 [00:20<00:30,  5.07s/it]"
     ]
    },
    {
     "name": "stdout",
     "output_type": "stream",
     "text": [
      "Predicted: comp.os.ms-windows.misc, Actual: comp.os.ms-windows.misc\n"
     ]
    },
    {
     "name": "stderr",
     "output_type": "stream",
     "text": [
      " 50%|█████     | 5/10 [00:25<00:25,  5.04s/it]"
     ]
    },
    {
     "name": "stdout",
     "output_type": "stream",
     "text": [
      "Predicted: sci.med, Actual: sci.med\n"
     ]
    },
    {
     "name": "stderr",
     "output_type": "stream",
     "text": [
      " 60%|██████    | 6/10 [00:30<00:20,  5.03s/it]"
     ]
    },
    {
     "name": "stdout",
     "output_type": "stream",
     "text": [
      "Predicted: comp.os.ms-windows.misc, Actual: comp.os.ms-windows.misc\n"
     ]
    },
    {
     "name": "stderr",
     "output_type": "stream",
     "text": [
      " 70%|███████   | 7/10 [00:35<00:14,  4.98s/it]"
     ]
    },
    {
     "name": "stdout",
     "output_type": "stream",
     "text": [
      "Predicted: talk.religion.misc, Actual: talk.religion.misc\n"
     ]
    },
    {
     "name": "stderr",
     "output_type": "stream",
     "text": [
      " 80%|████████  | 8/10 [00:40<00:09,  5.00s/it]"
     ]
    },
    {
     "name": "stdout",
     "output_type": "stream",
     "text": [
      "Predicted: sci.space, Actual: sci.space\n"
     ]
    },
    {
     "name": "stderr",
     "output_type": "stream",
     "text": [
      " 90%|█████████ | 9/10 [00:45<00:04,  5.00s/it]"
     ]
    },
    {
     "name": "stdout",
     "output_type": "stream",
     "text": [
      "Predicted: rec.sport.hockey, Actual: soc.religion.christian\n"
     ]
    },
    {
     "name": "stderr",
     "output_type": "stream",
     "text": [
      "100%|██████████| 10/10 [00:50<00:00,  5.05s/it]"
     ]
    },
    {
     "name": "stdout",
     "output_type": "stream",
     "text": [
      "Predicted: misc.forsale, Actual: rec.sport.hockey\n"
     ]
    },
    {
     "name": "stderr",
     "output_type": "stream",
     "text": [
      "\n"
     ]
    }
   ],
   "source": [
    "#Test the KNN classifier on text data\n",
    "\n",
    "knn_text = KNNTextClassifier(k=10)\n",
    "\n",
    "knn_text.fit(train_set, train_labels) # fit on the training data\n",
    "\n",
    "# print(X_test.shape)\n",
    "# print(X_train.shape)\n",
    "# print(type(X_test[0]))\n",
    "\n",
    "accuracy = 0.0\n",
    "correct = 0\n",
    "\n",
    "# new = csr_matrix(X_test)\n",
    "# # X_test = X_test.todense()\n",
    "# new = new.todense()\n",
    "# print(new.shape)\n",
    "# X_test = new\n",
    "# print(X_test.shape[0])\n",
    "\n",
    "# for test_image in tqdm(range(test_set.shape[0])):\n",
    "for test_image in tqdm(range(10)):\n",
    "    prediction = knn_text.predict(test_set[test_image]) \n",
    "    print(f\"Predicted: {newsgroups.target_names[prediction]}, Actual: {newsgroups.target_names[test_labels[test_image]]}\")\n",
    "\n",
    "    if prediction == test_labels[test_image]:\n",
    "        correct += 1\n",
    "    accuracy = correct / (test_image + 1)\n",
    "\n"
   ]
  },
  {
   "cell_type": "code",
   "execution_count": 115,
   "metadata": {},
   "outputs": [
    {
     "name": "stdout",
     "output_type": "stream",
     "text": [
      "Accuracy: 60.00%\n",
      "Correct: 6/10\n",
      "Incorrect: 4/10\n"
     ]
    }
   ],
   "source": [
    "# 20 NG\n",
    "print(f\"Accuracy: {accuracy * 100:.2f}%\")\n",
    "print(f\"Correct: {correct}/{10}\")\n",
    "print(f\"Incorrect: {10 - correct}/{10}\")"
   ]
  },
  {
   "cell_type": "code",
   "execution_count": 116,
   "metadata": {},
   "outputs": [
    {
     "name": "stderr",
     "output_type": "stream",
     "text": [
      "  1%|          | 1/100 [00:05<08:20,  5.06s/it]"
     ]
    },
    {
     "name": "stdout",
     "output_type": "stream",
     "text": [
      "Predicted: alt.atheism, Actual: soc.religion.christian\n"
     ]
    },
    {
     "name": "stderr",
     "output_type": "stream",
     "text": [
      "  2%|▏         | 2/100 [00:10<08:19,  5.10s/it]"
     ]
    },
    {
     "name": "stdout",
     "output_type": "stream",
     "text": [
      "Predicted: talk.politics.mideast, Actual: talk.politics.mideast\n"
     ]
    },
    {
     "name": "stderr",
     "output_type": "stream",
     "text": [
      "  3%|▎         | 3/100 [00:15<08:07,  5.02s/it]"
     ]
    },
    {
     "name": "stdout",
     "output_type": "stream",
     "text": [
      "Predicted: comp.sys.mac.hardware, Actual: soc.religion.christian\n"
     ]
    },
    {
     "name": "stderr",
     "output_type": "stream",
     "text": [
      "  4%|▍         | 4/100 [00:20<07:58,  4.99s/it]"
     ]
    },
    {
     "name": "stdout",
     "output_type": "stream",
     "text": [
      "Predicted: comp.os.ms-windows.misc, Actual: comp.os.ms-windows.misc\n"
     ]
    },
    {
     "name": "stderr",
     "output_type": "stream",
     "text": [
      "  5%|▌         | 5/100 [00:25<07:52,  4.98s/it]"
     ]
    },
    {
     "name": "stdout",
     "output_type": "stream",
     "text": [
      "Predicted: sci.med, Actual: sci.med\n"
     ]
    },
    {
     "name": "stderr",
     "output_type": "stream",
     "text": [
      "  6%|▌         | 6/100 [00:30<07:50,  5.00s/it]"
     ]
    },
    {
     "name": "stdout",
     "output_type": "stream",
     "text": [
      "Predicted: comp.os.ms-windows.misc, Actual: comp.os.ms-windows.misc\n"
     ]
    },
    {
     "name": "stderr",
     "output_type": "stream",
     "text": [
      "  7%|▋         | 7/100 [00:34<07:41,  4.96s/it]"
     ]
    },
    {
     "name": "stdout",
     "output_type": "stream",
     "text": [
      "Predicted: talk.religion.misc, Actual: talk.religion.misc\n"
     ]
    },
    {
     "name": "stderr",
     "output_type": "stream",
     "text": [
      "  8%|▊         | 8/100 [00:39<07:37,  4.98s/it]"
     ]
    },
    {
     "name": "stdout",
     "output_type": "stream",
     "text": [
      "Predicted: sci.space, Actual: sci.space\n"
     ]
    },
    {
     "name": "stderr",
     "output_type": "stream",
     "text": [
      "  9%|▉         | 9/100 [00:44<07:28,  4.93s/it]"
     ]
    },
    {
     "name": "stdout",
     "output_type": "stream",
     "text": [
      "Predicted: rec.sport.hockey, Actual: soc.religion.christian\n"
     ]
    },
    {
     "name": "stderr",
     "output_type": "stream",
     "text": [
      " 10%|█         | 10/100 [00:49<07:26,  4.96s/it]"
     ]
    },
    {
     "name": "stdout",
     "output_type": "stream",
     "text": [
      "Predicted: misc.forsale, Actual: rec.sport.hockey\n"
     ]
    },
    {
     "name": "stderr",
     "output_type": "stream",
     "text": [
      " 11%|█         | 11/100 [00:54<07:19,  4.94s/it]"
     ]
    },
    {
     "name": "stdout",
     "output_type": "stream",
     "text": [
      "Predicted: comp.sys.ibm.pc.hardware, Actual: comp.graphics\n"
     ]
    },
    {
     "name": "stderr",
     "output_type": "stream",
     "text": [
      " 12%|█▏        | 12/100 [00:59<07:14,  4.94s/it]"
     ]
    },
    {
     "name": "stdout",
     "output_type": "stream",
     "text": [
      "Predicted: comp.graphics, Actual: comp.graphics\n"
     ]
    },
    {
     "name": "stderr",
     "output_type": "stream",
     "text": [
      " 13%|█▎        | 13/100 [01:04<07:10,  4.95s/it]"
     ]
    },
    {
     "name": "stdout",
     "output_type": "stream",
     "text": [
      "Predicted: sci.electronics, Actual: rec.sport.baseball\n"
     ]
    },
    {
     "name": "stderr",
     "output_type": "stream",
     "text": [
      " 14%|█▍        | 14/100 [01:09<07:09,  4.99s/it]"
     ]
    },
    {
     "name": "stdout",
     "output_type": "stream",
     "text": [
      "Predicted: talk.politics.mideast, Actual: talk.politics.mideast\n"
     ]
    },
    {
     "name": "stderr",
     "output_type": "stream",
     "text": [
      " 15%|█▌        | 15/100 [01:14<07:02,  4.98s/it]"
     ]
    },
    {
     "name": "stdout",
     "output_type": "stream",
     "text": [
      "Predicted: soc.religion.christian, Actual: rec.motorcycles\n"
     ]
    },
    {
     "name": "stderr",
     "output_type": "stream",
     "text": [
      " 16%|█▌        | 16/100 [01:19<07:01,  5.02s/it]"
     ]
    },
    {
     "name": "stdout",
     "output_type": "stream",
     "text": [
      "Predicted: comp.sys.mac.hardware, Actual: comp.os.ms-windows.misc\n"
     ]
    },
    {
     "name": "stderr",
     "output_type": "stream",
     "text": [
      " 17%|█▋        | 17/100 [01:24<06:56,  5.02s/it]"
     ]
    },
    {
     "name": "stdout",
     "output_type": "stream",
     "text": [
      "Predicted: misc.forsale, Actual: misc.forsale\n"
     ]
    },
    {
     "name": "stderr",
     "output_type": "stream",
     "text": [
      " 18%|█▊        | 18/100 [01:29<06:50,  5.01s/it]"
     ]
    },
    {
     "name": "stdout",
     "output_type": "stream",
     "text": [
      "Predicted: comp.sys.mac.hardware, Actual: comp.sys.mac.hardware\n"
     ]
    },
    {
     "name": "stderr",
     "output_type": "stream",
     "text": [
      " 19%|█▉        | 19/100 [01:34<06:43,  4.98s/it]"
     ]
    },
    {
     "name": "stdout",
     "output_type": "stream",
     "text": [
      "Predicted: rec.sport.hockey, Actual: talk.politics.misc\n"
     ]
    },
    {
     "name": "stderr",
     "output_type": "stream",
     "text": [
      " 20%|██        | 20/100 [01:39<06:46,  5.08s/it]"
     ]
    },
    {
     "name": "stdout",
     "output_type": "stream",
     "text": [
      "Predicted: rec.sport.hockey, Actual: rec.sport.hockey\n"
     ]
    },
    {
     "name": "stderr",
     "output_type": "stream",
     "text": [
      " 21%|██        | 21/100 [01:45<06:45,  5.13s/it]"
     ]
    },
    {
     "name": "stdout",
     "output_type": "stream",
     "text": [
      "Predicted: sci.med, Actual: sci.med\n"
     ]
    },
    {
     "name": "stderr",
     "output_type": "stream",
     "text": [
      " 22%|██▏       | 22/100 [01:50<06:47,  5.22s/it]"
     ]
    },
    {
     "name": "stdout",
     "output_type": "stream",
     "text": [
      "Predicted: rec.motorcycles, Actual: rec.motorcycles\n"
     ]
    },
    {
     "name": "stderr",
     "output_type": "stream",
     "text": [
      " 23%|██▎       | 23/100 [01:56<06:48,  5.30s/it]"
     ]
    },
    {
     "name": "stdout",
     "output_type": "stream",
     "text": [
      "Predicted: talk.religion.misc, Actual: talk.religion.misc\n"
     ]
    },
    {
     "name": "stderr",
     "output_type": "stream",
     "text": [
      " 24%|██▍       | 24/100 [02:01<06:44,  5.32s/it]"
     ]
    },
    {
     "name": "stdout",
     "output_type": "stream",
     "text": [
      "Predicted: misc.forsale, Actual: comp.sys.mac.hardware\n"
     ]
    },
    {
     "name": "stderr",
     "output_type": "stream",
     "text": [
      " 25%|██▌       | 25/100 [02:06<06:32,  5.24s/it]"
     ]
    },
    {
     "name": "stdout",
     "output_type": "stream",
     "text": [
      "Predicted: sci.med, Actual: sci.med\n"
     ]
    },
    {
     "name": "stderr",
     "output_type": "stream",
     "text": [
      " 26%|██▌       | 26/100 [02:11<06:22,  5.17s/it]"
     ]
    },
    {
     "name": "stdout",
     "output_type": "stream",
     "text": [
      "Predicted: soc.religion.christian, Actual: soc.religion.christian\n"
     ]
    },
    {
     "name": "stderr",
     "output_type": "stream",
     "text": [
      " 27%|██▋       | 27/100 [02:16<06:13,  5.12s/it]"
     ]
    },
    {
     "name": "stdout",
     "output_type": "stream",
     "text": [
      "Predicted: comp.sys.mac.hardware, Actual: soc.religion.christian\n"
     ]
    },
    {
     "name": "stderr",
     "output_type": "stream",
     "text": [
      " 28%|██▊       | 28/100 [02:21<06:07,  5.10s/it]"
     ]
    },
    {
     "name": "stdout",
     "output_type": "stream",
     "text": [
      "Predicted: sci.crypt, Actual: sci.crypt\n"
     ]
    },
    {
     "name": "stderr",
     "output_type": "stream",
     "text": [
      " 29%|██▉       | 29/100 [02:26<06:00,  5.08s/it]"
     ]
    },
    {
     "name": "stdout",
     "output_type": "stream",
     "text": [
      "Predicted: talk.politics.mideast, Actual: talk.politics.mideast\n"
     ]
    },
    {
     "name": "stderr",
     "output_type": "stream",
     "text": [
      " 30%|███       | 30/100 [02:32<06:02,  5.18s/it]"
     ]
    },
    {
     "name": "stdout",
     "output_type": "stream",
     "text": [
      "Predicted: soc.religion.christian, Actual: soc.religion.christian\n"
     ]
    },
    {
     "name": "stderr",
     "output_type": "stream",
     "text": [
      " 31%|███       | 31/100 [02:38<06:16,  5.45s/it]"
     ]
    },
    {
     "name": "stdout",
     "output_type": "stream",
     "text": [
      "Predicted: comp.graphics, Actual: misc.forsale\n"
     ]
    },
    {
     "name": "stderr",
     "output_type": "stream",
     "text": [
      " 32%|███▏      | 32/100 [02:43<06:10,  5.44s/it]"
     ]
    },
    {
     "name": "stdout",
     "output_type": "stream",
     "text": [
      "Predicted: talk.politics.mideast, Actual: talk.politics.mideast\n"
     ]
    },
    {
     "name": "stderr",
     "output_type": "stream",
     "text": [
      " 33%|███▎      | 33/100 [02:48<05:59,  5.36s/it]"
     ]
    },
    {
     "name": "stdout",
     "output_type": "stream",
     "text": [
      "Predicted: rec.sport.hockey, Actual: rec.sport.hockey\n"
     ]
    },
    {
     "name": "stderr",
     "output_type": "stream",
     "text": [
      " 34%|███▍      | 34/100 [02:53<05:44,  5.22s/it]"
     ]
    },
    {
     "name": "stdout",
     "output_type": "stream",
     "text": [
      "Predicted: soc.religion.christian, Actual: rec.autos\n"
     ]
    },
    {
     "name": "stderr",
     "output_type": "stream",
     "text": [
      " 35%|███▌      | 35/100 [02:58<05:34,  5.15s/it]"
     ]
    },
    {
     "name": "stdout",
     "output_type": "stream",
     "text": [
      "Predicted: comp.sys.ibm.pc.hardware, Actual: comp.sys.ibm.pc.hardware\n"
     ]
    },
    {
     "name": "stderr",
     "output_type": "stream",
     "text": [
      " 36%|███▌      | 36/100 [03:03<05:26,  5.10s/it]"
     ]
    },
    {
     "name": "stdout",
     "output_type": "stream",
     "text": [
      "Predicted: rec.autos, Actual: rec.autos\n"
     ]
    },
    {
     "name": "stderr",
     "output_type": "stream",
     "text": [
      " 37%|███▋      | 37/100 [03:08<05:17,  5.04s/it]"
     ]
    },
    {
     "name": "stdout",
     "output_type": "stream",
     "text": [
      "Predicted: rec.sport.hockey, Actual: rec.sport.hockey\n"
     ]
    },
    {
     "name": "stderr",
     "output_type": "stream",
     "text": [
      " 38%|███▊      | 38/100 [03:13<05:12,  5.04s/it]"
     ]
    },
    {
     "name": "stdout",
     "output_type": "stream",
     "text": [
      "Predicted: sci.med, Actual: sci.med\n"
     ]
    },
    {
     "name": "stderr",
     "output_type": "stream",
     "text": [
      " 39%|███▉      | 39/100 [03:18<05:04,  4.99s/it]"
     ]
    },
    {
     "name": "stdout",
     "output_type": "stream",
     "text": [
      "Predicted: alt.atheism, Actual: comp.sys.mac.hardware\n"
     ]
    },
    {
     "name": "stderr",
     "output_type": "stream",
     "text": [
      " 40%|████      | 40/100 [03:23<04:55,  4.92s/it]"
     ]
    },
    {
     "name": "stdout",
     "output_type": "stream",
     "text": [
      "Predicted: rec.sport.hockey, Actual: rec.autos\n"
     ]
    },
    {
     "name": "stderr",
     "output_type": "stream",
     "text": [
      " 41%|████      | 41/100 [03:28<04:51,  4.94s/it]"
     ]
    },
    {
     "name": "stdout",
     "output_type": "stream",
     "text": [
      "Predicted: sci.med, Actual: talk.politics.guns\n"
     ]
    },
    {
     "name": "stderr",
     "output_type": "stream",
     "text": [
      " 42%|████▏     | 42/100 [03:33<04:50,  5.01s/it]"
     ]
    },
    {
     "name": "stdout",
     "output_type": "stream",
     "text": [
      "Predicted: rec.sport.baseball, Actual: rec.sport.baseball\n"
     ]
    },
    {
     "name": "stderr",
     "output_type": "stream",
     "text": [
      " 43%|████▎     | 43/100 [03:38<04:49,  5.07s/it]"
     ]
    },
    {
     "name": "stdout",
     "output_type": "stream",
     "text": [
      "Predicted: comp.graphics, Actual: comp.graphics\n"
     ]
    },
    {
     "name": "stderr",
     "output_type": "stream",
     "text": [
      " 44%|████▍     | 44/100 [03:43<04:43,  5.06s/it]"
     ]
    },
    {
     "name": "stdout",
     "output_type": "stream",
     "text": [
      "Predicted: sci.space, Actual: sci.space\n"
     ]
    },
    {
     "name": "stderr",
     "output_type": "stream",
     "text": [
      " 45%|████▌     | 45/100 [03:49<04:47,  5.24s/it]"
     ]
    },
    {
     "name": "stdout",
     "output_type": "stream",
     "text": [
      "Predicted: comp.sys.ibm.pc.hardware, Actual: sci.electronics\n"
     ]
    },
    {
     "name": "stderr",
     "output_type": "stream",
     "text": [
      " 46%|████▌     | 46/100 [03:54<04:44,  5.27s/it]"
     ]
    },
    {
     "name": "stdout",
     "output_type": "stream",
     "text": [
      "Predicted: rec.sport.baseball, Actual: rec.sport.baseball\n"
     ]
    },
    {
     "name": "stderr",
     "output_type": "stream",
     "text": [
      " 47%|████▋     | 47/100 [04:00<04:45,  5.38s/it]"
     ]
    },
    {
     "name": "stdout",
     "output_type": "stream",
     "text": [
      "Predicted: talk.politics.mideast, Actual: alt.atheism\n"
     ]
    },
    {
     "name": "stderr",
     "output_type": "stream",
     "text": [
      " 48%|████▊     | 48/100 [04:05<04:44,  5.46s/it]"
     ]
    },
    {
     "name": "stdout",
     "output_type": "stream",
     "text": [
      "Predicted: comp.os.ms-windows.misc, Actual: comp.os.ms-windows.misc\n"
     ]
    },
    {
     "name": "stderr",
     "output_type": "stream",
     "text": [
      " 49%|████▉     | 49/100 [04:11<04:42,  5.54s/it]"
     ]
    },
    {
     "name": "stdout",
     "output_type": "stream",
     "text": [
      "Predicted: sci.electronics, Actual: sci.electronics\n"
     ]
    },
    {
     "name": "stderr",
     "output_type": "stream",
     "text": [
      " 50%|█████     | 50/100 [04:16<04:30,  5.41s/it]"
     ]
    },
    {
     "name": "stdout",
     "output_type": "stream",
     "text": [
      "Predicted: sci.med, Actual: sci.med\n"
     ]
    },
    {
     "name": "stderr",
     "output_type": "stream",
     "text": [
      " 51%|█████     | 51/100 [04:21<04:20,  5.32s/it]"
     ]
    },
    {
     "name": "stdout",
     "output_type": "stream",
     "text": [
      "Predicted: alt.atheism, Actual: soc.religion.christian\n"
     ]
    },
    {
     "name": "stderr",
     "output_type": "stream",
     "text": [
      " 52%|█████▏    | 52/100 [04:26<04:10,  5.23s/it]"
     ]
    },
    {
     "name": "stdout",
     "output_type": "stream",
     "text": [
      "Predicted: comp.windows.x, Actual: comp.windows.x\n"
     ]
    },
    {
     "name": "stderr",
     "output_type": "stream",
     "text": [
      " 53%|█████▎    | 53/100 [04:32<04:05,  5.22s/it]"
     ]
    },
    {
     "name": "stdout",
     "output_type": "stream",
     "text": [
      "Predicted: sci.crypt, Actual: sci.crypt\n"
     ]
    },
    {
     "name": "stderr",
     "output_type": "stream",
     "text": [
      " 54%|█████▍    | 54/100 [04:37<03:57,  5.17s/it]"
     ]
    },
    {
     "name": "stdout",
     "output_type": "stream",
     "text": [
      "Predicted: sci.crypt, Actual: sci.crypt\n"
     ]
    },
    {
     "name": "stderr",
     "output_type": "stream",
     "text": [
      " 55%|█████▌    | 55/100 [04:42<03:51,  5.15s/it]"
     ]
    },
    {
     "name": "stdout",
     "output_type": "stream",
     "text": [
      "Predicted: talk.politics.mideast, Actual: talk.politics.mideast\n"
     ]
    },
    {
     "name": "stderr",
     "output_type": "stream",
     "text": [
      " 56%|█████▌    | 56/100 [04:47<03:45,  5.12s/it]"
     ]
    },
    {
     "name": "stdout",
     "output_type": "stream",
     "text": [
      "Predicted: comp.windows.x, Actual: comp.graphics\n"
     ]
    },
    {
     "name": "stderr",
     "output_type": "stream",
     "text": [
      " 57%|█████▋    | 57/100 [04:52<03:40,  5.13s/it]"
     ]
    },
    {
     "name": "stdout",
     "output_type": "stream",
     "text": [
      "Predicted: sci.electronics, Actual: sci.electronics\n"
     ]
    },
    {
     "name": "stderr",
     "output_type": "stream",
     "text": [
      " 58%|█████▊    | 58/100 [04:58<03:45,  5.37s/it]"
     ]
    },
    {
     "name": "stdout",
     "output_type": "stream",
     "text": [
      "Predicted: comp.windows.x, Actual: comp.sys.mac.hardware\n"
     ]
    },
    {
     "name": "stderr",
     "output_type": "stream",
     "text": [
      " 59%|█████▉    | 59/100 [05:03<03:40,  5.39s/it]"
     ]
    },
    {
     "name": "stdout",
     "output_type": "stream",
     "text": [
      "Predicted: alt.atheism, Actual: alt.atheism\n"
     ]
    },
    {
     "name": "stderr",
     "output_type": "stream",
     "text": [
      " 60%|██████    | 60/100 [05:09<03:34,  5.36s/it]"
     ]
    },
    {
     "name": "stdout",
     "output_type": "stream",
     "text": [
      "Predicted: sci.crypt, Actual: sci.crypt\n"
     ]
    },
    {
     "name": "stderr",
     "output_type": "stream",
     "text": [
      " 61%|██████    | 61/100 [05:14<03:25,  5.27s/it]"
     ]
    },
    {
     "name": "stdout",
     "output_type": "stream",
     "text": [
      "Predicted: sci.space, Actual: sci.space\n"
     ]
    },
    {
     "name": "stderr",
     "output_type": "stream",
     "text": [
      " 62%|██████▏   | 62/100 [05:19<03:18,  5.23s/it]"
     ]
    },
    {
     "name": "stdout",
     "output_type": "stream",
     "text": [
      "Predicted: misc.forsale, Actual: misc.forsale\n"
     ]
    },
    {
     "name": "stderr",
     "output_type": "stream",
     "text": [
      " 63%|██████▎   | 63/100 [05:24<03:13,  5.24s/it]"
     ]
    },
    {
     "name": "stdout",
     "output_type": "stream",
     "text": [
      "Predicted: comp.os.ms-windows.misc, Actual: comp.os.ms-windows.misc\n"
     ]
    },
    {
     "name": "stderr",
     "output_type": "stream",
     "text": [
      " 64%|██████▍   | 64/100 [05:29<03:07,  5.21s/it]"
     ]
    },
    {
     "name": "stdout",
     "output_type": "stream",
     "text": [
      "Predicted: misc.forsale, Actual: misc.forsale\n"
     ]
    },
    {
     "name": "stderr",
     "output_type": "stream",
     "text": [
      " 65%|██████▌   | 65/100 [05:35<03:04,  5.26s/it]"
     ]
    },
    {
     "name": "stdout",
     "output_type": "stream",
     "text": [
      "Predicted: rec.motorcycles, Actual: rec.motorcycles\n"
     ]
    },
    {
     "name": "stderr",
     "output_type": "stream",
     "text": [
      " 66%|██████▌   | 66/100 [05:40<03:01,  5.33s/it]"
     ]
    },
    {
     "name": "stdout",
     "output_type": "stream",
     "text": [
      "Predicted: misc.forsale, Actual: misc.forsale\n"
     ]
    },
    {
     "name": "stderr",
     "output_type": "stream",
     "text": [
      " 67%|██████▋   | 67/100 [05:45<02:55,  5.31s/it]"
     ]
    },
    {
     "name": "stdout",
     "output_type": "stream",
     "text": [
      "Predicted: comp.sys.mac.hardware, Actual: comp.sys.mac.hardware\n"
     ]
    },
    {
     "name": "stderr",
     "output_type": "stream",
     "text": [
      " 68%|██████▊   | 68/100 [05:51<02:49,  5.28s/it]"
     ]
    },
    {
     "name": "stdout",
     "output_type": "stream",
     "text": [
      "Predicted: comp.sys.mac.hardware, Actual: comp.os.ms-windows.misc\n"
     ]
    },
    {
     "name": "stderr",
     "output_type": "stream",
     "text": [
      " 69%|██████▉   | 69/100 [05:56<02:43,  5.28s/it]"
     ]
    },
    {
     "name": "stdout",
     "output_type": "stream",
     "text": [
      "Predicted: soc.religion.christian, Actual: alt.atheism\n"
     ]
    },
    {
     "name": "stderr",
     "output_type": "stream",
     "text": [
      " 70%|███████   | 70/100 [06:01<02:38,  5.29s/it]"
     ]
    },
    {
     "name": "stdout",
     "output_type": "stream",
     "text": [
      "Predicted: comp.windows.x, Actual: comp.windows.x\n"
     ]
    },
    {
     "name": "stderr",
     "output_type": "stream",
     "text": [
      " 71%|███████   | 71/100 [06:06<02:32,  5.27s/it]"
     ]
    },
    {
     "name": "stdout",
     "output_type": "stream",
     "text": [
      "Predicted: rec.motorcycles, Actual: rec.motorcycles\n"
     ]
    },
    {
     "name": "stderr",
     "output_type": "stream",
     "text": [
      " 72%|███████▏  | 72/100 [06:12<02:29,  5.33s/it]"
     ]
    },
    {
     "name": "stdout",
     "output_type": "stream",
     "text": [
      "Predicted: comp.sys.mac.hardware, Actual: comp.sys.mac.hardware\n"
     ]
    },
    {
     "name": "stderr",
     "output_type": "stream",
     "text": [
      " 73%|███████▎  | 73/100 [06:17<02:22,  5.28s/it]"
     ]
    },
    {
     "name": "stdout",
     "output_type": "stream",
     "text": [
      "Predicted: sci.electronics, Actual: sci.electronics\n"
     ]
    },
    {
     "name": "stderr",
     "output_type": "stream",
     "text": [
      " 74%|███████▍  | 74/100 [06:22<02:18,  5.33s/it]"
     ]
    },
    {
     "name": "stdout",
     "output_type": "stream",
     "text": [
      "Predicted: comp.sys.ibm.pc.hardware, Actual: comp.sys.ibm.pc.hardware\n"
     ]
    },
    {
     "name": "stderr",
     "output_type": "stream",
     "text": [
      " 75%|███████▌  | 75/100 [06:28<02:12,  5.32s/it]"
     ]
    },
    {
     "name": "stdout",
     "output_type": "stream",
     "text": [
      "Predicted: talk.politics.guns, Actual: talk.politics.guns\n"
     ]
    },
    {
     "name": "stderr",
     "output_type": "stream",
     "text": [
      " 76%|███████▌  | 76/100 [06:33<02:07,  5.29s/it]"
     ]
    },
    {
     "name": "stdout",
     "output_type": "stream",
     "text": [
      "Predicted: comp.windows.x, Actual: comp.graphics\n"
     ]
    },
    {
     "name": "stderr",
     "output_type": "stream",
     "text": [
      " 77%|███████▋  | 77/100 [06:38<02:02,  5.34s/it]"
     ]
    },
    {
     "name": "stdout",
     "output_type": "stream",
     "text": [
      "Predicted: comp.os.ms-windows.misc, Actual: comp.os.ms-windows.misc\n"
     ]
    },
    {
     "name": "stderr",
     "output_type": "stream",
     "text": [
      " 78%|███████▊  | 78/100 [06:44<01:56,  5.28s/it]"
     ]
    },
    {
     "name": "stdout",
     "output_type": "stream",
     "text": [
      "Predicted: talk.politics.mideast, Actual: talk.politics.mideast\n"
     ]
    },
    {
     "name": "stderr",
     "output_type": "stream",
     "text": [
      " 79%|███████▉  | 79/100 [06:49<01:49,  5.22s/it]"
     ]
    },
    {
     "name": "stdout",
     "output_type": "stream",
     "text": [
      "Predicted: rec.sport.hockey, Actual: rec.sport.hockey\n"
     ]
    },
    {
     "name": "stderr",
     "output_type": "stream",
     "text": [
      " 80%|████████  | 80/100 [06:54<01:45,  5.26s/it]"
     ]
    },
    {
     "name": "stdout",
     "output_type": "stream",
     "text": [
      "Predicted: comp.sys.mac.hardware, Actual: soc.religion.christian\n"
     ]
    },
    {
     "name": "stderr",
     "output_type": "stream",
     "text": [
      " 81%|████████  | 81/100 [06:59<01:38,  5.21s/it]"
     ]
    },
    {
     "name": "stdout",
     "output_type": "stream",
     "text": [
      "Predicted: rec.sport.baseball, Actual: rec.sport.baseball\n"
     ]
    },
    {
     "name": "stderr",
     "output_type": "stream",
     "text": [
      " 82%|████████▏ | 82/100 [07:04<01:33,  5.19s/it]"
     ]
    },
    {
     "name": "stdout",
     "output_type": "stream",
     "text": [
      "Predicted: comp.windows.x, Actual: comp.windows.x\n"
     ]
    },
    {
     "name": "stderr",
     "output_type": "stream",
     "text": [
      " 83%|████████▎ | 83/100 [07:09<01:28,  5.22s/it]"
     ]
    },
    {
     "name": "stdout",
     "output_type": "stream",
     "text": [
      "Predicted: soc.religion.christian, Actual: soc.religion.christian\n"
     ]
    },
    {
     "name": "stderr",
     "output_type": "stream",
     "text": [
      " 84%|████████▍ | 84/100 [07:15<01:24,  5.29s/it]"
     ]
    },
    {
     "name": "stdout",
     "output_type": "stream",
     "text": [
      "Predicted: sci.space, Actual: sci.space\n"
     ]
    },
    {
     "name": "stderr",
     "output_type": "stream",
     "text": [
      " 85%|████████▌ | 85/100 [07:20<01:18,  5.26s/it]"
     ]
    },
    {
     "name": "stdout",
     "output_type": "stream",
     "text": [
      "Predicted: comp.os.ms-windows.misc, Actual: comp.windows.x\n"
     ]
    },
    {
     "name": "stderr",
     "output_type": "stream",
     "text": [
      " 86%|████████▌ | 86/100 [07:26<01:15,  5.36s/it]"
     ]
    },
    {
     "name": "stdout",
     "output_type": "stream",
     "text": [
      "Predicted: soc.religion.christian, Actual: soc.religion.christian\n"
     ]
    },
    {
     "name": "stderr",
     "output_type": "stream",
     "text": [
      " 87%|████████▋ | 87/100 [07:31<01:09,  5.37s/it]"
     ]
    },
    {
     "name": "stdout",
     "output_type": "stream",
     "text": [
      "Predicted: talk.politics.misc, Actual: talk.politics.misc\n"
     ]
    },
    {
     "name": "stderr",
     "output_type": "stream",
     "text": [
      " 88%|████████▊ | 88/100 [07:36<01:04,  5.35s/it]"
     ]
    },
    {
     "name": "stdout",
     "output_type": "stream",
     "text": [
      "Predicted: alt.atheism, Actual: sci.crypt\n"
     ]
    },
    {
     "name": "stderr",
     "output_type": "stream",
     "text": [
      " 89%|████████▉ | 89/100 [07:42<00:58,  5.33s/it]"
     ]
    },
    {
     "name": "stdout",
     "output_type": "stream",
     "text": [
      "Predicted: misc.forsale, Actual: misc.forsale\n"
     ]
    },
    {
     "name": "stderr",
     "output_type": "stream",
     "text": [
      " 90%|█████████ | 90/100 [07:47<00:53,  5.34s/it]"
     ]
    },
    {
     "name": "stdout",
     "output_type": "stream",
     "text": [
      "Predicted: sci.crypt, Actual: sci.crypt\n"
     ]
    },
    {
     "name": "stderr",
     "output_type": "stream",
     "text": [
      " 91%|█████████ | 91/100 [07:52<00:47,  5.31s/it]"
     ]
    },
    {
     "name": "stdout",
     "output_type": "stream",
     "text": [
      "Predicted: alt.atheism, Actual: talk.politics.mideast\n"
     ]
    },
    {
     "name": "stderr",
     "output_type": "stream",
     "text": [
      " 92%|█████████▏| 92/100 [07:58<00:42,  5.31s/it]"
     ]
    },
    {
     "name": "stdout",
     "output_type": "stream",
     "text": [
      "Predicted: comp.os.ms-windows.misc, Actual: comp.sys.ibm.pc.hardware\n"
     ]
    },
    {
     "name": "stderr",
     "output_type": "stream",
     "text": [
      " 93%|█████████▎| 93/100 [08:03<00:36,  5.27s/it]"
     ]
    },
    {
     "name": "stdout",
     "output_type": "stream",
     "text": [
      "Predicted: rec.sport.hockey, Actual: rec.autos\n"
     ]
    },
    {
     "name": "stderr",
     "output_type": "stream",
     "text": [
      " 94%|█████████▍| 94/100 [08:08<00:31,  5.30s/it]"
     ]
    },
    {
     "name": "stdout",
     "output_type": "stream",
     "text": [
      "Predicted: comp.os.ms-windows.misc, Actual: comp.graphics\n"
     ]
    },
    {
     "name": "stderr",
     "output_type": "stream",
     "text": [
      " 95%|█████████▌| 95/100 [08:13<00:26,  5.24s/it]"
     ]
    },
    {
     "name": "stdout",
     "output_type": "stream",
     "text": [
      "Predicted: misc.forsale, Actual: misc.forsale\n"
     ]
    },
    {
     "name": "stderr",
     "output_type": "stream",
     "text": [
      " 96%|█████████▌| 96/100 [08:18<00:20,  5.18s/it]"
     ]
    },
    {
     "name": "stdout",
     "output_type": "stream",
     "text": [
      "Predicted: sci.electronics, Actual: misc.forsale\n"
     ]
    },
    {
     "name": "stderr",
     "output_type": "stream",
     "text": [
      " 97%|█████████▋| 97/100 [08:23<00:15,  5.11s/it]"
     ]
    },
    {
     "name": "stdout",
     "output_type": "stream",
     "text": [
      "Predicted: rec.sport.hockey, Actual: rec.motorcycles\n"
     ]
    },
    {
     "name": "stderr",
     "output_type": "stream",
     "text": [
      " 98%|█████████▊| 98/100 [08:28<00:10,  5.14s/it]"
     ]
    },
    {
     "name": "stdout",
     "output_type": "stream",
     "text": [
      "Predicted: comp.windows.x, Actual: comp.windows.x\n"
     ]
    },
    {
     "name": "stderr",
     "output_type": "stream",
     "text": [
      " 99%|█████████▉| 99/100 [08:34<00:05,  5.12s/it]"
     ]
    },
    {
     "name": "stdout",
     "output_type": "stream",
     "text": [
      "Predicted: sci.crypt, Actual: sci.crypt\n"
     ]
    },
    {
     "name": "stderr",
     "output_type": "stream",
     "text": [
      "100%|██████████| 100/100 [08:38<00:00,  5.19s/it]"
     ]
    },
    {
     "name": "stdout",
     "output_type": "stream",
     "text": [
      "Predicted: rec.sport.baseball, Actual: talk.politics.guns\n"
     ]
    },
    {
     "name": "stderr",
     "output_type": "stream",
     "text": [
      "\n"
     ]
    }
   ],
   "source": [
    "#Test the KNN classifier on text data\n",
    "\n",
    "knn_text = KNNTextClassifier(k=10)\n",
    "\n",
    "knn_text.fit(train_set, train_labels) # fit on the training data\n",
    "\n",
    "# print(X_test.shape)\n",
    "# print(X_train.shape)\n",
    "# print(type(X_test[0]))\n",
    "\n",
    "accuracy = 0.0\n",
    "correct = 0\n",
    "\n",
    "# new = csr_matrix(X_test)\n",
    "# # X_test = X_test.todense()\n",
    "# new = new.todense()\n",
    "# print(new.shape)\n",
    "# X_test = new\n",
    "# print(X_test.shape[0])\n",
    "\n",
    "# for test_image in tqdm(range(test_set.shape[0])):\n",
    "for test_image in tqdm(range(100)):\n",
    "    prediction = knn_text.predict(test_set[test_image]) \n",
    "    print(f\"Predicted: {newsgroups.target_names[prediction]}, Actual: {newsgroups.target_names[test_labels[test_image]]}\")\n",
    "\n",
    "    if prediction == test_labels[test_image]:\n",
    "        correct += 1\n",
    "    accuracy = correct / (test_image + 1)"
   ]
  },
  {
   "cell_type": "code",
   "execution_count": null,
   "metadata": {},
   "outputs": [],
   "source": []
  }
 ],
 "metadata": {
  "kernelspec": {
   "display_name": "Python 3",
   "language": "python",
   "name": "python3"
  },
  "language_info": {
   "codemirror_mode": {
    "name": "ipython",
    "version": 3
   },
   "file_extension": ".py",
   "mimetype": "text/x-python",
   "name": "python",
   "nbconvert_exporter": "python",
   "pygments_lexer": "ipython3",
   "version": "3.12.8"
  }
 },
 "nbformat": 4,
 "nbformat_minor": 2
}
