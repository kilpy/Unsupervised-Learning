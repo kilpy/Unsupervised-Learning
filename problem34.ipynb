{
 "cells": [
  {
   "cell_type": "markdown",
   "metadata": {},
   "source": [
    "Your first task is parsing. As this is the first assignment and as the parsers are very different for the two datasets (images vs. text), you may use any library/package to aid in the parsing here, however you are encouraged to write your own."
   ]
  },
  {
   "cell_type": "code",
   "execution_count": 1,
   "metadata": {},
   "outputs": [
    {
     "name": "stdout",
     "output_type": "stream",
     "text": [
      "Requirement already satisfied: scikit-learn in c:\\users\\koola\\appdata\\local\\programs\\python\\python312\\lib\\site-packages (1.5.2)\n",
      "Requirement already satisfied: numpy>=1.19.5 in c:\\users\\koola\\appdata\\local\\programs\\python\\python312\\lib\\site-packages (from scikit-learn) (1.26.4)\n",
      "Requirement already satisfied: scipy>=1.6.0 in c:\\users\\koola\\appdata\\local\\programs\\python\\python312\\lib\\site-packages (from scikit-learn) (1.14.1)\n",
      "Requirement already satisfied: joblib>=1.2.0 in c:\\users\\koola\\appdata\\local\\programs\\python\\python312\\lib\\site-packages (from scikit-learn) (1.4.2)\n",
      "Requirement already satisfied: threadpoolctl>=3.1.0 in c:\\users\\koola\\appdata\\local\\programs\\python\\python312\\lib\\site-packages (from scikit-learn) (3.5.0)\n",
      "Note: you may need to restart the kernel to use updated packages.\n"
     ]
    },
    {
     "name": "stderr",
     "output_type": "stream",
     "text": [
      "\n",
      "[notice] A new release of pip is available: 24.2 -> 24.3.1\n",
      "[notice] To update, run: python.exe -m pip install --upgrade pip\n"
     ]
    },
    {
     "name": "stdout",
     "output_type": "stream",
     "text": [
      "Requirement already satisfied: torch in c:\\users\\koola\\appdata\\local\\programs\\python\\python312\\lib\\site-packages (2.4.1)\n",
      "Requirement already satisfied: filelock in c:\\users\\koola\\appdata\\local\\programs\\python\\python312\\lib\\site-packages (from torch) (3.16.1)\n",
      "Requirement already satisfied: typing-extensions>=4.8.0 in c:\\users\\koola\\appdata\\local\\programs\\python\\python312\\lib\\site-packages (from torch) (4.12.2)\n",
      "Requirement already satisfied: sympy in c:\\users\\koola\\appdata\\local\\programs\\python\\python312\\lib\\site-packages (from torch) (1.13.3)\n",
      "Requirement already satisfied: networkx in c:\\users\\koola\\appdata\\local\\programs\\python\\python312\\lib\\site-packages (from torch) (3.3)\n",
      "Requirement already satisfied: jinja2 in c:\\users\\koola\\appdata\\local\\programs\\python\\python312\\lib\\site-packages (from torch) (3.1.4)\n",
      "Requirement already satisfied: fsspec in c:\\users\\koola\\appdata\\local\\programs\\python\\python312\\lib\\site-packages (from torch) (2024.9.0)\n",
      "Requirement already satisfied: setuptools in c:\\users\\koola\\appdata\\local\\programs\\python\\python312\\lib\\site-packages (from torch) (75.1.0)\n",
      "Requirement already satisfied: MarkupSafe>=2.0 in c:\\users\\koola\\appdata\\local\\programs\\python\\python312\\lib\\site-packages (from jinja2->torch) (3.0.1)\n",
      "Requirement already satisfied: mpmath<1.4,>=1.1.0 in c:\\users\\koola\\appdata\\local\\programs\\python\\python312\\lib\\site-packages (from sympy->torch) (1.3.0)\n",
      "Note: you may need to restart the kernel to use updated packages.\n"
     ]
    },
    {
     "name": "stderr",
     "output_type": "stream",
     "text": [
      "\n",
      "[notice] A new release of pip is available: 24.2 -> 24.3.1\n",
      "[notice] To update, run: python.exe -m pip install --upgrade pip\n"
     ]
    },
    {
     "name": "stdout",
     "output_type": "stream",
     "text": [
      "Requirement already satisfied: torchvision in c:\\users\\koola\\appdata\\local\\programs\\python\\python312\\lib\\site-packages (0.19.1)\n",
      "Requirement already satisfied: numpy in c:\\users\\koola\\appdata\\local\\programs\\python\\python312\\lib\\site-packages (from torchvision) (1.26.4)\n",
      "Requirement already satisfied: torch==2.4.1 in c:\\users\\koola\\appdata\\local\\programs\\python\\python312\\lib\\site-packages (from torchvision) (2.4.1)\n",
      "Requirement already satisfied: pillow!=8.3.*,>=5.3.0 in c:\\users\\koola\\appdata\\local\\programs\\python\\python312\\lib\\site-packages (from torchvision) (10.4.0)\n",
      "Requirement already satisfied: filelock in c:\\users\\koola\\appdata\\local\\programs\\python\\python312\\lib\\site-packages (from torch==2.4.1->torchvision) (3.16.1)\n",
      "Requirement already satisfied: typing-extensions>=4.8.0 in c:\\users\\koola\\appdata\\local\\programs\\python\\python312\\lib\\site-packages (from torch==2.4.1->torchvision) (4.12.2)\n",
      "Requirement already satisfied: sympy in c:\\users\\koola\\appdata\\local\\programs\\python\\python312\\lib\\site-packages (from torch==2.4.1->torchvision) (1.13.3)\n",
      "Requirement already satisfied: networkx in c:\\users\\koola\\appdata\\local\\programs\\python\\python312\\lib\\site-packages (from torch==2.4.1->torchvision) (3.3)\n",
      "Requirement already satisfied: jinja2 in c:\\users\\koola\\appdata\\local\\programs\\python\\python312\\lib\\site-packages (from torch==2.4.1->torchvision) (3.1.4)\n",
      "Requirement already satisfied: fsspec in c:\\users\\koola\\appdata\\local\\programs\\python\\python312\\lib\\site-packages (from torch==2.4.1->torchvision) (2024.9.0)\n",
      "Requirement already satisfied: setuptools in c:\\users\\koola\\appdata\\local\\programs\\python\\python312\\lib\\site-packages (from torch==2.4.1->torchvision) (75.1.0)\n",
      "Requirement already satisfied: MarkupSafe>=2.0 in c:\\users\\koola\\appdata\\local\\programs\\python\\python312\\lib\\site-packages (from jinja2->torch==2.4.1->torchvision) (3.0.1)\n",
      "Requirement already satisfied: mpmath<1.4,>=1.1.0 in c:\\users\\koola\\appdata\\local\\programs\\python\\python312\\lib\\site-packages (from sympy->torch==2.4.1->torchvision) (1.3.0)\n",
      "Note: you may need to restart the kernel to use updated packages.\n"
     ]
    },
    {
     "name": "stderr",
     "output_type": "stream",
     "text": [
      "\n",
      "[notice] A new release of pip is available: 24.2 -> 24.3.1\n",
      "[notice] To update, run: python.exe -m pip install --upgrade pip\n"
     ]
    }
   ],
   "source": [
    "#FIRST: PARSING\n",
    "%pip install scikit-learn\n",
    "%pip install torch\n",
    "%pip install torchvision\n",
    "import sklearn\n",
    "import pandas as pd\n",
    "import numpy as np\n",
    "import torch\n",
    "import torchvision\n",
    "import torchvision.transforms as transforms\n",
    "import matplotlib.pyplot as plt\n",
    "from sklearn.datasets import fetch_20newsgroups\n",
    "from sklearn.feature_extraction.text import TfidfVectorizer"
   ]
  },
  {
   "cell_type": "code",
   "execution_count": 71,
   "metadata": {},
   "outputs": [
    {
     "name": "stdout",
     "output_type": "stream",
     "text": [
      "(60000, 28, 28) (60000,)\n",
      "(10000, 28, 28) (10000,)\n"
     ]
    }
   ],
   "source": [
    "# Parse the MNIST dataset\n",
    "mnist_train = torchvision.datasets.MNIST(root='data', train=True, download=True, transform=torchvision.transforms.ToTensor())\n",
    "mnist_test = torchvision.datasets.MNIST(root='data', train=False, download=True, transform=torchvision.transforms.ToTensor())\n",
    "# print(mnist_train)\n",
    "# print(mnist_test)\n",
    "\n",
    "# convert to numpy, tensor to numpy\n",
    "train_images = mnist_train.data.numpy().astype(np.float64)\n",
    "train_labels = mnist_train.targets.numpy()\n",
    "print(train_images.shape, train_labels.shape)\n",
    "\n",
    "test_images = mnist_test.data.numpy().astype(np.float64) \n",
    "test_labels = mnist_test.targets.numpy()\n",
    "print(test_images.shape, test_labels.shape)"
   ]
  },
  {
   "cell_type": "code",
   "execution_count": 72,
   "metadata": {},
   "outputs": [
    {
     "name": "stdout",
     "output_type": "stream",
     "text": [
      "[[  0.   0.   0.   0.   0.   0.   0.   0.   0.   0.   0.   0.   0.   0.\n",
      "    0.   0.   0.   0.   0.   0.   0.   0.   0.   0.   0.   0.   0.   0.]\n",
      " [  0.   0.   0.   0.   0.   0.   0.   0.   0.   0.   0.   0.   0.   0.\n",
      "    0.   0.   0.   0.   0.   0.   0.   0.   0.   0.   0.   0.   0.   0.]\n",
      " [  0.   0.   0.   0.   0.   0.   0.   0.   0.   0.   0.   0.   0.   0.\n",
      "    0.   0.   0.   0.   0.   0.   0.   0.   0.   0.   0.   0.   0.   0.]\n",
      " [  0.   0.   0.   0.   0.   0.   0.   0.   0.   0.   0.   0.   0.   0.\n",
      "    0.   0.   0.   0.   0.   0.   0.   0.   0.   0.   0.   0.   0.   0.]\n",
      " [  0.   0.   0.   0.   0.   0.   0.   0.   0.   0.   0.   0.   0.   0.\n",
      "    0.   0.   0.   0.   0.   0.   0.   0.   0.   0.   0.   0.   0.   0.]\n",
      " [  0.   0.   0.   0.   0.   0.   0.   0.   0.   0.   0.   0.   3.  18.\n",
      "   18.  18. 126. 136. 175.  26. 166. 255. 247. 127.   0.   0.   0.   0.]\n",
      " [  0.   0.   0.   0.   0.   0.   0.   0.  30.  36.  94. 154. 170. 253.\n",
      "  253. 253. 253. 253. 225. 172. 253. 242. 195.  64.   0.   0.   0.   0.]\n",
      " [  0.   0.   0.   0.   0.   0.   0.  49. 238. 253. 253. 253. 253. 253.\n",
      "  253. 253. 253. 251.  93.  82.  82.  56.  39.   0.   0.   0.   0.   0.]\n",
      " [  0.   0.   0.   0.   0.   0.   0.  18. 219. 253. 253. 253. 253. 253.\n",
      "  198. 182. 247. 241.   0.   0.   0.   0.   0.   0.   0.   0.   0.   0.]\n",
      " [  0.   0.   0.   0.   0.   0.   0.   0.  80. 156. 107. 253. 253. 205.\n",
      "   11.   0.  43. 154.   0.   0.   0.   0.   0.   0.   0.   0.   0.   0.]\n",
      " [  0.   0.   0.   0.   0.   0.   0.   0.   0.  14.   1. 154. 253.  90.\n",
      "    0.   0.   0.   0.   0.   0.   0.   0.   0.   0.   0.   0.   0.   0.]\n",
      " [  0.   0.   0.   0.   0.   0.   0.   0.   0.   0.   0. 139. 253. 190.\n",
      "    2.   0.   0.   0.   0.   0.   0.   0.   0.   0.   0.   0.   0.   0.]\n",
      " [  0.   0.   0.   0.   0.   0.   0.   0.   0.   0.   0.  11. 190. 253.\n",
      "   70.   0.   0.   0.   0.   0.   0.   0.   0.   0.   0.   0.   0.   0.]\n",
      " [  0.   0.   0.   0.   0.   0.   0.   0.   0.   0.   0.   0.  35. 241.\n",
      "  225. 160. 108.   1.   0.   0.   0.   0.   0.   0.   0.   0.   0.   0.]\n",
      " [  0.   0.   0.   0.   0.   0.   0.   0.   0.   0.   0.   0.   0.  81.\n",
      "  240. 253. 253. 119.  25.   0.   0.   0.   0.   0.   0.   0.   0.   0.]\n",
      " [  0.   0.   0.   0.   0.   0.   0.   0.   0.   0.   0.   0.   0.   0.\n",
      "   45. 186. 253. 253. 150.  27.   0.   0.   0.   0.   0.   0.   0.   0.]\n",
      " [  0.   0.   0.   0.   0.   0.   0.   0.   0.   0.   0.   0.   0.   0.\n",
      "    0.  16.  93. 252. 253. 187.   0.   0.   0.   0.   0.   0.   0.   0.]\n",
      " [  0.   0.   0.   0.   0.   0.   0.   0.   0.   0.   0.   0.   0.   0.\n",
      "    0.   0.   0. 249. 253. 249.  64.   0.   0.   0.   0.   0.   0.   0.]\n",
      " [  0.   0.   0.   0.   0.   0.   0.   0.   0.   0.   0.   0.   0.   0.\n",
      "   46. 130. 183. 253. 253. 207.   2.   0.   0.   0.   0.   0.   0.   0.]\n",
      " [  0.   0.   0.   0.   0.   0.   0.   0.   0.   0.   0.   0.  39. 148.\n",
      "  229. 253. 253. 253. 250. 182.   0.   0.   0.   0.   0.   0.   0.   0.]\n",
      " [  0.   0.   0.   0.   0.   0.   0.   0.   0.   0.  24. 114. 221. 253.\n",
      "  253. 253. 253. 201.  78.   0.   0.   0.   0.   0.   0.   0.   0.   0.]\n",
      " [  0.   0.   0.   0.   0.   0.   0.   0.  23.  66. 213. 253. 253. 253.\n",
      "  253. 198.  81.   2.   0.   0.   0.   0.   0.   0.   0.   0.   0.   0.]\n",
      " [  0.   0.   0.   0.   0.   0.  18. 171. 219. 253. 253. 253. 253. 195.\n",
      "   80.   9.   0.   0.   0.   0.   0.   0.   0.   0.   0.   0.   0.   0.]\n",
      " [  0.   0.   0.   0.  55. 172. 226. 253. 253. 253. 253. 244. 133.  11.\n",
      "    0.   0.   0.   0.   0.   0.   0.   0.   0.   0.   0.   0.   0.   0.]\n",
      " [  0.   0.   0.   0. 136. 253. 253. 253. 212. 135. 132.  16.   0.   0.\n",
      "    0.   0.   0.   0.   0.   0.   0.   0.   0.   0.   0.   0.   0.   0.]\n",
      " [  0.   0.   0.   0.   0.   0.   0.   0.   0.   0.   0.   0.   0.   0.\n",
      "    0.   0.   0.   0.   0.   0.   0.   0.   0.   0.   0.   0.   0.   0.]\n",
      " [  0.   0.   0.   0.   0.   0.   0.   0.   0.   0.   0.   0.   0.   0.\n",
      "    0.   0.   0.   0.   0.   0.   0.   0.   0.   0.   0.   0.   0.   0.]\n",
      " [  0.   0.   0.   0.   0.   0.   0.   0.   0.   0.   0.   0.   0.   0.\n",
      "    0.   0.   0.   0.   0.   0.   0.   0.   0.   0.   0.   0.   0.   0.]]\n",
      "<class 'numpy.ndarray'>\n"
     ]
    },
    {
     "data": {
      "text/plain": [
       "Text(0.5, 1.0, 'Label: 5')"
      ]
     },
     "execution_count": 72,
     "metadata": {},
     "output_type": "execute_result"
    },
    {
     "data": {
      "image/png": "[encoded data removed]",
      "text/plain": [
       "<Figure size 640x480 with 1 Axes>"
      ]
     },
     "metadata": {},
     "output_type": "display_data"
    }
   ],
   "source": [
    "# VISUALIZATION:\n",
    "print(train_images[0])\n",
    "print(type(train_images[0]))\n",
    "plt.imshow(train_images[0], cmap='gray')\n",
    "plt.title(f\"Label: {train_labels[0]}\")"
   ]
  },
  {
   "cell_type": "code",
   "execution_count": 73,
   "metadata": {},
   "outputs": [
    {
     "name": "stdout",
     "output_type": "stream",
     "text": [
      "Defaulting to user installation because normal site-packages is not writeable\n",
      "Requirement already satisfied: tqdm in c:\\users\\koola\\appdata\\local\\packages\\pythonsoftwarefoundation.python.3.12_qbz5n2kfra8p0\\localcache\\local-packages\\python312\\site-packages (4.67.1)\n",
      "Requirement already satisfied: colorama in c:\\users\\koola\\appdata\\local\\packages\\pythonsoftwarefoundation.python.3.12_qbz5n2kfra8p0\\localcache\\local-packages\\python312\\site-packages (from tqdm) (0.4.6)\n",
      "Note: you may need to restart the kernel to use updated packages.\n"
     ]
    }
   ],
   "source": [
    "%pip install tqdm\n",
    "from tqdm import tqdm"
   ]
  },
  {
   "cell_type": "code",
   "execution_count": 74,
   "metadata": {},
   "outputs": [],
   "source": [
    "# SECOND TASK: normalization\n",
    "\n",
    "# 1. Shift and scale normalization:\n",
    "    # Subtract the minimum, then divide by new maximum\n",
    "    # This will shift the minimum to 0 and the maximum to 1\n",
    "# 3. Term-Frequency (TF) weighting:\n",
    "    # Map each term in a document with its frequency (text only), up to me to determine appropriate normalization\n",
    "\n",
    "# MNIST Dataset: \n",
    "    # Make sure any value transformation retains the 0 values\n",
    "    # <0, 255> -> <0, 1> essentially black and white\n",
    "\n",
    "# 1. Shift and scale normalization:\n",
    "    # Subtract the minimum, then divide by new maximum\n",
    "    # This will shift the minimum to 0 and the maximum to 1\n",
    "shift_scale_train_images = train_images / 255.0\n",
    "\n",
    "# for image in tqdm(shift_scale_train_images):\n",
    "#     for col in image:\n",
    "#         for pixel in col:\n",
    "#             pixel = (pixel - 0.0) / (255.0 - 0.0)\n"
   ]
  },
  {
   "cell_type": "code",
   "execution_count": 75,
   "metadata": {},
   "outputs": [
    {
     "name": "stdout",
     "output_type": "stream",
     "text": [
      "[[0.         0.         0.         0.         0.         0.\n",
      "  0.         0.         0.         0.         0.         0.\n",
      "  0.         0.         0.         0.         0.         0.\n",
      "  0.         0.         0.         0.         0.         0.\n",
      "  0.         0.         0.         0.        ]\n",
      " [0.         0.         0.         0.         0.         0.\n",
      "  0.         0.         0.         0.         0.         0.\n",
      "  0.         0.         0.         0.         0.         0.\n",
      "  0.         0.         0.         0.         0.         0.\n",
      "  0.         0.         0.         0.        ]\n",
      " [0.         0.         0.         0.         0.         0.\n",
      "  0.         0.         0.         0.         0.         0.\n",
      "  0.         0.         0.         0.         0.         0.\n",
      "  0.         0.         0.         0.         0.         0.\n",
      "  0.         0.         0.         0.        ]\n",
      " [0.         0.         0.         0.         0.         0.\n",
      "  0.         0.         0.         0.         0.         0.\n",
      "  0.         0.         0.         0.         0.         0.\n",
      "  0.         0.         0.         0.         0.         0.\n",
      "  0.         0.         0.         0.        ]\n",
      " [0.         0.         0.         0.         0.         0.\n",
      "  0.         0.         0.         0.         0.         0.\n",
      "  0.         0.         0.         0.         0.         0.\n",
      "  0.         0.         0.         0.         0.         0.\n",
      "  0.         0.         0.         0.        ]\n",
      " [0.         0.         0.         0.         0.         0.\n",
      "  0.         0.         0.         0.         0.         0.\n",
      "  0.01176471 0.07058824 0.07058824 0.07058824 0.49411765 0.53333333\n",
      "  0.68627451 0.10196078 0.65098039 1.         0.96862745 0.49803922\n",
      "  0.         0.         0.         0.        ]\n",
      " [0.         0.         0.         0.         0.         0.\n",
      "  0.         0.         0.11764706 0.14117647 0.36862745 0.60392157\n",
      "  0.66666667 0.99215686 0.99215686 0.99215686 0.99215686 0.99215686\n",
      "  0.88235294 0.6745098  0.99215686 0.94901961 0.76470588 0.25098039\n",
      "  0.         0.         0.         0.        ]\n",
      " [0.         0.         0.         0.         0.         0.\n",
      "  0.         0.19215686 0.93333333 0.99215686 0.99215686 0.99215686\n",
      "  0.99215686 0.99215686 0.99215686 0.99215686 0.99215686 0.98431373\n",
      "  0.36470588 0.32156863 0.32156863 0.21960784 0.15294118 0.\n",
      "  0.         0.         0.         0.        ]\n",
      " [0.         0.         0.         0.         0.         0.\n",
      "  0.         0.07058824 0.85882353 0.99215686 0.99215686 0.99215686\n",
      "  0.99215686 0.99215686 0.77647059 0.71372549 0.96862745 0.94509804\n",
      "  0.         0.         0.         0.         0.         0.\n",
      "  0.         0.         0.         0.        ]\n",
      " [0.         0.         0.         0.         0.         0.\n",
      "  0.         0.         0.31372549 0.61176471 0.41960784 0.99215686\n",
      "  0.99215686 0.80392157 0.04313725 0.         0.16862745 0.60392157\n",
      "  0.         0.         0.         0.         0.         0.\n",
      "  0.         0.         0.         0.        ]\n",
      " [0.         0.         0.         0.         0.         0.\n",
      "  0.         0.         0.         0.05490196 0.00392157 0.60392157\n",
      "  0.99215686 0.35294118 0.         0.         0.         0.\n",
      "  0.         0.         0.         0.         0.         0.\n",
      "  0.         0.         0.         0.        ]\n",
      " [0.         0.         0.         0.         0.         0.\n",
      "  0.         0.         0.         0.         0.         0.54509804\n",
      "  0.99215686 0.74509804 0.00784314 0.         0.         0.\n",
      "  0.         0.         0.         0.         0.         0.\n",
      "  0.         0.         0.         0.        ]\n",
      " [0.         0.         0.         0.         0.         0.\n",
      "  0.         0.         0.         0.         0.         0.04313725\n",
      "  0.74509804 0.99215686 0.2745098  0.         0.         0.\n",
      "  0.         0.         0.         0.         0.         0.\n",
      "  0.         0.         0.         0.        ]\n",
      " [0.         0.         0.         0.         0.         0.\n",
      "  0.         0.         0.         0.         0.         0.\n",
      "  0.1372549  0.94509804 0.88235294 0.62745098 0.42352941 0.00392157\n",
      "  0.         0.         0.         0.         0.         0.\n",
      "  0.         0.         0.         0.        ]\n",
      " [0.         0.         0.         0.         0.         0.\n",
      "  0.         0.         0.         0.         0.         0.\n",
      "  0.         0.31764706 0.94117647 0.99215686 0.99215686 0.46666667\n",
      "  0.09803922 0.         0.         0.         0.         0.\n",
      "  0.         0.         0.         0.        ]\n",
      " [0.         0.         0.         0.         0.         0.\n",
      "  0.         0.         0.         0.         0.         0.\n",
      "  0.         0.         0.17647059 0.72941176 0.99215686 0.99215686\n",
      "  0.58823529 0.10588235 0.         0.         0.         0.\n",
      "  0.         0.         0.         0.        ]\n",
      " [0.         0.         0.         0.         0.         0.\n",
      "  0.         0.         0.         0.         0.         0.\n",
      "  0.         0.         0.         0.0627451  0.36470588 0.98823529\n",
      "  0.99215686 0.73333333 0.         0.         0.         0.\n",
      "  0.         0.         0.         0.        ]\n",
      " [0.         0.         0.         0.         0.         0.\n",
      "  0.         0.         0.         0.         0.         0.\n",
      "  0.         0.         0.         0.         0.         0.97647059\n",
      "  0.99215686 0.97647059 0.25098039 0.         0.         0.\n",
      "  0.         0.         0.         0.        ]\n",
      " [0.         0.         0.         0.         0.         0.\n",
      "  0.         0.         0.         0.         0.         0.\n",
      "  0.         0.         0.18039216 0.50980392 0.71764706 0.99215686\n",
      "  0.99215686 0.81176471 0.00784314 0.         0.         0.\n",
      "  0.         0.         0.         0.        ]\n",
      " [0.         0.         0.         0.         0.         0.\n",
      "  0.         0.         0.         0.         0.         0.\n",
      "  0.15294118 0.58039216 0.89803922 0.99215686 0.99215686 0.99215686\n",
      "  0.98039216 0.71372549 0.         0.         0.         0.\n",
      "  0.         0.         0.         0.        ]\n",
      " [0.         0.         0.         0.         0.         0.\n",
      "  0.         0.         0.         0.         0.09411765 0.44705882\n",
      "  0.86666667 0.99215686 0.99215686 0.99215686 0.99215686 0.78823529\n",
      "  0.30588235 0.         0.         0.         0.         0.\n",
      "  0.         0.         0.         0.        ]\n",
      " [0.         0.         0.         0.         0.         0.\n",
      "  0.         0.         0.09019608 0.25882353 0.83529412 0.99215686\n",
      "  0.99215686 0.99215686 0.99215686 0.77647059 0.31764706 0.00784314\n",
      "  0.         0.         0.         0.         0.         0.\n",
      "  0.         0.         0.         0.        ]\n",
      " [0.         0.         0.         0.         0.         0.\n",
      "  0.07058824 0.67058824 0.85882353 0.99215686 0.99215686 0.99215686\n",
      "  0.99215686 0.76470588 0.31372549 0.03529412 0.         0.\n",
      "  0.         0.         0.         0.         0.         0.\n",
      "  0.         0.         0.         0.        ]\n",
      " [0.         0.         0.         0.         0.21568627 0.6745098\n",
      "  0.88627451 0.99215686 0.99215686 0.99215686 0.99215686 0.95686275\n",
      "  0.52156863 0.04313725 0.         0.         0.         0.\n",
      "  0.         0.         0.         0.         0.         0.\n",
      "  0.         0.         0.         0.        ]\n",
      " [0.         0.         0.         0.         0.53333333 0.99215686\n",
      "  0.99215686 0.99215686 0.83137255 0.52941176 0.51764706 0.0627451\n",
      "  0.         0.         0.         0.         0.         0.\n",
      "  0.         0.         0.         0.         0.         0.\n",
      "  0.         0.         0.         0.        ]\n",
      " [0.         0.         0.         0.         0.         0.\n",
      "  0.         0.         0.         0.         0.         0.\n",
      "  0.         0.         0.         0.         0.         0.\n",
      "  0.         0.         0.         0.         0.         0.\n",
      "  0.         0.         0.         0.        ]\n",
      " [0.         0.         0.         0.         0.         0.\n",
      "  0.         0.         0.         0.         0.         0.\n",
      "  0.         0.         0.         0.         0.         0.\n",
      "  0.         0.         0.         0.         0.         0.\n",
      "  0.         0.         0.         0.        ]\n",
      " [0.         0.         0.         0.         0.         0.\n",
      "  0.         0.         0.         0.         0.         0.\n",
      "  0.         0.         0.         0.         0.         0.\n",
      "  0.         0.         0.         0.         0.         0.\n",
      "  0.         0.         0.         0.        ]]\n",
      "<class 'numpy.ndarray'>\n"
     ]
    },
    {
     "data": {
      "text/plain": [
       "Text(0.5, 1.0, 'Label: 5')"
      ]
     },
     "execution_count": 75,
     "metadata": {},
     "output_type": "execute_result"
    },
    {
     "data": {
      "image/png": "[encoded data removed]",
      "text/plain": [
       "<Figure size 640x480 with 1 Axes>"
      ]
     },
     "metadata": {},
     "output_type": "display_data"
    }
   ],
   "source": [
    "# Visualize the first image after normalization:\n",
    "print(shift_scale_train_images[0])\n",
    "print(type(shift_scale_train_images[0]))\n",
    "plt.imshow(shift_scale_train_images[0], cmap='gray')\n",
    "plt.title(f\"Label: {train_labels[0]}\")"
   ]
  },
  {
   "cell_type": "code",
   "execution_count": 76,
   "metadata": {},
   "outputs": [
    {
     "name": "stdout",
     "output_type": "stream",
     "text": [
      "(28, 28)\n",
      "(28, 28)\n"
     ]
    },
    {
     "name": "stderr",
     "output_type": "stream",
     "text": [
      "C:\\Users\\koola\\AppData\\Local\\Temp\\ipykernel_19760\\2750537632.py:7: RuntimeWarning: invalid value encountered in divide\n",
      "  zero_mean_unit_variance_train_images = (train_images - mean) / std\n"
     ]
    }
   ],
   "source": [
    "# 2. Zero mean, unit variance\n",
    "    # Subtract the mean, divide by the appropriate value to get variance = 1\n",
    "mean = np.mean(train_images, axis=0)\n",
    "print(mean.shape)\n",
    "std = np.std(train_images, axis=0)\n",
    "print(std.shape)\n",
    "zero_mean_unit_variance_train_images = (train_images - mean) / std\n",
    "# replace nan with 0\n",
    "zero_mean_unit_variance_train_images = np.nan_to_num(zero_mean_unit_variance_train_images)"
   ]
  },
  {
   "cell_type": "code",
   "execution_count": 77,
   "metadata": {},
   "outputs": [
    {
     "name": "stdout",
     "output_type": "stream",
     "text": [
      "[  0.   0.   0.   0.   0.   0.   0.   0.  30.  36.  94. 154. 170. 253.\n",
      " 253. 253. 253. 253. 225. 172. 253. 242. 195.  64.   0.   0.   0.   0.]\n",
      "103.57142857142857\n"
     ]
    }
   ],
   "source": [
    "# Zero mean from class notes:\n",
    "\n",
    "# mew = np.sum(train_images, axis=0) / train_images.shape[0]\n",
    "print(train_images[0][6])\n",
    "print(np.mean(train_images[0][6]))"
   ]
  },
  {
   "cell_type": "code",
   "execution_count": 78,
   "metadata": {},
   "outputs": [
    {
     "name": "stdout",
     "output_type": "stream",
     "text": [
      "[[0.00000000e+00 0.00000000e+00 0.00000000e+00 0.00000000e+00\n",
      "  0.00000000e+00 0.00000000e+00 0.00000000e+00 0.00000000e+00\n",
      "  0.00000000e+00 0.00000000e+00 0.00000000e+00 0.00000000e+00\n",
      "  2.10000000e-03 7.83333333e-03 3.60000000e-03 1.50000000e-04\n",
      "  0.00000000e+00 0.00000000e+00 0.00000000e+00 0.00000000e+00\n",
      "  0.00000000e+00 0.00000000e+00 0.00000000e+00 0.00000000e+00\n",
      "  0.00000000e+00 0.00000000e+00 0.00000000e+00 0.00000000e+00]\n",
      " [0.00000000e+00 0.00000000e+00 0.00000000e+00 0.00000000e+00\n",
      "  2.66666667e-04 9.16666667e-04 9.28333333e-03 2.42833333e-02\n",
      "  4.37166667e-02 6.41000000e-02 1.20133333e-01 1.60733333e-01\n",
      "  1.74183333e-01 1.77433333e-01 1.89316667e-01 1.74150000e-01\n",
      "  1.86933333e-01 1.53650000e-01 1.00116667e-01 7.12333333e-02\n",
      "  5.38166667e-02 2.13666667e-02 1.00833333e-02 3.53333333e-03\n",
      "  0.00000000e+00 0.00000000e+00 0.00000000e+00 0.00000000e+00]\n",
      " [0.00000000e+00 0.00000000e+00 1.06666667e-03 7.00000000e-04\n",
      "  6.95000000e-03 5.48333333e-03 4.71000000e-02 1.38400000e-01\n",
      "  2.64183333e-01 5.06616667e-01 8.66800000e-01 1.29008333e+00\n",
      "  1.87035000e+00 2.52995000e+00 3.20161667e+00 3.62555000e+00\n",
      "  3.72198333e+00 3.39255000e+00 2.80293333e+00 2.04438333e+00\n",
      "  1.20211667e+00 6.33450000e-01 2.96166667e-01 9.39833333e-02\n",
      "  3.52166667e-02 8.63333333e-03 0.00000000e+00 0.00000000e+00]\n",
      " [0.00000000e+00 0.00000000e+00 3.23333333e-03 5.85000000e-03\n",
      "  1.20166667e-02 6.97666667e-02 2.12083333e-01 5.46100000e-01\n",
      "  1.15441667e+00 2.21590000e+00 3.63963333e+00 5.43800000e+00\n",
      "  7.40705000e+00 9.69673333e+00 1.18830833e+01 1.32373667e+01\n",
      "  1.31246167e+01 1.18135167e+01 9.54366667e+00 6.86305000e+00\n",
      "  4.19365000e+00 2.27463333e+00 1.06103333e+00 4.13066667e-01\n",
      "  1.62083333e-01 2.77666667e-02 2.80000000e-03 0.00000000e+00]\n",
      " [0.00000000e+00 6.33333333e-04 5.21666667e-03 1.43500000e-02\n",
      "  8.08833333e-02 4.10216667e-01 1.04323333e+00 2.41928333e+00\n",
      "  4.77575000e+00 8.39441667e+00 1.33102667e+01 1.94773000e+01\n",
      "  2.70366833e+01 3.52121667e+01 4.18408000e+01 4.52526000e+01\n",
      "  4.43388333e+01 3.91414500e+01 3.13282167e+01 2.29239333e+01\n",
      "  1.48310167e+01 8.66140000e+00 4.54796667e+00 2.13701667e+00\n",
      "  8.62900000e-01 2.07750000e-01 2.96500000e-02 2.03333333e-03]\n",
      " [0.00000000e+00 0.00000000e+00 1.03166667e-02 6.33500000e-02\n",
      "  3.95466667e-01 1.46340000e+00 3.58778333e+00 7.22781667e+00\n",
      "  1.30171167e+01 2.12179167e+01 3.15004000e+01 4.42063667e+01\n",
      "  5.89038500e+01 7.38041500e+01 8.51027333e+01 9.05997833e+01\n",
      "  8.89239333e+01 8.01812500e+01 6.59428167e+01 4.97938333e+01\n",
      "  3.43498333e+01 2.15100000e+01 1.23903167e+01 6.63911667e+00\n",
      "  2.99271667e+00 8.43666667e-01 1.41633333e-01 4.70000000e-03]\n",
      " [0.00000000e+00 1.83333333e-04 2.75000000e-02 2.21433333e-01\n",
      "  1.11951667e+00 3.28990000e+00 7.43646667e+00 1.42544333e+01\n",
      "  2.41377500e+01 3.72885167e+01 5.31154000e+01 7.09128167e+01\n",
      "  8.92784667e+01 1.06232967e+02 1.18506117e+02 1.24098150e+02\n",
      "  1.21711333e+02 1.12033333e+02 9.61081167e+01 7.51653667e+01\n",
      "  5.40371167e+01 3.53124833e+01 2.09919000e+01 1.14424333e+01\n",
      "  5.38776667e+00 1.85558333e+00 3.72700000e-01 3.03000000e-02]\n",
      " [7.83333333e-04 1.97333333e-02 1.07666667e-01 5.95650000e-01\n",
      "  2.31240000e+00 5.92876667e+00 1.24360500e+01 2.24518000e+01\n",
      "  3.62947833e+01 5.38984167e+01 7.37647167e+01 9.41030833e+01\n",
      "  1.11579483e+02 1.24999917e+02 1.32759117e+02 1.35398700e+02\n",
      "  1.33338650e+02 1.26677533e+02 1.13546667e+02 9.37442667e+01\n",
      "  6.97779333e+01 4.68328833e+01 2.81439167e+01 1.52010500e+01\n",
      "  7.03366667e+00 2.58303333e+00 5.13100000e-01 3.18833333e-02]\n",
      " [4.06666667e-03 5.08166667e-02 3.29366667e-01 1.31735000e+00\n",
      "  3.74813333e+00 8.48346667e+00 1.68181833e+01 2.95974000e+01\n",
      "  4.69301500e+01 6.81070000e+01 9.02913833e+01 1.08475717e+02\n",
      "  1.19435417e+02 1.23393850e+02 1.23038050e+02 1.22340650e+02\n",
      "  1.22730050e+02 1.22144100e+02 1.16260933e+02 1.00610600e+02\n",
      "  7.73180333e+01 5.28976000e+01 3.18106167e+01 1.63576667e+01\n",
      "  7.18566667e+00 2.60661667e+00 4.81583333e-01 2.71833333e-02]\n",
      " [4.86666667e-03 7.94666667e-02 5.12016667e-01 1.71938333e+00\n",
      "  4.44581667e+00 9.80663333e+00 1.95264833e+01 3.45048167e+01\n",
      "  5.47009000e+01 7.81380333e+01 9.90387000e+01 1.10600467e+02\n",
      "  1.10787550e+02 1.04553617e+02 9.90472000e+01 9.93883833e+01\n",
      "  1.04333217e+02 1.10882067e+02 1.11078267e+02 9.91469167e+01\n",
      "  7.70405500e+01 5.27057667e+01 3.14484167e+01 1.53927167e+01\n",
      "  5.96113333e+00 1.89796667e+00 3.51833333e-01 2.82166667e-02]\n",
      " [6.66666667e-03 9.85666667e-02 5.23033333e-01 1.67458333e+00\n",
      "  4.28908333e+00 9.87643333e+00 2.05393167e+01 3.71890333e+01\n",
      "  5.97151167e+01 8.33987333e+01 1.00225900e+02 1.03168817e+02\n",
      "  9.38921333e+01 8.29528167e+01 7.94228333e+01 8.45250167e+01\n",
      "  9.38685833e+01 1.04427533e+02 1.06281183e+02 9.42218667e+01\n",
      "  7.18490667e+01 4.83172500e+01 2.84781833e+01 1.34981667e+01\n",
      "  4.60050000e+00 1.15010000e+00 2.21833333e-01 1.87333333e-02]\n",
      " [5.93333333e-03 7.64000000e-02 4.20883333e-01 1.28036667e+00\n",
      "  3.64608333e+00 9.55390000e+00 2.11332333e+01 3.98545167e+01\n",
      "  6.40892167e+01 8.72096667e+01 9.87805833e+01 9.48668500e+01\n",
      "  8.16835333e+01 7.33427667e+01 7.61450667e+01 8.54255500e+01\n",
      "  9.72928000e+01 1.07482583e+02 1.05509433e+02 8.90295000e+01\n",
      "  6.49443500e+01 4.24968833e+01 2.53411000e+01 1.25802167e+01\n",
      "  3.98988333e+00 6.04533333e-01 1.24500000e-01 8.16666667e-03]\n",
      " [3.80000000e-03 4.36833333e-02 2.42033333e-01 8.78816667e-01\n",
      "  3.06883333e+00 9.60745000e+00 2.27779833e+01 4.35750333e+01\n",
      "  6.89713333e+01 9.02567000e+01 9.78938167e+01 9.10827333e+01\n",
      "  7.97067500e+01 7.93691167e+01 8.93387000e+01 1.01714517e+02\n",
      "  1.13037867e+02 1.17581100e+02 1.07426717e+02 8.45188833e+01\n",
      "  5.85871667e+01 3.82634500e+01 2.37392333e+01 1.27121000e+01\n",
      "  4.29471667e+00 4.43250000e-01 7.97833333e-02 1.01666667e-02]\n",
      " [5.33333333e-04 1.82500000e-02 1.22616667e-01 6.07333333e-01\n",
      "  2.91783333e+00 1.06341667e+01 2.55538000e+01 4.75837167e+01\n",
      "  7.26322333e+01 9.16736500e+01 9.68884167e+01 9.10977333e+01\n",
      "  8.68673000e+01 9.69665500e+01 1.11371833e+02 1.23972067e+02\n",
      "  1.29806550e+02 1.26599550e+02 1.08880333e+02 8.11576333e+01\n",
      "  5.52258667e+01 3.72046000e+01 2.39728000e+01 1.36437500e+01\n",
      "  5.10268333e+00 5.84700000e-01 8.29833333e-02 1.08666667e-02]\n",
      " [1.88333333e-03 8.25000000e-03 5.41666667e-02 4.66183333e-01\n",
      "  3.06558333e+00 1.23512667e+01 2.85280667e+01 5.05083833e+01\n",
      "  7.37506167e+01 9.03691833e+01 9.50769833e+01 9.32885333e+01\n",
      "  9.78289500e+01 1.15421317e+02 1.30267250e+02 1.39553600e+02\n",
      "  1.37100633e+02 1.28085750e+02 1.06994517e+02 7.95539500e+01\n",
      "  5.60965667e+01 3.89430667e+01 2.55374667e+01 1.46162500e+01\n",
      "  5.72158333e+00 8.20300000e-01 9.24500000e-02 2.21666667e-03]\n",
      " [7.33333333e-04 3.86666667e-03 4.51000000e-02 5.05583333e-01\n",
      "  3.56056667e+00 1.44081500e+01 3.09883167e+01 5.12096333e+01\n",
      "  7.14404333e+01 8.57322167e+01 9.13810333e+01 9.42424333e+01\n",
      "  1.05047117e+02 1.23204200e+02 1.35689433e+02 1.39110050e+02\n",
      "  1.31804500e+02 1.21436567e+02 1.01340300e+02 7.83792667e+01\n",
      "  5.82829000e+01 4.12509333e+01 2.69801167e+01 1.48906000e+01\n",
      "  5.82828333e+00 1.07956667e+00 1.48216667e-01 1.08333333e-02]\n",
      " [6.66666667e-04 3.96666667e-03 7.43333333e-02 6.22966667e-01\n",
      "  4.46996667e+00 1.65289667e+01 3.25549167e+01 4.99447333e+01\n",
      "  6.63117167e+01 7.78862667e+01 8.37070500e+01 8.94484167e+01\n",
      "  1.01136017e+02 1.15857400e+02 1.26473417e+02 1.27426650e+02\n",
      "  1.21056817e+02 1.11218100e+02 9.53723333e+01 7.73547833e+01\n",
      "  5.96073333e+01 4.20403333e+01 2.67287667e+01 1.42431167e+01\n",
      "  5.61555000e+00 1.28710000e+00 1.91500000e-01 1.23000000e-02]\n",
      " [0.00000000e+00 7.28333333e-03 1.12200000e-01 9.53350000e-01\n",
      "  5.95223333e+00 1.85244000e+01 3.34512000e+01 4.81763500e+01\n",
      "  6.04605333e+01 6.92180333e+01 7.46814167e+01 8.07367000e+01\n",
      "  8.95865500e+01 1.01950417e+02 1.12616500e+02 1.15436917e+02\n",
      "  1.12244833e+02 1.04524150e+02 9.26265833e+01 7.72614833e+01\n",
      "  5.93285167e+01 4.08083000e+01 2.49427500e+01 1.28348000e+01\n",
      "  5.15665000e+00 1.41666667e+00 2.10033333e-01 8.88333333e-03]\n",
      " [1.90000000e-03 5.31666667e-03 1.80500000e-01 1.52015000e+00\n",
      "  7.62145000e+00 2.04178667e+01 3.49108333e+01 4.81825667e+01\n",
      "  5.82768500e+01 6.59944667e+01 7.17466333e+01 7.65832833e+01\n",
      "  8.31222000e+01 9.51299333e+01 1.06557200e+02 1.12201383e+02\n",
      "  1.11347933e+02 1.05018283e+02 9.36185833e+01 7.66274333e+01\n",
      "  5.67010833e+01 3.77625667e+01 2.25467167e+01 1.13823333e+01\n",
      "  4.57905000e+00 1.29855000e+00 1.53933333e-01 1.21833333e-02]\n",
      " [2.50000000e-04 1.21833333e-02 2.86316667e-01 2.04381667e+00\n",
      "  8.72351667e+00 2.17344667e+01 3.68331667e+01 5.09790667e+01\n",
      "  6.23501500e+01 7.12715167e+01 7.78803000e+01 8.26346667e+01\n",
      "  8.99674333e+01 1.01406317e+02 1.12445483e+02 1.17803450e+02\n",
      "  1.15924617e+02 1.07432500e+02 9.22773833e+01 7.18833000e+01\n",
      "  5.08002500e+01 3.26939667e+01 1.87729667e+01 9.15635000e+00\n",
      "  3.64005000e+00 1.06850000e+00 1.46700000e-01 6.83333333e-03]\n",
      " [0.00000000e+00 1.52666667e-02 3.32000000e-01 2.25566667e+00\n",
      "  8.51305000e+00 2.06940833e+01 3.70852167e+01 5.37940333e+01\n",
      "  6.88695000e+01 8.11596000e+01 9.04059167e+01 9.78863000e+01\n",
      "  1.06734567e+02 1.17339517e+02 1.24952417e+02 1.25555750e+02\n",
      "  1.18216250e+02 1.03805833e+02 8.38763833e+01 6.12356500e+01\n",
      "  4.09525000e+01 2.49440333e+01 1.36286167e+01 6.53750000e+00\n",
      "  2.71388333e+00 7.49166667e-01 1.11683333e-01 1.68333333e-03]\n",
      " [5.33333333e-04 1.27000000e-02 2.84233333e-01 1.83920000e+00\n",
      "  6.63258333e+00 1.69004833e+01 3.28094667e+01 5.15708833e+01\n",
      "  7.04237333e+01 8.72520000e+01 1.00985133e+02 1.12455750e+02\n",
      "  1.22594000e+02 1.30372300e+02 1.31844900e+02 1.24868033e+02\n",
      "  1.10025800e+02 8.94660000e+01 6.65912667e+01 4.55973833e+01\n",
      "  2.85566667e+01 1.62958167e+01 8.51148333e+00 4.10908333e+00\n",
      "  1.70298333e+00 4.43816667e-01 5.90500000e-02 6.50000000e-04]\n",
      " [5.16666667e-04 9.83333333e-04 1.87083333e-01 1.08796667e+00\n",
      "  3.94443333e+00 1.08453667e+01 2.33906333e+01 4.06385333e+01\n",
      "  6.09691833e+01 8.10054000e+01 9.91114333e+01 1.13100500e+02\n",
      "  1.22524317e+02 1.25302250e+02 1.20613567e+02 1.07185867e+02\n",
      "  8.77064167e+01 6.59730500e+01 4.53337167e+01 2.87308167e+01\n",
      "  1.69034500e+01 9.16145000e+00 4.70896667e+00 2.22501667e+00\n",
      "  8.35133333e-01 1.89116667e-01 1.78333333e-02 1.20000000e-03]\n",
      " [0.00000000e+00 0.00000000e+00 6.41666667e-02 4.18766667e-01\n",
      "  1.73270000e+00 5.01473333e+00 1.20309167e+01 2.39401333e+01\n",
      "  4.02565833e+01 5.88924833e+01 7.72688667e+01 9.20322000e+01\n",
      "  9.97043833e+01 9.91646667e+01 9.05921000e+01 7.55835000e+01\n",
      "  5.75861333e+01 4.01938000e+01 2.54972333e+01 1.52398333e+01\n",
      "  8.52368333e+00 4.41923333e+00 2.20506667e+00 9.81650000e-01\n",
      "  3.10366667e-01 5.79666667e-02 9.61666667e-03 0.00000000e+00]\n",
      " [0.00000000e+00 0.00000000e+00 1.58500000e-02 1.22200000e-01\n",
      "  5.43633333e-01 1.60085000e+00 4.20331667e+00 9.14358333e+00\n",
      "  1.68276167e+01 2.70768167e+01 3.81033833e+01 4.70437833e+01\n",
      "  5.16087500e+01 5.09622500e+01 4.54375833e+01 3.67445333e+01\n",
      "  2.74417833e+01 1.91085833e+01 1.21141500e+01 7.21490000e+00\n",
      "  3.95933333e+00 1.99318333e+00 9.51233333e-01 3.99633333e-01\n",
      "  1.01816667e-01 2.21833333e-02 1.93333333e-03 0.00000000e+00]\n",
      " [0.00000000e+00 0.00000000e+00 1.56666667e-03 1.77833333e-02\n",
      "  1.27783333e-01 4.74500000e-01 1.40550000e+00 3.18078333e+00\n",
      "  6.14340000e+00 9.82870000e+00 1.38693333e+01 1.67183333e+01\n",
      "  1.81000167e+01 1.77754000e+01 1.58076667e+01 1.31235500e+01\n",
      "  1.04980500e+01 7.79116667e+00 5.22193333e+00 3.16213333e+00\n",
      "  1.69133333e+00 8.25383333e-01 3.70583333e-01 1.39816667e-01\n",
      "  3.12666667e-02 3.56666667e-03 1.73333333e-03 0.00000000e+00]\n",
      " [0.00000000e+00 0.00000000e+00 0.00000000e+00 6.33333333e-04\n",
      "  3.54500000e-02 1.63083333e-01 5.38283333e-01 1.19935000e+00\n",
      "  2.31608333e+00 3.51143333e+00 4.85021667e+00 5.98023333e+00\n",
      "  6.44481667e+00 6.25923333e+00 5.57051667e+00 4.45076667e+00\n",
      "  3.53493333e+00 2.59181667e+00 1.70116667e+00 1.00860000e+00\n",
      "  5.40283333e-01 2.38400000e-01 7.52666667e-02 1.61666667e-02\n",
      "  5.16666667e-04 9.83333333e-04 0.00000000e+00 0.00000000e+00]\n",
      " [0.00000000e+00 0.00000000e+00 0.00000000e+00 0.00000000e+00\n",
      "  2.53333333e-03 1.55833333e-02 4.16333333e-02 8.92000000e-02\n",
      "  1.28216667e-01 1.96733333e-01 3.36016667e-01 4.29966667e-01\n",
      "  5.25983333e-01 5.90683333e-01 6.88033333e-01 5.92066667e-01\n",
      "  4.82733333e-01 3.43516667e-01 2.00433333e-01 8.88666667e-02\n",
      "  4.56333333e-02 1.92833333e-02 1.51166667e-02 2.00000000e-03\n",
      "  0.00000000e+00 0.00000000e+00 0.00000000e+00 0.00000000e+00]]\n"
     ]
    }
   ],
   "source": [
    "print(mean) # Mean = pixel value for that specific spot across all images"
   ]
  },
  {
   "cell_type": "code",
   "execution_count": 79,
   "metadata": {},
   "outputs": [
    {
     "name": "stdout",
     "output_type": "stream",
     "text": [
      "[[ 0.00000000e+00  0.00000000e+00  0.00000000e+00  0.00000000e+00\n",
      "   0.00000000e+00  0.00000000e+00  0.00000000e+00  0.00000000e+00\n",
      "   0.00000000e+00  0.00000000e+00  0.00000000e+00  0.00000000e+00\n",
      "  -4.41807799e-03 -5.75481961e-03 -4.08251693e-03 -4.08251693e-03\n",
      "   0.00000000e+00  0.00000000e+00  0.00000000e+00  0.00000000e+00\n",
      "   0.00000000e+00  0.00000000e+00  0.00000000e+00  0.00000000e+00\n",
      "   0.00000000e+00  0.00000000e+00  0.00000000e+00  0.00000000e+00]\n",
      " [ 0.00000000e+00  0.00000000e+00  0.00000000e+00  0.00000000e+00\n",
      "  -4.08251693e-03 -4.70968827e-03 -8.79934640e-03 -1.15905591e-02\n",
      "  -1.47589798e-02 -1.92848546e-02 -2.46717975e-02 -2.90710271e-02\n",
      "  -3.05926583e-02 -3.11640127e-02 -3.19628719e-02 -3.02025355e-02\n",
      "  -3.13102175e-02 -2.83833960e-02 -2.31191906e-02 -1.91666260e-02\n",
      "  -1.67723008e-02 -1.09963601e-02 -8.32486080e-03 -4.38069356e-03\n",
      "   0.00000000e+00  0.00000000e+00  0.00000000e+00  0.00000000e+00]\n",
      " [ 0.00000000e+00  0.00000000e+00 -4.08251693e-03 -5.39534598e-03\n",
      "  -8.52241235e-03 -1.19850363e-02 -1.76534777e-02 -2.77108989e-02\n",
      "  -3.70200943e-02 -5.21512802e-02 -6.70362007e-02 -8.30170484e-02\n",
      "  -9.93792978e-02 -1.15184128e-01 -1.29133256e-01 -1.38394677e-01\n",
      "  -1.38883631e-01 -1.31843438e-01 -1.20429522e-01 -1.01890795e-01\n",
      "  -7.86049044e-02 -5.69956130e-02 -3.96576839e-02 -2.37283861e-02\n",
      "  -1.40883463e-02 -7.83084068e-03  0.00000000e+00  0.00000000e+00]\n",
      " [ 0.00000000e+00  0.00000000e+00 -5.36837753e-03 -8.87060589e-03\n",
      "  -1.40708170e-02 -2.21468098e-02 -3.51801368e-02 -5.50236802e-02\n",
      "  -7.90961321e-02 -1.07649012e-01 -1.37169936e-01 -1.67105761e-01\n",
      "  -1.96008755e-01 -2.24491114e-01 -2.48655991e-01 -2.62117971e-01\n",
      "  -2.62596902e-01 -2.47855903e-01 -2.21947003e-01 -1.87211405e-01\n",
      "  -1.47640132e-01 -1.08164364e-01 -7.68121117e-02 -4.70752996e-02\n",
      "  -3.02019676e-02 -1.52412436e-02 -5.28371965e-03  0.00000000e+00]\n",
      " [ 0.00000000e+00 -4.08251693e-03 -7.76342302e-03 -1.48932548e-02\n",
      "  -2.39627505e-02 -5.03408980e-02 -7.87674703e-02 -1.16181540e-01\n",
      "  -1.61247562e-01 -2.11961635e-01 -2.66898731e-01 -3.25678010e-01\n",
      "  -3.90241548e-01 -4.52076376e-01 -4.99397984e-01 -5.23428324e-01\n",
      "  -5.17618894e-01 -4.80902419e-01 -4.23079694e-01 -3.56740395e-01\n",
      "  -2.83683648e-01 -2.16836661e-01 -1.58524380e-01 -1.08784581e-01\n",
      "  -7.09225309e-02 -3.89534819e-02 -1.42523852e-02 -5.77049806e-03]\n",
      " [ 0.00000000e+00  0.00000000e+00 -1.19017406e-02 -2.20501560e-02\n",
      "  -5.18380750e-02 -9.06597035e-02 -1.39667106e-01 -1.97082121e-01\n",
      "  -2.64384728e-01 -3.40730442e-01 -4.22535749e-01 -5.15408649e-01\n",
      "  -5.84660366e-01 -5.41363044e-01 -6.26156785e-01 -6.69145031e-01\n",
      "   3.43637162e-01  5.31056017e-01  1.10236573e+00 -2.65802578e-01\n",
      "   1.71565971e+00  3.77344822e+00  4.93900230e+00  3.45006811e+00\n",
      "  -1.31080130e-01 -7.48460374e-02 -3.19301291e-02 -8.20891834e-03]\n",
      " [ 0.00000000e+00 -5.57015293e-03 -1.56619271e-02 -3.63656606e-02\n",
      "  -7.90243079e-02 -1.33289086e-01 -1.99154411e-01 -2.75429691e-01\n",
      "   8.82421166e-02 -1.60018965e-02  4.42476487e-01  8.18775057e-01\n",
      "   7.49339511e-01  1.32200212e+00  1.19900231e+00  1.14748071e+00\n",
      "   1.16876765e+00  1.25693737e+00  1.17313576e+00  9.33441548e-01\n",
      "   2.13777179e+00  2.64653072e+00  2.81275280e+00  1.14339095e+00\n",
      "  -1.72939702e-01 -1.04104240e-01 -4.83176220e-02 -1.47080183e-02]\n",
      " [-4.08251693e-03 -1.32310093e-02 -2.62438209e-02 -5.91585908e-02\n",
      "  -1.13004853e-01 -1.78441525e-01 -2.58004810e-01  4.14936751e-01\n",
      "   2.55139991e+00  2.15784271e+00  1.76151117e+00  1.47855282e+00\n",
      "   1.28620376e+00  1.15934214e+00  1.08883060e+00  1.06792169e+00\n",
      "   1.08561216e+00  1.12333034e+00 -1.85138147e-01 -1.08110686e-01\n",
      "   1.20942182e-01  1.04310652e-01  1.53347815e-01 -2.87681279e-01\n",
      "  -1.97007025e-01 -1.21228940e-01 -5.68086109e-02 -1.53906680e-02]\n",
      " [-5.02549298e-03 -1.73205192e-02 -4.30805391e-02 -8.52488969e-02\n",
      "  -1.39458369e-01 -2.10883308e-01 -3.00017977e-01 -1.59588571e-01\n",
      "   1.95384078e+00  1.84773395e+00  1.51729633e+00  1.30892138e+00\n",
      "   1.20210616e+00  1.16376234e+00  6.74199715e-01  5.38435658e-01\n",
      "   1.12192712e+00  1.07058610e+00 -1.04378667e+00 -9.12978504e-01\n",
      "  -7.39191314e-01 -5.71005505e-01 -4.23671002e-01 -2.98196207e-01\n",
      "  -1.97686135e-01 -1.20683815e-01 -5.39356285e-02 -1.35055434e-02]\n",
      " [-5.90571261e-03 -2.11096679e-02 -5.29890369e-02 -9.30784924e-02\n",
      "  -1.50398734e-01 -2.26191023e-01 -3.23645340e-01 -4.42131217e-01\n",
      "   2.70213751e-01  7.45930827e-01  7.23832933e-02  1.27771203e+00\n",
      "   1.27734539e+00  9.12254680e-01 -8.07963349e-01 -9.13935971e-01\n",
      "  -5.60996653e-01  3.90063789e-01 -9.99486551e-01 -9.01508612e-01\n",
      "  -7.36681516e-01 -5.67589421e-01 -4.20171899e-01 -2.90174595e-01\n",
      "  -1.81482351e-01 -1.04939775e-01 -4.72131729e-02 -1.41308656e-02]\n",
      " [-5.77280519e-03 -2.26322771e-02 -5.28031747e-02 -9.22058067e-02\n",
      "  -1.47451700e-01 -2.27284588e-01 -3.32428316e-01 -4.62696158e-01\n",
      "  -6.19033521e-01 -6.52626518e-01 -8.99148251e-01  4.58886633e-01\n",
      "   1.47356894e+00  6.77134887e-02 -7.71412102e-01 -8.03560093e-01\n",
      "  -8.73939297e-01 -9.51575414e-01 -9.62131065e-01 -8.63473259e-01\n",
      "  -7.01324246e-01 -5.37396564e-01 -3.96771027e-01 -2.71222642e-01\n",
      "  -1.59324464e-01 -8.12584087e-02 -3.69508670e-02 -1.18733992e-02]\n",
      " [-7.05517396e-03 -2.07711768e-02 -4.72035624e-02 -8.20038362e-02\n",
      "  -1.37457285e-01 -2.25181955e-01 -3.38492381e-01 -4.82934997e-01\n",
      "  -6.48288219e-01 -8.09805311e-01 -8.96460461e-01  4.05564687e-01\n",
      "   1.64634567e+00  1.16516320e+00 -7.21489008e-01 -8.02210470e-01\n",
      "  -9.01262815e-01 -9.77722928e-01 -9.55547943e-01 -8.24902899e-01\n",
      "  -6.55987835e-01 -4.99364187e-01 -3.69573309e-01 -2.58464407e-01\n",
      "  -1.49695715e-01 -6.11113564e-02 -2.80115688e-02 -9.12509965e-03]\n",
      " [-5.30435130e-03 -1.62383999e-02 -3.63786148e-02 -6.85820105e-02\n",
      "  -1.27368499e-01 -2.26143360e-01 -3.52202906e-01 -5.07583513e-01\n",
      "  -6.79449640e-01 -8.28251048e-01 -8.88830036e-01 -7.40225109e-01\n",
      "   1.06068287e+00  1.68492907e+00 -1.77575688e-01 -9.17683490e-01\n",
      "  -1.02909594e+00 -1.05827900e+00 -9.65674043e-01 -7.94476763e-01\n",
      "  -6.16749363e-01 -4.70072884e-01 -3.55124414e-01 -2.55407545e-01\n",
      "  -1.53824513e-01 -5.24542821e-02 -2.15058651e-02 -9.92198161e-03]\n",
      " [-4.08251693e-03 -1.09343854e-02 -2.55447979e-02 -5.70730810e-02\n",
      "  -1.24662020e-01 -2.38498173e-01 -3.73258897e-01 -5.33136068e-01\n",
      "  -7.02094140e-01 -8.37450050e-01 -8.80074249e-01 -8.41014273e-01\n",
      "  -4.87694929e-01  1.32485786e+00  9.98375471e-01  3.22814268e-01\n",
      "  -1.98337189e-01 -1.11994100e+00 -9.76070413e-01 -7.75195395e-01\n",
      "  -5.94446605e-01 -4.60910238e-01 -3.55500546e-01 -2.63549180e-01\n",
      "  -1.64503687e-01 -5.95130325e-02 -2.33686679e-02 -7.40432376e-03]\n",
      " [-4.08251693e-03 -7.98834543e-03 -1.82964530e-02 -5.13394345e-02\n",
      "  -1.29346397e-01 -2.57521393e-01 -3.95011330e-01 -5.50421723e-01\n",
      "  -7.07323088e-01 -8.26049817e-01 -8.67853151e-01 -8.60743722e-01\n",
      "  -9.04035680e-01 -3.08572618e-01  9.64876914e-01  1.03583353e+00\n",
      "   1.05517267e+00 -8.08498334e-02 -7.38205686e-01 -7.63011316e-01\n",
      "  -5.97027040e-01 -4.72019989e-01 -3.68370412e-01 -2.73325316e-01\n",
      "  -1.73386634e-01 -6.89427199e-02 -2.46446573e-02 -6.98490193e-03]\n",
      " [-4.77028006e-03 -4.18942802e-03 -1.86482564e-02 -5.32721237e-02\n",
      "  -1.40420517e-01 -2.77180624e-01 -4.12209008e-01 -5.54003398e-01\n",
      "  -6.92005443e-01 -7.92583140e-01 -8.41940836e-01 -8.69766983e-01\n",
      "  -9.58664347e-01 -1.09410266e+00 -8.05303712e-01  4.28897581e-01\n",
      "   1.08836286e+00  1.16827871e+00  4.42989478e-01 -4.93267386e-01\n",
      "  -6.09787183e-01 -4.86753939e-01 -3.80896777e-01 -2.78298890e-01\n",
      "  -1.75491552e-01 -7.70261425e-02 -2.96263040e-02 -9.11024024e-03]\n",
      " [-4.08251693e-03 -6.70727737e-03 -2.16014323e-02 -6.07076923e-02\n",
      "  -1.57022412e-01 -2.97163168e-01 -4.22306798e-01 -5.45726707e-01\n",
      "  -6.59100289e-01 -7.41250552e-01 -7.88379565e-01 -8.33967293e-01\n",
      "  -9.19413398e-01 -1.02595562e+00 -1.12277551e+00 -1.00128625e+00\n",
      "  -2.50181723e-01  1.26567434e+00  1.45264065e+00  1.05397980e+00\n",
      "  -6.15621643e-01 -4.93079765e-01 -3.79874281e-01 -2.73517649e-01\n",
      "  -1.73539121e-01 -8.40501482e-02 -3.41624422e-02 -8.93964748e-03]\n",
      " [ 0.00000000e+00 -8.93208845e-03 -2.53977634e-02 -7.39001757e-02\n",
      "  -1.77860047e-01 -3.13383430e-01 -4.29013061e-01 -5.35088936e-01\n",
      "  -6.20781988e-01 -6.82689238e-01 -7.23470137e-01 -7.65558979e-01\n",
      "  -8.25070425e-01 -9.19390235e-01 -1.00626013e+00 -1.03281505e+00\n",
      "  -1.01067269e+00  1.31519954e+00  1.48115098e+00  1.64560188e+00\n",
      "   4.82880931e-02 -4.85156292e-01 -3.68041978e-01 -2.60781824e-01\n",
      "  -1.68333757e-01 -8.85426370e-02 -3.59362339e-02 -1.07108129e-02]\n",
      " [-5.90596678e-03 -6.35211414e-03 -3.33202141e-02 -9.13048630e-02\n",
      "  -1.99108031e-01 -3.27967412e-01 -4.38995427e-01 -5.34454088e-01\n",
      "  -6.05947897e-01 -6.59405094e-01 -6.97848366e-01 -7.30422894e-01\n",
      "  -7.81125667e-01 -8.71688552e-01 -5.44696352e-01  1.60415053e-01\n",
      "   6.50220851e-01  1.34279902e+00  1.46193998e+00  1.24594172e+00\n",
      "  -5.73926496e-01 -4.63429150e-01 -3.48771144e-01 -2.45884747e-01\n",
      "  -1.58200936e-01 -8.54379627e-02 -3.15579616e-02 -9.76041412e-03]\n",
      " [-4.08251693e-03 -1.12816627e-02 -3.97571016e-02 -1.03852335e-01\n",
      "  -2.11980971e-01 -3.37477889e-01 -4.51701933e-01 -5.52131610e-01\n",
      "  -6.31886475e-01 -6.93224391e-01 -7.38384900e-01 -7.70730767e-01\n",
      "  -4.69506063e-01  4.22382973e-01  1.04567034e+00  1.21745436e+00\n",
      "   1.23935680e+00  1.31032797e+00  1.44686109e+00  1.07419019e+00\n",
      "  -5.55385654e-01 -4.27074606e-01 -3.16810480e-01 -2.20685803e-01\n",
      "  -1.41057264e-01 -7.81710423e-02 -2.91825785e-02 -8.02578597e-03]\n",
      " [ 0.00000000e+00 -1.03421049e-02 -4.32736220e-02 -1.09167014e-01\n",
      "  -2.09032573e-01 -3.30224641e-01 -4.54875266e-01 -5.69196807e-01\n",
      "  -6.72943600e-01 -7.60601226e-01 -6.08747781e-01  1.45933875e-01\n",
      "   1.02756383e+00  1.21554325e+00  1.14867049e+00  1.14592402e+00\n",
      "   1.21167774e+00  8.79504318e-01 -5.51616072e-02 -6.26990956e-01\n",
      "  -4.88062775e-01 -3.68951144e-01 -2.69292226e-01 -1.87212623e-01\n",
      "  -1.21627434e-01 -6.64938197e-02 -2.60330031e-02 -5.77331594e-03]\n",
      " [-4.08251693e-03 -1.00095035e-02 -4.04987315e-02 -9.99847079e-02\n",
      "  -1.88201724e-01 -2.99631312e-01 -4.27248469e-01 -5.55251360e-01\n",
      "  -4.59112688e-01 -1.95242950e-01  1.00790158e+00  1.26095332e+00\n",
      "   1.17394853e+00  1.11115667e+00  1.09552493e+00  6.59061964e-01\n",
      "  -2.62412945e-01 -8.13628297e-01 -6.67125990e-01 -5.22694492e-01\n",
      "  -3.99065428e-01 -2.96700643e-01 -2.12626224e-01 -1.48693958e-01\n",
      "  -9.68957284e-02 -5.09310889e-02 -2.02144293e-02 -4.08251693e-03]\n",
      " [-4.08251693e-03 -6.00490574e-03 -3.37063471e-02 -7.89724505e-02\n",
      "  -1.47741377e-01 -2.43250250e-01 -8.30458387e-02  1.56042653e+00\n",
      "   1.61327333e+00  1.60667106e+00  1.37992544e+00  1.23963346e+00\n",
      "   1.16030302e+00  6.21560395e-01 -3.61925123e-01 -8.82206990e-01\n",
      "  -8.17668173e-01 -6.64655910e-01 -5.23595080e-01 -4.02142028e-01\n",
      "  -3.03069160e-01 -2.21680844e-01 -1.59365935e-01 -1.10060699e-01\n",
      "  -7.00397650e-02 -3.71356228e-02 -1.22014099e-02 -4.08251693e-03]\n",
      " [ 0.00000000e+00  0.00000000e+00 -2.27387266e-02 -5.19053972e-02\n",
      "   3.07386858e+00  5.60859323e+00  4.62960950e+00  3.53861155e+00\n",
      "   2.59001419e+00  2.02823973e+00  1.68064378e+00  1.39229082e+00\n",
      "   3.01200685e-01 -7.99993648e-01 -8.39748579e-01 -7.34655534e-01\n",
      "  -6.12575711e-01 -4.92071188e-01 -3.79928167e-01 -2.88817393e-01\n",
      "  -2.13440937e-01 -1.53667782e-01 -1.09126008e-01 -7.40987562e-02\n",
      "  -4.33171851e-02 -1.93437920e-02 -1.04024820e-02  0.00000000e+00]\n",
      " [ 0.00000000e+00  0.00000000e+00 -1.03527008e-02 -2.87501024e-02\n",
      "   1.43442321e+01  1.49676659e+01  9.09224842e+00  5.95866001e+00\n",
      "   3.52099754e+00  1.54840932e+00  1.15868445e+00 -3.51803603e-01\n",
      "  -5.66505989e-01 -5.62783656e-01 -5.27164696e-01 -4.68057397e-01\n",
      "  -3.95805045e-01 -3.24789446e-01 -2.55705032e-01 -1.94611712e-01\n",
      "  -1.44574205e-01 -1.01773543e-01 -7.14252227e-02 -4.77777569e-02\n",
      "  -2.57524359e-02 -1.13794237e-02 -4.75287492e-03  0.00000000e+00]\n",
      " [ 0.00000000e+00  0.00000000e+00 -6.66430111e-03 -1.09642132e-02\n",
      "  -2.76044516e-02 -5.15536012e-02 -8.67718458e-02 -1.28392033e-01\n",
      "  -1.75775898e-01 -2.23054438e-01 -2.66640286e-01 -2.94844315e-01\n",
      "  -3.07505433e-01 -3.05180122e-01 -2.89231779e-01 -2.63231291e-01\n",
      "  -2.33723589e-01 -2.01027824e-01 -1.63691052e-01 -1.27665996e-01\n",
      "  -9.39651393e-02 -6.56832591e-02 -4.59265310e-02 -2.87188097e-02\n",
      "  -1.56930365e-02 -5.67530616e-03 -4.08251693e-03  0.00000000e+00]\n",
      " [ 0.00000000e+00  0.00000000e+00  0.00000000e+00 -4.08251693e-03\n",
      "  -1.51213939e-02 -3.13695545e-02 -5.33302349e-02 -7.92282669e-02\n",
      "  -1.08376650e-01 -1.33979068e-01 -1.57513181e-01 -1.75105513e-01\n",
      "  -1.82626897e-01 -1.80535341e-01 -1.69876491e-01 -1.53157314e-01\n",
      "  -1.35433124e-01 -1.16480299e-01 -9.39512541e-02 -7.25768871e-02\n",
      "  -5.23643597e-02 -3.63829995e-02 -2.15030637e-02 -1.30192791e-02\n",
      "  -4.49421517e-03 -4.08251693e-03  0.00000000e+00  0.00000000e+00]\n",
      " [ 0.00000000e+00  0.00000000e+00  0.00000000e+00  0.00000000e+00\n",
      "  -5.79016363e-03 -9.05384592e-03 -1.60054430e-02 -2.21197601e-02\n",
      "  -2.68459958e-02 -3.18450632e-02 -4.37484087e-02 -4.72829474e-02\n",
      "  -5.31388046e-02 -5.66228194e-02 -6.03383556e-02 -5.62950014e-02\n",
      "  -5.13665378e-02 -4.26322798e-02 -3.31710271e-02 -2.24628830e-02\n",
      "  -1.60690870e-02 -1.14322028e-02 -9.00729450e-03 -5.77039393e-03\n",
      "   0.00000000e+00  0.00000000e+00  0.00000000e+00  0.00000000e+00]]\n",
      "1.2186348411151602\n"
     ]
    },
    {
     "data": {
      "text/plain": [
       "Text(0.5, 1.0, 'Label: 5')"
      ]
     },
     "execution_count": 79,
     "metadata": {},
     "output_type": "execute_result"
    },
    {
     "data": {
      "image/png": "[encoded data removed]",
      "text/plain": [
       "<Figure size 640x480 with 1 Axes>"
      ]
     },
     "metadata": {},
     "output_type": "display_data"
    }
   ],
   "source": [
    "# Visualize:\n",
    "print(zero_mean_unit_variance_train_images[0])\n",
    "print(np.var(zero_mean_unit_variance_train_images[0])) # Should be close to 1\n",
    "plt.imshow(zero_mean_unit_variance_train_images[0], cmap='gray')\n",
    "plt.title(f\"Label: {train_labels[0]}\")\n",
    "\n"
   ]
  },
  {
   "cell_type": "code",
   "execution_count": 80,
   "metadata": {},
   "outputs": [],
   "source": [
    "# Pairwise similarities metrics:\n",
    "\n",
    "# 1. Euclidean distance(required, library)\n",
    "    # a. required(your own, use batches)\n",
    "\n",
    "# 2. Edit distance(required for text) OR cosine similarity(required for vectors)\n",
    "\n",
    "\n"
   ]
  },
  {
   "cell_type": "code",
   "execution_count": 81,
   "metadata": {},
   "outputs": [
    {
     "name": "stdout",
     "output_type": "stream",
     "text": [
      "2867.4593283950862\n",
      "<class 'numpy.float64'>\n",
      "5\n",
      "5\n",
      "\n",
      "\n",
      "5\n",
      "0\n",
      "4\n",
      "1\n",
      "9\n",
      "2\n",
      "1\n",
      "3\n",
      "1\n",
      "4\n",
      "3\n",
      "5\n"
     ]
    }
   ],
   "source": [
    "# 1. Euclidean distance (library)\n",
    "\n",
    "euclidean_distance = np.linalg.norm(train_images[0] - train_images[11])\n",
    "#check:\n",
    "    # zero_mean_unit_variance_train_images[0] - zero_mean_unit_variance_train_images[1])\n",
    "    # shift_scale_train_images[0] - shift_scale_train_images[1])\n",
    "\n",
    "print(euclidean_distance)\n",
    "print(type(euclidean_distance))\n",
    "\n",
    "print(train_labels[0]) # 5\n",
    "print(train_labels[11]) # 5\n",
    "\n",
    "print(\"\\n\")\n",
    "\n",
    "for i in range(12):\n",
    "    print(train_labels[i]) # 5, 0, 4, 1, 9, 2, 1, 3, 1, 4, ...\n",
    "# The distance between 5 and 0 is: 2387.111\n",
    "\n",
    "\n",
    "distances = []\n",
    "for i in range(len(shift_scale_train_images)):\n",
    "    distances.append(np.linalg.norm(shift_scale_train_images[0] - shift_scale_train_images[i]))\n"
   ]
  },
  {
   "cell_type": "code",
   "execution_count": 82,
   "metadata": {},
   "outputs": [
    {
     "name": "stdout",
     "output_type": "stream",
     "text": [
      "8.391501715310692\n"
     ]
    }
   ],
   "source": [
    "# try with normalized:\n",
    "SS_euclidean_distance = np.linalg.norm(shift_scale_train_images[0] - shift_scale_train_images[10])\n",
    "print(SS_euclidean_distance)"
   ]
  },
  {
   "cell_type": "code",
   "execution_count": 83,
   "metadata": {},
   "outputs": [
    {
     "name": "stdout",
     "output_type": "stream",
     "text": [
      "41.07952550854942\n"
     ]
    }
   ],
   "source": [
    "ZM_euclidean_distance = np.linalg.norm(zero_mean_unit_variance_train_images[0] - zero_mean_unit_variance_train_images[11])\n",
    "print(ZM_euclidean_distance)"
   ]
  },
  {
   "cell_type": "code",
   "execution_count": 84,
   "metadata": {},
   "outputs": [],
   "source": [
    "# I will be using the shift and scale normalization for the rest of the tasks: \n",
    "\n",
    "distances = []\n",
    "for i in range(len(shift_scale_train_images)):\n",
    "    distances.append(np.linalg.norm(shift_scale_train_images[0] - shift_scale_train_images[i]))"
   ]
  },
  {
   "cell_type": "code",
   "execution_count": 85,
   "metadata": {},
   "outputs": [
    {
     "name": "stdout",
     "output_type": "stream",
     "text": [
      "[np.float64(0.0), np.float64(9.361222132577327), np.float64(10.875094558710726), np.float64(10.018901014936581), np.float64(10.480263577046502), np.float64(10.126636833057416), np.float64(9.50428139627975), np.float64(8.509666575199573), np.float64(9.3143710818562), np.float64(10.07571719003181)]\n"
     ]
    }
   ],
   "source": [
    "print(distances[:10]) # first 10 distances"
   ]
  },
  {
   "cell_type": "code",
   "execution_count": 86,
   "metadata": {},
   "outputs": [
    {
     "name": "stdout",
     "output_type": "stream",
     "text": [
      "Label: 5, Distance: 0.0\n",
      "Label: 5, Distance: 6.123421106197849\n",
      "Label: 5, Distance: 6.241574097341995\n",
      "Label: 5, Distance: 6.253800382437516\n",
      "Label: 3, Distance: 6.261605603114141\n",
      "Label: 5, Distance: 6.2919488047527965\n",
      "Label: 5, Distance: 6.293676607845121\n",
      "Label: 5, Distance: 6.29689878083294\n",
      "Label: 5, Distance: 6.31252698404212\n",
      "Label: 5, Distance: 6.3282538970573015\n",
      "Label: 5, Distance: 6.468091021389275\n",
      "Label: 5, Distance: 6.486331412605749\n",
      "Label: 5, Distance: 6.49174911813767\n",
      "Label: 5, Distance: 6.530390317063363\n",
      "Label: 5, Distance: 6.547765525107026\n",
      "Label: 5, Distance: 6.59808320936299\n",
      "Label: 5, Distance: 6.603753898481597\n",
      "Label: 3, Distance: 6.6060135943987435\n",
      "Label: 3, Distance: 6.626704912177665\n",
      "Label: 5, Distance: 6.634280041175857\n",
      "5\n"
     ]
    }
   ],
   "source": [
    "# zip together labels and distances\n",
    "predictions = list(zip(train_labels, distances))\n",
    "\n",
    "# create a function to get the top k predictions\n",
    "def get_top_k_predictions(k, predictions):\n",
    "    return sorted(predictions, key=lambda x: x[1])[:k]\n",
    "\n",
    "def print_pred(predictions):\n",
    "    for label, distance in predictions:\n",
    "        print(f\"Label: {label}, Distance: {distance}\")\n",
    "\n",
    "print_pred(get_top_k_predictions(20, predictions)) # top 5 predictions\n",
    "\n",
    "# Create a final prediction that is the most common label among the top k predictions\n",
    "def final_prediction(k, predictions):\n",
    "    top_k = get_top_k_predictions(k, predictions)\n",
    "    labels = [label for label, distance in top_k]\n",
    "    return max(set(labels), key=labels.count)\n",
    "\n",
    "print(final_prediction(20, predictions)) # final prediction for k=5\n"
   ]
  },
  {
   "cell_type": "code",
   "execution_count": 87,
   "metadata": {},
   "outputs": [
    {
     "name": "stdout",
     "output_type": "stream",
     "text": [
      "Label: 5, Distance: 4.784207649097277\n",
      "Label: 5, Distance: 4.8210642513024515\n",
      "Label: 5, Distance: 4.838095335401413\n",
      "Label: 5, Distance: 4.88172607992456\n",
      "Label: 5, Distance: 4.927082295453827\n",
      "Label: 5, Distance: 5.010351453138562\n",
      "Label: 5, Distance: 5.180555429289414\n",
      "Label: 5, Distance: 5.213051081307069\n",
      "Label: 5, Distance: 5.229739287037225\n",
      "Label: 5, Distance: 5.2521312566813\n",
      "Label: 5, Distance: 5.285030690930315\n",
      "Label: 5, Distance: 5.311166448406215\n",
      "Label: 5, Distance: 5.322644999297142\n",
      "Label: 5, Distance: 5.343846328197746\n",
      "Label: 5, Distance: 5.346332198232374\n",
      "Label: 5, Distance: 5.406567552783061\n",
      "Label: 5, Distance: 5.428570098834005\n",
      "Label: 5, Distance: 5.439947927018565\n",
      "Label: 5, Distance: 5.499118799772377\n",
      "Label: 5, Distance: 5.519058587236618\n",
      "Predicted:  5\n",
      "Actual:  5\n"
     ]
    }
   ],
   "source": [
    "# Now lets test it on random images from the test set\n",
    "\n",
    "# Get a random image from the test set\n",
    "random_index = np.random.randint(0, len(test_images))\n",
    "random_image = test_images[random_index]\n",
    "\n",
    "# Normalize the random image\n",
    "normalized_random_image = random_image / 255.0\n",
    "\n",
    "# Calculate distances from the random image to all training images\n",
    "test_distances = []\n",
    "for i in range(len(shift_scale_train_images)):\n",
    "    test_distances.append(np.linalg.norm(normalized_random_image - shift_scale_train_images[i]))\n",
    "\n",
    "print_pred(get_top_k_predictions(20, list(zip(train_labels, test_distances))))\n",
    "# Final prediction for the random image\n",
    "print(\"Predicted: \", final_prediction(20, list(zip(train_labels, test_distances))))\n",
    "print(\"Actual: \", test_labels[random_index]) # actual label of the random image\n"
   ]
  },
  {
   "cell_type": "code",
   "execution_count": 88,
   "metadata": {},
   "outputs": [
    {
     "name": "stderr",
     "output_type": "stream",
     "text": [
      "C:\\Users\\koola\\AppData\\Local\\Temp\\ipykernel_19760\\2834081449.py:1: RuntimeWarning: invalid value encountered in divide\n",
      "  zero_mean_unit_variance_train_images = np.nan_to_num((train_images - mean) / std)\n"
     ]
    },
    {
     "name": "stdout",
     "output_type": "stream",
     "text": [
      "(60000, 28, 28)\n",
      "[[ 0.00000000e+00  0.00000000e+00  0.00000000e+00  0.00000000e+00\n",
      "   0.00000000e+00  0.00000000e+00  0.00000000e+00  0.00000000e+00\n",
      "   0.00000000e+00  0.00000000e+00  0.00000000e+00  0.00000000e+00\n",
      "  -4.41807799e-03 -5.75481961e-03 -4.08251693e-03 -4.08251693e-03\n",
      "   0.00000000e+00  0.00000000e+00  0.00000000e+00  0.00000000e+00\n",
      "   0.00000000e+00  0.00000000e+00  0.00000000e+00  0.00000000e+00\n",
      "   0.00000000e+00  0.00000000e+00  0.00000000e+00  0.00000000e+00]\n",
      " [ 0.00000000e+00  0.00000000e+00  0.00000000e+00  0.00000000e+00\n",
      "  -4.08251693e-03 -4.70968827e-03 -8.79934640e-03 -1.15905591e-02\n",
      "  -1.47589798e-02 -1.92848546e-02 -2.46717975e-02 -2.90710271e-02\n",
      "  -3.05926583e-02 -3.11640127e-02 -3.19628719e-02 -3.02025355e-02\n",
      "  -3.13102175e-02 -2.83833960e-02 -2.31191906e-02 -1.91666260e-02\n",
      "  -1.67723008e-02 -1.09963601e-02 -8.32486080e-03 -4.38069356e-03\n",
      "   0.00000000e+00  0.00000000e+00  0.00000000e+00  0.00000000e+00]\n",
      " [ 0.00000000e+00  0.00000000e+00 -4.08251693e-03 -5.39534598e-03\n",
      "  -8.52241235e-03 -1.19850363e-02 -1.76534777e-02 -2.77108989e-02\n",
      "  -3.70200943e-02 -5.21512802e-02 -6.70362007e-02 -8.30170484e-02\n",
      "  -9.93792978e-02 -1.15184128e-01 -1.29133256e-01 -1.38394677e-01\n",
      "  -1.38883631e-01 -1.31843438e-01 -1.20429522e-01 -1.01890795e-01\n",
      "  -7.86049044e-02 -5.69956130e-02 -3.96576839e-02 -2.37283861e-02\n",
      "  -1.40883463e-02 -7.83084068e-03  0.00000000e+00  0.00000000e+00]\n",
      " [ 0.00000000e+00  0.00000000e+00 -5.36837753e-03 -8.87060589e-03\n",
      "  -1.40708170e-02 -2.21468098e-02 -3.51801368e-02 -5.50236802e-02\n",
      "  -7.90961321e-02 -1.07649012e-01 -1.37169936e-01 -1.67105761e-01\n",
      "  -1.96008755e-01 -2.24491114e-01 -2.48655991e-01 -2.62117971e-01\n",
      "  -2.62596902e-01 -2.47855903e-01 -2.21947003e-01 -1.87211405e-01\n",
      "  -1.47640132e-01 -1.08164364e-01 -7.68121117e-02 -4.70752996e-02\n",
      "  -3.02019676e-02 -1.52412436e-02 -5.28371965e-03  0.00000000e+00]\n",
      " [ 0.00000000e+00 -4.08251693e-03 -7.76342302e-03 -1.48932548e-02\n",
      "  -2.39627505e-02 -5.03408980e-02 -7.87674703e-02 -1.16181540e-01\n",
      "  -1.61247562e-01 -2.11961635e-01 -2.66898731e-01 -3.25678010e-01\n",
      "  -3.90241548e-01 -4.52076376e-01 -4.99397984e-01 -5.23428324e-01\n",
      "  -5.17618894e-01 -4.80902419e-01 -4.23079694e-01 -3.56740395e-01\n",
      "  -2.83683648e-01 -2.16836661e-01 -1.58524380e-01 -1.08784581e-01\n",
      "  -7.09225309e-02 -3.89534819e-02 -1.42523852e-02 -5.77049806e-03]\n",
      " [ 0.00000000e+00  0.00000000e+00 -1.19017406e-02 -2.20501560e-02\n",
      "  -5.18380750e-02 -9.06597035e-02 -1.39667106e-01 -1.97082121e-01\n",
      "  -2.64384728e-01 -3.40730442e-01 -4.22535749e-01 -5.15408649e-01\n",
      "  -5.84660366e-01 -5.41363044e-01 -6.26156785e-01 -6.69145031e-01\n",
      "   3.43637162e-01  5.31056017e-01  1.10236573e+00 -2.65802578e-01\n",
      "   1.71565971e+00  3.77344822e+00  4.93900230e+00  3.45006811e+00\n",
      "  -1.31080130e-01 -7.48460374e-02 -3.19301291e-02 -8.20891834e-03]\n",
      " [ 0.00000000e+00 -5.57015293e-03 -1.56619271e-02 -3.63656606e-02\n",
      "  -7.90243079e-02 -1.33289086e-01 -1.99154411e-01 -2.75429691e-01\n",
      "   8.82421166e-02 -1.60018965e-02  4.42476487e-01  8.18775057e-01\n",
      "   7.49339511e-01  1.32200212e+00  1.19900231e+00  1.14748071e+00\n",
      "   1.16876765e+00  1.25693737e+00  1.17313576e+00  9.33441548e-01\n",
      "   2.13777179e+00  2.64653072e+00  2.81275280e+00  1.14339095e+00\n",
      "  -1.72939702e-01 -1.04104240e-01 -4.83176220e-02 -1.47080183e-02]\n",
      " [-4.08251693e-03 -1.32310093e-02 -2.62438209e-02 -5.91585908e-02\n",
      "  -1.13004853e-01 -1.78441525e-01 -2.58004810e-01  4.14936751e-01\n",
      "   2.55139991e+00  2.15784271e+00  1.76151117e+00  1.47855282e+00\n",
      "   1.28620376e+00  1.15934214e+00  1.08883060e+00  1.06792169e+00\n",
      "   1.08561216e+00  1.12333034e+00 -1.85138147e-01 -1.08110686e-01\n",
      "   1.20942182e-01  1.04310652e-01  1.53347815e-01 -2.87681279e-01\n",
      "  -1.97007025e-01 -1.21228940e-01 -5.68086109e-02 -1.53906680e-02]\n",
      " [-5.02549298e-03 -1.73205192e-02 -4.30805391e-02 -8.52488969e-02\n",
      "  -1.39458369e-01 -2.10883308e-01 -3.00017977e-01 -1.59588571e-01\n",
      "   1.95384078e+00  1.84773395e+00  1.51729633e+00  1.30892138e+00\n",
      "   1.20210616e+00  1.16376234e+00  6.74199715e-01  5.38435658e-01\n",
      "   1.12192712e+00  1.07058610e+00 -1.04378667e+00 -9.12978504e-01\n",
      "  -7.39191314e-01 -5.71005505e-01 -4.23671002e-01 -2.98196207e-01\n",
      "  -1.97686135e-01 -1.20683815e-01 -5.39356285e-02 -1.35055434e-02]\n",
      " [-5.90571261e-03 -2.11096679e-02 -5.29890369e-02 -9.30784924e-02\n",
      "  -1.50398734e-01 -2.26191023e-01 -3.23645340e-01 -4.42131217e-01\n",
      "   2.70213751e-01  7.45930827e-01  7.23832933e-02  1.27771203e+00\n",
      "   1.27734539e+00  9.12254680e-01 -8.07963349e-01 -9.13935971e-01\n",
      "  -5.60996653e-01  3.90063789e-01 -9.99486551e-01 -9.01508612e-01\n",
      "  -7.36681516e-01 -5.67589421e-01 -4.20171899e-01 -2.90174595e-01\n",
      "  -1.81482351e-01 -1.04939775e-01 -4.72131729e-02 -1.41308656e-02]\n",
      " [-5.77280519e-03 -2.26322771e-02 -5.28031747e-02 -9.22058067e-02\n",
      "  -1.47451700e-01 -2.27284588e-01 -3.32428316e-01 -4.62696158e-01\n",
      "  -6.19033521e-01 -6.52626518e-01 -8.99148251e-01  4.58886633e-01\n",
      "   1.47356894e+00  6.77134887e-02 -7.71412102e-01 -8.03560093e-01\n",
      "  -8.73939297e-01 -9.51575414e-01 -9.62131065e-01 -8.63473259e-01\n",
      "  -7.01324246e-01 -5.37396564e-01 -3.96771027e-01 -2.71222642e-01\n",
      "  -1.59324464e-01 -8.12584087e-02 -3.69508670e-02 -1.18733992e-02]\n",
      " [-7.05517396e-03 -2.07711768e-02 -4.72035624e-02 -8.20038362e-02\n",
      "  -1.37457285e-01 -2.25181955e-01 -3.38492381e-01 -4.82934997e-01\n",
      "  -6.48288219e-01 -8.09805311e-01 -8.96460461e-01  4.05564687e-01\n",
      "   1.64634567e+00  1.16516320e+00 -7.21489008e-01 -8.02210470e-01\n",
      "  -9.01262815e-01 -9.77722928e-01 -9.55547943e-01 -8.24902899e-01\n",
      "  -6.55987835e-01 -4.99364187e-01 -3.69573309e-01 -2.58464407e-01\n",
      "  -1.49695715e-01 -6.11113564e-02 -2.80115688e-02 -9.12509965e-03]\n",
      " [-5.30435130e-03 -1.62383999e-02 -3.63786148e-02 -6.85820105e-02\n",
      "  -1.27368499e-01 -2.26143360e-01 -3.52202906e-01 -5.07583513e-01\n",
      "  -6.79449640e-01 -8.28251048e-01 -8.88830036e-01 -7.40225109e-01\n",
      "   1.06068287e+00  1.68492907e+00 -1.77575688e-01 -9.17683490e-01\n",
      "  -1.02909594e+00 -1.05827900e+00 -9.65674043e-01 -7.94476763e-01\n",
      "  -6.16749363e-01 -4.70072884e-01 -3.55124414e-01 -2.55407545e-01\n",
      "  -1.53824513e-01 -5.24542821e-02 -2.15058651e-02 -9.92198161e-03]\n",
      " [-4.08251693e-03 -1.09343854e-02 -2.55447979e-02 -5.70730810e-02\n",
      "  -1.24662020e-01 -2.38498173e-01 -3.73258897e-01 -5.33136068e-01\n",
      "  -7.02094140e-01 -8.37450050e-01 -8.80074249e-01 -8.41014273e-01\n",
      "  -4.87694929e-01  1.32485786e+00  9.98375471e-01  3.22814268e-01\n",
      "  -1.98337189e-01 -1.11994100e+00 -9.76070413e-01 -7.75195395e-01\n",
      "  -5.94446605e-01 -4.60910238e-01 -3.55500546e-01 -2.63549180e-01\n",
      "  -1.64503687e-01 -5.95130325e-02 -2.33686679e-02 -7.40432376e-03]\n",
      " [-4.08251693e-03 -7.98834543e-03 -1.82964530e-02 -5.13394345e-02\n",
      "  -1.29346397e-01 -2.57521393e-01 -3.95011330e-01 -5.50421723e-01\n",
      "  -7.07323088e-01 -8.26049817e-01 -8.67853151e-01 -8.60743722e-01\n",
      "  -9.04035680e-01 -3.08572618e-01  9.64876914e-01  1.03583353e+00\n",
      "   1.05517267e+00 -8.08498334e-02 -7.38205686e-01 -7.63011316e-01\n",
      "  -5.97027040e-01 -4.72019989e-01 -3.68370412e-01 -2.73325316e-01\n",
      "  -1.73386634e-01 -6.89427199e-02 -2.46446573e-02 -6.98490193e-03]\n",
      " [-4.77028006e-03 -4.18942802e-03 -1.86482564e-02 -5.32721237e-02\n",
      "  -1.40420517e-01 -2.77180624e-01 -4.12209008e-01 -5.54003398e-01\n",
      "  -6.92005443e-01 -7.92583140e-01 -8.41940836e-01 -8.69766983e-01\n",
      "  -9.58664347e-01 -1.09410266e+00 -8.05303712e-01  4.28897581e-01\n",
      "   1.08836286e+00  1.16827871e+00  4.42989478e-01 -4.93267386e-01\n",
      "  -6.09787183e-01 -4.86753939e-01 -3.80896777e-01 -2.78298890e-01\n",
      "  -1.75491552e-01 -7.70261425e-02 -2.96263040e-02 -9.11024024e-03]\n",
      " [-4.08251693e-03 -6.70727737e-03 -2.16014323e-02 -6.07076923e-02\n",
      "  -1.57022412e-01 -2.97163168e-01 -4.22306798e-01 -5.45726707e-01\n",
      "  -6.59100289e-01 -7.41250552e-01 -7.88379565e-01 -8.33967293e-01\n",
      "  -9.19413398e-01 -1.02595562e+00 -1.12277551e+00 -1.00128625e+00\n",
      "  -2.50181723e-01  1.26567434e+00  1.45264065e+00  1.05397980e+00\n",
      "  -6.15621643e-01 -4.93079765e-01 -3.79874281e-01 -2.73517649e-01\n",
      "  -1.73539121e-01 -8.40501482e-02 -3.41624422e-02 -8.93964748e-03]\n",
      " [ 0.00000000e+00 -8.93208845e-03 -2.53977634e-02 -7.39001757e-02\n",
      "  -1.77860047e-01 -3.13383430e-01 -4.29013061e-01 -5.35088936e-01\n",
      "  -6.20781988e-01 -6.82689238e-01 -7.23470137e-01 -7.65558979e-01\n",
      "  -8.25070425e-01 -9.19390235e-01 -1.00626013e+00 -1.03281505e+00\n",
      "  -1.01067269e+00  1.31519954e+00  1.48115098e+00  1.64560188e+00\n",
      "   4.82880931e-02 -4.85156292e-01 -3.68041978e-01 -2.60781824e-01\n",
      "  -1.68333757e-01 -8.85426370e-02 -3.59362339e-02 -1.07108129e-02]\n",
      " [-5.90596678e-03 -6.35211414e-03 -3.33202141e-02 -9.13048630e-02\n",
      "  -1.99108031e-01 -3.27967412e-01 -4.38995427e-01 -5.34454088e-01\n",
      "  -6.05947897e-01 -6.59405094e-01 -6.97848366e-01 -7.30422894e-01\n",
      "  -7.81125667e-01 -8.71688552e-01 -5.44696352e-01  1.60415053e-01\n",
      "   6.50220851e-01  1.34279902e+00  1.46193998e+00  1.24594172e+00\n",
      "  -5.73926496e-01 -4.63429150e-01 -3.48771144e-01 -2.45884747e-01\n",
      "  -1.58200936e-01 -8.54379627e-02 -3.15579616e-02 -9.76041412e-03]\n",
      " [-4.08251693e-03 -1.12816627e-02 -3.97571016e-02 -1.03852335e-01\n",
      "  -2.11980971e-01 -3.37477889e-01 -4.51701933e-01 -5.52131610e-01\n",
      "  -6.31886475e-01 -6.93224391e-01 -7.38384900e-01 -7.70730767e-01\n",
      "  -4.69506063e-01  4.22382973e-01  1.04567034e+00  1.21745436e+00\n",
      "   1.23935680e+00  1.31032797e+00  1.44686109e+00  1.07419019e+00\n",
      "  -5.55385654e-01 -4.27074606e-01 -3.16810480e-01 -2.20685803e-01\n",
      "  -1.41057264e-01 -7.81710423e-02 -2.91825785e-02 -8.02578597e-03]\n",
      " [ 0.00000000e+00 -1.03421049e-02 -4.32736220e-02 -1.09167014e-01\n",
      "  -2.09032573e-01 -3.30224641e-01 -4.54875266e-01 -5.69196807e-01\n",
      "  -6.72943600e-01 -7.60601226e-01 -6.08747781e-01  1.45933875e-01\n",
      "   1.02756383e+00  1.21554325e+00  1.14867049e+00  1.14592402e+00\n",
      "   1.21167774e+00  8.79504318e-01 -5.51616072e-02 -6.26990956e-01\n",
      "  -4.88062775e-01 -3.68951144e-01 -2.69292226e-01 -1.87212623e-01\n",
      "  -1.21627434e-01 -6.64938197e-02 -2.60330031e-02 -5.77331594e-03]\n",
      " [-4.08251693e-03 -1.00095035e-02 -4.04987315e-02 -9.99847079e-02\n",
      "  -1.88201724e-01 -2.99631312e-01 -4.27248469e-01 -5.55251360e-01\n",
      "  -4.59112688e-01 -1.95242950e-01  1.00790158e+00  1.26095332e+00\n",
      "   1.17394853e+00  1.11115667e+00  1.09552493e+00  6.59061964e-01\n",
      "  -2.62412945e-01 -8.13628297e-01 -6.67125990e-01 -5.22694492e-01\n",
      "  -3.99065428e-01 -2.96700643e-01 -2.12626224e-01 -1.48693958e-01\n",
      "  -9.68957284e-02 -5.09310889e-02 -2.02144293e-02 -4.08251693e-03]\n",
      " [-4.08251693e-03 -6.00490574e-03 -3.37063471e-02 -7.89724505e-02\n",
      "  -1.47741377e-01 -2.43250250e-01 -8.30458387e-02  1.56042653e+00\n",
      "   1.61327333e+00  1.60667106e+00  1.37992544e+00  1.23963346e+00\n",
      "   1.16030302e+00  6.21560395e-01 -3.61925123e-01 -8.82206990e-01\n",
      "  -8.17668173e-01 -6.64655910e-01 -5.23595080e-01 -4.02142028e-01\n",
      "  -3.03069160e-01 -2.21680844e-01 -1.59365935e-01 -1.10060699e-01\n",
      "  -7.00397650e-02 -3.71356228e-02 -1.22014099e-02 -4.08251693e-03]\n",
      " [ 0.00000000e+00  0.00000000e+00 -2.27387266e-02 -5.19053972e-02\n",
      "   3.07386858e+00  5.60859323e+00  4.62960950e+00  3.53861155e+00\n",
      "   2.59001419e+00  2.02823973e+00  1.68064378e+00  1.39229082e+00\n",
      "   3.01200685e-01 -7.99993648e-01 -8.39748579e-01 -7.34655534e-01\n",
      "  -6.12575711e-01 -4.92071188e-01 -3.79928167e-01 -2.88817393e-01\n",
      "  -2.13440937e-01 -1.53667782e-01 -1.09126008e-01 -7.40987562e-02\n",
      "  -4.33171851e-02 -1.93437920e-02 -1.04024820e-02  0.00000000e+00]\n",
      " [ 0.00000000e+00  0.00000000e+00 -1.03527008e-02 -2.87501024e-02\n",
      "   1.43442321e+01  1.49676659e+01  9.09224842e+00  5.95866001e+00\n",
      "   3.52099754e+00  1.54840932e+00  1.15868445e+00 -3.51803603e-01\n",
      "  -5.66505989e-01 -5.62783656e-01 -5.27164696e-01 -4.68057397e-01\n",
      "  -3.95805045e-01 -3.24789446e-01 -2.55705032e-01 -1.94611712e-01\n",
      "  -1.44574205e-01 -1.01773543e-01 -7.14252227e-02 -4.77777569e-02\n",
      "  -2.57524359e-02 -1.13794237e-02 -4.75287492e-03  0.00000000e+00]\n",
      " [ 0.00000000e+00  0.00000000e+00 -6.66430111e-03 -1.09642132e-02\n",
      "  -2.76044516e-02 -5.15536012e-02 -8.67718458e-02 -1.28392033e-01\n",
      "  -1.75775898e-01 -2.23054438e-01 -2.66640286e-01 -2.94844315e-01\n",
      "  -3.07505433e-01 -3.05180122e-01 -2.89231779e-01 -2.63231291e-01\n",
      "  -2.33723589e-01 -2.01027824e-01 -1.63691052e-01 -1.27665996e-01\n",
      "  -9.39651393e-02 -6.56832591e-02 -4.59265310e-02 -2.87188097e-02\n",
      "  -1.56930365e-02 -5.67530616e-03 -4.08251693e-03  0.00000000e+00]\n",
      " [ 0.00000000e+00  0.00000000e+00  0.00000000e+00 -4.08251693e-03\n",
      "  -1.51213939e-02 -3.13695545e-02 -5.33302349e-02 -7.92282669e-02\n",
      "  -1.08376650e-01 -1.33979068e-01 -1.57513181e-01 -1.75105513e-01\n",
      "  -1.82626897e-01 -1.80535341e-01 -1.69876491e-01 -1.53157314e-01\n",
      "  -1.35433124e-01 -1.16480299e-01 -9.39512541e-02 -7.25768871e-02\n",
      "  -5.23643597e-02 -3.63829995e-02 -2.15030637e-02 -1.30192791e-02\n",
      "  -4.49421517e-03 -4.08251693e-03  0.00000000e+00  0.00000000e+00]\n",
      " [ 0.00000000e+00  0.00000000e+00  0.00000000e+00  0.00000000e+00\n",
      "  -5.79016363e-03 -9.05384592e-03 -1.60054430e-02 -2.21197601e-02\n",
      "  -2.68459958e-02 -3.18450632e-02 -4.37484087e-02 -4.72829474e-02\n",
      "  -5.31388046e-02 -5.66228194e-02 -6.03383556e-02 -5.62950014e-02\n",
      "  -5.13665378e-02 -4.26322798e-02 -3.31710271e-02 -2.24628830e-02\n",
      "  -1.60690870e-02 -1.14322028e-02 -9.00729450e-03 -5.77039393e-03\n",
      "   0.00000000e+00  0.00000000e+00  0.00000000e+00  0.00000000e+00]]\n"
     ]
    },
    {
     "name": "stderr",
     "output_type": "stream",
     "text": [
      "C:\\Users\\koola\\AppData\\Local\\Temp\\ipykernel_19760\\2834081449.py:2: RuntimeWarning: divide by zero encountered in divide\n",
      "  zero_mean_unit_variance_test_images = np.nan_to_num((test_images - mean) / std)\n",
      "C:\\Users\\koola\\AppData\\Local\\Temp\\ipykernel_19760\\2834081449.py:2: RuntimeWarning: invalid value encountered in divide\n",
      "  zero_mean_unit_variance_test_images = np.nan_to_num((test_images - mean) / std)\n"
     ]
    }
   ],
   "source": [
    "zero_mean_unit_variance_train_images = np.nan_to_num((train_images - mean) / std)\n",
    "zero_mean_unit_variance_test_images = np.nan_to_num((test_images - mean) / std)\n",
    "\n",
    "print(zero_mean_unit_variance_train_images.shape)\n",
    "print(zero_mean_unit_variance_train_images[0])"
   ]
  },
  {
   "cell_type": "code",
   "execution_count": 89,
   "metadata": {},
   "outputs": [],
   "source": [
    "# 1a. Euclidean distance (your own)\n",
    "\n",
    "# zero_mean_unit_variance_train_images = np.nan_to_num((train_images - mean) / std)\n",
    "# zero_mean_unit_variance_test_images = np.nan_to_num((test_images - mean) / std)\n",
    "\n",
    "# print(zero_mean_unit_variance_train_images.shape)\n",
    "# # convert nan to 0\n",
    "# # zero_mean_unit_variance_train_images = np.nan_to_num(zero_mean_unit_variance_train_images)\n",
    "# # zero_mean_unit_variance_test_images = np.nan_to_num(zero_mean_unit_variance_test_images)\n",
    "# # subtract between test data and each row of training data -> power by 2 -> sum along axis you want to eliminate -> sqrt\n",
    "\n",
    "# selfimplemented_euclidean_distances = []\n",
    "\n",
    "# for i in tqdm(range(len(zero_mean_unit_variance_train_images))):\n",
    "#     distances = []\n",
    "#     for j in range(len(zero_mean_unit_variance_train_images)):\n",
    "#         distance = np.sqrt(np.sum((zero_mean_unit_variance_train_images[i] - zero_mean_unit_variance_train_images[j]) ** 2))\n",
    "#         distances.append(distance)\n",
    "#     selfimplemented_euclidean_distances.append(distances)\n",
    "\n",
    "# for i in tqdm(range(len(zero_mean_unit_variance_test_images))):\n",
    "#     distances = []\n",
    "#     for j in range(len(zero_mean_unit_variance_train_images)):\n",
    "#         distance = np.sqrt(np.sum((zero_mean_unit_variance_test_images[i] - zero_mean_unit_variance_train_images[j]) ** 2))\n",
    "#         distances.append(distance)\n",
    "#     selfimplemented_euclidean_distances.append(distances)\n",
    "# print(len(selfimplemented_euclidean_distances))\n",
    "# sorted_selfimplemented_euclidean_distances = sorted(selfimplemented_euclidean_distances, key=lambda x: x[0])\n",
    "# print(sorted_selfimplemented_euclidean_distances[:5])\n",
    "\n"
   ]
  },
  {
   "cell_type": "code",
   "execution_count": 120,
   "metadata": {},
   "outputs": [],
   "source": [
    "#implement a knn classifier for the MNIST dataset\n",
    "class KNNClassifier:\n",
    "    def __init__(self, k):\n",
    "        self.k = k\n",
    "        self.train_images = None\n",
    "        self.train_labels = None\n",
    "\n",
    "\n",
    "    def fit(self, train_images, train_labels, norm):\n",
    "        #self.train_images = train_images\n",
    "        self.train_labels = train_labels\n",
    "        if norm == \"Shift and Scale\":\n",
    "            self.train_images = train_images / 255.0\n",
    "            self.train_images = np.nan_to_num(self.train_images)\n",
    "\n",
    "        if norm == \"Zero Mean Unit Variance\":\n",
    "            self.train_images = (self.train_images - np.mean(self.train_images, axis=0)) / np.std(self.train_images, axis=0)\n",
    "\n",
    "    def predict_library(self, test_image): #uses numpy library euclidean distance\n",
    "        distances = np.linalg.norm(self.train_images - test_image, axis=1)\n",
    "        top_k_indices = np.argsort(distances)[:self.k]\n",
    "        top_k_labels = self.train_labels[top_k_indices]\n",
    "        most_common = np.bincount(top_k_labels).argmax()\n",
    "        return most_common\n",
    "    \n",
    "    def predict_own(self, test_image):\n",
    "        distances = []\n",
    "        \n",
    "        for i in range(len(train_images)):\n",
    "            distance = np.sqrt(np.sum((test_image - self.train_images[i]) ** 2))\n",
    "            distances.append((distance, self.train_labels[i]))\n",
    "\n",
    "        #print out the distances and their respective labels after sorting\n",
    "\n",
    "        distances = sorted(distances, key=lambda x: x[0])\n",
    "\n",
    "        print(\"Distances: \", distances[:self.k], \"Labels: \", [label for _, label in distances[:self.k]])\n",
    "        most_common = \n",
    "\n",
    "\n",
    "\n",
    "        # print(\"Distances: \", distances, \"Labels: \", self.train_labels[:self.k])\n",
    "        # most_common = np.bincount(self.train_labels[:self.k]).argmax()\n",
    "\n",
    "        \n",
    "\n",
    "        # top_k_indices = np.argsort(distances)[:self.k]\n",
    "        #print out the k distances\n",
    "        # print(\"Top k indices: \", top_k_indices)\n",
    "        #print out their distances\n",
    "        # print(\"Top k distances: \", distances[top_k_indices])\n",
    "        # top_k_labels = self.train_labels[top_k_indices]\n",
    "        # print(\"Top k labels: \",top_k_labels)\n",
    "        # most_common = np.bincount(top_k_labels).argmax()\n",
    "        #print(\"Most Common: \", most_common)\n",
    "        return most_common\n",
    "    \n",
    "    def euclidean_distance(self, test_image):\n",
    "        distance = np.sqrt(np.sum((test_image - self.train_images[i]) ** 2))\n",
    "        return distance\n",
    "    \n"
   ]
  },
  {
   "cell_type": "code",
   "execution_count": 93,
   "metadata": {},
   "outputs": [],
   "source": [
    "from sklearn.metrics import precision_recall_fscore_support\n",
    "from sklearn.metrics import accuracy_score"
   ]
  },
  {
   "cell_type": "code",
   "execution_count": 119,
   "metadata": {},
   "outputs": [
    {
     "name": "stderr",
     "output_type": "stream",
     "text": [
      "  0%|          | 1/1000 [00:00<08:33,  1.95it/s]"
     ]
    },
    {
     "name": "stdout",
     "output_type": "stream",
     "text": [
      "[]\n",
      "[]\n",
      "Distances:  [] Labels:  [5 0 4 1 9 2 1 3 1 4 3 5]\n",
      "Predicted: 1, Actual: 7\n"
     ]
    },
    {
     "name": "stderr",
     "output_type": "stream",
     "text": [
      "  0%|          | 2/1000 [00:01<08:27,  1.97it/s]"
     ]
    },
    {
     "name": "stdout",
     "output_type": "stream",
     "text": [
      "[]\n",
      "[]\n",
      "Distances:  [] Labels:  [5 0 4 1 9 2 1 3 1 4 3 5]\n",
      "Predicted: 1, Actual: 2\n"
     ]
    },
    {
     "name": "stderr",
     "output_type": "stream",
     "text": [
      "  0%|          | 3/1000 [00:01<08:16,  2.01it/s]"
     ]
    },
    {
     "name": "stdout",
     "output_type": "stream",
     "text": [
      "[]\n",
      "[]\n",
      "Distances:  [] Labels:  [5 0 4 1 9 2 1 3 1 4 3 5]\n",
      "Predicted: 1, Actual: 1\n"
     ]
    },
    {
     "name": "stderr",
     "output_type": "stream",
     "text": [
      "  0%|          | 4/1000 [00:01<08:13,  2.02it/s]"
     ]
    },
    {
     "name": "stdout",
     "output_type": "stream",
     "text": [
      "[]\n",
      "[]\n",
      "Distances:  [] Labels:  [5 0 4 1 9 2 1 3 1 4 3 5]\n",
      "Predicted: 1, Actual: 0\n"
     ]
    },
    {
     "name": "stderr",
     "output_type": "stream",
     "text": [
      "  0%|          | 5/1000 [00:02<08:09,  2.03it/s]"
     ]
    },
    {
     "name": "stdout",
     "output_type": "stream",
     "text": [
      "[]\n",
      "[]\n",
      "Distances:  [] Labels:  [5 0 4 1 9 2 1 3 1 4 3 5]\n",
      "Predicted: 1, Actual: 4\n"
     ]
    },
    {
     "name": "stderr",
     "output_type": "stream",
     "text": [
      "  1%|          | 6/1000 [00:02<08:07,  2.04it/s]"
     ]
    },
    {
     "name": "stdout",
     "output_type": "stream",
     "text": [
      "[]\n",
      "[]\n",
      "Distances:  [] Labels:  [5 0 4 1 9 2 1 3 1 4 3 5]\n",
      "Predicted: 1, Actual: 1\n"
     ]
    },
    {
     "name": "stderr",
     "output_type": "stream",
     "text": [
      "  1%|          | 7/1000 [00:03<08:07,  2.04it/s]"
     ]
    },
    {
     "name": "stdout",
     "output_type": "stream",
     "text": [
      "[]\n",
      "[]\n",
      "Distances:  [] Labels:  [5 0 4 1 9 2 1 3 1 4 3 5]\n",
      "Predicted: 1, Actual: 4\n"
     ]
    },
    {
     "name": "stderr",
     "output_type": "stream",
     "text": [
      "  1%|          | 8/1000 [00:03<08:05,  2.04it/s]"
     ]
    },
    {
     "name": "stdout",
     "output_type": "stream",
     "text": [
      "[]\n",
      "[]\n",
      "Distances:  [] Labels:  [5 0 4 1 9 2 1 3 1 4 3 5]\n",
      "Predicted: 1, Actual: 9\n"
     ]
    },
    {
     "name": "stderr",
     "output_type": "stream",
     "text": [
      "  1%|          | 9/1000 [00:04<08:03,  2.05it/s]"
     ]
    },
    {
     "name": "stdout",
     "output_type": "stream",
     "text": [
      "[]\n",
      "[]\n",
      "Distances:  [] Labels:  [5 0 4 1 9 2 1 3 1 4 3 5]\n",
      "Predicted: 1, Actual: 5\n"
     ]
    },
    {
     "name": "stderr",
     "output_type": "stream",
     "text": [
      "  1%|          | 10/1000 [00:04<08:06,  2.04it/s]"
     ]
    },
    {
     "name": "stdout",
     "output_type": "stream",
     "text": [
      "[]\n",
      "[]\n",
      "Distances:  [] Labels:  [5 0 4 1 9 2 1 3 1 4 3 5]\n",
      "Predicted: 1, Actual: 9\n"
     ]
    },
    {
     "name": "stderr",
     "output_type": "stream",
     "text": [
      "  1%|          | 11/1000 [00:05<08:04,  2.04it/s]"
     ]
    },
    {
     "name": "stdout",
     "output_type": "stream",
     "text": [
      "[]\n",
      "[]\n",
      "Distances:  [] Labels:  [5 0 4 1 9 2 1 3 1 4 3 5]\n",
      "Predicted: 1, Actual: 0\n"
     ]
    },
    {
     "name": "stderr",
     "output_type": "stream",
     "text": [
      "  1%|          | 12/1000 [00:05<08:06,  2.03it/s]"
     ]
    },
    {
     "name": "stdout",
     "output_type": "stream",
     "text": [
      "[]\n",
      "[]\n",
      "Distances:  [] Labels:  [5 0 4 1 9 2 1 3 1 4 3 5]\n",
      "Predicted: 1, Actual: 6\n"
     ]
    },
    {
     "name": "stderr",
     "output_type": "stream",
     "text": [
      "  1%|▏         | 13/1000 [00:06<08:03,  2.04it/s]"
     ]
    },
    {
     "name": "stdout",
     "output_type": "stream",
     "text": [
      "[]\n",
      "[]\n",
      "Distances:  [] Labels:  [5 0 4 1 9 2 1 3 1 4 3 5]\n",
      "Predicted: 1, Actual: 9\n"
     ]
    },
    {
     "name": "stderr",
     "output_type": "stream",
     "text": [
      "  1%|▏         | 14/1000 [00:06<08:02,  2.04it/s]"
     ]
    },
    {
     "name": "stdout",
     "output_type": "stream",
     "text": [
      "[]\n",
      "[]\n",
      "Distances:  [] Labels:  [5 0 4 1 9 2 1 3 1 4 3 5]\n",
      "Predicted: 1, Actual: 0\n"
     ]
    },
    {
     "name": "stderr",
     "output_type": "stream",
     "text": [
      "  2%|▏         | 15/1000 [00:07<08:01,  2.05it/s]"
     ]
    },
    {
     "name": "stdout",
     "output_type": "stream",
     "text": [
      "[]\n",
      "[]\n",
      "Distances:  [] Labels:  [5 0 4 1 9 2 1 3 1 4 3 5]\n",
      "Predicted: 1, Actual: 1\n"
     ]
    },
    {
     "name": "stderr",
     "output_type": "stream",
     "text": [
      "  2%|▏         | 16/1000 [00:07<08:00,  2.05it/s]"
     ]
    },
    {
     "name": "stdout",
     "output_type": "stream",
     "text": [
      "[]\n",
      "[]\n",
      "Distances:  [] Labels:  [5 0 4 1 9 2 1 3 1 4 3 5]\n",
      "Predicted: 1, Actual: 5\n"
     ]
    },
    {
     "name": "stderr",
     "output_type": "stream",
     "text": [
      "  2%|▏         | 17/1000 [00:08<07:59,  2.05it/s]"
     ]
    },
    {
     "name": "stdout",
     "output_type": "stream",
     "text": [
      "[]\n",
      "[]\n",
      "Distances:  [] Labels:  [5 0 4 1 9 2 1 3 1 4 3 5]\n",
      "Predicted: 1, Actual: 9\n"
     ]
    },
    {
     "name": "stderr",
     "output_type": "stream",
     "text": [
      "  2%|▏         | 18/1000 [00:08<08:01,  2.04it/s]"
     ]
    },
    {
     "name": "stdout",
     "output_type": "stream",
     "text": [
      "[]\n",
      "[]\n",
      "Distances:  [] Labels:  [5 0 4 1 9 2 1 3 1 4 3 5]\n",
      "Predicted: 1, Actual: 7\n"
     ]
    },
    {
     "name": "stderr",
     "output_type": "stream",
     "text": [
      "  2%|▏         | 19/1000 [00:09<07:59,  2.05it/s]"
     ]
    },
    {
     "name": "stdout",
     "output_type": "stream",
     "text": [
      "[]\n",
      "[]\n",
      "Distances:  [] Labels:  [5 0 4 1 9 2 1 3 1 4 3 5]\n",
      "Predicted: 1, Actual: 3\n"
     ]
    },
    {
     "name": "stderr",
     "output_type": "stream",
     "text": [
      "  2%|▏         | 20/1000 [00:09<07:59,  2.04it/s]"
     ]
    },
    {
     "name": "stdout",
     "output_type": "stream",
     "text": [
      "[]\n",
      "[]\n",
      "Distances:  [] Labels:  [5 0 4 1 9 2 1 3 1 4 3 5]\n",
      "Predicted: 1, Actual: 4\n"
     ]
    },
    {
     "name": "stderr",
     "output_type": "stream",
     "text": [
      "  2%|▏         | 21/1000 [00:10<08:03,  2.03it/s]"
     ]
    },
    {
     "name": "stdout",
     "output_type": "stream",
     "text": [
      "[]\n",
      "[]\n",
      "Distances:  [] Labels:  [5 0 4 1 9 2 1 3 1 4 3 5]\n",
      "Predicted: 1, Actual: 9\n"
     ]
    },
    {
     "name": "stderr",
     "output_type": "stream",
     "text": [
      "  2%|▏         | 22/1000 [00:10<08:05,  2.01it/s]"
     ]
    },
    {
     "name": "stdout",
     "output_type": "stream",
     "text": [
      "[]\n",
      "[]\n",
      "Distances:  [] Labels:  [5 0 4 1 9 2 1 3 1 4 3 5]\n",
      "Predicted: 1, Actual: 6\n"
     ]
    },
    {
     "name": "stderr",
     "output_type": "stream",
     "text": [
      "  2%|▏         | 23/1000 [00:11<08:05,  2.01it/s]"
     ]
    },
    {
     "name": "stdout",
     "output_type": "stream",
     "text": [
      "[]\n",
      "[]\n",
      "Distances:  [] Labels:  [5 0 4 1 9 2 1 3 1 4 3 5]\n",
      "Predicted: 1, Actual: 6\n"
     ]
    },
    {
     "name": "stderr",
     "output_type": "stream",
     "text": [
      "  2%|▏         | 24/1000 [00:11<08:04,  2.01it/s]"
     ]
    },
    {
     "name": "stdout",
     "output_type": "stream",
     "text": [
      "[]\n",
      "[]\n",
      "Distances:  [] Labels:  [5 0 4 1 9 2 1 3 1 4 3 5]\n",
      "Predicted: 1, Actual: 5\n"
     ]
    },
    {
     "name": "stderr",
     "output_type": "stream",
     "text": [
      "  2%|▎         | 25/1000 [00:12<08:04,  2.01it/s]"
     ]
    },
    {
     "name": "stdout",
     "output_type": "stream",
     "text": [
      "[]\n",
      "[]\n",
      "Distances:  [] Labels:  [5 0 4 1 9 2 1 3 1 4 3 5]\n",
      "Predicted: 1, Actual: 4\n"
     ]
    },
    {
     "name": "stderr",
     "output_type": "stream",
     "text": [
      "  3%|▎         | 26/1000 [00:12<08:08,  1.99it/s]"
     ]
    },
    {
     "name": "stdout",
     "output_type": "stream",
     "text": [
      "[]\n",
      "[]\n",
      "Distances:  [] Labels:  [5 0 4 1 9 2 1 3 1 4 3 5]\n",
      "Predicted: 1, Actual: 0\n"
     ]
    },
    {
     "name": "stderr",
     "output_type": "stream",
     "text": [
      "  3%|▎         | 27/1000 [00:13<08:03,  2.01it/s]"
     ]
    },
    {
     "name": "stdout",
     "output_type": "stream",
     "text": [
      "[]\n",
      "[]\n",
      "Distances:  [] Labels:  [5 0 4 1 9 2 1 3 1 4 3 5]\n",
      "Predicted: 1, Actual: 7\n"
     ]
    },
    {
     "name": "stderr",
     "output_type": "stream",
     "text": [
      "  3%|▎         | 28/1000 [00:13<08:04,  2.01it/s]"
     ]
    },
    {
     "name": "stdout",
     "output_type": "stream",
     "text": [
      "[]\n",
      "[]\n",
      "Distances:  [] Labels:  [5 0 4 1 9 2 1 3 1 4 3 5]\n",
      "Predicted: 1, Actual: 4\n"
     ]
    },
    {
     "name": "stderr",
     "output_type": "stream",
     "text": [
      "  3%|▎         | 29/1000 [00:14<08:02,  2.01it/s]"
     ]
    },
    {
     "name": "stdout",
     "output_type": "stream",
     "text": [
      "[]\n",
      "[]\n",
      "Distances:  [] Labels:  [5 0 4 1 9 2 1 3 1 4 3 5]\n",
      "Predicted: 1, Actual: 0\n"
     ]
    },
    {
     "name": "stderr",
     "output_type": "stream",
     "text": [
      "  3%|▎         | 30/1000 [00:14<08:17,  1.95it/s]"
     ]
    },
    {
     "name": "stdout",
     "output_type": "stream",
     "text": [
      "[]\n",
      "[]\n",
      "Distances:  [] Labels:  [5 0 4 1 9 2 1 3 1 4 3 5]\n",
      "Predicted: 1, Actual: 1\n"
     ]
    },
    {
     "name": "stderr",
     "output_type": "stream",
     "text": [
      "  3%|▎         | 31/1000 [00:15<08:12,  1.97it/s]"
     ]
    },
    {
     "name": "stdout",
     "output_type": "stream",
     "text": [
      "[]\n",
      "[]\n",
      "Distances:  [] Labels:  [5 0 4 1 9 2 1 3 1 4 3 5]\n",
      "Predicted: 1, Actual: 3\n"
     ]
    },
    {
     "name": "stderr",
     "output_type": "stream",
     "text": [
      "  3%|▎         | 32/1000 [00:15<08:22,  1.93it/s]"
     ]
    },
    {
     "name": "stdout",
     "output_type": "stream",
     "text": [
      "[]\n",
      "[]\n",
      "Distances:  [] Labels:  [5 0 4 1 9 2 1 3 1 4 3 5]\n",
      "Predicted: 1, Actual: 1\n"
     ]
    },
    {
     "name": "stderr",
     "output_type": "stream",
     "text": [
      "  3%|▎         | 33/1000 [00:16<08:22,  1.93it/s]"
     ]
    },
    {
     "name": "stdout",
     "output_type": "stream",
     "text": [
      "[]\n",
      "[]\n",
      "Distances:  [] Labels:  [5 0 4 1 9 2 1 3 1 4 3 5]\n",
      "Predicted: 1, Actual: 3\n"
     ]
    },
    {
     "name": "stderr",
     "output_type": "stream",
     "text": [
      "  3%|▎         | 33/1000 [00:16<08:07,  1.98it/s]\n"
     ]
    },
    {
     "ename": "KeyboardInterrupt",
     "evalue": "",
     "output_type": "error",
     "traceback": [
      "\u001b[1;31m---------------------------------------------------------------------------\u001b[0m",
      "\u001b[1;31mKeyboardInterrupt\u001b[0m                         Traceback (most recent call last)",
      "Cell \u001b[1;32mIn[119], line 19\u001b[0m\n\u001b[0;32m     17\u001b[0m \u001b[38;5;66;03m# test on first 10 images:\u001b[39;00m\n\u001b[0;32m     18\u001b[0m \u001b[38;5;28;01mfor\u001b[39;00m i \u001b[38;5;129;01min\u001b[39;00m tqdm(\u001b[38;5;28mrange\u001b[39m(\u001b[38;5;28mlen\u001b[39m(test_images_reduced))):\n\u001b[1;32m---> 19\u001b[0m     prediction \u001b[38;5;241m=\u001b[39m \u001b[43mknn\u001b[49m\u001b[38;5;241;43m.\u001b[39;49m\u001b[43mpredict_own\u001b[49m\u001b[43m(\u001b[49m\u001b[43mtest_images_reduced\u001b[49m\u001b[43m[\u001b[49m\u001b[43mi\u001b[49m\u001b[43m]\u001b[49m\u001b[43m)\u001b[49m\n\u001b[0;32m     20\u001b[0m     \u001b[38;5;28mprint\u001b[39m(\u001b[38;5;124mf\u001b[39m\u001b[38;5;124m\"\u001b[39m\u001b[38;5;124mPredicted: \u001b[39m\u001b[38;5;132;01m{\u001b[39;00mprediction\u001b[38;5;132;01m}\u001b[39;00m\u001b[38;5;124m, Actual: \u001b[39m\u001b[38;5;132;01m{\u001b[39;00mtest_labels_reduced[i]\u001b[38;5;132;01m}\u001b[39;00m\u001b[38;5;124m\"\u001b[39m)\n\u001b[0;32m     21\u001b[0m     \u001b[38;5;66;03m# prediction = knn.predict_library(test_images[i])\u001b[39;00m\n\u001b[0;32m     22\u001b[0m     \u001b[38;5;66;03m# acc = accuracy_score(test_labels[i], prediction)\u001b[39;00m\n\u001b[0;32m     23\u001b[0m     \u001b[38;5;66;03m# accuracies.append(accuracy)\\\\\u001b[39;00m\n\u001b[0;32m     24\u001b[0m     \u001b[38;5;66;03m# print(f\"Predicted: {prediction}, Actual: {test_labels[i]}, Accuracy: {acc}\")\u001b[39;00m\n",
      "Cell \u001b[1;32mIn[118], line 30\u001b[0m, in \u001b[0;36mKNNClassifier.predict_own\u001b[1;34m(self, test_image)\u001b[0m\n\u001b[0;32m     27\u001b[0m distances \u001b[38;5;241m=\u001b[39m np\u001b[38;5;241m.\u001b[39marray([])\n\u001b[0;32m     29\u001b[0m \u001b[38;5;28;01mfor\u001b[39;00m i \u001b[38;5;129;01min\u001b[39;00m \u001b[38;5;28mrange\u001b[39m(\u001b[38;5;28mlen\u001b[39m(train_images)):\n\u001b[1;32m---> 30\u001b[0m     distance \u001b[38;5;241m=\u001b[39m np\u001b[38;5;241m.\u001b[39msqrt(\u001b[43mnp\u001b[49m\u001b[38;5;241;43m.\u001b[39;49m\u001b[43msum\u001b[49m\u001b[43m(\u001b[49m\u001b[43m(\u001b[49m\u001b[43mtest_image\u001b[49m\u001b[43m \u001b[49m\u001b[38;5;241;43m-\u001b[39;49m\u001b[43m \u001b[49m\u001b[38;5;28;43mself\u001b[39;49m\u001b[38;5;241;43m.\u001b[39;49m\u001b[43mtrain_images\u001b[49m\u001b[43m[\u001b[49m\u001b[43mi\u001b[49m\u001b[43m]\u001b[49m\u001b[43m)\u001b[49m\u001b[43m \u001b[49m\u001b[38;5;241;43m*\u001b[39;49m\u001b[38;5;241;43m*\u001b[39;49m\u001b[43m \u001b[49m\u001b[38;5;241;43m2\u001b[39;49m\u001b[43m)\u001b[49m)\n\u001b[0;32m     31\u001b[0m     np\u001b[38;5;241m.\u001b[39mappend(distances, distance)\n\u001b[0;32m     33\u001b[0m distances \u001b[38;5;241m=\u001b[39m distances[:\u001b[38;5;28mself\u001b[39m\u001b[38;5;241m.\u001b[39mk]\n",
      "File \u001b[1;32m~\\AppData\\Local\\Packages\\PythonSoftwareFoundation.Python.3.12_qbz5n2kfra8p0\\LocalCache\\local-packages\\Python312\\site-packages\\numpy\\_core\\fromnumeric.py:2344\u001b[0m, in \u001b[0;36m_sum_dispatcher\u001b[1;34m(a, axis, dtype, out, keepdims, initial, where)\u001b[0m\n\u001b[0;32m   2338\u001b[0m         \u001b[38;5;28;01mraise\u001b[39;00m \u001b[38;5;167;01mValueError\u001b[39;00m(\u001b[38;5;124m\"\u001b[39m\u001b[38;5;124mPassing `min` or `max` keyword argument when \u001b[39m\u001b[38;5;124m\"\u001b[39m\n\u001b[0;32m   2339\u001b[0m                          \u001b[38;5;124m\"\u001b[39m\u001b[38;5;124m`a_min` and `a_max` are provided is forbidden.\u001b[39m\u001b[38;5;124m\"\u001b[39m)\n\u001b[0;32m   2341\u001b[0m     \u001b[38;5;28;01mreturn\u001b[39;00m _wrapfunc(a, \u001b[38;5;124m'\u001b[39m\u001b[38;5;124mclip\u001b[39m\u001b[38;5;124m'\u001b[39m, a_min, a_max, out\u001b[38;5;241m=\u001b[39mout, \u001b[38;5;241m*\u001b[39m\u001b[38;5;241m*\u001b[39mkwargs)\n\u001b[1;32m-> 2344\u001b[0m \u001b[38;5;28;01mdef\u001b[39;00m\u001b[38;5;250m \u001b[39m\u001b[38;5;21m_sum_dispatcher\u001b[39m(a, axis\u001b[38;5;241m=\u001b[39m\u001b[38;5;28;01mNone\u001b[39;00m, dtype\u001b[38;5;241m=\u001b[39m\u001b[38;5;28;01mNone\u001b[39;00m, out\u001b[38;5;241m=\u001b[39m\u001b[38;5;28;01mNone\u001b[39;00m, keepdims\u001b[38;5;241m=\u001b[39m\u001b[38;5;28;01mNone\u001b[39;00m,\n\u001b[0;32m   2345\u001b[0m                     initial\u001b[38;5;241m=\u001b[39m\u001b[38;5;28;01mNone\u001b[39;00m, where\u001b[38;5;241m=\u001b[39m\u001b[38;5;28;01mNone\u001b[39;00m):\n\u001b[0;32m   2346\u001b[0m     \u001b[38;5;28;01mreturn\u001b[39;00m (a, out)\n\u001b[0;32m   2349\u001b[0m \u001b[38;5;129m@array_function_dispatch\u001b[39m(_sum_dispatcher)\n\u001b[0;32m   2350\u001b[0m \u001b[38;5;28;01mdef\u001b[39;00m\u001b[38;5;250m \u001b[39m\u001b[38;5;21msum\u001b[39m(a, axis\u001b[38;5;241m=\u001b[39m\u001b[38;5;28;01mNone\u001b[39;00m, dtype\u001b[38;5;241m=\u001b[39m\u001b[38;5;28;01mNone\u001b[39;00m, out\u001b[38;5;241m=\u001b[39m\u001b[38;5;28;01mNone\u001b[39;00m, keepdims\u001b[38;5;241m=\u001b[39mnp\u001b[38;5;241m.\u001b[39m_NoValue,\n\u001b[0;32m   2351\u001b[0m         initial\u001b[38;5;241m=\u001b[39mnp\u001b[38;5;241m.\u001b[39m_NoValue, where\u001b[38;5;241m=\u001b[39mnp\u001b[38;5;241m.\u001b[39m_NoValue):\n",
      "\u001b[1;31mKeyboardInterrupt\u001b[0m: "
     ]
    }
   ],
   "source": [
    "# Test the KNN classifier\n",
    "\n",
    "knn = KNNClassifier(k = 12)\n",
    "knn.fit(train_images, train_labels, norm=\"Shift and Scale\")\n",
    "\n",
    "# lets shrink the test size\n",
    "test_images_reduced = test_images[:1000]\n",
    "\n",
    "# remember to normalize test set as well\n",
    "test_images_reduced = test_images_reduced / 255.0\n",
    "\n",
    "test_labels_reduced = test_labels[:1000]\n",
    "\n",
    "correct = 0\n",
    "accuracy = 0.0\n",
    "accuracies = []\n",
    "# test on first 10 images:\n",
    "for i in tqdm(range(len(test_images_reduced))):\n",
    "    prediction = knn.predict_own(test_images_reduced[i])\n",
    "    print(f\"Predicted: {prediction}, Actual: {test_labels_reduced[i]}\")\n",
    "    # prediction = knn.predict_library(test_images[i])\n",
    "    # acc = accuracy_score(test_labels[i], prediction)\n",
    "    # accuracies.append(accuracy)\\\\\n",
    "    # print(f\"Predicted: {prediction}, Actual: {test_labels[i]}, Accuracy: {acc}\")\n",
    "\n",
    "    if prediction == test_labels_reduced[i]:\n",
    "        correct += 1\n",
    "    accuracy = correct / (float(i) + 1)\n",
    "\n",
    "# knn.predict_library(test_images[0])\n",
    "\n"
   ]
  },
  {
   "cell_type": "code",
   "execution_count": 101,
   "metadata": {},
   "outputs": [
    {
     "name": "stdout",
     "output_type": "stream",
     "text": [
      "Accuracy: 12.60%\n",
      "Correct: 126/1000\n",
      "Incorrect: 874/1000\n"
     ]
    }
   ],
   "source": [
    "print(f\"Accuracy: {accuracy * 100:.2f}%\")\n",
    "print(f\"Correct: {correct}/{len(test_images_reduced)}\")\n",
    "print(f\"Incorrect: {len(test_images_reduced) - correct}/{len(test_images_reduced)}\")\n"
   ]
  },
  {
   "cell_type": "code",
   "execution_count": 103,
   "metadata": {},
   "outputs": [
    {
     "name": "stdout",
     "output_type": "stream",
     "text": [
      "7\n"
     ]
    },
    {
     "data": {
      "image/png": "[encoded data removed]",
      "text/plain": [
       "<Figure size 640x480 with 1 Axes>"
      ]
     },
     "metadata": {},
     "output_type": "display_data"
    }
   ],
   "source": [
    "plt.imshow(test_images_reduced[0], cmap='gray')\n",
    "print(test_labels_reduced[0])"
   ]
  },
  {
   "cell_type": "markdown",
   "metadata": {},
   "source": [
    "# 20 NEWS GROUP:"
   ]
  },
  {
   "cell_type": "code",
   "execution_count": 10,
   "metadata": {},
   "outputs": [
    {
     "name": "stdout",
     "output_type": "stream",
     "text": [
      "['alt.atheism', 'comp.graphics', 'comp.os.ms-windows.misc', 'comp.sys.ibm.pc.hardware', 'comp.sys.mac.hardware', 'comp.windows.x', 'misc.forsale', 'rec.autos', 'rec.motorcycles', 'rec.sport.baseball', 'rec.sport.hockey', 'sci.crypt', 'sci.electronics', 'sci.med', 'sci.space', 'soc.religion.christian', 'talk.politics.guns', 'talk.politics.mideast', 'talk.politics.misc', 'talk.religion.misc']\n",
      "From: lerxst@wam.umd.edu (where's my thing)\n",
      "Subject: WHAT car is this!?\n",
      "Nntp-Posting-Host: rac3.wam.umd.edu\n",
      "Organization: University of Maryland, College Park\n",
      "Lines: 15\n",
      "\n",
      " I was wondering if anyone out there could enlighten me on this car I saw\n",
      "the other day. It was a 2-door sports car, looked to be from the late 60s/\n",
      "early 70s. It was called a Bricklin. The doors were really small. In addition,\n",
      "the front bumper was separate from the rest of the body. This is \n",
      "all I know. If anyone can tellme a model name, engine specs, years\n",
      "of production, where this car is made, history, or whatever info you\n",
      "have on this funky looking car, please e-mail.\n",
      "\n",
      "Thanks,\n",
      "- IL\n",
      "   ---- brought to you by your neighborhood Lerxst ----\n",
      "\n",
      "\n",
      "\n",
      "\n",
      "\n",
      "7\n",
      "rec.autos\n",
      "11314\n",
      "7532\n"
     ]
    }
   ],
   "source": [
    "# FIRST TASK: Parse the 20 newsgroups dataset\n",
    "newsgroups_train = fetch_20newsgroups(subset='train')\n",
    "newsgroups_test = fetch_20newsgroups(subset='test')\n",
    "\n",
    "# label names\n",
    "print(newsgroups_train.target_names)\n",
    "# example of a document's data\n",
    "print(newsgroups_train.data[0])\n",
    "# this example document's target label\n",
    "print(newsgroups_train.target[0])\n",
    "print(newsgroups_train.target_names[newsgroups_train.target[0]])\n",
    "\n",
    "# number of documents in the training and test sets\n",
    "print(len(newsgroups_train.data))\n",
    "print(len(newsgroups_test.data))"
   ]
  },
  {
   "cell_type": "code",
   "execution_count": null,
   "metadata": {},
   "outputs": [
    {
     "name": "stdout",
     "output_type": "stream",
     "text": [
      "(11314, 130107)\n",
      "(7532, 130107)\n",
      "<Compressed Sparse Row sparse matrix of dtype 'float64'\n",
      "\twith 89 stored elements and shape (1, 130107)>\n",
      "  Coords\tValues\n",
      "  (0, 56979)\t0.0574701540748513\n",
      "  (0, 75358)\t0.3538350134970617\n",
      "  (0, 123162)\t0.25970902457356887\n",
      "  (0, 118280)\t0.21186807208281694\n",
      "  (0, 50527)\t0.05461428658858725\n",
      "  (0, 124031)\t0.10798795154169123\n",
      "  (0, 85354)\t0.03696978508816317\n",
      "  (0, 114688)\t0.06214070986309587\n",
      "  (0, 111322)\t0.019156718024950434\n",
      "  (0, 123984)\t0.036854292634593756\n",
      "  (0, 37780)\t0.3813389125949312\n",
      "  (0, 68532)\t0.07325812342131598\n",
      "  (0, 114731)\t0.1444727551278406\n",
      "  (0, 87620)\t0.0356718631408158\n",
      "  (0, 95162)\t0.03447138409326312\n",
      "  (0, 64095)\t0.035420924271313554\n",
      "  (0, 98949)\t0.16068606055394935\n",
      "  (0, 90379)\t0.01992885995664587\n",
      "  (0, 118983)\t0.03708597805061915\n",
      "  (0, 89362)\t0.06521174306303765\n",
      "  (0, 79666)\t0.10936401252414275\n",
      "  (0, 40998)\t0.07801368196918111\n",
      "  (0, 92081)\t0.09913274493911224\n",
      "  (0, 76032)\t0.01921946305222309\n",
      "  (0, 4605)\t0.06332603952480324\n",
      "  :\t:\n",
      "  (0, 37565)\t0.03431760442478462\n",
      "  (0, 113986)\t0.17691750674853085\n",
      "  (0, 83256)\t0.08844382496462175\n",
      "  (0, 86001)\t0.07000411445838192\n",
      "  (0, 51730)\t0.09714744057976724\n",
      "  (0, 109271)\t0.10844724822064675\n",
      "  (0, 128026)\t0.06062209588975889\n",
      "  (0, 96144)\t0.10826904490745742\n",
      "  (0, 78784)\t0.0633940918806495\n",
      "  (0, 63363)\t0.08342748387969037\n",
      "  (0, 90252)\t0.03188936879541757\n",
      "  (0, 123989)\t0.08207027465330355\n",
      "  (0, 67156)\t0.0731344392274018\n",
      "  (0, 128402)\t0.059222940832778424\n",
      "  (0, 62221)\t0.029215279924278678\n",
      "  (0, 57308)\t0.15587170091577043\n",
      "  (0, 76722)\t0.06908779999621749\n",
      "  (0, 94362)\t0.05545703139014723\n",
      "  (0, 78955)\t0.059898568880615996\n",
      "  (0, 114428)\t0.05511105154696677\n",
      "  (0, 66098)\t0.09785515708314482\n",
      "  (0, 35187)\t0.09353930598317126\n",
      "  (0, 35983)\t0.037704485636198756\n",
      "  (0, 128420)\t0.042784990792830935\n",
      "  (0, 86580)\t0.1315711871424099\n"
     ]
    }
   ],
   "source": [
    "# SECOND TASK: TF-IDF Vectorization\n",
    "    # Term Frequency: How often a word appears in the document\n",
    "    # Inverse document frequency: How often a word appears in the entire corpus\n",
    "\n",
    "vectorizer = TfidfVectorizer()\n",
    "X_train = vectorizer.fit_transform(newsgroups_train.data)\n",
    "X_test = vectorizer.transform(newsgroups_test.data)\n",
    "print(X_train.shape)\n",
    "print(X_test.shape)\n",
    "\n",
    "print(X_train[0])\n"
   ]
  },
  {
   "cell_type": "code",
   "execution_count": 11,
   "metadata": {},
   "outputs": [
    {
     "name": "stdout",
     "output_type": "stream",
     "text": [
      "[[0.04405974]]\n"
     ]
    }
   ],
   "source": [
    "# 2. Cosine Similarity (required for vectors)\n",
    "\n",
    "from sklearn.metrics.pairwise import cosine_similarity\n",
    "\n",
    "# Calculate the cosine similarity between the first two documents in the training set\n",
    "cosine_sim = cosine_similarity(X_train[0], X_train[1])\n",
    "print(cosine_sim)\n",
    "\n",
    "# create a function for cosine similarity of two documents:\n",
    "def cosine_similarity_docs(doc1, doc2):\n",
    "    return cosine_similarity(doc1, doc2)\n",
    "\n"
   ]
  },
  {
   "cell_type": "code",
   "execution_count": null,
   "metadata": {},
   "outputs": [],
   "source": []
  }
 ],
 "metadata": {
  "kernelspec": {
   "display_name": "Python 3",
   "language": "python",
   "name": "python3"
  },
  "language_info": {
   "codemirror_mode": {
    "name": "ipython",
    "version": 3
   },
   "file_extension": ".py",
   "mimetype": "text/x-python",
   "name": "python",
   "nbconvert_exporter": "python",
   "pygments_lexer": "ipython3",
   "version": "3.12.7"
  }
 },
 "nbformat": 4,
 "nbformat_minor": 2
}
