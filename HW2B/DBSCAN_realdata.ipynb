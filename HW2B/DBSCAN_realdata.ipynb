{
 "cells": [
  {
   "cell_type": "markdown",
   "metadata": {},
   "source": [
    "PROBLEM 7: DBSCAN on real data\n",
    "\n",
    "Run the DBSCAN algorithm on:\n",
    "\n",
    "1. 20NG\n",
    "\n",
    "2. FASHION \n",
    "\n",
    "3. HouseHold (see papers), and evaluate results.\n",
    "\n",
    "You need to implement both phases:\n",
    "1) Neighborhoods creation\n",
    "\n",
    "2) DBSCAN\n",
    "\n",
    "Explain why/when it works, and speculate why/when not. You need to trial and error for parameters epsilon and MinPts"
   ]
  },
  {
   "cell_type": "code",
   "execution_count": 570,
   "metadata": {},
   "outputs": [],
   "source": [
    "import sklearn\n",
    "import pandas as pd\n",
    "import numpy as np\n",
    "import torch\n",
    "import torchvision\n",
    "import torchvision.transforms as transforms\n",
    "import matplotlib.pyplot as plt\n",
    "from sklearn.datasets import fetch_20newsgroups\n",
    "from sklearn.feature_extraction.text import TfidfVectorizer\n",
    "from tqdm import tqdm"
   ]
  },
  {
   "cell_type": "markdown",
   "metadata": {},
   "source": [
    "### FASHION DATASET:"
   ]
  },
  {
   "cell_type": "code",
   "execution_count": 571,
   "metadata": {},
   "outputs": [
    {
     "name": "stdout",
     "output_type": "stream",
     "text": [
      "tensor([[[0.0000, 0.0000, 0.0000, 0.0000, 0.0000, 0.0000, 0.0000, 0.0000,\n",
      "          0.0000, 0.0000, 0.0000, 0.0000, 0.0000, 0.0000, 0.0000, 0.0000,\n",
      "          0.0000, 0.0000, 0.0000, 0.0000, 0.0000, 0.0000, 0.0000, 0.0000,\n",
      "          0.0000, 0.0000, 0.0000, 0.0000],\n",
      "         [0.0000, 0.0000, 0.0000, 0.0000, 0.0000, 0.0000, 0.0000, 0.0000,\n",
      "          0.0000, 0.0000, 0.0000, 0.0000, 0.0000, 0.0000, 0.0000, 0.0000,\n",
      "          0.0000, 0.0000, 0.0000, 0.0000, 0.0000, 0.0000, 0.0000, 0.0000,\n",
      "          0.0000, 0.0000, 0.0000, 0.0000],\n",
      "         [0.0000, 0.0000, 0.0000, 0.0000, 0.0000, 0.0000, 0.0000, 0.0000,\n",
      "          0.0000, 0.0000, 0.0000, 0.0000, 0.0000, 0.0000, 0.0000, 0.0000,\n",
      "          0.0000, 0.0000, 0.0000, 0.0000, 0.0000, 0.0000, 0.0000, 0.0000,\n",
      "          0.0000, 0.0000, 0.0000, 0.0000],\n",
      "         [0.0000, 0.0000, 0.0000, 0.0000, 0.0000, 0.0000, 0.0000, 0.0000,\n",
      "          0.0000, 0.0000, 0.0000, 0.0000, 0.0039, 0.0000, 0.0000, 0.0510,\n",
      "          0.2863, 0.0000, 0.0000, 0.0039, 0.0157, 0.0000, 0.0000, 0.0000,\n",
      "          0.0000, 0.0039, 0.0039, 0.0000],\n",
      "         [0.0000, 0.0000, 0.0000, 0.0000, 0.0000, 0.0000, 0.0000, 0.0000,\n",
      "          0.0000, 0.0000, 0.0000, 0.0000, 0.0118, 0.0000, 0.1412, 0.5333,\n",
      "          0.4980, 0.2431, 0.2118, 0.0000, 0.0000, 0.0000, 0.0039, 0.0118,\n",
      "          0.0157, 0.0000, 0.0000, 0.0118],\n",
      "         [0.0000, 0.0000, 0.0000, 0.0000, 0.0000, 0.0000, 0.0000, 0.0000,\n",
      "          0.0000, 0.0000, 0.0000, 0.0000, 0.0235, 0.0000, 0.4000, 0.8000,\n",
      "          0.6902, 0.5255, 0.5647, 0.4824, 0.0902, 0.0000, 0.0000, 0.0000,\n",
      "          0.0000, 0.0471, 0.0392, 0.0000],\n",
      "         [0.0000, 0.0000, 0.0000, 0.0000, 0.0000, 0.0000, 0.0000, 0.0000,\n",
      "          0.0000, 0.0000, 0.0000, 0.0000, 0.0000, 0.0000, 0.6078, 0.9255,\n",
      "          0.8118, 0.6980, 0.4196, 0.6118, 0.6314, 0.4275, 0.2510, 0.0902,\n",
      "          0.3020, 0.5098, 0.2824, 0.0588],\n",
      "         [0.0000, 0.0000, 0.0000, 0.0000, 0.0000, 0.0000, 0.0000, 0.0000,\n",
      "          0.0000, 0.0000, 0.0000, 0.0039, 0.0000, 0.2706, 0.8118, 0.8745,\n",
      "          0.8549, 0.8471, 0.8471, 0.6392, 0.4980, 0.4745, 0.4784, 0.5725,\n",
      "          0.5529, 0.3451, 0.6745, 0.2588],\n",
      "         [0.0000, 0.0000, 0.0000, 0.0000, 0.0000, 0.0000, 0.0000, 0.0000,\n",
      "          0.0000, 0.0039, 0.0039, 0.0039, 0.0000, 0.7843, 0.9098, 0.9098,\n",
      "          0.9137, 0.8980, 0.8745, 0.8745, 0.8431, 0.8353, 0.6431, 0.4980,\n",
      "          0.4824, 0.7686, 0.8980, 0.0000],\n",
      "         [0.0000, 0.0000, 0.0000, 0.0000, 0.0000, 0.0000, 0.0000, 0.0000,\n",
      "          0.0000, 0.0000, 0.0000, 0.0000, 0.0000, 0.7176, 0.8824, 0.8471,\n",
      "          0.8745, 0.8941, 0.9216, 0.8902, 0.8784, 0.8706, 0.8784, 0.8667,\n",
      "          0.8745, 0.9608, 0.6784, 0.0000],\n",
      "         [0.0000, 0.0000, 0.0000, 0.0000, 0.0000, 0.0000, 0.0000, 0.0000,\n",
      "          0.0000, 0.0000, 0.0000, 0.0000, 0.0000, 0.7569, 0.8941, 0.8549,\n",
      "          0.8353, 0.7765, 0.7059, 0.8314, 0.8235, 0.8275, 0.8353, 0.8745,\n",
      "          0.8627, 0.9529, 0.7922, 0.0000],\n",
      "         [0.0000, 0.0000, 0.0000, 0.0000, 0.0000, 0.0000, 0.0000, 0.0000,\n",
      "          0.0000, 0.0039, 0.0118, 0.0000, 0.0471, 0.8588, 0.8627, 0.8314,\n",
      "          0.8549, 0.7529, 0.6627, 0.8902, 0.8157, 0.8549, 0.8784, 0.8314,\n",
      "          0.8863, 0.7725, 0.8196, 0.2039],\n",
      "         [0.0000, 0.0000, 0.0000, 0.0000, 0.0000, 0.0000, 0.0000, 0.0000,\n",
      "          0.0000, 0.0000, 0.0235, 0.0000, 0.3882, 0.9569, 0.8706, 0.8627,\n",
      "          0.8549, 0.7961, 0.7765, 0.8667, 0.8431, 0.8353, 0.8706, 0.8627,\n",
      "          0.9608, 0.4667, 0.6549, 0.2196],\n",
      "         [0.0000, 0.0000, 0.0000, 0.0000, 0.0000, 0.0000, 0.0000, 0.0000,\n",
      "          0.0000, 0.0157, 0.0000, 0.0000, 0.2157, 0.9255, 0.8941, 0.9020,\n",
      "          0.8941, 0.9412, 0.9098, 0.8353, 0.8549, 0.8745, 0.9176, 0.8510,\n",
      "          0.8510, 0.8196, 0.3608, 0.0000],\n",
      "         [0.0000, 0.0000, 0.0039, 0.0157, 0.0235, 0.0275, 0.0078, 0.0000,\n",
      "          0.0000, 0.0000, 0.0000, 0.0000, 0.9294, 0.8863, 0.8510, 0.8745,\n",
      "          0.8706, 0.8588, 0.8706, 0.8667, 0.8471, 0.8745, 0.8980, 0.8431,\n",
      "          0.8549, 1.0000, 0.3020, 0.0000],\n",
      "         [0.0000, 0.0118, 0.0000, 0.0000, 0.0000, 0.0000, 0.0000, 0.0000,\n",
      "          0.0000, 0.2431, 0.5686, 0.8000, 0.8941, 0.8118, 0.8353, 0.8667,\n",
      "          0.8549, 0.8157, 0.8275, 0.8549, 0.8784, 0.8745, 0.8588, 0.8431,\n",
      "          0.8784, 0.9569, 0.6235, 0.0000],\n",
      "         [0.0000, 0.0000, 0.0000, 0.0000, 0.0706, 0.1725, 0.3216, 0.4196,\n",
      "          0.7412, 0.8941, 0.8627, 0.8706, 0.8510, 0.8863, 0.7843, 0.8039,\n",
      "          0.8275, 0.9020, 0.8784, 0.9176, 0.6902, 0.7373, 0.9804, 0.9725,\n",
      "          0.9137, 0.9333, 0.8431, 0.0000],\n",
      "         [0.0000, 0.2235, 0.7333, 0.8157, 0.8784, 0.8667, 0.8784, 0.8157,\n",
      "          0.8000, 0.8392, 0.8157, 0.8196, 0.7843, 0.6235, 0.9608, 0.7569,\n",
      "          0.8078, 0.8745, 1.0000, 1.0000, 0.8667, 0.9176, 0.8667, 0.8275,\n",
      "          0.8627, 0.9098, 0.9647, 0.0000],\n",
      "         [0.0118, 0.7922, 0.8941, 0.8784, 0.8667, 0.8275, 0.8275, 0.8392,\n",
      "          0.8039, 0.8039, 0.8039, 0.8627, 0.9412, 0.3137, 0.5882, 1.0000,\n",
      "          0.8980, 0.8667, 0.7373, 0.6039, 0.7490, 0.8235, 0.8000, 0.8196,\n",
      "          0.8706, 0.8941, 0.8824, 0.0000],\n",
      "         [0.3843, 0.9137, 0.7765, 0.8235, 0.8706, 0.8980, 0.8980, 0.9176,\n",
      "          0.9765, 0.8627, 0.7608, 0.8431, 0.8510, 0.9451, 0.2549, 0.2863,\n",
      "          0.4157, 0.4588, 0.6588, 0.8588, 0.8667, 0.8431, 0.8510, 0.8745,\n",
      "          0.8745, 0.8784, 0.8980, 0.1137],\n",
      "         [0.2941, 0.8000, 0.8314, 0.8000, 0.7569, 0.8039, 0.8275, 0.8824,\n",
      "          0.8471, 0.7255, 0.7725, 0.8078, 0.7765, 0.8353, 0.9412, 0.7647,\n",
      "          0.8902, 0.9608, 0.9373, 0.8745, 0.8549, 0.8314, 0.8196, 0.8706,\n",
      "          0.8627, 0.8667, 0.9020, 0.2627],\n",
      "         [0.1882, 0.7961, 0.7176, 0.7608, 0.8353, 0.7725, 0.7255, 0.7451,\n",
      "          0.7608, 0.7529, 0.7922, 0.8392, 0.8588, 0.8667, 0.8627, 0.9255,\n",
      "          0.8824, 0.8471, 0.7804, 0.8078, 0.7294, 0.7098, 0.6941, 0.6745,\n",
      "          0.7098, 0.8039, 0.8078, 0.4510],\n",
      "         [0.0000, 0.4784, 0.8588, 0.7569, 0.7020, 0.6706, 0.7176, 0.7686,\n",
      "          0.8000, 0.8235, 0.8353, 0.8118, 0.8275, 0.8235, 0.7843, 0.7686,\n",
      "          0.7608, 0.7490, 0.7647, 0.7490, 0.7765, 0.7529, 0.6902, 0.6118,\n",
      "          0.6549, 0.6941, 0.8235, 0.3608],\n",
      "         [0.0000, 0.0000, 0.2902, 0.7412, 0.8314, 0.7490, 0.6863, 0.6745,\n",
      "          0.6863, 0.7098, 0.7255, 0.7373, 0.7412, 0.7373, 0.7569, 0.7765,\n",
      "          0.8000, 0.8196, 0.8235, 0.8235, 0.8275, 0.7373, 0.7373, 0.7608,\n",
      "          0.7529, 0.8471, 0.6667, 0.0000],\n",
      "         [0.0078, 0.0000, 0.0000, 0.0000, 0.2588, 0.7843, 0.8706, 0.9294,\n",
      "          0.9373, 0.9490, 0.9647, 0.9529, 0.9569, 0.8667, 0.8627, 0.7569,\n",
      "          0.7490, 0.7020, 0.7137, 0.7137, 0.7098, 0.6902, 0.6510, 0.6588,\n",
      "          0.3882, 0.2275, 0.0000, 0.0000],\n",
      "         [0.0000, 0.0000, 0.0000, 0.0000, 0.0000, 0.0000, 0.0000, 0.1569,\n",
      "          0.2392, 0.1725, 0.2824, 0.1608, 0.1373, 0.0000, 0.0000, 0.0000,\n",
      "          0.0000, 0.0000, 0.0000, 0.0000, 0.0000, 0.0000, 0.0000, 0.0000,\n",
      "          0.0000, 0.0000, 0.0000, 0.0000],\n",
      "         [0.0000, 0.0000, 0.0000, 0.0000, 0.0000, 0.0000, 0.0000, 0.0000,\n",
      "          0.0000, 0.0000, 0.0000, 0.0000, 0.0000, 0.0000, 0.0000, 0.0000,\n",
      "          0.0000, 0.0000, 0.0000, 0.0000, 0.0000, 0.0000, 0.0000, 0.0000,\n",
      "          0.0000, 0.0000, 0.0000, 0.0000],\n",
      "         [0.0000, 0.0000, 0.0000, 0.0000, 0.0000, 0.0000, 0.0000, 0.0000,\n",
      "          0.0000, 0.0000, 0.0000, 0.0000, 0.0000, 0.0000, 0.0000, 0.0000,\n",
      "          0.0000, 0.0000, 0.0000, 0.0000, 0.0000, 0.0000, 0.0000, 0.0000,\n",
      "          0.0000, 0.0000, 0.0000, 0.0000]]])\n"
     ]
    }
   ],
   "source": [
    "data_fashion = torchvision.datasets.FashionMNIST(root='./fashion', download=True, transform=transforms.ToTensor())\n",
    "print(data_fashion[0][0])\n",
    "\n",
    "#truncate to 1000 samples:\n",
    "data_fashion.data = data_fashion.data[:2000]\n",
    "data_fashion.targets = data_fashion.targets[:2000]"
   ]
  },
  {
   "cell_type": "code",
   "execution_count": 572,
   "metadata": {},
   "outputs": [
    {
     "name": "stdout",
     "output_type": "stream",
     "text": [
      "[[  0   0   0   0   0   0   0   0   0   0   0   0   0   0   0   0   0   0\n",
      "    0   0   0   0   0   0   0   0   0   0]\n",
      " [  0   0   0   0   0   0   0   0   0   0   0   0   0   0   0   0   0   0\n",
      "    0   0   0   0   0   0   0   0   0   0]\n",
      " [  0   0   0   0   0   0   0   0   0   0   0   0   0   0   0   0   0   0\n",
      "    0   0   0   0   0   0   0   0   0   0]\n",
      " [  0   0   0   0   0   0   0   0   0   0   0   0   1   0   0  13  73   0\n",
      "    0   1   4   0   0   0   0   1   1   0]\n",
      " [  0   0   0   0   0   0   0   0   0   0   0   0   3   0  36 136 127  62\n",
      "   54   0   0   0   1   3   4   0   0   3]\n",
      " [  0   0   0   0   0   0   0   0   0   0   0   0   6   0 102 204 176 134\n",
      "  144 123  23   0   0   0   0  12  10   0]\n",
      " [  0   0   0   0   0   0   0   0   0   0   0   0   0   0 155 236 207 178\n",
      "  107 156 161 109  64  23  77 130  72  15]\n",
      " [  0   0   0   0   0   0   0   0   0   0   0   1   0  69 207 223 218 216\n",
      "  216 163 127 121 122 146 141  88 172  66]\n",
      " [  0   0   0   0   0   0   0   0   0   1   1   1   0 200 232 232 233 229\n",
      "  223 223 215 213 164 127 123 196 229   0]\n",
      " [  0   0   0   0   0   0   0   0   0   0   0   0   0 183 225 216 223 228\n",
      "  235 227 224 222 224 221 223 245 173   0]\n",
      " [  0   0   0   0   0   0   0   0   0   0   0   0   0 193 228 218 213 198\n",
      "  180 212 210 211 213 223 220 243 202   0]\n",
      " [  0   0   0   0   0   0   0   0   0   1   3   0  12 219 220 212 218 192\n",
      "  169 227 208 218 224 212 226 197 209  52]\n",
      " [  0   0   0   0   0   0   0   0   0   0   6   0  99 244 222 220 218 203\n",
      "  198 221 215 213 222 220 245 119 167  56]\n",
      " [  0   0   0   0   0   0   0   0   0   4   0   0  55 236 228 230 228 240\n",
      "  232 213 218 223 234 217 217 209  92   0]\n",
      " [  0   0   1   4   6   7   2   0   0   0   0   0 237 226 217 223 222 219\n",
      "  222 221 216 223 229 215 218 255  77   0]\n",
      " [  0   3   0   0   0   0   0   0   0  62 145 204 228 207 213 221 218 208\n",
      "  211 218 224 223 219 215 224 244 159   0]\n",
      " [  0   0   0   0  18  44  82 107 189 228 220 222 217 226 200 205 211 230\n",
      "  224 234 176 188 250 248 233 238 215   0]\n",
      " [  0  57 187 208 224 221 224 208 204 214 208 209 200 159 245 193 206 223\n",
      "  255 255 221 234 221 211 220 232 246   0]\n",
      " [  3 202 228 224 221 211 211 214 205 205 205 220 240  80 150 255 229 221\n",
      "  188 154 191 210 204 209 222 228 225   0]\n",
      " [ 98 233 198 210 222 229 229 234 249 220 194 215 217 241  65  73 106 117\n",
      "  168 219 221 215 217 223 223 224 229  29]\n",
      " [ 75 204 212 204 193 205 211 225 216 185 197 206 198 213 240 195 227 245\n",
      "  239 223 218 212 209 222 220 221 230  67]\n",
      " [ 48 203 183 194 213 197 185 190 194 192 202 214 219 221 220 236 225 216\n",
      "  199 206 186 181 177 172 181 205 206 115]\n",
      " [  0 122 219 193 179 171 183 196 204 210 213 207 211 210 200 196 194 191\n",
      "  195 191 198 192 176 156 167 177 210  92]\n",
      " [  0   0  74 189 212 191 175 172 175 181 185 188 189 188 193 198 204 209\n",
      "  210 210 211 188 188 194 192 216 170   0]\n",
      " [  2   0   0   0  66 200 222 237 239 242 246 243 244 221 220 193 191 179\n",
      "  182 182 181 176 166 168  99  58   0   0]\n",
      " [  0   0   0   0   0   0   0  40  61  44  72  41  35   0   0   0   0   0\n",
      "    0   0   0   0   0   0   0   0   0   0]\n",
      " [  0   0   0   0   0   0   0   0   0   0   0   0   0   0   0   0   0   0\n",
      "    0   0   0   0   0   0   0   0   0   0]\n",
      " [  0   0   0   0   0   0   0   0   0   0   0   0   0   0   0   0   0   0\n",
      "    0   0   0   0   0   0   0   0   0   0]]\n",
      "28\n"
     ]
    }
   ],
   "source": [
    "data_fashion_numpy = data_fashion.data.numpy()\n",
    "print(data_fashion_numpy[0])\n",
    "print(len(data_fashion_numpy[0]))"
   ]
  },
  {
   "cell_type": "code",
   "execution_count": 573,
   "metadata": {},
   "outputs": [
    {
     "name": "stdout",
     "output_type": "stream",
     "text": [
      "tensor([9, 0, 0,  ..., 3, 5, 8])\n"
     ]
    }
   ],
   "source": [
    "\n",
    "print(data_fashion.targets)\n",
    "data_fashion_labels = data_fashion.targets.numpy()[:2000]\n",
    "# print(data_fashion_labels)"
   ]
  },
  {
   "cell_type": "code",
   "execution_count": 574,
   "metadata": {},
   "outputs": [
    {
     "name": "stdout",
     "output_type": "stream",
     "text": [
      "Between tensors:  tensor(14.6757) using norm:  tensor(14.6757) using numpy:  14.675714\n",
      "Between tensors:  tensor(11.8889) using norm:  tensor(11.8889) using numpy:  11.888938\n",
      "Between numpy arrays:  394.31839926637963\n",
      "Between numpy arrays:  614.6169538826601\n"
     ]
    }
   ],
   "source": [
    "# test euclidean distances between the two types (tensors and numpy arrays)\n",
    "print(\"Between tensors: \", torch.dist(data_fashion[0][0], data_fashion[1][0]), \"using norm: \", torch.norm(data_fashion[0][0] - data_fashion[1][0]), \"using numpy: \", np.linalg.norm(data_fashion[0][0].numpy() - data_fashion[1][0].numpy()))\n",
    "print(\"Between tensors: \", torch.dist(data_fashion[1][0], data_fashion[2][0]), \"using norm: \", torch.norm(data_fashion[1][0] - data_fashion[2][0]), \"using numpy: \", np.linalg.norm(data_fashion[1][0].numpy() - data_fashion[2][0].numpy()))\n",
    "print(\"Between numpy arrays: \", np.linalg.norm(data_fashion_numpy[1][0] - data_fashion_numpy[2][0]))\n",
    "print(\"Between numpy arrays: \", np.linalg.norm(data_fashion_numpy[0][0] - data_fashion_numpy[1][0]))"
   ]
  },
  {
   "cell_type": "code",
   "execution_count": 575,
   "metadata": {},
   "outputs": [],
   "source": [
    "# 1. Compute distances, get neighbors:\n",
    "\n",
    "def euclidean_distance(x, y):\n",
    "    # Convert tensors to float type\n",
    "    x = x.float()\n",
    "    y = y.float()\n",
    "    return torch.dist(x, y)\n",
    "\n",
    "def get_neighbors(data, point, epsilon):\n",
    "    neighbors = []\n",
    "    # print(\"point: \", point)\n",
    "    # print(\"data: \", data)\n",
    "    # differing between samples:\n",
    "    for i in range(len(data)):\n",
    "        if euclidean_distance(data[i], point) < epsilon:\n",
    "            neighbors.append(i)\n",
    "    return neighbors\n",
    "\n",
    "# 2. DBSCAN algorithm:\n",
    "def dbscan(df, epsilon, min_points):\n",
    "    labels = [0] * len(df)\n",
    "    c = 0\n",
    "    for i in tqdm(range(len(df))):\n",
    "        if labels[i] != 0:\n",
    "            continue\n",
    "        neighbors = get_neighbors(df, df[i], epsilon)\n",
    "        if len(neighbors) < min_points:\n",
    "            labels[i] = -1\n",
    "            continue\n",
    "        c += 1\n",
    "        labels[i] = c\n",
    "        for j in neighbors:\n",
    "            if labels[j] == -1:\n",
    "                labels[j] = c\n",
    "            if labels[j] != 0:\n",
    "                continue\n",
    "            labels[j] = c\n",
    "            new_neighbors = get_neighbors(df, df[j], epsilon)\n",
    "            if len(new_neighbors) >= min_points:\n",
    "                neighbors.extend(new_neighbors)\n",
    "    return labels\n",
    "\n"
   ]
  },
  {
   "cell_type": "code",
   "execution_count": 576,
   "metadata": {},
   "outputs": [
    {
     "name": "stdout",
     "output_type": "stream",
     "text": [
      "neighbors:  [1, 10, 17, 48, 55, 66, 149, 154, 171, 176, 180, 191, 206, 219, 225, 237, 272, 304, 321, 329, 331, 338, 410, 415, 441, 448, 506, 519, 523, 524, 526, 549, 564, 565, 595, 640, 641, 665, 715, 716, 732, 741, 745, 748, 771, 780, 789, 812, 815, 816, 823, 825, 829, 839, 877, 880, 893, 905, 965, 967, 1013, 1041, 1056, 1073, 1078, 1084, 1103, 1119, 1142, 1158, 1169, 1228, 1264, 1287, 1288, 1303, 1311, 1327, 1329, 1410, 1424, 1460, 1516, 1526, 1585, 1599, 1600, 1603, 1608, 1622, 1647, 1682, 1731, 1737, 1745, 1790, 1791, 1800, 1837, 1843, 1846, 1849, 1850, 1861, 1897, 1912, 1929, 1942, 1950, 1956, 1979, 1989]\n",
      "112\n",
      "labels:  tensor([0, 0, 0, 0, 6, 0, 0, 0, 0, 0, 0, 0, 6, 0, 0, 0, 0, 0, 0, 0, 0, 0, 6, 0,\n",
      "        0, 0, 6, 0, 6, 0, 6, 6, 0, 0, 3, 0, 0, 0, 0, 0, 0, 0, 0, 6, 0, 0, 0, 0,\n",
      "        0, 0, 0, 0, 0, 0, 0, 0, 0, 0, 0, 0, 0, 0, 0, 0, 6, 0, 0, 6, 6, 0, 0, 0,\n",
      "        0, 6, 0, 0, 0, 0, 0, 0, 0, 0, 0, 0, 6, 0, 3, 0, 0, 0, 0, 0, 0, 0, 6, 6,\n",
      "        0, 0, 0, 0, 0, 6, 0, 0, 0, 0, 0, 0, 0, 0, 6, 0])\n",
      "unique:  [0 3 6]\n",
      "counts:  [93  2 17]\n"
     ]
    }
   ],
   "source": [
    "# to find best epsilon:\n",
    "neighbors = get_neighbors(data_fashion.data, data_fashion.data[1], 2100)\n",
    "neighbors = sorted(neighbors)\n",
    "print(\"neighbors: \", neighbors)\n",
    "print(len(neighbors))\n",
    "print(\"labels: \", data_fashion.targets[neighbors])\n",
    "\n",
    "# print counts of neighbors\n",
    "unique, counts = np.unique(data_fashion.targets[neighbors], return_counts=True)\n",
    "print(\"unique: \", unique)\n",
    "print(\"counts: \", counts)"
   ]
  },
  {
   "cell_type": "code",
   "execution_count": 577,
   "metadata": {},
   "outputs": [
    {
     "name": "stdout",
     "output_type": "stream",
     "text": [
      "neighbors:  [1, 3, 5, 10, 17, 18, 20, 24, 25, 26, 32, 37, 40, 45, 47, 48, 49, 51, 55, 56, 57, 61, 65, 66, 72, 75, 77, 94, 95, 98, 112, 113, 140, 149, 151, 154, 157, 160, 164, 168, 171, 176, 180, 186, 187, 190, 191, 199, 203, 204, 206, 207, 219, 225, 231, 232, 234, 237, 240, 243, 245, 252, 253, 255, 261, 268, 269, 272, 287, 302, 304, 309, 314, 315, 318, 321, 323, 324, 329, 331, 332, 334, 336, 338, 344, 350, 354, 362, 368, 375, 377, 383, 387, 392, 395, 407, 410, 415, 422, 426, 433, 441, 444, 448, 480, 488, 489, 493, 495, 499, 500, 501, 504, 506, 508, 509, 519, 522, 523, 524, 526, 530, 536, 543, 549, 564, 565, 567, 568, 571, 574, 586, 590, 591, 592, 595, 600, 601, 609, 626, 640, 641, 645, 649, 662, 665, 670, 672, 673, 678, 684, 686, 687, 696, 701, 712, 715, 716, 720, 725, 731, 732, 733, 737, 741, 742, 745, 748, 755, 756, 766, 771, 780, 789, 797, 802, 808, 812, 815, 816, 823, 824, 825, 829, 830, 839, 855, 858, 863, 871, 875, 877, 880, 881, 882, 888, 893, 905, 906, 910, 911, 922, 923, 925, 934, 940, 942, 944, 948, 949, 950, 951, 955, 965, 966, 967, 981, 993, 996, 1002, 1005, 1009, 1013, 1014, 1021, 1026, 1037, 1041, 1043, 1046, 1054, 1056, 1057, 1063, 1068, 1072, 1073, 1077, 1078, 1084, 1092, 1096, 1098, 1101, 1103, 1104, 1112, 1119, 1120, 1125, 1130, 1137, 1140, 1142, 1150, 1158, 1165, 1169, 1170, 1178, 1193, 1194, 1200, 1215, 1216, 1218, 1228, 1242, 1244, 1249, 1251, 1262, 1264, 1266, 1267, 1268, 1271, 1273, 1274, 1277, 1280, 1283, 1284, 1287, 1288, 1292, 1300, 1301, 1303, 1304, 1311, 1312, 1315, 1318, 1320, 1325, 1326, 1327, 1329, 1346, 1352, 1356, 1361, 1366, 1369, 1387, 1388, 1389, 1391, 1404, 1406, 1408, 1410, 1419, 1420, 1424, 1430, 1433, 1438, 1442, 1445, 1448, 1460, 1462, 1463, 1472, 1492, 1493, 1495, 1503, 1516, 1526, 1536, 1537, 1544, 1547, 1549, 1551, 1560, 1561, 1585, 1589, 1590, 1593, 1597, 1599, 1600, 1603, 1608, 1610, 1617, 1622, 1626, 1636, 1642, 1647, 1648, 1652, 1653, 1655, 1660, 1664, 1674, 1682, 1683, 1684, 1693, 1694, 1695, 1702, 1717, 1721, 1722, 1727, 1731, 1737, 1745, 1752, 1756, 1761, 1762, 1764, 1779, 1790, 1791, 1793, 1797, 1800, 1803, 1810, 1812, 1813, 1815, 1823, 1834, 1837, 1843, 1846, 1849, 1850, 1851, 1856, 1861, 1862, 1876, 1884, 1885, 1897, 1902, 1904, 1906, 1907, 1912, 1913, 1918, 1923, 1929, 1935, 1938, 1942, 1945, 1950, 1951, 1953, 1956, 1961, 1963, 1967, 1968, 1969, 1974, 1979, 1983, 1989]\n",
      "434\n",
      "labels:  tensor([0, 3, 2, 0, 0, 6, 3, 4, 3, 0, 6, 2, 6, 2, 3, 0, 3, 3, 6, 6, 8, 0, 2, 0,\n",
      "        6, 4, 6, 3, 6, 1, 6, 6, 6, 0, 1, 0, 6, 0, 6, 6, 0, 0, 0, 0, 0, 3, 0, 2,\n",
      "        6, 3, 6, 0, 0, 0, 2, 6, 2, 0, 4, 1, 6, 6, 2, 4, 3, 3, 0, 0, 8, 0, 0, 6,\n",
      "        6, 4, 3, 0, 3, 4, 0, 0, 3, 3, 1, 0, 6, 2, 0, 4, 6, 3, 0, 0, 4, 0, 3, 3,\n",
      "        6, 0, 2, 4, 4, 0, 0, 0, 6, 3, 0, 0, 6, 6, 3, 2, 0, 6, 3, 3, 0, 0, 6, 0,\n",
      "        6, 0, 3, 6, 6, 0, 0, 4, 3, 3, 2, 6, 6, 0, 0, 3, 0, 0, 3, 3, 0, 0, 0, 3,\n",
      "        0, 0, 3, 4, 3, 0, 2, 3, 4, 2, 3, 0, 0, 0, 4, 3, 4, 0, 4, 6, 0, 2, 0, 6,\n",
      "        2, 3, 6, 0, 0, 0, 6, 3, 0, 0, 0, 0, 0, 3, 0, 0, 0, 0, 2, 0, 3, 3, 6, 0,\n",
      "        0, 6, 6, 3, 0, 0, 6, 0, 3, 1, 4, 6, 2, 6, 0, 3, 3, 6, 0, 3, 2, 0, 4, 0,\n",
      "        2, 4, 3, 2, 0, 6, 0, 6, 4, 3, 3, 0, 1, 4, 2, 0, 4, 3, 2, 2, 0, 3, 6, 0,\n",
      "        6, 6, 0, 6, 0, 0, 6, 6, 3, 4, 3, 2, 4, 6, 3, 0, 6, 0, 0, 2, 4, 3, 6, 2,\n",
      "        6, 0, 0, 4, 2, 3, 6, 4, 0, 6, 2, 4, 4, 4, 1, 6, 3, 4, 3, 6, 0, 2, 4, 0,\n",
      "        0, 3, 0, 4, 3, 4, 4, 0, 3, 0, 0, 6, 3, 3, 3, 6, 3, 1, 6, 2, 6, 2, 3, 4,\n",
      "        0, 6, 0, 0, 0, 2, 6, 2, 3, 1, 0, 3, 1, 6, 2, 3, 6, 0, 0, 0, 0, 4, 3, 0,\n",
      "        3, 4, 0, 3, 6, 0, 0, 6, 2, 0, 3, 0, 0, 3, 4, 0, 6, 3, 6, 0, 4, 2, 3, 4,\n",
      "        4, 3, 3, 0, 3, 6, 3, 4, 3, 2, 4, 2, 6, 0, 0, 0, 6, 2, 6, 1, 3, 3, 6, 6,\n",
      "        0, 2, 3, 0, 3, 4, 3, 6, 0, 2, 2, 0, 0, 0, 6, 0, 2, 2, 0, 6, 4, 0, 4, 0,\n",
      "        3, 6, 4, 0, 0, 2, 2, 2, 0, 6, 6, 0, 3, 0, 2, 2, 0, 3, 2, 4, 2, 6, 3, 6,\n",
      "        3, 0])\n",
      "unique:  [0 1 2 3 4 6 8]\n",
      "counts:  [144  11  52  89  49  87   2]\n"
     ]
    }
   ],
   "source": [
    "# to find best epsilon:\n",
    "neighbors = get_neighbors(data_fashion.data, data_fashion.data[1], 2700)\n",
    "neighbors = sorted(neighbors)\n",
    "print(\"neighbors: \", neighbors)\n",
    "print(len(neighbors))\n",
    "print(\"labels: \", data_fashion.targets[neighbors])\n",
    "\n",
    "# print counts of neighbors\n",
    "unique, counts = np.unique(data_fashion.targets[neighbors], return_counts=True)\n",
    "print(\"unique: \", unique)\n",
    "print(\"counts: \", counts)"
   ]
  },
  {
   "cell_type": "code",
   "execution_count": 578,
   "metadata": {},
   "outputs": [
    {
     "name": "stdout",
     "output_type": "stream",
     "text": [
      "unique:  [0 1 2 3 4 5 6 7 8 9]\n",
      "counts:  [194 216 202 195 186 200 194 215 198 200]\n"
     ]
    }
   ],
   "source": [
    "# count of 0 labels:\n",
    "unique, counts = np.unique(data_fashion.targets, return_counts=True)\n",
    "print(\"unique: \", unique)\n",
    "print(\"counts: \", counts)"
   ]
  },
  {
   "cell_type": "code",
   "execution_count": 579,
   "metadata": {},
   "outputs": [
    {
     "name": "stdout",
     "output_type": "stream",
     "text": [
      "[9 0 0 3 0 2 7 2 5 5]\n",
      "Dist within a cluster:  tensor(3031.6790)\n",
      "tensor(0) tensor(0)\n",
      "Dist between two different clusters:  tensor(3495.4448)\n",
      "tensor(9) tensor(5)\n"
     ]
    }
   ],
   "source": [
    "# example distance between two points of the same class\n",
    "print(data_fashion_labels[:10])\n",
    "print(\"Dist within a cluster: \", euclidean_distance(data_fashion.data[1], data_fashion.data[2]))\n",
    "print(data_fashion.targets[1], data_fashion.targets[2])\n",
    "print(\"Dist between two different clusters: \", euclidean_distance(data_fashion.data[0], data_fashion.data[8]))\n",
    "print(data_fashion.targets[0], data_fashion.targets[8])"
   ]
  },
  {
   "cell_type": "code",
   "execution_count": 598,
   "metadata": {},
   "outputs": [
    {
     "name": "stderr",
     "output_type": "stream",
     "text": [
      "100%|██████████| 2000/2000 [01:28<00:00, 22.56it/s]\n"
     ]
    }
   ],
   "source": [
    "# pass it: (aim for around 50 in the first cluster)\n",
    "labels = dbscan(data_fashion.data, 1020, 3)"
   ]
  },
  {
   "cell_type": "code",
   "execution_count": 597,
   "metadata": {},
   "outputs": [
    {
     "name": "stdout",
     "output_type": "stream",
     "text": [
      "Clusters:  {1, 2, 3, 4, 5, 6, 7, 8, 9, 10, 11, 12, 13, 14, 15, 16, 17, 18, 19, -1}\n",
      "Counts of clusters:  {1: 184, 2: 121, 3: 39, 4: 181, 5: 23, 6: 18, 7: 10, 8: 11, 9: 4, 10: 11, 11: 9, 12: 7, 13: 14, 14: 17, 15: 10, 16: 5, 17: 5, 18: 5, 19: 5, -1: 1321}\n"
     ]
    }
   ],
   "source": [
    "# 1050,5\n",
    "clusters = set(labels)\n",
    "print(\"Clusters: \", clusters)\n",
    "print(\"Counts of clusters: \", {i: list(labels).count(i) for i in clusters})"
   ]
  },
  {
   "cell_type": "code",
   "execution_count": 599,
   "metadata": {},
   "outputs": [
    {
     "name": "stdout",
     "output_type": "stream",
     "text": [
      "Clusters:  {1, 2, 3, 4, 5, 6, 7, 8, 9, 10, 11, 12, 13, 14, 15, 16, 17, 18, 19, 20, 21, 22, 23, 24, 25, 26, 27, 28, 29, -1}\n",
      "Counts of clusters:  {1: 275, 2: 49, 3: 53, 4: 173, 5: 18, 6: 3, 7: 3, 8: 18, 9: 16, 10: 3, 11: 3, 12: 4, 13: 14, 14: 3, 15: 12, 16: 4, 17: 3, 18: 5, 19: 3, 20: 5, 21: 3, 22: 4, 23: 3, 24: 3, 25: 3, 26: 4, 27: 3, 28: 3, 29: 5, -1: 1302}\n"
     ]
    }
   ],
   "source": [
    "# afterwards to compare: 1020,3 \n",
    "clusters = set(labels)\n",
    "print(\"Clusters: \", clusters)\n",
    "print(\"Counts of clusters: \", {i: list(labels).count(i) for i in clusters})"
   ]
  },
  {
   "cell_type": "code",
   "execution_count": 589,
   "metadata": {},
   "outputs": [
    {
     "name": "stdout",
     "output_type": "stream",
     "text": [
      "Clusters:  {1, 2, -1}\n",
      "Counts of clusters:  {1: 982, 2: 12, -1: 1006}\n"
     ]
    }
   ],
   "source": [
    "# afterwards to compare: 1200, 10\n",
    "clusters = set(labels)\n",
    "print(\"Clusters: \", clusters)\n",
    "print(\"Counts of clusters: \", {i: list(labels).count(i) for i in clusters})"
   ]
  },
  {
   "cell_type": "code",
   "execution_count": 593,
   "metadata": {},
   "outputs": [
    {
     "name": "stdout",
     "output_type": "stream",
     "text": [
      "Clusters:  {1, 2, 3, 4, 5, 6, 7, 8, 9, 10, 11, 12, 13, 14, 15, 16, 17, 18, 19, 20, -1}\n",
      "Counts of clusters:  {1: 125, 2: 104, 3: 171, 4: 11, 5: 11, 6: 4, 7: 7, 8: 19, 9: 26, 10: 4, 11: 9, 12: 13, 13: 8, 14: 5, 15: 9, 16: 4, 17: 10, 18: 5, 19: 10, 20: 4, -1: 1441}\n"
     ]
    }
   ],
   "source": [
    "# afterwards to compare: 1000,4\n",
    "clusters = set(labels)\n",
    "print(\"Clusters: \", clusters)\n",
    "print(\"Counts of clusters: \", {i: list(labels).count(i) for i in clusters})"
   ]
  },
  {
   "cell_type": "code",
   "execution_count": 585,
   "metadata": {},
   "outputs": [
    {
     "name": "stderr",
     "output_type": "stream",
     "text": [
      "  0%|          | 2/2000 [00:25<7:12:44, 13.00s/it]\n",
      "  0%|          | 0/6 [00:25<?, ?it/s]\n"
     ]
    },
    {
     "ename": "KeyboardInterrupt",
     "evalue": "",
     "output_type": "error",
     "traceback": [
      "\u001b[1;31m---------------------------------------------------------------------------\u001b[0m",
      "\u001b[1;31mKeyboardInterrupt\u001b[0m                         Traceback (most recent call last)",
      "Cell \u001b[1;32mIn[585], line 4\u001b[0m\n\u001b[0;32m      1\u001b[0m \u001b[38;5;66;03m# find optimal min_points by incrementing, optimal epsilon by oscillation\u001b[39;00m\n\u001b[0;32m      3\u001b[0m \u001b[38;5;28;01mfor\u001b[39;00m i \u001b[38;5;129;01min\u001b[39;00m tqdm(\u001b[38;5;28mrange\u001b[39m(\u001b[38;5;241m4\u001b[39m,\u001b[38;5;241m10\u001b[39m)):\n\u001b[1;32m----> 4\u001b[0m     labels \u001b[38;5;241m=\u001b[39m \u001b[43mdbscan\u001b[49m\u001b[43m(\u001b[49m\u001b[43mdata_fashion\u001b[49m\u001b[38;5;241;43m.\u001b[39;49m\u001b[43mdata\u001b[49m\u001b[43m,\u001b[49m\u001b[43m \u001b[49m\u001b[38;5;241;43m1175\u001b[39;49m\u001b[43m,\u001b[49m\u001b[43m \u001b[49m\u001b[43mi\u001b[49m\u001b[43m)\u001b[49m\n\u001b[0;32m      5\u001b[0m     clusters \u001b[38;5;241m=\u001b[39m \u001b[38;5;28mset\u001b[39m(labels)\n\u001b[0;32m      6\u001b[0m     \u001b[38;5;28mprint\u001b[39m(\u001b[38;5;124m\"\u001b[39m\u001b[38;5;124mClusters: \u001b[39m\u001b[38;5;124m\"\u001b[39m, clusters)\n",
      "Cell \u001b[1;32mIn[575], line 38\u001b[0m, in \u001b[0;36mdbscan\u001b[1;34m(df, epsilon, min_points)\u001b[0m\n\u001b[0;32m     36\u001b[0m     \u001b[38;5;28;01mcontinue\u001b[39;00m\n\u001b[0;32m     37\u001b[0m labels[j] \u001b[38;5;241m=\u001b[39m c\n\u001b[1;32m---> 38\u001b[0m new_neighbors \u001b[38;5;241m=\u001b[39m \u001b[43mget_neighbors\u001b[49m\u001b[43m(\u001b[49m\u001b[43mdf\u001b[49m\u001b[43m,\u001b[49m\u001b[43m \u001b[49m\u001b[43mdf\u001b[49m\u001b[43m[\u001b[49m\u001b[43mj\u001b[49m\u001b[43m]\u001b[49m\u001b[43m,\u001b[49m\u001b[43m \u001b[49m\u001b[43mepsilon\u001b[49m\u001b[43m)\u001b[49m\n\u001b[0;32m     39\u001b[0m \u001b[38;5;28;01mif\u001b[39;00m \u001b[38;5;28mlen\u001b[39m(new_neighbors) \u001b[38;5;241m>\u001b[39m\u001b[38;5;241m=\u001b[39m min_points:\n\u001b[0;32m     40\u001b[0m     neighbors\u001b[38;5;241m.\u001b[39mextend(new_neighbors)\n",
      "Cell \u001b[1;32mIn[575], line 15\u001b[0m, in \u001b[0;36mget_neighbors\u001b[1;34m(data, point, epsilon)\u001b[0m\n\u001b[0;32m     11\u001b[0m \u001b[38;5;66;03m# print(\"point: \", point)\u001b[39;00m\n\u001b[0;32m     12\u001b[0m \u001b[38;5;66;03m# print(\"data: \", data)\u001b[39;00m\n\u001b[0;32m     13\u001b[0m \u001b[38;5;66;03m# differing between samples:\u001b[39;00m\n\u001b[0;32m     14\u001b[0m \u001b[38;5;28;01mfor\u001b[39;00m i \u001b[38;5;129;01min\u001b[39;00m \u001b[38;5;28mrange\u001b[39m(\u001b[38;5;28mlen\u001b[39m(data)):\n\u001b[1;32m---> 15\u001b[0m     \u001b[38;5;28;01mif\u001b[39;00m \u001b[43meuclidean_distance\u001b[49m\u001b[43m(\u001b[49m\u001b[43mdata\u001b[49m\u001b[43m[\u001b[49m\u001b[43mi\u001b[49m\u001b[43m]\u001b[49m\u001b[43m,\u001b[49m\u001b[43m \u001b[49m\u001b[43mpoint\u001b[49m\u001b[43m)\u001b[49m \u001b[38;5;241m<\u001b[39m epsilon:\n\u001b[0;32m     16\u001b[0m         neighbors\u001b[38;5;241m.\u001b[39mappend(i)\n\u001b[0;32m     17\u001b[0m \u001b[38;5;28;01mreturn\u001b[39;00m neighbors\n",
      "Cell \u001b[1;32mIn[575], line 7\u001b[0m, in \u001b[0;36meuclidean_distance\u001b[1;34m(x, y)\u001b[0m\n\u001b[0;32m      5\u001b[0m x \u001b[38;5;241m=\u001b[39m x\u001b[38;5;241m.\u001b[39mfloat()\n\u001b[0;32m      6\u001b[0m y \u001b[38;5;241m=\u001b[39m y\u001b[38;5;241m.\u001b[39mfloat()\n\u001b[1;32m----> 7\u001b[0m \u001b[38;5;28;01mreturn\u001b[39;00m \u001b[43mtorch\u001b[49m\u001b[38;5;241;43m.\u001b[39;49m\u001b[43mdist\u001b[49m\u001b[43m(\u001b[49m\u001b[43mx\u001b[49m\u001b[43m,\u001b[49m\u001b[43m \u001b[49m\u001b[43my\u001b[49m\u001b[43m)\u001b[49m\n",
      "\u001b[1;31mKeyboardInterrupt\u001b[0m: "
     ]
    }
   ],
   "source": [
    "# find optimal min_points by incrementing, optimal epsilon by oscillation\n",
    "\n",
    "for i in tqdm(range(4,10)):\n",
    "    labels = dbscan(data_fashion.data, 1175, i)\n",
    "    clusters = set(labels)\n",
    "    print(\"Clusters: \", clusters)\n",
    "    print(\"Counts of clusters: \", {i: list(labels).count(i) for i in clusters})\n",
    "    if(len(clusters) == 10):\n",
    "        print(\"Optimal min_points: \", i)\n",
    "        break\n",
    "    "
   ]
  },
  {
   "cell_type": "markdown",
   "metadata": {},
   "source": [
    "## 20NG\n"
   ]
  },
  {
   "cell_type": "code",
   "execution_count": 828,
   "metadata": {},
   "outputs": [],
   "source": [
    "# 20NG dataset\n",
    "newsgroups = fetch_20newsgroups(subset='test', remove=('headers', 'footers', 'quotes'))\n",
    "# newsgroups_data = newsgroups.data[:1000]\n",
    "# newsgroups_target = newsgroups.target[:1000]\n",
    "# print(len(newsgroups_data))\n",
    "\n",
    "newsgroups_data = newsgroups.data[:800]\n"
   ]
  },
  {
   "cell_type": "code",
   "execution_count": 829,
   "metadata": {},
   "outputs": [],
   "source": [
    "# 1. Preprocess the text data\n",
    "vectorizer = TfidfVectorizer(stop_words='english')\n",
    "X = vectorizer.fit_transform(newsgroups_data)\n",
    "\n",
    "# print(X.shape)  # (documents, features)\n",
    "# 2. Convert to numpy array\n",
    "X = np.array(X.todense())\n",
    "#print(X.shape)\n",
    "  # (documents, features)\n",
    "# print(X.shape)  # (documents, features)\n"
   ]
  },
  {
   "cell_type": "code",
   "execution_count": 830,
   "metadata": {},
   "outputs": [],
   "source": [
    "def cosine_similarity(x,y):\n",
    "    if (np.linalg.norm(x) * np.linalg.norm(y)) == 0:\n",
    "        return 0\n",
    "    return np.dot(x, y.T) / (np.linalg.norm(x) * np.linalg.norm(y))"
   ]
  },
  {
   "cell_type": "code",
   "execution_count": 831,
   "metadata": {},
   "outputs": [],
   "source": [
    "# from sklearn.metrics.pairwise import cosine_similarity\n",
    "\n",
    "# 3. DBSCAN algorithm\n",
    "\n",
    "def get_neighbors_text(data, point, epsilon):\n",
    "    neighbors = []\n",
    "    # print(\"point: \", point)\n",
    "    # print(\"data: \", data)\n",
    "    # differing between samples:\n",
    "    for i in range(len(data)):\n",
    "        if cosine_similarity(data[i], point) > epsilon:\n",
    "            neighbors.append(i)\n",
    "    return neighbors\n",
    "\n",
    "def dbscan_text(df, epsilon, min_points):\n",
    "    labels = [0] * len(df)\n",
    "    c = 0\n",
    "    for i in tqdm(range(len(df))):\n",
    "        if labels[i] != 0:\n",
    "            continue\n",
    "        neighbors = get_neighbors_text(df, df[i], epsilon)\n",
    "        if len(neighbors) < min_points:\n",
    "            labels[i] = -1\n",
    "            continue\n",
    "        c += 1\n",
    "        labels[i] = c\n",
    "        for j in neighbors:\n",
    "            if labels[j] == -1:\n",
    "                labels[j] = c\n",
    "            if labels[j] != 0:\n",
    "                continue\n",
    "            labels[j] = c\n",
    "            new_neighbors = get_neighbors_text(df, df[j], epsilon)\n",
    "            if len(new_neighbors) >= min_points:\n",
    "                neighbors.extend(new_neighbors)\n",
    "    return labels\n"
   ]
  },
  {
   "cell_type": "code",
   "execution_count": 823,
   "metadata": {},
   "outputs": [
    {
     "name": "stdout",
     "output_type": "stream",
     "text": [
      "[ 7  5  0 17 19 13 15 15  5  1]\n"
     ]
    }
   ],
   "source": [
    "print(newsgroups.target[:10])"
   ]
  },
  {
   "cell_type": "code",
   "execution_count": 832,
   "metadata": {},
   "outputs": [
    {
     "name": "stdout",
     "output_type": "stream",
     "text": [
      "Cosine similarity across two clusters:  0.09232239806031498\n",
      "6 4\n",
      "Cosine similarity within a cluster:  0.0\n",
      "5 5\n"
     ]
    }
   ],
   "source": [
    "# test between two points of the same class\n",
    "print(\"Cosine similarity across two clusters: \", cosine_similarity(X[18], X[89]))\n",
    "print(newsgroups.target[18], newsgroups.target[89])\n",
    "print(\"Cosine similarity within a cluster: \", cosine_similarity(X[2], X[8]))\n",
    "print(newsgroups.target[1], newsgroups.target[8])"
   ]
  },
  {
   "cell_type": "code",
   "execution_count": 850,
   "metadata": {},
   "outputs": [
    {
     "name": "stdout",
     "output_type": "stream",
     "text": [
      "Unique targets:  [ 0  1  2  3  4  5  6  7  8  9 10 11 12 13 14 15 16 17 18 19]\n",
      "Counts of each target:  [319 389 394 392 385 395 390 396 398 397 399 396 393 396 394 398 364 376\n",
      " 310 251]\n"
     ]
    }
   ],
   "source": [
    "# counts of each:\n",
    "unique, counts = np.unique(newsgroups.target, return_counts=True)\n",
    "print(\"Unique targets: \", unique)\n",
    "print(\"Counts of each target: \", counts)"
   ]
  },
  {
   "cell_type": "code",
   "execution_count": 845,
   "metadata": {},
   "outputs": [
    {
     "name": "stderr",
     "output_type": "stream",
     "text": [
      "100%|██████████| 800/800 [02:13<00:00,  6.01it/s]"
     ]
    },
    {
     "name": "stdout",
     "output_type": "stream",
     "text": [
      "Labels:  [-1, -1, 1, -1, -1, -1, -1, 1, 1, -1, -1, 22, -1, 15, 2, 3, -1, -1, -1, -1, -1, 4, 5, 6, 3, -1, -1, -1, 7, 8, -1, -1, -1, -1, 24, -1, 4, -1, 9, -1, 10, -1, -1, 22, -1, -1, 6, -1, -1, 11, -1, -1, -1, 7, -1, -1, -1, -1, 12, -1, 13, -1, -1, -1, 18, 12, -1, 14, -1, -1, -1, -1, 4, -1, 9, -1, 12, 21, 11, -1, -1, -1, -1, -1, -1, 4, -1, -1, 15, 3, -1, -1, -1, -1, -1, -1, -1, 3, -1, -1, 3, -1, -1, -1, 9, -1, 4, -1, 6, -1, -1, 9, -1, -1, -1, -1, -1, -1, -1, -1, -1, 9, 14, -1, -1, -1, -1, -1, 3, -1, -1, 8, 7, -1, -1, 26, -1, -1, -1, -1, -1, 6, -1, 16, -1, -1, -1, -1, -1, -1, -1, 9, -1, -1, -1, -1, -1, 17, 4, -1, -1, 5, -1, -1, -1, -1, 3, -1, 18, 19, -1, -1, 1, 9, 9, -1, -1, -1, -1, -1, -1, -1, -1, -1, -1, -1, 13, 3, -1, -1, -1, -1, -1, 12, 3, -1, -1, -1, 9, -1, 2, 19, -1, -1, -1, -1, 4, -1, -1, -1, 3, -1, -1, -1, 12, -1, -1, -1, 28, 20, 16, -1, -1, 3, -1, -1, -1, -1, -1, 4, 5, 21, -1, -1, -1, 9, -1, -1, -1, 16, -1, -1, -1, -1, 6, -1, -1, -1, -1, -1, -1, -1, 9, 28, -1, -1, 21, -1, 4, -1, -1, 3, -1, -1, -1, 22, -1, 23, -1, -1, -1, -1, -1, 13, 30, -1, -1, 3, 1, -1, 2, 24, -1, 17, -1, -1, -1, -1, -1, -1, 4, 3, 32, -1, -1, 4, -1, 9, 4, -1, -1, -1, 32, -1, -1, -1, -1, -1, -1, -1, 4, 9, -1, -1, -1, 9, -1, -1, -1, 1, -1, -1, -1, -1, -1, -1, 12, 30, -1, -1, -1, 4, -1, -1, 25, -1, -1, -1, -1, -1, 3, -1, -1, -1, -1, -1, 24, 2, 4, 14, -1, 12, -1, -1, 3, 16, -1, 11, 27, -1, 15, -1, -1, -1, -1, -1, 31, -1, -1, -1, -1, -1, 9, 11, 14, -1, -1, -1, 4, 4, -1, -1, -1, -1, -1, 12, -1, -1, -1, -1, -1, -1, 9, -1, -1, 26, 3, 9, -1, 29, -1, -1, 17, -1, 3, -1, -1, 3, 9, -1, -1, -1, 27, -1, -1, -1, -1, 24, 4, 11, -1, 4, -1, -1, -1, -1, 33, -1, 16, -1, 3, -1, -1, -1, -1, 22, -1, -1, -1, 4, 2, 11, 4, -1, -1, 6, -1, 25, -1, -1, -1, 2, -1, 14, 4, -1, -1, -1, -1, -1, 20, -1, -1, 28, -1, 12, 2, 4, -1, -1, -1, -1, -1, 9, -1, -1, -1, -1, -1, -1, -1, 3, -1, 9, -1, -1, 3, -1, 4, -1, -1, 24, 3, -1, -1, 1, -1, 26, -1, -1, -1, -1, -1, 2, -1, -1, 19, -1, -1, -1, -1, 7, -1, 25, -1, 3, -1, 5, -1, -1, -1, -1, -1, -1, -1, -1, 28, -1, -1, 4, -1, -1, -1, -1, 7, -1, -1, -1, 3, 29, -1, -1, -1, -1, -1, -1, -1, -1, 12, -1, 9, 30, -1, 11, 8, -1, -1, 2, 4, 2, -1, -1, -1, -1, 4, -1, -1, -1, -1, -1, 31, 10, 3, -1, -1, 9, -1, -1, 3, 22, -1, -1, -1, -1, 23, -1, -1, 10, -1, -1, -1, -1, -1, -1, -1, -1, -1, 4, -1, -1, -1, 1, -1, -1, 11, -1, 2, -1, -1, -1, -1, 28, 2, -1, 4, -1, -1, -1, -1, -1, -1, -1, -1, 32, -1, -1, -1, -1, -1, -1, 23, 3, 33, -1, -1, 25, 11, -1, -1, 5, 3, 4, -1, 4, -1, -1, -1, -1, -1, 31, 2, -1, -1, -1, -1, -1, 3, -1, -1, -1, -1, -1, -1, -1, 4, -1, -1, 16, -1, -1, -1, -1, 4, -1, -1, 5, 14, 1, -1, 18, -1, -1, -1, -1, 3, 29, 3, 26, 3, -1, -1, -1, 12, -1, -1, -1, 4, -1, -1, -1, 33, -1, -1, -1, -1, -1, -1, -1, -1, -1, 2, -1, 2, -1, 4, -1, 2, -1, -1, -1, -1, -1, -1, -1, -1, -1, 16, -1, 4, 11, -1, -1, -1, -1, -1, 12, 4, -1, -1, 3, 3, -1, -1, -1, -1, -1, -1, 11, -1, -1, 4, -1, -1, -1, 4, -1, -1, -1, -1, 20, -1, -1, -1, 10, -1, 4, 6, 4, -1, -1, 27, -1, -1, -1, -1, -1, -1, 6, -1, -1, -1, -1, 12, 14, -1, 9, -1, 3, -1, -1, -1, 14, -1, -1, -1, -1, -1, -1, -1, -1]\n",
      "Clusters:  {1, 2, 3, 4, 5, 6, 7, 8, 9, 10, 11, 12, 13, 14, 15, 16, 17, 18, 19, 20, 21, 22, 23, 24, 25, 26, 27, 28, 29, 30, 31, 32, 33, -1}\n",
      "Counts of clusters:  {1: 9, 2: 16, 3: 36, 4: 41, 5: 6, 6: 8, 7: 5, 8: 3, 9: 23, 10: 4, 11: 11, 12: 13, 13: 3, 14: 8, 15: 3, 16: 7, 17: 3, 18: 3, 19: 3, 20: 3, 21: 3, 22: 5, 23: 3, 24: 5, 25: 4, 26: 4, 27: 3, 28: 5, 29: 3, 30: 3, 31: 3, 32: 3, 33: 3, -1: 545}\n"
     ]
    },
    {
     "name": "stderr",
     "output_type": "stream",
     "text": [
      "\n"
     ]
    }
   ],
   "source": [
    "# pass it:\n",
    "labels = dbscan_text(X, 0.15, 3)\n",
    "\n",
    "print(\"Labels: \", labels)\n",
    "clusters = set(labels)\n",
    "print(\"Clusters: \", clusters)\n",
    "print(\"Counts of clusters: \", {i: list(labels).count(i) for i in clusters})"
   ]
  },
  {
   "cell_type": "code",
   "execution_count": 853,
   "metadata": {},
   "outputs": [
    {
     "name": "stderr",
     "output_type": "stream",
     "text": [
      "100%|██████████| 800/800 [02:11<00:00,  6.07it/s]"
     ]
    },
    {
     "name": "stdout",
     "output_type": "stream",
     "text": [
      "Labels:  [-1, -1, 1, -1, -1, -1, -1, 1, 1, 7, 1, 7, -1, 1, 1, 1, 11, -1, -1, -1, -1, 5, 2, 3, 1, -1, -1, -1, 4, 5, -1, -1, -1, -1, -1, 13, 5, -1, 1, -1, 6, -1, 5, 7, -1, -1, 3, -1, -1, 1, -1, -1, -1, 4, -1, -1, -1, -1, 1, -1, -1, 5, -1, -1, 1, 1, -1, -1, -1, -1, -1, -1, 5, 1, 1, -1, 1, 8, 1, -1, 1, -1, -1, -1, -1, 5, -1, -1, -1, 1, -1, -1, -1, -1, -1, -1, -1, 1, -1, -1, 1, -1, -1, -1, 1, -1, 5, -1, 3, -1, -1, 1, -1, -1, -1, -1, 5, -1, -1, -1, -1, 1, 1, -1, -1, -1, 1, -1, 1, -1, -1, -1, 4, -1, -1, 13, 1, -1, -1, 5, -1, 3, 8, 4, -1, -1, -1, -1, -1, -1, -1, 1, -1, 14, -1, -1, -1, 11, 5, -1, -1, 2, -1, 1, -1, -1, 1, -1, 1, 8, -1, -1, 1, 1, 1, -1, 5, -1, -1, -1, 1, -1, -1, -1, -1, -1, -1, 1, -1, -1, -1, -1, -1, 1, 1, 1, 1, -1, 1, -1, 1, 8, 1, 10, -1, -1, 5, -1, -1, -1, 1, -1, -1, -1, 1, 1, -1, -1, 9, 1, 4, -1, -1, 1, -1, -1, -1, -1, -1, -1, -1, -1, -1, -1, -1, 1, -1, -1, -1, 4, -1, 10, -1, -1, 3, -1, -1, -1, -1, -1, -1, 1, 1, 1, -1, -1, 8, -1, 5, -1, -1, 1, -1, -1, -1, 7, -1, 7, -1, -1, -1, -1, -1, -1, 13, -1, -1, 1, 1, -1, 1, 10, -1, 11, 3, -1, -1, -1, 5, -1, -1, 1, -1, -1, -1, 5, -1, 1, 5, -1, 5, -1, -1, -1, -1, -1, 1, -1, -1, -1, 5, 1, -1, -1, -1, 1, -1, -1, -1, 1, -1, -1, -1, -1, -1, -1, 1, 13, -1, -1, 1, 5, -1, -1, -1, -1, -1, -1, -1, -1, 1, -1, -1, -1, -1, -1, 10, 1, 5, 1, 1, 1, -1, -1, 1, 4, -1, 1, 1, -1, -1, -1, -1, 5, -1, -1, -1, -1, -1, -1, -1, -1, 1, 1, 1, -1, -1, -1, 5, 5, -1, -1, -1, -1, -1, 1, -1, -1, -1, -1, -1, -1, 1, -1, -1, 13, 1, 1, -1, 14, -1, -1, 11, -1, 1, -1, -1, 1, 1, -1, -1, -1, 12, -1, -1, -1, -1, 10, 5, 1, -1, 5, -1, 9, -1, -1, -1, 1, 4, -1, 1, -1, -1, -1, -1, 7, -1, -1, -1, 5, -1, 1, 5, -1, -1, 3, -1, -1, -1, -1, -1, 1, -1, 1, 5, -1, -1, -1, -1, -1, 1, 5, -1, 9, -1, 1, 1, 5, -1, -1, 12, -1, -1, 1, -1, -1, -1, -1, 8, -1, -1, 1, -1, 1, -1, -1, 1, -1, 5, -1, -1, 10, 1, -1, 5, -1, 5, 13, 1, -1, -1, -1, -1, 1, -1, -1, 8, -1, -1, 1, -1, 4, -1, -1, -1, 1, -1, 2, -1, -1, -1, -1, -1, -1, -1, -1, 9, -1, -1, 5, -1, -1, -1, -1, 4, 5, -1, -1, 1, 14, 1, -1, -1, -1, -1, -1, -1, -1, 1, -1, 1, 13, -1, 1, 5, -1, -1, 1, 5, 1, -1, -1, -1, -1, 5, -1, -1, -1, -1, -1, -1, 6, 1, -1, -1, 1, -1, -1, 1, 7, 1, -1, -1, -1, 7, -1, -1, 6, -1, -1, -1, -1, -1, -1, 1, -1, -1, 5, -1, -1, 1, 1, -1, -1, 1, 1, 1, -1, -1, -1, -1, 9, 1, -1, 5, -1, 1, -1, -1, -1, -1, -1, -1, -1, -1, -1, -1, -1, -1, -1, 7, 1, -1, -1, -1, -1, 1, -1, 5, 2, 1, 5, -1, 5, -1, -1, -1, -1, -1, -1, 1, -1, -1, -1, -1, -1, 1, -1, -1, -1, -1, -1, -1, -1, 5, -1, -1, 1, -1, -1, -1, -1, 5, -1, -1, 2, -1, 1, -1, 1, -1, -1, -1, -1, 1, 1, 1, 13, 1, -1, 1, -1, 1, -1, -1, 1, 5, -1, -1, -1, -1, -1, -1, -1, -1, -1, -1, -1, -1, -1, 1, -1, 1, -1, 5, -1, 1, -1, -1, -1, -1, -1, -1, -1, -1, -1, 4, -1, 5, 1, -1, -1, -1, -1, -1, 1, 5, -1, -1, 1, 1, -1, -1, -1, -1, -1, -1, 1, -1, -1, 5, -1, -1, 1, 5, -1, -1, 8, -1, -1, -1, -1, 8, 6, -1, 5, 3, 5, -1, 1, 12, -1, -1, -1, -1, -1, -1, 3, -1, -1, -1, -1, 1, 1, -1, 1, -1, 1, -1, 1, -1, 1, -1, -1, 7, -1, -1, -1, -1, -1]\n",
      "Clusters:  {1, 2, 3, 4, 5, 6, 7, 8, 9, 10, 11, 12, 13, 14, -1}\n",
      "Counts of clusters:  {1: 151, 2: 5, 3: 9, 4: 11, 5: 54, 6: 4, 7: 10, 8: 9, 9: 5, 10: 6, 11: 4, 12: 3, 13: 8, 14: 3, -1: 518}\n"
     ]
    },
    {
     "name": "stderr",
     "output_type": "stream",
     "text": [
      "\n"
     ]
    }
   ],
   "source": [
    "# pass it:\n",
    "labels = dbscan_text(X, 0.132, 4)\n",
    "\n",
    "print(\"Labels: \", labels)\n",
    "clusters = set(labels)\n",
    "print(\"Clusters: \", clusters)\n",
    "print(\"Counts of clusters: \", {i: list(labels).count(i) for i in clusters})"
   ]
  },
  {
   "cell_type": "code",
   "execution_count": 849,
   "metadata": {},
   "outputs": [
    {
     "name": "stderr",
     "output_type": "stream",
     "text": [
      "100%|██████████| 800/800 [02:11<00:00,  6.06it/s]"
     ]
    },
    {
     "name": "stdout",
     "output_type": "stream",
     "text": [
      "Labels:  [-1, -1, 1, -1, -1, -1, -1, 1, 1, 6, 1, 6, -1, 1, 1, 1, 9, 1, -1, -1, -1, 1, 2, 3, 1, 1, -1, -1, 4, 1, -1, -1, -1, -1, -1, 1, 1, -1, 1, -1, 5, -1, 1, 6, -1, -1, 3, 1, -1, 1, -1, -1, -1, 4, -1, -1, -1, 1, 1, -1, -1, 1, -1, -1, 1, 1, 1, 1, -1, 1, -1, -1, 1, 1, 1, -1, 1, 1, 1, -1, 1, -1, -1, -1, -1, 1, -1, -1, -1, 1, -1, -1, -1, 1, -1, -1, -1, 1, -1, -1, 1, -1, -1, -1, 1, -1, 1, -1, 3, -1, -1, 1, -1, -1, -1, -1, 1, -1, -1, 1, -1, 1, 1, -1, -1, -1, 1, -1, 1, -1, -1, 1, 4, -1, -1, 1, 1, -1, 1, 1, -1, 3, 1, 4, -1, -1, -1, -1, -1, -1, -1, 1, -1, 10, -1, -1, -1, 9, 1, -1, -1, 2, -1, 1, -1, -1, 1, -1, 1, 1, -1, -1, 1, 1, 1, -1, 1, -1, -1, -1, 1, -1, -1, -1, 6, 1, -1, 1, -1, -1, -1, -1, -1, 1, 1, 1, 1, -1, 1, -1, 1, 1, 1, 8, -1, -1, 1, -1, -1, -1, 1, -1, -1, -1, 1, 1, -1, -1, 7, 1, 4, -1, 1, 1, -1, -1, -1, -1, -1, -1, -1, -1, -1, -1, -1, 1, -1, -1, -1, 4, -1, 8, -1, -1, 3, -1, -1, -1, -1, -1, -1, 1, 1, 1, -1, -1, 1, -1, 1, -1, -1, 1, 1, -1, -1, 6, -1, 6, -1, 1, -1, -1, -1, -1, 1, -1, -1, 1, 1, -1, 1, 8, -1, 9, 3, -1, -1, -1, 1, -1, 1, 1, -1, -1, -1, 1, 1, 1, 1, -1, 1, 1, -1, -1, -1, -1, 1, -1, -1, -1, 1, 1, -1, -1, -1, 1, -1, -1, -1, 1, -1, -1, -1, -1, -1, -1, 1, 1, -1, -1, 1, 1, -1, -1, -1, -1, -1, 1, -1, -1, 1, -1, -1, -1, -1, 1, 8, 1, 1, 1, 1, 1, -1, -1, 1, 4, -1, 1, 1, -1, -1, -1, -1, 1, -1, 1, 11, -1, -1, -1, -1, 1, 1, 1, 1, -1, -1, -1, 1, 1, -1, -1, -1, -1, -1, 1, -1, -1, -1, -1, -1, -1, 1, -1, -1, 1, 1, 1, -1, 10, -1, -1, 9, -1, 1, -1, -1, 1, 1, -1, -1, -1, 1, -1, -1, -1, -1, 8, 1, 1, -1, 1, -1, 7, -1, -1, -1, 1, 4, 1, 1, -1, -1, -1, -1, 6, -1, -1, -1, 1, 1, 1, 1, -1, -1, 3, -1, -1, -1, -1, -1, 1, -1, 1, 1, -1, -1, -1, -1, -1, 1, 1, -1, 7, -1, 1, 1, 1, -1, -1, 1, -1, -1, 1, -1, -1, -1, -1, 1, -1, -1, 1, -1, 1, -1, -1, 1, -1, 1, -1, 1, 8, 1, -1, 1, -1, 1, 1, 1, -1, -1, -1, -1, 1, -1, -1, 1, -1, -1, 1, -1, 4, -1, -1, -1, 1, -1, 2, 1, -1, -1, -1, -1, -1, -1, -1, 7, 3, -1, 1, -1, -1, -1, -1, 4, 1, -1, -1, 1, 10, 1, -1, -1, -1, -1, 1, -1, -1, 1, -1, 1, 1, -1, 1, 1, -1, -1, 1, 1, 1, -1, -1, -1, -1, 1, -1, 11, -1, -1, -1, 11, 5, 1, -1, -1, 1, -1, -1, 1, 6, 1, -1, 1, -1, 6, -1, -1, 5, -1, 1, -1, -1, -1, -1, 1, -1, -1, 1, -1, -1, 1, 1, -1, -1, 1, 1, 1, -1, -1, -1, -1, 7, 1, -1, 1, -1, 1, 4, -1, -1, -1, -1, -1, -1, -1, -1, -1, 1, -1, -1, 6, 1, -1, -1, -1, -1, 1, -1, 1, 2, 1, 1, -1, 1, -1, -1, -1, -1, -1, 11, 1, -1, -1, -1, -1, -1, 1, -1, -1, -1, -1, -1, -1, 1, 1, -1, -1, 1, 1, -1, -1, 1, 1, -1, -1, 2, 1, 1, -1, 1, -1, -1, -1, -1, 1, 1, 1, 1, 1, 1, 1, -1, 1, -1, -1, 1, 1, -1, -1, -1, -1, -1, -1, -1, -1, -1, -1, -1, -1, -1, 1, -1, 1, -1, 1, -1, 1, -1, -1, -1, -1, -1, -1, -1, -1, -1, 4, -1, 1, 1, -1, -1, -1, -1, -1, 1, 1, -1, -1, 1, 1, -1, -1, -1, -1, -1, -1, 1, -1, 4, 1, -1, -1, 1, 1, -1, -1, 1, -1, 1, -1, -1, 1, 5, -1, 1, 3, 1, -1, 1, 1, -1, -1, -1, -1, -1, -1, 3, -1, -1, -1, -1, 1, 1, -1, 1, -1, 1, -1, 1, -1, 1, -1, -1, 6, -1, -1, -1, -1, -1]\n",
      "Clusters:  {1, 2, 3, 4, 5, 6, 7, 8, 9, 10, 11, -1}\n",
      "Counts of clusters:  {1: 261, 2: 5, 3: 10, 4: 13, 5: 4, 6: 11, 7: 5, 8: 6, 9: 4, 10: 3, 11: 4, -1: 474}\n"
     ]
    },
    {
     "name": "stderr",
     "output_type": "stream",
     "text": [
      "\n"
     ]
    }
   ],
   "source": [
    "# pass it:\n",
    "labels = dbscan_text(X, 0.125, 4)\n",
    "\n",
    "print(\"Labels: \", labels)\n",
    "clusters = set(labels)\n",
    "print(\"Clusters: \", clusters)\n",
    "print(\"Counts of clusters: \", {i: list(labels).count(i) for i in clusters})"
   ]
  },
  {
   "cell_type": "markdown",
   "metadata": {},
   "source": [
    "## Household"
   ]
  },
  {
   "cell_type": "code",
   "execution_count": 862,
   "metadata": {},
   "outputs": [
    {
     "name": "stdout",
     "output_type": "stream",
     "text": [
      "   Global_active_power  Global_reactive_power  Voltage  Global_intensity  \\\n",
      "0                4.216                  0.418   234.84              18.4   \n",
      "1                5.360                  0.436   233.63              23.0   \n",
      "2                5.374                  0.498   233.29              23.0   \n",
      "3                5.388                  0.502   233.74              23.0   \n",
      "4                3.666                  0.528   235.68              15.8   \n",
      "\n",
      "   Sub_metering_1  Sub_metering_2  Sub_metering_3  \n",
      "0             0.0             1.0            17.0  \n",
      "1             0.0             1.0            16.0  \n",
      "2             0.0             2.0            17.0  \n",
      "3             0.0             1.0            17.0  \n",
      "4             0.0             1.0            17.0  \n"
     ]
    }
   ],
   "source": [
    "# Household dataset\n",
    "household_df = pd.read_csv('household_power_consumption.txt', sep=';', low_memory=False)\n",
    "household_df= household_df.dropna()\n",
    "household_df.drop(columns=['Date', 'Time'], inplace=True)\n",
    "household_df = household_df.astype(float)\n",
    "print(household_df.head())\n",
    "\n",
    "# truncate to 1000 samples:\n",
    "household_df = household_df[:1000]"
   ]
  },
  {
   "cell_type": "code",
   "execution_count": 860,
   "metadata": {},
   "outputs": [],
   "source": [
    "# Execute, point by point, the DBSCAN algorithm\n",
    "\n",
    "# 1. Compute distances, get neighbors:\n",
    "\n",
    "def euclidean_distance(x, y):\n",
    "    return np.linalg.norm(x - y)\n",
    "\n",
    "def get_neighbors_household(df, point, epsilon):\n",
    "    neighbors = []\n",
    "    for i in range(len(df)):\n",
    "        if euclidean_distance(df.iloc[i], point) < epsilon:\n",
    "            neighbors.append(i)\n",
    "    return neighbors\n",
    "\n",
    "def dbscan_household(df, epsilon, min_points):\n",
    "    labels = [0] * len(df)\n",
    "    c = 0\n",
    "    for i in tqdm(range(len(df))):\n",
    "        if labels[i] != 0:\n",
    "            continue\n",
    "        neighbors = get_neighbors_household(df, df.iloc[i], epsilon)\n",
    "        if len(neighbors) < min_points:\n",
    "            labels[i] = -1\n",
    "            continue\n",
    "        c += 1\n",
    "        labels[i] = c\n",
    "        for j in neighbors:\n",
    "            if labels[j] == -1:\n",
    "                labels[j] = c\n",
    "            if labels[j] != 0:\n",
    "                continue\n",
    "            labels[j] = c\n",
    "            new_neighbors = get_neighbors_household(df, df.iloc[j], epsilon)\n",
    "            if len(new_neighbors) >= min_points:\n",
    "                neighbors.extend(new_neighbors)\n",
    "    return labels\n"
   ]
  },
  {
   "cell_type": "code",
   "execution_count": 867,
   "metadata": {},
   "outputs": [
    {
     "data": {
      "text/plain": [
       "np.float64(1.4558983480998946)"
      ]
     },
     "execution_count": 867,
     "metadata": {},
     "output_type": "execute_result"
    }
   ],
   "source": [
    "euclidean_distance(household_df.iloc[1], household_df.iloc[2])"
   ]
  },
  {
   "cell_type": "code",
   "execution_count": 872,
   "metadata": {},
   "outputs": [
    {
     "name": "stderr",
     "output_type": "stream",
     "text": [
      "100%|██████████| 1000/1000 [01:08<00:00, 14.51it/s]\n"
     ]
    }
   ],
   "source": [
    "labels = dbscan_household(household_df, 1, 25)"
   ]
  },
  {
   "cell_type": "code",
   "execution_count": 873,
   "metadata": {},
   "outputs": [
    {
     "name": "stdout",
     "output_type": "stream",
     "text": [
      "Unique labels:  {1, 2, 3, 4, -1}\n"
     ]
    }
   ],
   "source": [
    "unique_labels = set(labels)\n",
    "print(\"Unique labels: \", unique_labels)\n",
    "counts = {i: list(labels).count(i) for i in unique_labels}"
   ]
  },
  {
   "cell_type": "code",
   "execution_count": 874,
   "metadata": {},
   "outputs": [
    {
     "data": {
      "image/png": "[encoded data removed]",
      "text/plain": [
       "<Figure size 1000x600 with 2 Axes>"
      ]
     },
     "metadata": {},
     "output_type": "display_data"
    }
   ],
   "source": [
    "# 2. Plot the results\n",
    "plt.figure(figsize=(10, 6))\n",
    "plt.scatter(household_df['Global_active_power'], household_df['Global_reactive_power'], c=labels, cmap='viridis', s=10)\n",
    "plt.title('DBSCAN Clustering of Household Power Consumption')\n",
    "plt.xlabel('Global Active Power')\n",
    "plt.ylabel('Global Reactive Power')\n",
    "plt.colorbar(label='Cluster Label')\n",
    "plt.show()\n"
   ]
  },
  {
   "cell_type": "code",
   "execution_count": 875,
   "metadata": {},
   "outputs": [
    {
     "name": "stdout",
     "output_type": "stream",
     "text": [
      "Silhouette Score: -0.19753463755255463\n"
     ]
    }
   ],
   "source": [
    "# Silhouette score\n",
    "from sklearn.metrics import silhouette_score\n",
    "\n",
    "# Calculate silhouette score\n",
    "silhouette_avg = silhouette_score(household_df, labels)\n",
    "print(f'Silhouette Score: {silhouette_avg}')\n"
   ]
  },
  {
   "cell_type": "code",
   "execution_count": null,
   "metadata": {},
   "outputs": [],
   "source": []
  }
 ],
 "metadata": {
  "kernelspec": {
   "display_name": "Python 3",
   "language": "python",
   "name": "python3"
  },
  "language_info": {
   "codemirror_mode": {
    "name": "ipython",
    "version": 3
   },
   "file_extension": ".py",
   "mimetype": "text/x-python",
   "name": "python",
   "nbconvert_exporter": "python",
   "pygments_lexer": "ipython3",
   "version": "3.12.9"
  }
 },
 "nbformat": 4,
 "nbformat_minor": 2
}
